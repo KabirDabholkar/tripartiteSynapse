{
 "cells": [
  {
   "cell_type": "code",
   "execution_count": 10,
   "metadata": {},
   "outputs": [],
   "source": [
    "import numpy as np\n",
    "import matplotlib.pyplot as plt\n",
    "import scipy.interpolate as itp\n",
    "from tqdm import tqdm_notebook as tqdm\n",
    "from multiprocessing import Pool\n",
    "import os\n",
    "import pickle as pkl\n",
    "from outputloc import outputloc"
   ]
  },
  {
   "cell_type": "code",
   "execution_count": 11,
   "metadata": {},
   "outputs": [],
   "source": [
    "case=['control','2x','3x'][0]"
   ]
  },
  {
   "cell_type": "markdown",
   "metadata": {},
   "source": [
    "## Load and Average data"
   ]
  },
  {
   "cell_type": "code",
   "execution_count": 12,
   "metadata": {},
   "outputs": [],
   "source": [
    "directory=outputloc+\"VDCC40/\"+case\n",
    "files=os.listdir(directory)\n",
    "res=[]\n",
    "for filename in files:\n",
    "    with open(directory+\"/\"+filename,'rb') as file:\n",
    "        res.append(pkl.load(file))\n",
    "        \n",
    "mean=np.average(np.stack(tuple(res)),axis=0)"
   ]
  },
  {
   "cell_type": "markdown",
   "metadata": {},
   "source": [
    "## Plots"
   ]
  },
  {
   "cell_type": "code",
   "execution_count": 13,
   "metadata": {},
   "outputs": [
    {
     "ename": "NameError",
     "evalue": "name 'mParts' is not defined",
     "output_type": "error",
     "traceback": [
      "\u001b[0;31m---------------------------------------------------------------------------\u001b[0m",
      "\u001b[0;31mNameError\u001b[0m                                 Traceback (most recent call last)",
      "\u001b[0;32m<ipython-input-13-72fd18b50ecd>\u001b[0m in \u001b[0;36m<module>\u001b[0;34m\u001b[0m\n\u001b[0;32m----> 1\u001b[0;31m \u001b[0mnFig\u001b[0m \u001b[0;34m=\u001b[0m \u001b[0;36m2\u001b[0m \u001b[0;34m+\u001b[0m \u001b[0mlen\u001b[0m\u001b[0;34m(\u001b[0m\u001b[0mmParts\u001b[0m\u001b[0;34m)\u001b[0m \u001b[0;34m+\u001b[0m \u001b[0;36m1\u001b[0m\u001b[0;34m\u001b[0m\u001b[0;34m\u001b[0m\u001b[0m\n\u001b[0m\u001b[1;32m      2\u001b[0m \u001b[0mfigure\u001b[0m\u001b[0;34m,\u001b[0m \u001b[0max\u001b[0m \u001b[0;34m=\u001b[0m \u001b[0mplt\u001b[0m\u001b[0;34m.\u001b[0m\u001b[0msubplots\u001b[0m\u001b[0;34m(\u001b[0m\u001b[0mnFig\u001b[0m\u001b[0;34m,\u001b[0m \u001b[0mfigsize\u001b[0m\u001b[0;34m=\u001b[0m\u001b[0;34m(\u001b[0m\u001b[0;36m15\u001b[0m\u001b[0;34m,\u001b[0m \u001b[0;36m4\u001b[0m\u001b[0;34m*\u001b[0m\u001b[0mnFig\u001b[0m\u001b[0;34m)\u001b[0m\u001b[0;34m,\u001b[0m \u001b[0msharex\u001b[0m\u001b[0;34m=\u001b[0m\u001b[0;32mTrue\u001b[0m\u001b[0;34m)\u001b[0m\u001b[0;34m\u001b[0m\u001b[0;34m\u001b[0m\u001b[0m\n\u001b[1;32m      3\u001b[0m \u001b[0mfigure\u001b[0m\u001b[0;34m.\u001b[0m\u001b[0msubplots_adjust\u001b[0m\u001b[0;34m(\u001b[0m\u001b[0mhspace\u001b[0m\u001b[0;34m=\u001b[0m\u001b[0;36m0.1\u001b[0m\u001b[0;34m)\u001b[0m\u001b[0;34m\u001b[0m\u001b[0;34m\u001b[0m\u001b[0m\n\u001b[1;32m      4\u001b[0m \u001b[0mlabelfontsize\u001b[0m \u001b[0;34m=\u001b[0m \u001b[0;36m13\u001b[0m\u001b[0;34m\u001b[0m\u001b[0;34m\u001b[0m\u001b[0m\n\u001b[1;32m      5\u001b[0m \u001b[0;34m\u001b[0m\u001b[0m\n",
      "\u001b[0;31mNameError\u001b[0m: name 'mParts' is not defined"
     ]
    }
   ],
   "source": [
    "nFig = 2 + len(mParts) + 1\n",
    "figure, ax = plt.subplots(nFig, figsize=(15, 4*nFig), sharex=True)\n",
    "figure.subplots_adjust(hspace=0.1)\n",
    "labelfontsize = 13\n",
    "\n",
    "t_millisec = T*1e3\n",
    "j = 0\n",
    "pos = 0\n",
    "ax[j].plot(t_millisec, mean[:,pos]*1e6, label='Ca')#/NA/cytVol.vol*1e3 *1e6\n",
    "ax[j].set_ylabel(r'Ca ($\\mu M$)', fontsize=labelfontsize)\n",
    "j += 1\n",
    "pos += 1\n",
    "\n",
    "ax[j].plot(t_millisec, mean[:,pos]*1e6, label='Ca') #/NA/erVol.vol*1e3 *1e6\n",
    "ax[j].set_ylabel(r'ER Ca ($\\mu M$)', fontsize=labelfontsize)\n",
    "j += 1\n",
    "pos += 1\n",
    "\n",
    "for p in base_mParts+['ryr','vdcc','az']:\n",
    "    for i,mol in enumerate(MPs[p].molnames):\n",
    "        ax[j].plot(t_millisec, mean[:,i+pos], label=mol)\n",
    "    ax[j].set_ylabel(p+' states (num)', fontsize=labelfontsize)\n",
    "    j += 1\n",
    "    pos += MPs[p].mol_num\n",
    "\n",
    "ax[j].plot(t_millisec, mean[:,pos]*1e6/4, label='Ca')#/NA/cytVolVal*1e3\n",
    "ax[j].set_ylabel(r'Ca ($\\mu M$)', fontsize=labelfontsize)\n",
    "j += 1\n",
    "pos += 1\n",
    "\n",
    "    \n",
    "    #print(MPs[p].mol_num,MPs[p].molnames,pos)\n",
    "print(pos)\n",
    "\n",
    "ax[-1].set_xlabel('Time (ms)', fontsize=labelfontsize)\n",
    "\n",
    "facecol = '#ffffff11'\n",
    "labelcol = '#777777'\n",
    "tickcol = '#999999'\n",
    "spinecol = '#666666'\n",
    "for x in ax:\n",
    "    x.legend(loc='upper left', facecolor='white', framealpha=0.8, bbox_to_anchor=(1,1))\n",
    "    \n",
    "    x.set_xlim(min(t_millisec), max(t_millisec))\n",
    "    \n",
    "    x.spines['bottom'].set_color(spinecol)\n",
    "    x.spines['top'].set_color(spinecol)\n",
    "    x.spines['right'].set_color(spinecol)\n",
    "    x.spines['left'].set_color(spinecol)\n",
    "    \n",
    "    x.xaxis.label.set_color(labelcol)\n",
    "    x.yaxis.label.set_color(labelcol)\n",
    "    \n",
    "    x.tick_params(axis='x', colors=tickcol)\n",
    "    x.tick_params(axis='y', colors=tickcol)\n",
    "    \n",
    "    x.set_facecolor(facecol)#'xkcd:salmon')\n",
    "    \n",
    "    x.grid(axis='x', color=spinecol)\n",
    "\n",
    "plt.savefig('geometry_working.pdf', dpi=300, format='pdf', transparent=True, bbox_inches=None, pad_inches=0.1)\n",
    "#plt.show()"
   ]
  },
  {
   "cell_type": "code",
   "execution_count": null,
   "metadata": {},
   "outputs": [],
   "source": []
  }
 ],
 "metadata": {
  "kernelspec": {
   "display_name": "Python 3",
   "language": "python",
   "name": "python3"
  },
  "language_info": {
   "codemirror_mode": {
    "name": "ipython",
    "version": 3
   },
   "file_extension": ".py",
   "mimetype": "text/x-python",
   "name": "python",
   "nbconvert_exporter": "python",
   "pygments_lexer": "ipython3",
   "version": "3.7.3"
  }
 },
 "nbformat": 4,
 "nbformat_minor": 2
}
