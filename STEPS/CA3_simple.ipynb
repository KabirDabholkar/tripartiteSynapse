{
 "cells": [
  {
   "cell_type": "code",
   "execution_count": 1,
   "metadata": {},
   "outputs": [],
   "source": [
    "from __future__ import print_function\n",
    "import steps.model as smodel\n",
    "import steps.solver as ssolver\n",
    "import steps.geom as swm\n",
    "import steps.rng as srng\n",
    "import numpy as np\n",
    "import matplotlib.pyplot as plt\n",
    "import scipy.interpolate as itp\n",
    "\n",
    "from parameters import *\n",
    "from misc import *\n",
    "from components import *"
   ]
  },
  {
   "cell_type": "markdown",
   "metadata": {},
   "source": [
    "### Loading vdcc_dat for given ISI"
   ]
  },
  {
   "cell_type": "code",
   "execution_count": 2,
   "metadata": {},
   "outputs": [],
   "source": [
    "isi=20\n",
    "loc=\"/home/kabir/Project/tripartiteSynapse/mcell\"\n",
    "VDCC_rates={\n",
    "'VDCC_C01' : np.loadtxt(loc+\"/vdcc_dat/VDCC_PQ_C01_\" + str(isi) + \"ms_ppf.dat\"),\n",
    "'VDCC_C12' : np.loadtxt(loc+\"/vdcc_dat/VDCC_PQ_C12_\" + str(isi) + \"ms_ppf.dat\"),\n",
    "'VDCC_C23' : np.loadtxt(loc+\"/vdcc_dat/VDCC_PQ_C23_\" + str(isi) + \"ms_ppf.dat\"),\n",
    "'VDCC_C3O' : np.loadtxt(loc+\"/vdcc_dat/VDCC_PQ_C34_\" + str(isi) + \"ms_ppf.dat\"),\n",
    "'VDCC_OC3' : np.loadtxt(loc+\"/vdcc_dat/VDCC_PQ_C43_\" + str(isi) + \"ms_ppf.dat\"),\n",
    "'VDCC_C32' : np.loadtxt(loc+\"/vdcc_dat/VDCC_PQ_C32_\" + str(isi) + \"ms_ppf.dat\"),\n",
    "'VDCC_C21' : np.loadtxt(loc+\"/vdcc_dat/VDCC_PQ_C21_\" + str(isi) + \"ms_ppf.dat\"),\n",
    "'VDCC_C10' : np.loadtxt(loc+\"/vdcc_dat/VDCC_PQ_C10_\" + str(isi) + \"ms_ppf.dat\"),\n",
    "'VDCCflux'  : np.loadtxt(loc+\"/vdcc_dat/VDCC_PQ_Ca_\"  + str(isi) + \"ms_ppf.dat\")} \n",
    "\n",
    "#fitting cubic splines\n",
    "VDCC_spline={}\n",
    "for key in VDCC_rates.keys():\n",
    "    VDCC_spline[key]=itp.interp1d(VDCC_rates[key].T[0],VDCC_rates[key].T[1],kind='cubic')"
   ]
  },
  {
   "cell_type": "code",
   "execution_count": 3,
   "metadata": {},
   "outputs": [],
   "source": [
    "#plt.figure(figsize=(20,10))\n",
    "#VDCC_spline[key](0)\n",
    "#plt.scatter(VDCC_rates['VDCC_C3O'].T[0],VDCC_rates['VDCC_C3O'].T[1])\n",
    "#x=np.linspace(0,0.025,10000)\n",
    "#plt.plot(x,VDCC_spline['VDCC_C3O'](x))\n",
    "#float(itp.splev(1,VDCC_spline['VDCC_C30'],der=0))"
   ]
  },
  {
   "cell_type": "code",
   "execution_count": 4,
   "metadata": {},
   "outputs": [],
   "source": [
    "mParts = ['vdcc']#, 'az', 'cb', 'pmca', 'ryr']\n",
    "\n",
    "mdl = smodel.Model()\n",
    "cytvsys = smodel.Volsys('cytvsys', mdl)\n",
    "cytssys = smodel.Surfsys('cytSurfsys', mdl)\n",
    "\n",
    "#ervsys = smodel.Volsys('ervsys', mdl)\n",
    "#erssys = smodel.Surfsys('erSurfsys', mdl)\n",
    "\n",
    "Ca = smodel.Spec('Ca', mdl)\n",
    "\n",
    "if 'cb'    in mParts: cbMol,    R_cb    = get_cb(cytvsys, mdl, Ca)\n",
    "if 'pmca'  in mParts: pmcaMol,  R_PMCA  = get_PMCA(cytssys, mdl, Ca)\n",
    "if 'vdcc'  in mParts: vdccMol,  R_VDCC  = get_VDCC(cytssys, mdl, Ca)\n",
    "if 'az'    in mParts: azMol,    R_AZ    = get_AZ(cytssys, mdl, Ca)\n",
    "if 'serca' in mParts: sercaMol, R_SERCA = get_SERCA(erssys, mdl, Ca)\n",
    "if 'ryr'   in mParts: ryrMol,   R_RyR   = get_RyR(erssys, mdl, Ca)"
   ]
  },
  {
   "cell_type": "code",
   "execution_count": 5,
   "metadata": {},
   "outputs": [],
   "source": [
    "wmgeom = swm.Geom()\n",
    "\n",
    "# Create the cytosol compartment\n",
    "cytVol = swm.Comp('cytVol', wmgeom, vol=cytVolVal) # cyt vol = 1 - ER vol = 0.961 um^3\n",
    "cytVol.addVolsys('cytvsys')\n",
    "\n",
    "# cyt is the 'inner' compartment, no outer compartment\n",
    "cytSurf = swm.Patch('cytSurf', wmgeom, cytVol, area=cytArea) # cyt surf area = 8.5 um^2\n",
    "cytSurf.addSurfsys('cytSurfsys')\n",
    "\n",
    "# Create the Endoplasmic Reticulum compartment\n",
    "#erVol = swm.Comp('erVol', wmgeom, vol=erVolVal) # ER vol = 0.039 um^3\n",
    "#erVol.addVolsys('ervsys')\n",
    "\n",
    "# # ER is the 'inner' compartment, cyt is the 'outer' compartment\n",
    "#erSurfVDCC_spline.keys() = swm.Patch('erSurf', wmgeom, erVol, cytVol, area=erArea) # ER surf area = 1.58 um^2\n",
    "#erSurf.addSurfsys('erSurfsys')\n",
    "\n",
    "#print('Inner compartment to cytSurf is', erSurf.getIComp().getID())\n",
    "#print('Outer compartment to cytSurf  is', erSurf.getOComp().getID())\n",
    "\n",
    "r = srng.create('mt19937', 256)\n",
    "r.initialize(23411)\n",
    "\n",
    "sim = ssolver.Wmdirect(mdl, wmgeom, r)\n",
    "sim.reset()"
   ]
  },
  {
   "cell_type": "code",
   "execution_count": 6,
   "metadata": {},
   "outputs": [],
   "source": [
    "r = srng.create('mt19937', 256)\n",
    "r.initialize(23412)"
   ]
  },
  {
   "cell_type": "code",
   "execution_count": 7,
   "metadata": {},
   "outputs": [],
   "source": [
    "sim = ssolver.Wmdirect(mdl, wmgeom, r)"
   ]
  },
  {
   "cell_type": "code",
   "execution_count": 8,
   "metadata": {},
   "outputs": [
    {
     "name": "stdout",
     "output_type": "stream",
     "text": [
      "1.106961965560913 sec\n"
     ]
    }
   ],
   "source": [
    "#NITER = 100\n",
    "#res = numpy.zeros([NITER, 2001, 3])\n",
    "\n",
    "\n",
    "sim.reset()\n",
    "\n",
    "### Simulation time\n",
    "ti, tf, dt = 0.0, 25.0e-3, 1e-5\n",
    "T = np.arange(ti, tf+dt, dt)\n",
    "npts = len(T)\n",
    "\n",
    "### Set initial conditions\n",
    "sim.setCompConc('cytVol', 'Ca', 1e-4) #initV['Ca'][0])\n",
    "\n",
    "if 'cb' in mParts: \n",
    "    for mol,ic in zip(cbMolName,initV['cb']):\n",
    "        sim.setCompConc('cytVol', mol, ic)\n",
    "    \n",
    "if 'pmca' in mParts: \n",
    "    for mol,ic in zip(pmcaMolName,initV['PMCA']):\n",
    "        num = round(ic*8.5)\n",
    "        sim.setPatchCount('cytSurf', mol, num)\n",
    "    \n",
    "if 'vdcc' in mParts: \n",
    "    sim.setPatchCount('cytSurf', 'VDCC_C0', 80)\n",
    "\n",
    "if 'az' in mParts: \n",
    "    sim.setPatchCount('cytSurf', 'AZ00', 7)\n",
    "    \n",
    "if 'ryr' in mParts: \n",
    "    sim.setPatchCount('erSurf', 'RyRLC1', 150)\n",
    "\n",
    "\n",
    "### result container\n",
    "resCa = np.zeros([npts])\n",
    "if 'cb'   in mParts: rescb   = np.zeros([npts, len(cbMolName)])\n",
    "if 'pmca' in mParts: resPMCA = np.zeros([npts, len(pmcaMolName)])\n",
    "if 'vdcc' in mParts: resVDCC = np.zeros([npts, len(vdccMolName)])\n",
    "if 'az'   in mParts: resAZ   = np.zeros([npts, len(azMolName)])\n",
    "if 'ryr'  in mParts: resRyR  = np.zeros([npts, len(ryrMolName)])\n",
    "\n",
    "Ti = time()\n",
    "for t in range(npts):\n",
    "    ##Updating VDCC rates\n",
    "    for key in R_VDCC.keys():\n",
    "        #R_VDCC[key].kcst=float(itp.splev(T[t],VDCC_spline[key],der=0))\n",
    "        R_VDCC[key].kcst=float(VDCC_spline[key](T[t]))\n",
    "    \n",
    "    sim.run(T[t])\n",
    "    \n",
    "    resCa[t] = sim.getCompCount('cytVol', 'Ca')\n",
    "    \n",
    "    if 'cb' in mParts: \n",
    "        for i,mol in enumerate(cbMolName):\n",
    "            rescb[t,i] = sim.getCompCount('cytVol', mol)\n",
    "        \n",
    "    if 'pmca' in mParts: \n",
    "        for i,mol in enumerate(pmcaMolName):\n",
    "            resPMCA[t,i] = sim.getPatchCount('cytSurf', mol)\n",
    "\n",
    "    if 'vdcc' in mParts: \n",
    "        for i,mol in enumerate(vdccMolName):\n",
    "            resVDCC[t,i] = sim.getPatchCount('cytSurf', mol)\n",
    "    \n",
    "    if 'az' in mParts: \n",
    "        for i,mol in enumerate(azMolName):\n",
    "            resAZ[t,i] = sim.getPatchCount('cytSurf', mol)\n",
    "            \n",
    "    if 'ryr' in mParts: \n",
    "        for i,mol in enumerate(ryrMolName):\n",
    "            resRyR[t,i] = sim.getPatchCount('erSurf', mol)\n",
    "    \n",
    "Tf = time()\n",
    "print(Tf-Ti, 'sec')"
   ]
  },
  {
   "cell_type": "markdown",
   "metadata": {},
   "source": [
    "## Plots"
   ]
  },
  {
   "cell_type": "code",
   "execution_count": 9,
   "metadata": {},
   "outputs": [
    {
     "data": {
      "image/png": "[encoded data removed]",
      "text/plain": [
       "<Figure size 1080x576 with 2 Axes>"
      ]
     },
     "metadata": {
      "needs_background": "dark"
     },
     "output_type": "display_data"
    }
   ],
   "source": [
    "nFig = 1 + len(mParts)\n",
    "figure, ax = plt.subplots(nFig, figsize=(15, 4*nFig), sharex=True)\n",
    "figure.subplots_adjust(hspace=0.1)\n",
    "labelfontsize = 13\n",
    "\n",
    "j = 0\n",
    "ax[j].plot(T, resCa/NA/cytVolVal*1e3, label='Ca')\n",
    "ax[j].set_ylabel(r'Ca ($\\mu M$)', fontsize=labelfontsize)\n",
    "\n",
    "j += 1\n",
    "if 'cb' in mParts: \n",
    "    for i,mol in enumerate(cbMolName):\n",
    "        ax[j].plot(T, rescb[:,i], label=mol)\n",
    "    ax[j].set_ylabel('Calbindin states (num)', fontsize=labelfontsize)\n",
    "    j += 1\n",
    "\n",
    "if 'pmca' in mParts:\n",
    "    for i,mol in enumerate(pmcaMolName):\n",
    "        ax[j].plot(T, resPMCA[:,i], label=mol)\n",
    "    ax[j].set_ylabel('PMCA states (num)', fontsize=labelfontsize)\n",
    "    j += 1\n",
    "\n",
    "if 'vdcc' in mParts: \n",
    "    for i,mol in enumerate(vdccMolName):\n",
    "        ax[j].plot(T, resVDCC[:,i], label=mol)\n",
    "    ax[j].set_ylabel('VDCC states (num)', fontsize=labelfontsize)\n",
    "    j += 1\n",
    "\n",
    "if 'az' in mParts:\n",
    "    for mol in [azMolName[i] for i in [0,5,11,12,13,14,15,16,17]]:\n",
    "        i = azMolName.index(mol)\n",
    "        ax[j].plot(T, resAZ[:,i], label=mol)\n",
    "    ax[j].set_ylabel('AZ states (num)', fontsize=labelfontsize)\n",
    "    j += 1\n",
    "    \n",
    "if 'ryr' in mParts:\n",
    "    for i,mol in enumerate(ryrMolName):\n",
    "        ax[j].plot(T, resRyR[:,i], label=mol)\n",
    "    ax[j].set_ylabel('RyR states (num)', fontsize=labelfontsize)\n",
    "    j += 1\n",
    "\n",
    "ax[-1].set_xlabel('Time (s)', fontsize=labelfontsize)\n",
    "\n",
    "facecol = '#ffffff11'\n",
    "labelcol = '#777777'\n",
    "tickcol = '#999999'\n",
    "spinecol = '#666666'\n",
    "for x in ax:\n",
    "    x.legend(loc='upper left', facecolor='white', framealpha=0.8, bbox_to_anchor=(1,1))\n",
    "    \n",
    "    x.set_xlim(min(T), max(T))\n",
    "    \n",
    "    x.spines['bottom'].set_color(spinecol)\n",
    "    x.spines['top'].set_color(spinecol)\n",
    "    x.spines['right'].set_color(spinecol)\n",
    "    x.spines['left'].set_color(spinecol)\n",
    "    \n",
    "    x.xaxis.label.set_color(labelcol)\n",
    "    x.yaxis.label.set_color(labelcol)\n",
    "    \n",
    "    x.tick_params(axis='x', colors=tickcol)\n",
    "    x.tick_params(axis='y', colors=tickcol)\n",
    "    \n",
    "    x.set_facecolor(facecol)#'xkcd:salmon')\n",
    "    \n",
    "    x.grid(axis='x', color=spinecol)\n",
    "    \n",
    "#plt.savefig('test.eps', dpi=300, format='eps', transparent=True, bbox_inches=None, pad_inches=0.1)\n",
    "#plt.show()"
   ]
  },
  {
   "cell_type": "code",
   "execution_count": null,
   "metadata": {},
   "outputs": [],
   "source": []
  }
 ],
 "metadata": {
  "kernelspec": {
   "display_name": "Python 3",
   "language": "python",
   "name": "python3"
  },
  "language_info": {
   "codemirror_mode": {
    "name": "ipython",
    "version": 3
   },
   "file_extension": ".py",
   "mimetype": "text/x-python",
   "name": "python",
   "nbconvert_exporter": "python",
   "pygments_lexer": "ipython3",
   "version": "3.7.3"
  }
 },
 "nbformat": 4,
 "nbformat_minor": 2
}
