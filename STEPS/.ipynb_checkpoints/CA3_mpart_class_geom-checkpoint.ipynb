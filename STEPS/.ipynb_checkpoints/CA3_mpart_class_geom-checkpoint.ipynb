{
 "cells": [
  {
   "cell_type": "code",
   "execution_count": 1,
   "metadata": {},
   "outputs": [],
   "source": [
    "from __future__ import print_function\n",
    "import steps.model as smodel\n",
    "import steps.solver as ssolver\n",
    "import steps.geom as swm\n",
    "import steps.rng as srng\n",
    "import steps.utilities.meshio as sutils\n",
    "\n",
    "import numpy as np\n",
    "import matplotlib.pyplot as plt\n",
    "import scipy.interpolate as itp\n",
    "from tqdm import tqdm_notebook as tqdm\n",
    "from multiprocessing import Pool\n",
    "import os\n",
    "\n",
    "from parameters_with_leak import *\n",
    "from misc import *\n",
    "from components_with_leak import *\n",
    "\n",
    "import pickle as pkl\n",
    "import networkx as nx\n",
    "\n",
    "from outputloc import outputloc"
   ]
  },
  {
   "cell_type": "markdown",
   "metadata": {},
   "source": [
    "## Casewise parameter changes"
   ]
  },
  {
   "cell_type": "code",
   "execution_count": 2,
   "metadata": {},
   "outputs": [],
   "source": [
    "case=['control','2x','3x'][0]\n",
    "\n",
    "#Control. Full leak. Eq at 250um ER conc\n",
    "if case=='control':\n",
    "    initV['Ca'][1]=250e-6\n",
    "    initV['serca']=[0.18242194125978026,0.35660284415866084,0.17426944131595862,0.23602495205009327,0.04816246512327335,0.0025183560706803516]\n",
    "    k_leak=186.74888\n",
    "\n",
    "#2 fold ER overload. 30% leak. Eq at 500um ER\n",
    "if case=='2x':\n",
    "    initV['Ca'][1]=500e-6\n",
    "    initV['serca']=[0.18631139409722924,0.36429787489044535,0.17807592032910588,0.18720596785329524,0.07629273337917962,0.00781610945339272]\n",
    "    k_leak=186.74888*0.3\n",
    "\n",
    "#3 fold ER overload. 20% leak. Eq at 750um ER\n",
    "if case=='3x':\n",
    "    initV['Ca'][1]=750e-6\n",
    "    initV['serca']=[0.19379038120694989,0.3790117340395536,0.18531341504308455,0.14190562498324744,0.08670581220565597,0.013273032416232263]\n",
    "    k_leak=186.74888*0.2"
   ]
  },
  {
   "cell_type": "code",
   "execution_count": 3,
   "metadata": {},
   "outputs": [
    {
     "data": {
      "text/plain": [
       "{'Ca': [1e-07, 0.00025],\n",
       " 'HH': [-64.0, 0.05, 0.6, 0.32],\n",
       " 'PMCA': [1224, 298, 7],\n",
       " 'VDCC': [80, 0.0, 0.0, 0.0, 0.0, 0.0],\n",
       " 'cb': [1.48e-05,\n",
       "  7e-06,\n",
       "  8.27e-07,\n",
       "  1.21e-05,\n",
       "  5.74e-06,\n",
       "  6.79e-07,\n",
       "  2.49e-06,\n",
       "  1.18e-06,\n",
       "  1.39e-07],\n",
       " 'AZ': [7, 0, 0, 0, 0, 0, 0, 0, 0, 0, 0, 0, 0, 0, 0, 0, 0, 0],\n",
       " 'serca': [0.18242194125978026,\n",
       "  0.35660284415866084,\n",
       "  0.17426944131595862,\n",
       "  0.23602495205009327,\n",
       "  0.04816246512327335,\n",
       "  0.0025183560706803516],\n",
       " 'ryr': [150, 0, 0, 0, 0, 0, 0, 0, 0, 0, 0, 0, 0, 0],\n",
       " 'leak': [8680]}"
      ]
     },
     "execution_count": 3,
     "metadata": {},
     "output_type": "execute_result"
    }
   ],
   "source": [
    "initV"
   ]
  },
  {
   "cell_type": "markdown",
   "metadata": {},
   "source": [
    "### Loading vdcc_dat for given ISI"
   ]
  },
  {
   "cell_type": "code",
   "execution_count": 4,
   "metadata": {},
   "outputs": [],
   "source": [
    "isi=20\n",
    "loc=\"/home/kabir/Project/tripartiteSynapse/mcell\"\n",
    "VDCC_rates={\n",
    "'VDCC_C01' : np.loadtxt(loc+\"/vdcc_dat/VDCC_PQ_C01_\" + str(isi) + \"ms_ppf.dat\"),\n",
    "'VDCC_C12' : np.loadtxt(loc+\"/vdcc_dat/VDCC_PQ_C12_\" + str(isi) + \"ms_ppf.dat\"),\n",
    "'VDCC_C23' : np.loadtxt(loc+\"/vdcc_dat/VDCC_PQ_C23_\" + str(isi) + \"ms_ppf.dat\"),\n",
    "'VDCC_C3O' : np.loadtxt(loc+\"/vdcc_dat/VDCC_PQ_C34_\" + str(isi) + \"ms_ppf.dat\"),\n",
    "'VDCC_OC3' : np.loadtxt(loc+\"/vdcc_dat/VDCC_PQ_C43_\" + str(isi) + \"ms_ppf.dat\"),\n",
    "'VDCC_C32' : np.loadtxt(loc+\"/vdcc_dat/VDCC_PQ_C32_\" + str(isi) + \"ms_ppf.dat\"),\n",
    "'VDCC_C21' : np.loadtxt(loc+\"/vdcc_dat/VDCC_PQ_C21_\" + str(isi) + \"ms_ppf.dat\"),\n",
    "'VDCC_C10' : np.loadtxt(loc+\"/vdcc_dat/VDCC_PQ_C10_\" + str(isi) + \"ms_ppf.dat\"),\n",
    "'VDCCflux'  : np.loadtxt(loc+\"/vdcc_dat/VDCC_PQ_Ca_\"  + str(isi) + \"ms_ppf.dat\")} \n",
    "\n",
    "#fitting cubic splines\n",
    "VDCC_spline={}\n",
    "for key in VDCC_rates.keys():\n",
    "    VDCC_spline[key]=itp.interp1d(VDCC_rates[key].T[0],VDCC_rates[key].T[1],kind='previous',fill_value=(np.nan, VDCC_rates[key].T[1][-1]), bounds_error=False)"
   ]
  },
  {
   "cell_type": "code",
   "execution_count": 5,
   "metadata": {},
   "outputs": [
    {
     "data": {
      "image/png": "[encoded data removed]",
      "text/plain": [
       "<Figure size 432x288 with 1 Axes>"
      ]
     },
     "metadata": {
      "needs_background": "light"
     },
     "output_type": "display_data"
    }
   ],
   "source": [
    "for key in VDCC_spline.keys():\n",
    "    #plt.figure(figsize=(20,10))\n",
    "    #VDCC_spline[key](0)\n",
    "    plt.title(key)\n",
    "    plt.scatter(VDCC_rates[key].T[0],VDCC_rates[key].T[1])\n",
    "    x=np.linspace(0,0.050,10000)\n",
    "    plt.plot(x,VDCC_spline[key](x))\n",
    "    #float(itp.splev(1,VDCC_spline['VDCC_C3O'],der=0))"
   ]
  },
  {
   "cell_type": "code",
   "execution_count": 6,
   "metadata": {},
   "outputs": [],
   "source": [
    "class model_part:\n",
    "    def __init__(self,name,molnames,init,system,mdl,Ca,get_function,geom,):\n",
    "        self.name,self.molnames,self.init,self.system,self.mdl,self.Ca,self.get_function=name,molnames,init,system,mdl,Ca,get_function\n",
    "        self.geom=geom\n",
    "        self.mol_num=len(self.molnames)\n",
    "        self.get_part()\n",
    "        \n",
    "        \n",
    "    def get_part(self):\n",
    "        self.Mol,self.R_part=self.get_function(self.system,self.mdl,self.Ca)\n",
    "        \n",
    "    def initialize(self,sim,subsystem=[]):\n",
    "        if str(self.system.__class__)==\"<class 'steps.model.Surfsys'>\" and subsystem==[]:\n",
    "            self.setCount=sim.setPatchCount\n",
    "            self.getCount=sim.getPatchCount\n",
    "        elif str(self.system.__class__)==\"<class 'steps.model.Volsys'>\" and subsystem==[]:\n",
    "            self.setCount=sim.setCompConc\n",
    "            self.getCount=sim.getCompCount\n",
    "        elif str(self.system.__class__)==\"<class 'steps.model.Surfsys'>\" and subsystem!=[]:\n",
    "            self.setCount=sim.setTriCount\n",
    "            self.getCount=sim.getTriCount\n",
    "        elif str(self.system.__class__)==\"<class 'steps.model.Volsys'>\" and subsystem!=[]:\n",
    "            self.setCount=sim.setTetCount\n",
    "            self.getCount=sim.getTetCount\n",
    "            \n",
    "        for mol,ic in zip(self.molnames,self.init):\n",
    "            if subsystem==[]:               \n",
    "                self.setCount(self.geom.getID(), mol, ic)\n",
    "            else:\n",
    "                for s in subsystem:\n",
    "                    self.setCount(s,mol,ic/len(subsystem))\n",
    "\n",
    "        \n",
    "    def get_result(self,result,t,pos,subsystem=[]):\n",
    "        if subsystem==[]:\n",
    "            for i,mol in enumerate(self.molnames):\n",
    "                result[t,pos+i] = self.getCount(self.geom.getID(), mol)\n",
    "        else:\n",
    "            for i,mol in enumerate(self.molnames):\n",
    "                for s in subsystem:\n",
    "                    result[t,pos+i] += self.getCount(s, mol)"
   ]
  },
  {
   "cell_type": "code",
   "execution_count": 7,
   "metadata": {},
   "outputs": [
    {
     "name": "stdout",
     "output_type": "stream",
     "text": [
      "Inner compartment to cytSurf is erVol\n",
      "Outer compartment to cytSurf  is cytVol\n"
     ]
    }
   ],
   "source": [
    "mParts = [ 'cb', 'pmca', 'vdcc', 'serca', 'ryr', 'leak']# ,  'az'\n",
    "#mParts = ['cb']\n",
    "\n",
    "#Load geometry and mesh files\n",
    "with open('geometry','rb') as file:\n",
    "    geometry=pkl.load(file)    \n",
    "CYTO_tets = geometry['CYTO_tets']\n",
    "ER_tets = geometry['ER_tets']\n",
    "CYTO_surfs = geometry['CYTO_surfs']\n",
    "ER_surfs = geometry['ER_surfs']\n",
    "VDCC_tris = geometry['VDCC_tris']\n",
    "RYR_tris = geometry['RYR_tris']\n",
    "\n",
    "mesh, comps, patches=sutils.loadMesh('meshdata')\n",
    "cytVol,erVol=comps[0],comps[1]\n",
    "cytSurf,erSurf=patches[0],patches[1]\n",
    "\n",
    "#Defining model\n",
    "mdl = smodel.Model()\n",
    "cytvsys = smodel.Volsys('cytvsys', mdl)\n",
    "cytssys = smodel.Surfsys('cytSurfsys', mdl)\n",
    "\n",
    "ervsys = smodel.Volsys('ervsys', mdl)\n",
    "erssys = smodel.Surfsys('erSurfsys', mdl)\n",
    "\n",
    "Ca = smodel.Spec('Ca', mdl)\n",
    "diff_Ca_cyt = smodel.Diff('diff_Ca', cytvsys, Ca, dcst = diffCa)\n",
    "diff_Ca_er = smodel.Diff('diff_Ca', ervsys, Ca, dcst = diffCa)\n",
    "\n",
    "print('Inner compartment to cytSurf is', erSurf.getIComp().getID())\n",
    "print('Outer compartment to cytSurf  is', erSurf.getOComp().getID())"
   ]
  },
  {
   "cell_type": "code",
   "execution_count": 8,
   "metadata": {},
   "outputs": [],
   "source": [
    "MPs={}\n",
    "if 'cb'    in mParts: MPs['cb']=model_part('cb',cbMolName,initV['cb'],cytvsys,mdl,Ca,get_cb,cytVol)\n",
    "if 'pmca'  in mParts: MPs['pmca']=model_part('pmca',pmcaMolName,initV['PMCA'],cytssys,mdl,Ca,get_PMCA,cytSurf)\n",
    "if 'vdcc'  in mParts: MPs['vdcc']=model_part('vdcc',vdccMolName,initV['VDCC'],cytssys,mdl,Ca,get_VDCC,cytSurf)\n",
    "if 'az'    in mParts: MPs['az']=model_part('az',azMolName,initV['AZ'],cytssys,mdl,Ca,get_AZ,cytSurf)\n",
    "if 'serca' in mParts: MPs['serca']=model_part('serca',sercaMolName,initV['serca'],erssys,mdl,Ca,get_SERCA,erSurf)\n",
    "if 'ryr'   in mParts: MPs['ryr']=model_part('ryr',ryrMolName,initV['ryr'],erssys,mdl,Ca,get_RyR,erSurf)\n",
    "if 'leak'   in mParts: MPs['leak']=model_part('leak',leakMolName,initV['leak'],erssys,mdl,Ca,get_leak,erSurf)    "
   ]
  },
  {
   "cell_type": "code",
   "execution_count": 9,
   "metadata": {},
   "outputs": [],
   "source": [
    "### Simulation time\n",
    "ti, tf, dt = 0, 1.0e-3, 1e-5\n",
    "T = np.arange(ti, tf+dt, dt)\n",
    "npts = len(T)\n",
    "\n",
    "r = srng.create('mt19937', 256)\n",
    "r.initialize(23411)"
   ]
  },
  {
   "cell_type": "code",
   "execution_count": 10,
   "metadata": {},
   "outputs": [],
   "source": [
    "base_mParts=[p for p in mParts if p!='ryr' and p!='vdcc']"
   ]
  },
  {
   "cell_type": "code",
   "execution_count": 11,
   "metadata": {},
   "outputs": [],
   "source": [
    "def simulation(seed):\n",
    "    #print(r.get())\n",
    "    r.initialize(seed)\n",
    "    #sim = ssolver.Wmdirect(mdl, wmgeom, r)\n",
    "    sim = ssolver.Tetexact(mdl, mesh, r)\n",
    "    \n",
    "    sim.reset()\n",
    "\n",
    "    ### Set initial conditions\n",
    "    sim.setCompConc('cytVol', 'Ca', initV['Ca'][0]) #initV['Ca'][0])\n",
    "    sim.setCompConc('erVol', 'Ca', initV['Ca'][1])\n",
    "    \n",
    "    \n",
    "    \n",
    "    for p in base_mParts:\n",
    "        MPs[p].initialize(sim)\n",
    "    MPs['vdcc'].initialize(sim,subsystem=VDCC_tris)\n",
    "    MPs['ryr'].initialize(sim,subsystem=RYR_tris)\n",
    "\n",
    "    ### result container\n",
    "    result = np.zeros([npts,2+sum([MPs[p].mol_num for p in mParts])])\n",
    "\n",
    "    #resCa = np.zeros([npts])\n",
    "    #resCae = np.zeros([npts])\n",
    "\n",
    "\n",
    "\n",
    "\n",
    "    #Ti = time()\n",
    "    for t in tqdm(range(npts)):\n",
    "        ##Updating VDCC rates\n",
    "        if 'vdcc' in mParts:\n",
    "            for key in MPs['vdcc'].R_part.keys():\n",
    "                for tri in VDCC_tris:\n",
    "                    sim.setTriSReacK(tri,'R_'+key,float(VDCC_spline[key](T[t])))\n",
    "\n",
    "        sim.run(T[t])\n",
    "        \n",
    "        pos=0\n",
    "        result[t,pos] = sim.getCompConc('cytVol', 'Ca')\n",
    "        pos+=1\n",
    "        #resCa[t] = sim.getCompCount('cytVol', 'Ca')\n",
    "        result[t,pos] = sim.getCompConc('erVol', 'Ca')\n",
    "        pos+=1\n",
    "        \n",
    "        for p in base_mParts:\n",
    "            MPs[p].get_result(result,t,pos)\n",
    "            pos+=MPs[p].mol_num\n",
    "            \n",
    "        MPs['ryr'].get_result(result,t,pos,subsystem=RYR_tris)\n",
    "        pos+=MPs['ryr'].mol_num\n",
    "        MPs['vdcc'].get_result(result,t,pos,subsystem=VDCC_tris)\n",
    "\n",
    "    dump_loc=outputloc+case+\"/\"\n",
    "    if not os.path_exists(dump_loc):\n",
    "        os.makedirs(dump_loc)\n",
    "    dump_loc=dump_loc+\"s\"+str(seed)\n",
    "    print(dump_loc)\n",
    "    with open(dump_loc,'wb') as file:\n",
    "        pkl.dump(result,file)\n",
    "\n",
    "    \n",
    "    #return result"
   ]
  },
  {
   "cell_type": "code",
   "execution_count": 16,
   "metadata": {},
   "outputs": [
    {
     "ename": "FileExistsError",
     "evalue": "[Errno 17] File exists: '/data/kabir/STEPS/control/'",
     "output_type": "error",
     "traceback": [
      "\u001b[0;31m----------------------------------------------------------------------\u001b[0m",
      "\u001b[0;31mFileExistsError\u001b[0m                      Traceback (most recent call last)",
      "\u001b[0;32m<ipython-input-16-278c37189dcf>\u001b[0m in \u001b[0;36m<module>\u001b[0;34m\u001b[0m\n\u001b[1;32m      1\u001b[0m \u001b[0mdump_loc\u001b[0m\u001b[0;34m=\u001b[0m\u001b[0moutputloc\u001b[0m\u001b[0;34m+\u001b[0m\u001b[0mcase\u001b[0m\u001b[0;34m+\u001b[0m\u001b[0;34m\"/\"\u001b[0m\u001b[0;34m\u001b[0m\u001b[0;34m\u001b[0m\u001b[0m\n\u001b[0;32m----> 2\u001b[0;31m \u001b[0mos\u001b[0m\u001b[0;34m.\u001b[0m\u001b[0mmakedirs\u001b[0m\u001b[0;34m(\u001b[0m\u001b[0mdump_loc\u001b[0m\u001b[0;34m)\u001b[0m\u001b[0;34m\u001b[0m\u001b[0;34m\u001b[0m\u001b[0m\n\u001b[0m\u001b[1;32m      3\u001b[0m \u001b[0mdump_loc\u001b[0m\u001b[0;34m=\u001b[0m\u001b[0mdump_loc\u001b[0m\u001b[0;34m+\u001b[0m\u001b[0;34m\"s\"\u001b[0m\u001b[0;34m+\u001b[0m\u001b[0mstr\u001b[0m\u001b[0;34m(\u001b[0m\u001b[0mseed\u001b[0m\u001b[0;34m)\u001b[0m\u001b[0;34m\u001b[0m\u001b[0;34m\u001b[0m\u001b[0m\n\u001b[1;32m      4\u001b[0m \u001b[0mprint\u001b[0m\u001b[0;34m(\u001b[0m\u001b[0mdump_loc\u001b[0m\u001b[0;34m)\u001b[0m\u001b[0;34m\u001b[0m\u001b[0;34m\u001b[0m\u001b[0m\n\u001b[1;32m      5\u001b[0m \u001b[0;32mwith\u001b[0m \u001b[0mopen\u001b[0m\u001b[0;34m(\u001b[0m\u001b[0mdump_loc\u001b[0m\u001b[0;34m,\u001b[0m\u001b[0;34m'wb'\u001b[0m\u001b[0;34m)\u001b[0m \u001b[0;32mas\u001b[0m \u001b[0mfile\u001b[0m\u001b[0;34m:\u001b[0m\u001b[0;34m\u001b[0m\u001b[0;34m\u001b[0m\u001b[0m\n",
      "\u001b[0;32m~/anaconda3/lib/python3.7/os.py\u001b[0m in \u001b[0;36mmakedirs\u001b[0;34m(name, mode, exist_ok)\u001b[0m\n\u001b[1;32m    219\u001b[0m             \u001b[0;32mreturn\u001b[0m\u001b[0;34m\u001b[0m\u001b[0;34m\u001b[0m\u001b[0m\n\u001b[1;32m    220\u001b[0m     \u001b[0;32mtry\u001b[0m\u001b[0;34m:\u001b[0m\u001b[0;34m\u001b[0m\u001b[0;34m\u001b[0m\u001b[0m\n\u001b[0;32m--> 221\u001b[0;31m         \u001b[0mmkdir\u001b[0m\u001b[0;34m(\u001b[0m\u001b[0mname\u001b[0m\u001b[0;34m,\u001b[0m \u001b[0mmode\u001b[0m\u001b[0;34m)\u001b[0m\u001b[0;34m\u001b[0m\u001b[0;34m\u001b[0m\u001b[0m\n\u001b[0m\u001b[1;32m    222\u001b[0m     \u001b[0;32mexcept\u001b[0m \u001b[0mOSError\u001b[0m\u001b[0;34m:\u001b[0m\u001b[0;34m\u001b[0m\u001b[0;34m\u001b[0m\u001b[0m\n\u001b[1;32m    223\u001b[0m         \u001b[0;31m# Cannot rely on checking for EEXIST, since the operating system\u001b[0m\u001b[0;34m\u001b[0m\u001b[0;34m\u001b[0m\u001b[0;34m\u001b[0m\u001b[0m\n",
      "\u001b[0;31mFileExistsError\u001b[0m: [Errno 17] File exists: '/data/kabir/STEPS/control/'"
     ]
    }
   ],
   "source": []
  },
  {
   "cell_type": "code",
   "execution_count": 12,
   "metadata": {},
   "outputs": [
    {
     "name": "stdout",
     "output_type": "stream",
     "text": [
      "\n"
     ]
    },
    {
     "data": {
      "application/vnd.jupyter.widget-view+json": {
       "model_id": "c1a09e31133643878b0f1558e5575a94",
       "version_major": 2,
       "version_minor": 0
      },
      "text/plain": [
       "HBox(children=(IntProgress(value=0, max=101), HTML(value='')))"
      ]
     },
     "metadata": {},
     "output_type": "display_data"
    },
    {
     "name": "stdout",
     "output_type": "stream",
     "text": [
      "\n",
      "\n",
      "\n",
      "\n",
      "\n",
      "\n"
     ]
    },
    {
     "data": {
      "application/vnd.jupyter.widget-view+json": {
       "model_id": "199c54bd6ea34b8aa01cae83e3200596",
       "version_major": 2,
       "version_minor": 0
      },
      "text/plain": [
       "HBox(children=(IntProgress(value=0, max=101), HTML(value='')))"
      ]
     },
     "metadata": {},
     "output_type": "display_data"
    },
    {
     "data": {
      "application/vnd.jupyter.widget-view+json": {
       "model_id": "50234f9e22964027b2cf745ffb8ccdbe",
       "version_major": 2,
       "version_minor": 0
      },
      "text/plain": [
       "HBox(children=(IntProgress(value=0, max=101), HTML(value='')))"
      ]
     },
     "metadata": {},
     "output_type": "display_data"
    },
    {
     "data": {
      "application/vnd.jupyter.widget-view+json": {
       "model_id": "5db9ecf12e6b48238cbbfc7c77b4d3f1",
       "version_major": 2,
       "version_minor": 0
      },
      "text/plain": [
       "HBox(children=(IntProgress(value=0, max=101), HTML(value='')))"
      ]
     },
     "metadata": {},
     "output_type": "display_data"
    },
    {
     "data": {
      "application/vnd.jupyter.widget-view+json": {
       "model_id": "a5f28c7a82bc4949aa8c335807cbb6ef",
       "version_major": 2,
       "version_minor": 0
      },
      "text/plain": [
       "HBox(children=(IntProgress(value=0, max=101), HTML(value='')))"
      ]
     },
     "metadata": {},
     "output_type": "display_data"
    },
    {
     "data": {
      "application/vnd.jupyter.widget-view+json": {
       "model_id": "c46a3bcfdd7a4c89bb21d742e464939d",
       "version_major": 2,
       "version_minor": 0
      },
      "text/plain": [
       "HBox(children=(IntProgress(value=0, max=101), HTML(value='')))"
      ]
     },
     "metadata": {},
     "output_type": "display_data"
    },
    {
     "data": {
      "application/vnd.jupyter.widget-view+json": {
       "model_id": "856adf33ec65411db8dcaf7f6670b4d3",
       "version_major": 2,
       "version_minor": 0
      },
      "text/plain": [
       "HBox(children=(IntProgress(value=0, max=101), HTML(value='')))"
      ]
     },
     "metadata": {},
     "output_type": "display_data"
    },
    {
     "name": "stdout",
     "output_type": "stream",
     "text": [
      "\n"
     ]
    },
    {
     "data": {
      "application/vnd.jupyter.widget-view+json": {
       "model_id": "32ca03f025a744a1b459d1333050fb18",
       "version_major": 2,
       "version_minor": 0
      },
      "text/plain": [
       "HBox(children=(IntProgress(value=0, max=101), HTML(value='')))"
      ]
     },
     "metadata": {},
     "output_type": "display_data"
    },
    {
     "name": "stdout",
     "output_type": "stream",
     "text": [
      "\n",
      "\n",
      "\n",
      "\n",
      "\n",
      "\n"
     ]
    },
    {
     "data": {
      "application/vnd.jupyter.widget-view+json": {
       "model_id": "8b2066f479894621bb3c329661ca01de",
       "version_major": 2,
       "version_minor": 0
      },
      "text/plain": [
       "HBox(children=(IntProgress(value=0, max=101), HTML(value='')))"
      ]
     },
     "metadata": {},
     "output_type": "display_data"
    },
    {
     "data": {
      "application/vnd.jupyter.widget-view+json": {
       "model_id": "b2b30cecafb7492f958b7b75b8b06ac0",
       "version_major": 2,
       "version_minor": 0
      },
      "text/plain": [
       "HBox(children=(IntProgress(value=0, max=101), HTML(value='')))"
      ]
     },
     "metadata": {},
     "output_type": "display_data"
    },
    {
     "data": {
      "application/vnd.jupyter.widget-view+json": {
       "model_id": "a89b58700d1f4a3298753f007663794a",
       "version_major": 2,
       "version_minor": 0
      },
      "text/plain": [
       "HBox(children=(IntProgress(value=0, max=101), HTML(value='')))"
      ]
     },
     "metadata": {},
     "output_type": "display_data"
    },
    {
     "data": {
      "application/vnd.jupyter.widget-view+json": {
       "model_id": "2a47cf474bab48a7962d2f6fa345b5cc",
       "version_major": 2,
       "version_minor": 0
      },
      "text/plain": [
       "HBox(children=(IntProgress(value=0, max=101), HTML(value='')))"
      ]
     },
     "metadata": {},
     "output_type": "display_data"
    },
    {
     "data": {
      "application/vnd.jupyter.widget-view+json": {
       "model_id": "007698689e424045830dc71441c8fd19",
       "version_major": 2,
       "version_minor": 0
      },
      "text/plain": [
       "HBox(children=(IntProgress(value=0, max=101), HTML(value='')))"
      ]
     },
     "metadata": {},
     "output_type": "display_data"
    },
    {
     "data": {
      "application/vnd.jupyter.widget-view+json": {
       "model_id": "ab14a9dc47374ac59eb83394bf19fe51",
       "version_major": 2,
       "version_minor": 0
      },
      "text/plain": [
       "HBox(children=(IntProgress(value=0, max=101), HTML(value='')))"
      ]
     },
     "metadata": {},
     "output_type": "display_data"
    },
    {
     "name": "stdout",
     "output_type": "stream",
     "text": [
      "\n"
     ]
    },
    {
     "data": {
      "application/vnd.jupyter.widget-view+json": {
       "model_id": "66ea5f93b14744e9b368788293a63067",
       "version_major": 2,
       "version_minor": 0
      },
      "text/plain": [
       "HBox(children=(IntProgress(value=0, max=101), HTML(value='')))"
      ]
     },
     "metadata": {},
     "output_type": "display_data"
    },
    {
     "name": "stdout",
     "output_type": "stream",
     "text": [
      "\n",
      "\n"
     ]
    },
    {
     "name": "stderr",
     "output_type": "stream",
     "text": [
      "Process ForkPoolWorker-3:\n",
      "Process ForkPoolWorker-2:\n",
      "Traceback (most recent call last):\n",
      "Traceback (most recent call last):\n",
      "  File \"/home/kabir/anaconda3/lib/python3.7/multiprocessing/process.py\", line 297, in _bootstrap\n",
      "    self.run()\n",
      "  File \"/home/kabir/anaconda3/lib/python3.7/multiprocessing/process.py\", line 297, in _bootstrap\n",
      "    self.run()\n",
      "  File \"/home/kabir/anaconda3/lib/python3.7/multiprocessing/process.py\", line 99, in run\n",
      "    self._target(*self._args, **self._kwargs)\n"
     ]
    },
    {
     "name": "stdout",
     "output_type": "stream",
     "text": [
      "\n"
     ]
    },
    {
     "name": "stderr",
     "output_type": "stream",
     "text": [
      "Process ForkPoolWorker-6:\n",
      "  File \"/home/kabir/anaconda3/lib/python3.7/multiprocessing/process.py\", line 99, in run\n",
      "    self._target(*self._args, **self._kwargs)\n"
     ]
    },
    {
     "name": "stdout",
     "output_type": "stream",
     "text": [
      "\n"
     ]
    },
    {
     "name": "stderr",
     "output_type": "stream",
     "text": [
      "Traceback (most recent call last):\n"
     ]
    },
    {
     "name": "stdout",
     "output_type": "stream",
     "text": [
      "\n"
     ]
    },
    {
     "name": "stderr",
     "output_type": "stream",
     "text": [
      "  File \"/home/kabir/anaconda3/lib/python3.7/multiprocessing/process.py\", line 297, in _bootstrap\n",
      "    self.run()\n",
      "  File \"/home/kabir/anaconda3/lib/python3.7/multiprocessing/process.py\", line 99, in run\n",
      "    self._target(*self._args, **self._kwargs)\n",
      "  File \"/home/kabir/anaconda3/lib/python3.7/multiprocessing/pool.py\", line 121, in worker\n",
      "    result = (True, func(*args, **kwds))\n",
      "  File \"/home/kabir/anaconda3/lib/python3.7/multiprocessing/pool.py\", line 44, in mapstar\n",
      "    return list(map(*args))\n",
      "  File \"<ipython-input-11-93015c860e6f>\", line 37, in simulation\n",
      "    sim.run(T[t])\n",
      "  File \"/home/kabir/anaconda3/lib/python3.7/site-packages/steps/solver.py\", line 222, in run\n",
      "    self._advance_checkpoint_run(end_time, cp_interval, prefix, 'tetexact')\n",
      "  File \"/home/kabir/anaconda3/lib/python3.7/site-packages/steps/solver.py\", line 60, in _advance_checkpoint_run\n",
      "    parent.run(end_time)\n",
      "KeyboardInterrupt\n",
      "  File \"/home/kabir/anaconda3/lib/python3.7/multiprocessing/pool.py\", line 121, in worker\n",
      "    result = (True, func(*args, **kwds))\n",
      "  File \"/home/kabir/anaconda3/lib/python3.7/multiprocessing/pool.py\", line 121, in worker\n",
      "    result = (True, func(*args, **kwds))\n",
      "Process ForkPoolWorker-5:\n"
     ]
    },
    {
     "name": "stdout",
     "output_type": "stream",
     "text": [
      "\n"
     ]
    },
    {
     "name": "stderr",
     "output_type": "stream",
     "text": [
      "  File \"/home/kabir/anaconda3/lib/python3.7/multiprocessing/pool.py\", line 44, in mapstar\n",
      "    return list(map(*args))\n",
      "  File \"/home/kabir/anaconda3/lib/python3.7/multiprocessing/pool.py\", line 44, in mapstar\n",
      "    return list(map(*args))\n",
      "  File \"<ipython-input-11-93015c860e6f>\", line 37, in simulation\n",
      "    sim.run(T[t])\n",
      "Process ForkPoolWorker-7:\n",
      "Traceback (most recent call last):\n",
      "  File \"<ipython-input-11-93015c860e6f>\", line 37, in simulation\n",
      "    sim.run(T[t])\n",
      "  File \"/home/kabir/anaconda3/lib/python3.7/site-packages/steps/solver.py\", line 222, in run\n",
      "    self._advance_checkpoint_run(end_time, cp_interval, prefix, 'tetexact')\n",
      "  File \"/home/kabir/anaconda3/lib/python3.7/site-packages/steps/solver.py\", line 222, in run\n",
      "    self._advance_checkpoint_run(end_time, cp_interval, prefix, 'tetexact')\n",
      "Traceback (most recent call last):\n",
      "  File \"/home/kabir/anaconda3/lib/python3.7/site-packages/steps/solver.py\", line 60, in _advance_checkpoint_run\n",
      "    parent.run(end_time)\n",
      "KeyboardInterrupt\n",
      "  File \"/home/kabir/anaconda3/lib/python3.7/site-packages/steps/solver.py\", line 60, in _advance_checkpoint_run\n",
      "    parent.run(end_time)\n",
      "  File \"/home/kabir/anaconda3/lib/python3.7/multiprocessing/process.py\", line 297, in _bootstrap\n",
      "    self.run()\n",
      "  File \"/home/kabir/anaconda3/lib/python3.7/multiprocessing/process.py\", line 297, in _bootstrap\n",
      "    self.run()\n",
      "  File \"/home/kabir/anaconda3/lib/python3.7/multiprocessing/process.py\", line 99, in run\n",
      "    self._target(*self._args, **self._kwargs)\n",
      "  File \"/home/kabir/anaconda3/lib/python3.7/multiprocessing/process.py\", line 99, in run\n",
      "    self._target(*self._args, **self._kwargs)\n",
      "  File \"/home/kabir/anaconda3/lib/python3.7/multiprocessing/pool.py\", line 121, in worker\n",
      "    result = (True, func(*args, **kwds))\n",
      "  File \"/home/kabir/anaconda3/lib/python3.7/multiprocessing/pool.py\", line 121, in worker\n",
      "    result = (True, func(*args, **kwds))\n",
      "  File \"/home/kabir/anaconda3/lib/python3.7/multiprocessing/pool.py\", line 44, in mapstar\n",
      "    return list(map(*args))\n",
      "  File \"/home/kabir/anaconda3/lib/python3.7/multiprocessing/pool.py\", line 44, in mapstar\n",
      "    return list(map(*args))\n",
      "  File \"<ipython-input-11-93015c860e6f>\", line 37, in simulation\n",
      "    sim.run(T[t])\n",
      "  File \"<ipython-input-11-93015c860e6f>\", line 37, in simulation\n",
      "    sim.run(T[t])\n",
      "  File \"/home/kabir/anaconda3/lib/python3.7/site-packages/steps/solver.py\", line 222, in run\n",
      "    self._advance_checkpoint_run(end_time, cp_interval, prefix, 'tetexact')\n",
      "KeyboardInterrupt\n",
      "  File \"/home/kabir/anaconda3/lib/python3.7/site-packages/steps/solver.py\", line 222, in run\n",
      "    self._advance_checkpoint_run(end_time, cp_interval, prefix, 'tetexact')\n",
      "  File \"/home/kabir/anaconda3/lib/python3.7/site-packages/steps/solver.py\", line 60, in _advance_checkpoint_run\n",
      "    parent.run(end_time)\n",
      "  File \"/home/kabir/anaconda3/lib/python3.7/site-packages/steps/solver.py\", line 60, in _advance_checkpoint_run\n",
      "    parent.run(end_time)\n",
      "KeyboardInterrupt\n"
     ]
    },
    {
     "name": "stdout",
     "output_type": "stream",
     "text": [
      "\n"
     ]
    },
    {
     "name": "stderr",
     "output_type": "stream",
     "text": [
      "Process ForkPoolWorker-4:\n",
      "KeyboardInterrupt\n",
      "Process ForkPoolWorker-1:\n",
      "Traceback (most recent call last):\n",
      "  File \"/home/kabir/anaconda3/lib/python3.7/multiprocessing/process.py\", line 297, in _bootstrap\n",
      "    self.run()\n",
      "  File \"/home/kabir/anaconda3/lib/python3.7/multiprocessing/process.py\", line 99, in run\n",
      "    self._target(*self._args, **self._kwargs)\n",
      "  File \"/home/kabir/anaconda3/lib/python3.7/multiprocessing/pool.py\", line 121, in worker\n",
      "    result = (True, func(*args, **kwds))\n",
      "  File \"/home/kabir/anaconda3/lib/python3.7/multiprocessing/pool.py\", line 44, in mapstar\n",
      "    return list(map(*args))\n",
      "KeyboardInterrupt\n",
      "  File \"/home/kabir/anaconda3/lib/python3.7/multiprocessing/pool.py\", line 44, in mapstar\n",
      "    return list(map(*args))\n",
      "Traceback (most recent call last):\n",
      "  File \"<ipython-input-11-93015c860e6f>\", line 37, in simulation\n",
      "    sim.run(T[t])\n",
      "  File \"/home/kabir/anaconda3/lib/python3.7/multiprocessing/process.py\", line 297, in _bootstrap\n",
      "    self.run()\n",
      "  File \"/home/kabir/anaconda3/lib/python3.7/site-packages/steps/solver.py\", line 222, in run\n",
      "    self._advance_checkpoint_run(end_time, cp_interval, prefix, 'tetexact')\n",
      "  File \"/home/kabir/anaconda3/lib/python3.7/site-packages/steps/solver.py\", line 222, in run\n",
      "    self._advance_checkpoint_run(end_time, cp_interval, prefix, 'tetexact')\n",
      "  File \"/home/kabir/anaconda3/lib/python3.7/multiprocessing/process.py\", line 99, in run\n",
      "    self._target(*self._args, **self._kwargs)\n",
      "  File \"/home/kabir/anaconda3/lib/python3.7/site-packages/steps/solver.py\", line 60, in _advance_checkpoint_run\n",
      "    parent.run(end_time)\n",
      "  File \"/home/kabir/anaconda3/lib/python3.7/multiprocessing/pool.py\", line 121, in worker\n",
      "    result = (True, func(*args, **kwds))\n",
      "  File \"<ipython-input-11-93015c860e6f>\", line 37, in simulation\n",
      "    sim.run(T[t])\n",
      "  File \"/home/kabir/anaconda3/lib/python3.7/site-packages/steps/solver.py\", line 60, in _advance_checkpoint_run\n",
      "    parent.run(end_time)\n",
      "KeyboardInterrupt\n"
     ]
    },
    {
     "ename": "KeyboardInterrupt",
     "evalue": "",
     "output_type": "error",
     "traceback": [
      "\u001b[0;31m----------------------------------------------------------------------\u001b[0m",
      "\u001b[0;31mKeyboardInterrupt\u001b[0m                    Traceback (most recent call last)",
      "\u001b[0;32m<ipython-input-12-d9152da3b500>\u001b[0m in \u001b[0;36m<module>\u001b[0;34m\u001b[0m\n\u001b[1;32m      4\u001b[0m \u001b[0mP\u001b[0m\u001b[0;34m=\u001b[0m\u001b[0mPool\u001b[0m\u001b[0;34m(\u001b[0m\u001b[0;36m7\u001b[0m\u001b[0;34m)\u001b[0m\u001b[0;34m\u001b[0m\u001b[0;34m\u001b[0m\u001b[0m\n\u001b[1;32m      5\u001b[0m \u001b[0;31m#res=P.map(simulation,range(NITER))\u001b[0m\u001b[0;34m\u001b[0m\u001b[0;34m\u001b[0m\u001b[0;34m\u001b[0m\u001b[0m\n\u001b[0;32m----> 6\u001b[0;31m \u001b[0mP\u001b[0m\u001b[0;34m.\u001b[0m\u001b[0mmap\u001b[0m\u001b[0;34m(\u001b[0m\u001b[0msimulation\u001b[0m\u001b[0;34m,\u001b[0m\u001b[0mrange\u001b[0m\u001b[0;34m(\u001b[0m\u001b[0mNITER\u001b[0m\u001b[0;34m)\u001b[0m\u001b[0;34m)\u001b[0m\u001b[0;34m\u001b[0m\u001b[0;34m\u001b[0m\u001b[0m\n\u001b[0m\u001b[1;32m      7\u001b[0m \u001b[0;31m#mean=simulation(1)\u001b[0m\u001b[0;34m\u001b[0m\u001b[0;34m\u001b[0m\u001b[0;34m\u001b[0m\u001b[0m\n\u001b[1;32m      8\u001b[0m \u001b[0;31m#mean=np.average(np.stack(tuple(res)),axis=0)\u001b[0m\u001b[0;34m\u001b[0m\u001b[0;34m\u001b[0m\u001b[0;34m\u001b[0m\u001b[0m\n",
      "\u001b[0;32m~/anaconda3/lib/python3.7/multiprocessing/pool.py\u001b[0m in \u001b[0;36mmap\u001b[0;34m(self, func, iterable, chunksize)\u001b[0m\n\u001b[1;32m    266\u001b[0m         \u001b[0;32min\u001b[0m \u001b[0ma\u001b[0m \u001b[0mlist\u001b[0m \u001b[0mthat\u001b[0m \u001b[0;32mis\u001b[0m \u001b[0mreturned\u001b[0m\u001b[0;34m.\u001b[0m\u001b[0;34m\u001b[0m\u001b[0;34m\u001b[0m\u001b[0m\n\u001b[1;32m    267\u001b[0m         '''\n\u001b[0;32m--> 268\u001b[0;31m         \u001b[0;32mreturn\u001b[0m \u001b[0mself\u001b[0m\u001b[0;34m.\u001b[0m\u001b[0m_map_async\u001b[0m\u001b[0;34m(\u001b[0m\u001b[0mfunc\u001b[0m\u001b[0;34m,\u001b[0m \u001b[0miterable\u001b[0m\u001b[0;34m,\u001b[0m \u001b[0mmapstar\u001b[0m\u001b[0;34m,\u001b[0m \u001b[0mchunksize\u001b[0m\u001b[0;34m)\u001b[0m\u001b[0;34m.\u001b[0m\u001b[0mget\u001b[0m\u001b[0;34m(\u001b[0m\u001b[0;34m)\u001b[0m\u001b[0;34m\u001b[0m\u001b[0;34m\u001b[0m\u001b[0m\n\u001b[0m\u001b[1;32m    269\u001b[0m \u001b[0;34m\u001b[0m\u001b[0m\n\u001b[1;32m    270\u001b[0m     \u001b[0;32mdef\u001b[0m \u001b[0mstarmap\u001b[0m\u001b[0;34m(\u001b[0m\u001b[0mself\u001b[0m\u001b[0;34m,\u001b[0m \u001b[0mfunc\u001b[0m\u001b[0;34m,\u001b[0m \u001b[0miterable\u001b[0m\u001b[0;34m,\u001b[0m \u001b[0mchunksize\u001b[0m\u001b[0;34m=\u001b[0m\u001b[0;32mNone\u001b[0m\u001b[0;34m)\u001b[0m\u001b[0;34m:\u001b[0m\u001b[0;34m\u001b[0m\u001b[0;34m\u001b[0m\u001b[0m\n",
      "\u001b[0;32m~/anaconda3/lib/python3.7/multiprocessing/pool.py\u001b[0m in \u001b[0;36mget\u001b[0;34m(self, timeout)\u001b[0m\n\u001b[1;32m    649\u001b[0m \u001b[0;34m\u001b[0m\u001b[0m\n\u001b[1;32m    650\u001b[0m     \u001b[0;32mdef\u001b[0m \u001b[0mget\u001b[0m\u001b[0;34m(\u001b[0m\u001b[0mself\u001b[0m\u001b[0;34m,\u001b[0m \u001b[0mtimeout\u001b[0m\u001b[0;34m=\u001b[0m\u001b[0;32mNone\u001b[0m\u001b[0;34m)\u001b[0m\u001b[0;34m:\u001b[0m\u001b[0;34m\u001b[0m\u001b[0;34m\u001b[0m\u001b[0m\n\u001b[0;32m--> 651\u001b[0;31m         \u001b[0mself\u001b[0m\u001b[0;34m.\u001b[0m\u001b[0mwait\u001b[0m\u001b[0;34m(\u001b[0m\u001b[0mtimeout\u001b[0m\u001b[0;34m)\u001b[0m\u001b[0;34m\u001b[0m\u001b[0;34m\u001b[0m\u001b[0m\n\u001b[0m\u001b[1;32m    652\u001b[0m         \u001b[0;32mif\u001b[0m \u001b[0;32mnot\u001b[0m \u001b[0mself\u001b[0m\u001b[0;34m.\u001b[0m\u001b[0mready\u001b[0m\u001b[0;34m(\u001b[0m\u001b[0;34m)\u001b[0m\u001b[0;34m:\u001b[0m\u001b[0;34m\u001b[0m\u001b[0;34m\u001b[0m\u001b[0m\n\u001b[1;32m    653\u001b[0m             \u001b[0;32mraise\u001b[0m \u001b[0mTimeoutError\u001b[0m\u001b[0;34m\u001b[0m\u001b[0;34m\u001b[0m\u001b[0m\n",
      "\u001b[0;32m~/anaconda3/lib/python3.7/multiprocessing/pool.py\u001b[0m in \u001b[0;36mwait\u001b[0;34m(self, timeout)\u001b[0m\n\u001b[1;32m    646\u001b[0m \u001b[0;34m\u001b[0m\u001b[0m\n\u001b[1;32m    647\u001b[0m     \u001b[0;32mdef\u001b[0m \u001b[0mwait\u001b[0m\u001b[0;34m(\u001b[0m\u001b[0mself\u001b[0m\u001b[0;34m,\u001b[0m \u001b[0mtimeout\u001b[0m\u001b[0;34m=\u001b[0m\u001b[0;32mNone\u001b[0m\u001b[0;34m)\u001b[0m\u001b[0;34m:\u001b[0m\u001b[0;34m\u001b[0m\u001b[0;34m\u001b[0m\u001b[0m\n\u001b[0;32m--> 648\u001b[0;31m         \u001b[0mself\u001b[0m\u001b[0;34m.\u001b[0m\u001b[0m_event\u001b[0m\u001b[0;34m.\u001b[0m\u001b[0mwait\u001b[0m\u001b[0;34m(\u001b[0m\u001b[0mtimeout\u001b[0m\u001b[0;34m)\u001b[0m\u001b[0;34m\u001b[0m\u001b[0;34m\u001b[0m\u001b[0m\n\u001b[0m\u001b[1;32m    649\u001b[0m \u001b[0;34m\u001b[0m\u001b[0m\n\u001b[1;32m    650\u001b[0m     \u001b[0;32mdef\u001b[0m \u001b[0mget\u001b[0m\u001b[0;34m(\u001b[0m\u001b[0mself\u001b[0m\u001b[0;34m,\u001b[0m \u001b[0mtimeout\u001b[0m\u001b[0;34m=\u001b[0m\u001b[0;32mNone\u001b[0m\u001b[0;34m)\u001b[0m\u001b[0;34m:\u001b[0m\u001b[0;34m\u001b[0m\u001b[0;34m\u001b[0m\u001b[0m\n",
      "\u001b[0;32m~/anaconda3/lib/python3.7/threading.py\u001b[0m in \u001b[0;36mwait\u001b[0;34m(self, timeout)\u001b[0m\n\u001b[1;32m    550\u001b[0m             \u001b[0msignaled\u001b[0m \u001b[0;34m=\u001b[0m \u001b[0mself\u001b[0m\u001b[0;34m.\u001b[0m\u001b[0m_flag\u001b[0m\u001b[0;34m\u001b[0m\u001b[0;34m\u001b[0m\u001b[0m\n\u001b[1;32m    551\u001b[0m             \u001b[0;32mif\u001b[0m \u001b[0;32mnot\u001b[0m \u001b[0msignaled\u001b[0m\u001b[0;34m:\u001b[0m\u001b[0;34m\u001b[0m\u001b[0;34m\u001b[0m\u001b[0m\n\u001b[0;32m--> 552\u001b[0;31m                 \u001b[0msignaled\u001b[0m \u001b[0;34m=\u001b[0m \u001b[0mself\u001b[0m\u001b[0;34m.\u001b[0m\u001b[0m_cond\u001b[0m\u001b[0;34m.\u001b[0m\u001b[0mwait\u001b[0m\u001b[0;34m(\u001b[0m\u001b[0mtimeout\u001b[0m\u001b[0;34m)\u001b[0m\u001b[0;34m\u001b[0m\u001b[0;34m\u001b[0m\u001b[0m\n\u001b[0m\u001b[1;32m    553\u001b[0m             \u001b[0;32mreturn\u001b[0m \u001b[0msignaled\u001b[0m\u001b[0;34m\u001b[0m\u001b[0;34m\u001b[0m\u001b[0m\n\u001b[1;32m    554\u001b[0m \u001b[0;34m\u001b[0m\u001b[0m\n",
      "\u001b[0;32m~/anaconda3/lib/python3.7/threading.py\u001b[0m in \u001b[0;36mwait\u001b[0;34m(self, timeout)\u001b[0m\n\u001b[1;32m    294\u001b[0m         \u001b[0;32mtry\u001b[0m\u001b[0;34m:\u001b[0m    \u001b[0;31m# restore state no matter what (e.g., KeyboardInterrupt)\u001b[0m\u001b[0;34m\u001b[0m\u001b[0;34m\u001b[0m\u001b[0m\n\u001b[1;32m    295\u001b[0m             \u001b[0;32mif\u001b[0m \u001b[0mtimeout\u001b[0m \u001b[0;32mis\u001b[0m \u001b[0;32mNone\u001b[0m\u001b[0;34m:\u001b[0m\u001b[0;34m\u001b[0m\u001b[0;34m\u001b[0m\u001b[0m\n\u001b[0;32m--> 296\u001b[0;31m                 \u001b[0mwaiter\u001b[0m\u001b[0;34m.\u001b[0m\u001b[0macquire\u001b[0m\u001b[0;34m(\u001b[0m\u001b[0;34m)\u001b[0m\u001b[0;34m\u001b[0m\u001b[0;34m\u001b[0m\u001b[0m\n\u001b[0m\u001b[1;32m    297\u001b[0m                 \u001b[0mgotit\u001b[0m \u001b[0;34m=\u001b[0m \u001b[0;32mTrue\u001b[0m\u001b[0;34m\u001b[0m\u001b[0;34m\u001b[0m\u001b[0m\n\u001b[1;32m    298\u001b[0m             \u001b[0;32melse\u001b[0m\u001b[0;34m:\u001b[0m\u001b[0;34m\u001b[0m\u001b[0;34m\u001b[0m\u001b[0m\n",
      "\u001b[0;31mKeyboardInterrupt\u001b[0m: "
     ]
    },
    {
     "name": "stdout",
     "output_type": "stream",
     "text": [
      "\n"
     ]
    }
   ],
   "source": [
    "NITER = 50\n",
    "res=[]\n",
    "\n",
    "P=Pool(7)\n",
    "#res=P.map(simulation,range(NITER))\n",
    "P.map(simulation,range(NITER))\n",
    "#mean=simulation(1)\n",
    "#mean=np.average(np.stack(tuple(res)),axis=0)"
   ]
  },
  {
   "cell_type": "code",
   "execution_count": null,
   "metadata": {},
   "outputs": [],
   "source": [
    "mean.shape"
   ]
  },
  {
   "cell_type": "code",
   "execution_count": null,
   "metadata": {},
   "outputs": [],
   "source": [
    "dump_loc=\"/home/kabir/Project/tripartiteSynapse/STEPS/stoc_data1\"\n",
    "with open(dump_loc,'wb') as file:\n",
    "    pkl.dump(mean,file)"
   ]
  },
  {
   "cell_type": "code",
   "execution_count": null,
   "metadata": {},
   "outputs": [],
   "source": [
    "dump_loc=\"/home/kabir/Project/tripartiteSynapse/STEPS/stoc_data1\"\n",
    "with open(dump_loc, 'rb') as file:\n",
    "    mean=pkl.load(file)"
   ]
  },
  {
   "cell_type": "markdown",
   "metadata": {},
   "source": [
    "## Plots"
   ]
  },
  {
   "cell_type": "code",
   "execution_count": null,
   "metadata": {
    "scrolled": false
   },
   "outputs": [],
   "source": [
    "nFig = 2 + len(mParts)\n",
    "figure, ax = plt.subplots(nFig, figsize=(15, 4*nFig), sharex=True)\n",
    "figure.subplots_adjust(hspace=0.1)\n",
    "labelfontsize = 13\n",
    "\n",
    "t_millisec = T*1e3\n",
    "j = 0\n",
    "pos = 0\n",
    "ax[j].plot(t_millisec, mean[:,pos]*1e6, label='Ca')#/NA/cytVolVal*1e3\n",
    "ax[j].set_ylabel(r'Ca ($\\mu M$)', fontsize=labelfontsize)\n",
    "j += 1\n",
    "pos += 1\n",
    "\n",
    "ax[j].plot(t_millisec, mean[:,pos]*1e6, label='Ca') #/NA/erVolVal*1e3\n",
    "ax[j].set_ylabel(r'ER Ca ($\\mu M$)', fontsize=labelfontsize)\n",
    "j += 1\n",
    "pos += 1\n",
    "\n",
    "for p in base_mParts+['ryr','vdcc']:\n",
    "    for i,mol in enumerate(MPs[p].molnames):\n",
    "        ax[j].plot(t_millisec, mean[:,i+pos], label=mol)\n",
    "    ax[j].set_ylabel(p+' states (num)', fontsize=labelfontsize)\n",
    "    j += 1\n",
    "    pos += MPs[p].mol_num\n",
    "    #print(MPs[p].mol_num,MPs[p].molnames,pos)\n",
    "print(pos)\n",
    "\n",
    "ax[-1].set_xlabel('Time (ms)', fontsize=labelfontsize)\n",
    "\n",
    "facecol = '#ffffff11'\n",
    "labelcol = '#777777'\n",
    "tickcol = '#999999'\n",
    "spinecol = '#666666'\n",
    "for x in ax:\n",
    "    x.legend(loc='upper left', facecolor='white', framealpha=0.8, bbox_to_anchor=(1,1))\n",
    "    \n",
    "    x.set_xlim(min(t_millisec), max(t_millisec))\n",
    "    \n",
    "    x.spines['bottom'].set_color(spinecol)\n",
    "    x.spines['top'].set_color(spinecol)\n",
    "    x.spines['right'].set_color(spinecol)\n",
    "    x.spines['left'].set_color(spinecol)\n",
    "    \n",
    "    x.xaxis.label.set_color(labelcol)\n",
    "    x.yaxis.label.set_color(labelcol)\n",
    "    \n",
    "    x.tick_params(axis='x', colors=tickcol)\n",
    "    x.tick_params(axis='y', colors=tickcol)\n",
    "    \n",
    "    x.set_facecolor(facecol)#'xkcd:salmon')\n",
    "    \n",
    "    x.grid(axis='x', color=spinecol)\n",
    "\n",
    "plt.savefig('geometry_working.pdf', dpi=300, format='pdf', transparent=True, bbox_inches=None, pad_inches=0.1)\n",
    "#plt.show()"
   ]
  },
  {
   "cell_type": "markdown",
   "metadata": {},
   "source": [
    "### ryr opening"
   ]
  },
  {
   "cell_type": "code",
   "execution_count": null,
   "metadata": {},
   "outputs": [],
   "source": [
    "ss = np.sum(mean[:,[75-14+i-5 for i in [5,6,7,12,13]]].T, axis=0)\n",
    "plt.plot(t_millisec, ss)\n",
    "#for i,mol in enumerate(MPs['ryr'].molnames):\n",
    "#    plt.plot(t_millisec, mean[:,75-14:75], label=mol)\n",
    "#ax[j].set_ylabel('RyR states (num)', fontsize=labelfontsize)\n",
    "#    j += 1"
   ]
  },
  {
   "cell_type": "code",
   "execution_count": null,
   "metadata": {},
   "outputs": [],
   "source": []
  }
 ],
 "metadata": {
  "kernelspec": {
   "display_name": "Python 3",
   "language": "python",
   "name": "python3"
  }
 },
 "nbformat": 4,
 "nbformat_minor": 2
}
