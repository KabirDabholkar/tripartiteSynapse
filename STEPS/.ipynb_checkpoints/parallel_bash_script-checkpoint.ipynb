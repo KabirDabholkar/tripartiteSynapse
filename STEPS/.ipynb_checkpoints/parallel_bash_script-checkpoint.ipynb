{
 "cells": [
  {
   "cell_type": "code",
   "execution_count": 1,
   "metadata": {},
   "outputs": [],
   "source": [
    "from itertools import product"
   ]
  },
  {
   "cell_type": "code",
   "execution_count": 2,
   "metadata": {},
   "outputs": [],
   "source": [
    "VDCC_NUM=['20','40','60']#[0]\n",
    "ER_CASE=['control','2x','3x']#[2]\n",
    "RYR_CASE=['single','double']\n",
    "\n",
    "cases=list(product(VDCC_NUM,ER_CASE,RYR_CASE))\n",
    "\n",
    "cases=[c for c in cases if c[1]!='control' or c[2]!='double']"
   ]
  },
  {
   "cell_type": "code",
   "execution_count": 17,
   "metadata": {},
   "outputs": [],
   "source": [
    "python=\"~/anaconda3/bin/python\""
   ]
  },
  {
   "cell_type": "code",
   "execution_count": 16,
   "metadata": {},
   "outputs": [],
   "source": [
    "with open(\"run.sh\",'w') as file:\n",
    "    for case in cases[:8]:\n",
    "        vdcc_num,er_case,ryr_case=case\n",
    "        line=python+\" CA3_mpart_class_geom-ode.py \" + ' '.join(case) + ' &\\n'\n",
    "        file.write(line)\n",
    "    file.write(\"wait\")"
   ]
  },
  {
   "cell_type": "code",
   "execution_count": null,
   "metadata": {},
   "outputs": [],
   "source": []
  }
 ],
 "metadata": {
  "kernelspec": {
   "display_name": "Python 3",
   "language": "python",
   "name": "python3"
  },
  "language_info": {
   "codemirror_mode": {
    "name": "ipython",
    "version": 3
   },
   "file_extension": ".py",
   "mimetype": "text/x-python",
   "name": "python",
   "nbconvert_exporter": "python",
   "pygments_lexer": "ipython3",
   "version": "3.7.3"
  }
 },
 "nbformat": 4,
 "nbformat_minor": 2
}
