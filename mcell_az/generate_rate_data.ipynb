{
 "cells": [
  {
   "cell_type": "code",
   "execution_count": 1,
   "metadata": {},
   "outputs": [],
   "source": [
    "import numpy as np\n",
    "import os\n",
    "from itertools import product"
   ]
  },
  {
   "cell_type": "code",
   "execution_count": 2,
   "metadata": {},
   "outputs": [],
   "source": [
    "k_reltrig_sudhof_f = (0.4*1.53e8)\n",
    "k_reltrig_sudhof_af = (1.3*2.94e6)"
   ]
  },
  {
   "cell_type": "code",
   "execution_count": 3,
   "metadata": {},
   "outputs": [],
   "source": [
    "rate_const=[5*k_reltrig_sudhof_f,\n",
    "             4*k_reltrig_sudhof_f,\n",
    "             3*k_reltrig_sudhof_f,\n",
    "             2*k_reltrig_sudhof_f,\n",
    "             1*k_reltrig_sudhof_f,\n",
    "             5*k_reltrig_sudhof_f,\n",
    "             4*k_reltrig_sudhof_f,\n",
    "             3*k_reltrig_sudhof_f,\n",
    "             2*k_reltrig_sudhof_f,\n",
    "             1*k_reltrig_sudhof_f,\n",
    "             5*k_reltrig_sudhof_f,\n",
    "             4*k_reltrig_sudhof_f,\n",
    "             3*k_reltrig_sudhof_f,\n",
    "             2*k_reltrig_sudhof_f,\n",
    "             1*k_reltrig_sudhof_f,\n",
    "             5*k_reltrig_sudhof_f,\n",
    "             4*k_reltrig_sudhof_f,\n",
    "             3*k_reltrig_sudhof_f,\n",
    "             2*k_reltrig_sudhof_f,\n",
    "             1*k_reltrig_sudhof_f,\n",
    "             5*k_reltrig_sudhof_f,\n",
    "             4*k_reltrig_sudhof_f,\n",
    "             3*k_reltrig_sudhof_f,\n",
    "             2*k_reltrig_sudhof_f,\n",
    "             1*k_reltrig_sudhof_f,\n",
    "             5*k_reltrig_sudhof_f,\n",
    "             4*k_reltrig_sudhof_f,\n",
    "             3*k_reltrig_sudhof_f,\n",
    "             2*k_reltrig_sudhof_f,\n",
    "             1*k_reltrig_sudhof_f,\n",
    "             2*k_reltrig_sudhof_af,\n",
    "             1*k_reltrig_sudhof_af,\n",
    "             2*k_reltrig_sudhof_af,\n",
    "             1*k_reltrig_sudhof_af,\n",
    "             2*k_reltrig_sudhof_af,\n",
    "             1*k_reltrig_sudhof_af,\n",
    "             2*k_reltrig_sudhof_af,\n",
    "             1*k_reltrig_sudhof_af,\n",
    "             2*k_reltrig_sudhof_af,\n",
    "             1*k_reltrig_sudhof_af,\n",
    "             2*k_reltrig_sudhof_af,\n",
    "             1*k_reltrig_sudhof_af,\n",
    "             2*k_reltrig_sudhof_af,\n",
    "             1*k_reltrig_sudhof_af,\n",
    "             2*k_reltrig_sudhof_af,\n",
    "             1*k_reltrig_sudhof_af,\n",
    "             2*k_reltrig_sudhof_af,\n",
    "             1*k_reltrig_sudhof_af,\n",
    "             2*k_reltrig_sudhof_af,\n",
    "             1*k_reltrig_sudhof_af,\n",
    "             2*k_reltrig_sudhof_af,\n",
    "             1*k_reltrig_sudhof_af,\n",
    "             2*k_reltrig_sudhof_af,\n",
    "             1*k_reltrig_sudhof_af]"
   ]
  },
  {
   "cell_type": "code",
   "execution_count": 10,
   "metadata": {},
   "outputs": [],
   "source": [
    "load_ca_loc=\"../results/STEPS_AZ/16apr2020\"\n",
    "save_rate_data=\"binding_rates\""
   ]
  },
  {
   "cell_type": "code",
   "execution_count": 11,
   "metadata": {},
   "outputs": [],
   "source": [
    "sims=[\"R150control\",\"R150ER2x\",\"R300ER2x\",\"R150ER3x\",\"R300ER3x\"]#,\"stores_blocked\"]\n",
    "VDCC=range(60,201,20)\n",
    "isi=range(20,181,40)\n",
    "\n",
    "for i,v,sim in product(isi,VDCC,sims):\n",
    "    #load_loc=os.path.join(load_ca_loc,sim,\"RSI%d\"%i+\"V%d\"%v,\"CaConc.dat\")\n",
    "    load_loc=os.path.join(load_ca_loc,sim,\"isi%d\"%i,\"vdcc%d\"%v,\"CaConc.dat\")\n",
    "    ca_data=np.genfromtxt(load_loc)\n",
    "    \n",
    "    for ind,rc in enumerate(rate_const):\n",
    "        directory=os.path.join(save_rate_data,sim,\"RSI%d\"%i+\"V%d\"%v)\n",
    "        if not os.path.exists(directory):\n",
    "            os.makedirs(directory)\n",
    "        save_loc=os.path.join(directory,\"ca_bind%d\"%(ind+1)+\".dat\")\n",
    "        save_data=np.stack([ca_data[:,0],ca_data[:,1]*1e-6*rc]).T\n",
    "        np.savetxt(save_loc,save_data,fmt=['%0.5f']+['%0.5f'], delimiter=\"\\t\")#\"\"\""
   ]
  },
  {
   "cell_type": "code",
   "execution_count": 6,
   "metadata": {},
   "outputs": [
    {
     "name": "stdout",
     "output_type": "stream",
     "text": [
      "k_ca_binding_1 = \"../binding_rates/\" & directory & \"/ca_bind1.dat\"\n",
      "k_ca_binding_2 = \"../binding_rates/\" & directory & \"/ca_bind2.dat\"\n",
      "k_ca_binding_3 = \"../binding_rates/\" & directory & \"/ca_bind3.dat\"\n",
      "k_ca_binding_4 = \"../binding_rates/\" & directory & \"/ca_bind4.dat\"\n",
      "k_ca_binding_5 = \"../binding_rates/\" & directory & \"/ca_bind5.dat\"\n",
      "k_ca_binding_6 = \"../binding_rates/\" & directory & \"/ca_bind6.dat\"\n",
      "k_ca_binding_7 = \"../binding_rates/\" & directory & \"/ca_bind7.dat\"\n",
      "k_ca_binding_8 = \"../binding_rates/\" & directory & \"/ca_bind8.dat\"\n",
      "k_ca_binding_9 = \"../binding_rates/\" & directory & \"/ca_bind9.dat\"\n",
      "k_ca_binding_10 = \"../binding_rates/\" & directory & \"/ca_bind10.dat\"\n",
      "k_ca_binding_11 = \"../binding_rates/\" & directory & \"/ca_bind11.dat\"\n",
      "k_ca_binding_12 = \"../binding_rates/\" & directory & \"/ca_bind12.dat\"\n",
      "k_ca_binding_13 = \"../binding_rates/\" & directory & \"/ca_bind13.dat\"\n",
      "k_ca_binding_14 = \"../binding_rates/\" & directory & \"/ca_bind14.dat\"\n",
      "k_ca_binding_15 = \"../binding_rates/\" & directory & \"/ca_bind15.dat\"\n",
      "k_ca_binding_16 = \"../binding_rates/\" & directory & \"/ca_bind16.dat\"\n",
      "k_ca_binding_17 = \"../binding_rates/\" & directory & \"/ca_bind17.dat\"\n",
      "k_ca_binding_18 = \"../binding_rates/\" & directory & \"/ca_bind18.dat\"\n",
      "k_ca_binding_19 = \"../binding_rates/\" & directory & \"/ca_bind19.dat\"\n",
      "k_ca_binding_20 = \"../binding_rates/\" & directory & \"/ca_bind20.dat\"\n",
      "k_ca_binding_21 = \"../binding_rates/\" & directory & \"/ca_bind21.dat\"\n",
      "k_ca_binding_22 = \"../binding_rates/\" & directory & \"/ca_bind22.dat\"\n",
      "k_ca_binding_23 = \"../binding_rates/\" & directory & \"/ca_bind23.dat\"\n",
      "k_ca_binding_24 = \"../binding_rates/\" & directory & \"/ca_bind24.dat\"\n",
      "k_ca_binding_25 = \"../binding_rates/\" & directory & \"/ca_bind25.dat\"\n",
      "k_ca_binding_26 = \"../binding_rates/\" & directory & \"/ca_bind26.dat\"\n",
      "k_ca_binding_27 = \"../binding_rates/\" & directory & \"/ca_bind27.dat\"\n",
      "k_ca_binding_28 = \"../binding_rates/\" & directory & \"/ca_bind28.dat\"\n",
      "k_ca_binding_29 = \"../binding_rates/\" & directory & \"/ca_bind29.dat\"\n",
      "k_ca_binding_30 = \"../binding_rates/\" & directory & \"/ca_bind30.dat\"\n",
      "k_ca_binding_31 = \"../binding_rates/\" & directory & \"/ca_bind31.dat\"\n",
      "k_ca_binding_32 = \"../binding_rates/\" & directory & \"/ca_bind32.dat\"\n",
      "k_ca_binding_33 = \"../binding_rates/\" & directory & \"/ca_bind33.dat\"\n",
      "k_ca_binding_34 = \"../binding_rates/\" & directory & \"/ca_bind34.dat\"\n",
      "k_ca_binding_35 = \"../binding_rates/\" & directory & \"/ca_bind35.dat\"\n",
      "k_ca_binding_36 = \"../binding_rates/\" & directory & \"/ca_bind36.dat\"\n",
      "k_ca_binding_37 = \"../binding_rates/\" & directory & \"/ca_bind37.dat\"\n",
      "k_ca_binding_38 = \"../binding_rates/\" & directory & \"/ca_bind38.dat\"\n",
      "k_ca_binding_39 = \"../binding_rates/\" & directory & \"/ca_bind39.dat\"\n",
      "k_ca_binding_40 = \"../binding_rates/\" & directory & \"/ca_bind40.dat\"\n",
      "k_ca_binding_41 = \"../binding_rates/\" & directory & \"/ca_bind41.dat\"\n",
      "k_ca_binding_42 = \"../binding_rates/\" & directory & \"/ca_bind42.dat\"\n",
      "k_ca_binding_43 = \"../binding_rates/\" & directory & \"/ca_bind43.dat\"\n",
      "k_ca_binding_44 = \"../binding_rates/\" & directory & \"/ca_bind44.dat\"\n",
      "k_ca_binding_45 = \"../binding_rates/\" & directory & \"/ca_bind45.dat\"\n",
      "k_ca_binding_46 = \"../binding_rates/\" & directory & \"/ca_bind46.dat\"\n",
      "k_ca_binding_47 = \"../binding_rates/\" & directory & \"/ca_bind47.dat\"\n",
      "k_ca_binding_48 = \"../binding_rates/\" & directory & \"/ca_bind48.dat\"\n",
      "k_ca_binding_49 = \"../binding_rates/\" & directory & \"/ca_bind49.dat\"\n",
      "k_ca_binding_50 = \"../binding_rates/\" & directory & \"/ca_bind50.dat\"\n",
      "k_ca_binding_51 = \"../binding_rates/\" & directory & \"/ca_bind51.dat\"\n",
      "k_ca_binding_52 = \"../binding_rates/\" & directory & \"/ca_bind52.dat\"\n",
      "k_ca_binding_53 = \"../binding_rates/\" & directory & \"/ca_bind53.dat\"\n",
      "k_ca_binding_54 = \"../binding_rates/\" & directory & \"/ca_bind54.dat\"\n"
     ]
    }
   ],
   "source": [
    "\n",
    "for i in range(54):\n",
    "    template= 'k_ca_binding_%d'%(i+1)+' = \"../binding_rates/\" & directory & \"/ca_bind%d'%(i+1)+'.dat\"'\n",
    "    print(template)"
   ]
  },
  {
   "cell_type": "code",
   "execution_count": null,
   "metadata": {},
   "outputs": [],
   "source": []
  }
 ],
 "metadata": {
  "kernelspec": {
   "display_name": "Python 3",
   "language": "python",
   "name": "python3"
  },
  "language_info": {
   "codemirror_mode": {
    "name": "ipython",
    "version": 3
   },
   "file_extension": ".py",
   "mimetype": "text/x-python",
   "name": "python",
   "nbconvert_exporter": "python",
   "pygments_lexer": "ipython3",
   "version": "3.7.3"
  }
 },
 "nbformat": 4,
 "nbformat_minor": 4
}
