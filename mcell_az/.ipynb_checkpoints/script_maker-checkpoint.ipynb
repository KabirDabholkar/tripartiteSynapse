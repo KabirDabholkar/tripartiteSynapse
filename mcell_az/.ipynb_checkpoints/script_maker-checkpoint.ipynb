{
 "cells": [
  {
   "cell_type": "code",
   "execution_count": 1,
   "metadata": {},
   "outputs": [],
   "source": [
    "import fileinput as fi\n",
    "from itertools import product"
   ]
  },
  {
   "cell_type": "code",
   "execution_count": 3,
   "metadata": {},
   "outputs": [],
   "source": [
    "with open(\"template.mdl\",'r') as template:\n",
    "    template_lines=template.readlines()"
   ]
  },
  {
   "cell_type": "code",
   "execution_count": 4,
   "metadata": {},
   "outputs": [],
   "source": [
    "isi=range(20,181,40)\n",
    "vdcc=range(60,201,20)\n",
    "sims=[\"R150control\",\"R150ER2x\",\"R300ER2x\",\"R150ER3x\",\"R300ER3x\",\"stores_blocked\"]\n",
    "iters=lambda i: str(i+30)+\"e3\"\n",
    "\n",
    "\n",
    "for s,i,v in product(sims,isi,vdcc):\n",
    "    filename=\"simulations/\"+s+\"_i%d\"%i+\"v%d\"%v\n",
    "    lines_to_write=[]\n",
    "    for line in template_lines:\n",
    "        new_line=line.replace('VDCC = \"60\"','VDCC = \"%d\"'%v).replace('isi = \"20\"','isi = \"%d\"'%i).replace('sim=\"R150control\"','sim = \"'+s+'\"').replace('iterations = 50e3','iterations = '+iters(i))        \n",
    "        lines_to_write.append(new_line)\n",
    "    with open(filename,'w') as write_file:\n",
    "        write_file.writelines(lines_to_write)"
   ]
  },
  {
   "cell_type": "code",
   "execution_count": 5,
   "metadata": {},
   "outputs": [],
   "source": [
    "def seed_num(vdcc_num):\n",
    "    #vdcc_num=int(fname.split('V')[1].replace('.mdl',''))\n",
    "    if vdcc_num>=110 and vdcc_num<=160:\n",
    "        return 1000\n",
    "    elif vdcc_num>=90 and vdcc_num<=100:\n",
    "        return 2000\n",
    "    elif vdcc_num>=70 and vdcc_num<=80:\n",
    "        return 3000\n",
    "    elif vdcc_num>=40 and vdcc_num<=60:\n",
    "        return 5000\n",
    "    else:\n",
    "        return 10"
   ]
  },
  {
   "cell_type": "code",
   "execution_count": 6,
   "metadata": {},
   "outputs": [
    {
     "name": "stdout",
     "output_type": "stream",
     "text": [
      "R150control 20 80 3000\n"
     ]
    }
   ],
   "source": [
    "current_job_number=8000\n",
    "\n",
    "total_sims=0\n",
    "for s,i,v in product(sims,isi,vdcc):\n",
    "    total_sims+=seed_num(v)\n",
    "    if total_sims>=current_job_number:\n",
    "        break\n",
    "        \n",
    "print(s,i,v,current_job_number-(total_sims-seed_num(v)))"
   ]
  },
  {
   "cell_type": "code",
   "execution_count": 7,
   "metadata": {},
   "outputs": [],
   "source": [
    "total_sims=0\n",
    "\n",
    "loc=\"/home/subhadra/kabir/tripartiteSynapse/mcell_az/simulations/\"\n",
    "for s,i,v in product(sims,isi,vdcc):\n",
    "    total_sims+=seed_num(v)"
   ]
  },
  {
   "cell_type": "code",
   "execution_count": 8,
   "metadata": {},
   "outputs": [
    {
     "data": {
      "text/plain": [
       "390600"
      ]
     },
     "execution_count": 8,
     "metadata": {},
     "output_type": "execute_result"
    }
   ],
   "source": [
    "total_sims"
   ]
  },
  {
   "cell_type": "code",
   "execution_count": 31,
   "metadata": {},
   "outputs": [],
   "source": [
    "pbs_file_lines=\"\"\"#!/usr/bin/python\n",
    "#PBS -p -1\n",
    "#PBS -j oe\n",
    "#PBS -J 1-\"\"\"+str(total_sims)+\"\"\"\n",
    "\n",
    "import os\n",
    "\n",
    "# get seed value from array index\n",
    "array_ind = os.getenv('PBS_ARRAY_INDEX')\n",
    "\n",
    "##############################\n",
    "#Figure out sim details\n",
    "\n",
    "def seed_num(vdcc_num):\n",
    "    #vdcc_num=int(fname.split('V')[1].replace('.mdl',''))\n",
    "    if vdcc_num>=110 and vdcc_num<=160:\n",
    "        return 1000\n",
    "    elif vdcc_num>=90 and vdcc_num<=100:\n",
    "        return 2000\n",
    "    elif vdcc_num>=70 and vdcc_num<=80:\n",
    "        return 3000\n",
    "    elif vdcc_num>=40 and vdcc_num<=60:\n",
    "        return 5000\n",
    "    else:\n",
    "        return 10\n",
    "\n",
    "loc=\"/home/subhadra/kabir/tripartiteSynapse/mcell_az/simulations/\"\n",
    "\n",
    "\n",
    "total_sims=0\n",
    "for s,i,v in product(sims,isi,vdcc):\n",
    "    total_sims+=seed_num(v)\n",
    "    if total_sims>=array_ind:\n",
    "        break\n",
    "    \n",
    "    \n",
    "file_name = loc + s+\"_i%d\"%i+\"v%d\"%v\n",
    "seed = array_ind-(total_sims-seed_num(v))\n",
    "##############################################\n",
    "\n",
    "\n",
    "# define bash command\n",
    "query = '/apps/bin/mcell '+file_name+' -seed ' + seed\n",
    "print query\n",
    "\n",
    "#print os.getenv('I')\n",
    "\n",
    "\n",
    "# run bash command\n",
    "os.system(query)\"\"\""
   ]
  },
  {
   "cell_type": "code",
   "execution_count": 32,
   "metadata": {},
   "outputs": [],
   "source": [
    "with open(\"runpbs.py\",'w') as f:\n",
    "    f.writelines(pbs_file_lines)"
   ]
  },
  {
   "cell_type": "code",
   "execution_count": null,
   "metadata": {},
   "outputs": [],
   "source": []
  }
 ],
 "metadata": {
  "kernelspec": {
   "display_name": "Python 3",
   "language": "python",
   "name": "python3"
  },
  "language_info": {
   "codemirror_mode": {
    "name": "ipython",
    "version": 3
   },
   "file_extension": ".py",
   "mimetype": "text/x-python",
   "name": "python",
   "nbconvert_exporter": "python",
   "pygments_lexer": "ipython3",
   "version": "3.7.3"
  }
 },
 "nbformat": 4,
 "nbformat_minor": 4
}
