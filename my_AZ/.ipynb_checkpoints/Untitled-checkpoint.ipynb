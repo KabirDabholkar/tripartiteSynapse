{
 "cells": [
  {
   "cell_type": "code",
   "execution_count": 1,
   "metadata": {},
   "outputs": [],
   "source": [
    "import matplotlib.pyplot as plt\n",
    "import seaborn as sns\n",
    "import numpy as np"
   ]
  },
  {
   "cell_type": "code",
   "execution_count": 33,
   "metadata": {},
   "outputs": [],
   "source": [
    "N=50000\n",
    "a=np.array(sorted(np.random.normal(0,1,N)))\n",
    "b=np.array(sorted(np.random.normal(0,1,N)+1))"
   ]
  },
  {
   "cell_type": "code",
   "execution_count": 34,
   "metadata": {},
   "outputs": [
    {
     "data": {
      "text/plain": [
       "array([-0.17935261,  0.84585026, -0.72272789, ..., -0.92949745,\n",
       "        1.50230699,  0.65911825])"
      ]
     },
     "execution_count": 34,
     "metadata": {},
     "output_type": "execute_result"
    }
   ],
   "source": [
    "np.random.normal(0,1,N)"
   ]
  },
  {
   "cell_type": "code",
   "execution_count": 37,
   "metadata": {},
   "outputs": [],
   "source": [
    "x,y,z=0,1,0.7\n",
    "\n",
    "c=a+(b-a)/(y-x)*(z-x)\n"
   ]
  },
  {
   "cell_type": "code",
   "execution_count": 38,
   "metadata": {},
   "outputs": [
    {
     "data": {
      "text/plain": [
       "<matplotlib.axes._subplots.AxesSubplot at 0x7f62671612e8>"
      ]
     },
     "execution_count": 38,
     "metadata": {},
     "output_type": "execute_result"
    },
    {
     "data": {
      "image/png": "[encoded data removed]",
      "text/plain": [
       "<Figure size 432x288 with 1 Axes>"
      ]
     },
     "metadata": {
      "needs_background": "light"
     },
     "output_type": "display_data"
    }
   ],
   "source": [
    "sns.distplot(a)\n",
    "sns.distplot(b)\n",
    "sns.distplot(c)"
   ]
  },
  {
   "cell_type": "code",
   "execution_count": 1,
   "metadata": {},
   "outputs": [],
   "source": [
    "#determinant of matrix a\n",
    "def det(a):\n",
    "    return a[0][0]*a[1][1]*a[2][2] + a[0][1]*a[1][2]*a[2][0] + a[0][2]*a[1][0]*a[2][1] - a[0][2]*a[1][1]*a[2][0] - a[0][1]*a[1][0]*a[2][2] - a[0][0]*a[1][2]*a[2][1]\n",
    "\n",
    "#unit normal vector of plane defined by points a, b, and c\n",
    "def unit_normal(a, b, c):\n",
    "    x = det([[1,a[1],a[2]],\n",
    "             [1,b[1],b[2]],\n",
    "             [1,c[1],c[2]]])\n",
    "    y = det([[a[0],1,a[2]],\n",
    "             [b[0],1,b[2]],\n",
    "             [c[0],1,c[2]]])\n",
    "    z = det([[a[0],a[1],1],\n",
    "             [b[0],b[1],1],\n",
    "             [c[0],c[1],1]])\n",
    "    magnitude = (x**2 + y**2 + z**2)**.5\n",
    "    return (x/magnitude, y/magnitude, z/magnitude)\n",
    "\n",
    "#dot product of vectors a and b\n",
    "def dot(a, b):\n",
    "    return a[0]*b[0] + a[1]*b[1] + a[2]*b[2]\n",
    "\n",
    "#cross product of vectors a and b\n",
    "def cross(a, b):\n",
    "    x = a[1] * b[2] - a[2] * b[1]\n",
    "    y = a[2] * b[0] - a[0] * b[2]\n",
    "    z = a[0] * b[1] - a[1] * b[0]\n",
    "    return (x, y, z)\n",
    "\n",
    "#area of polygon poly\n",
    "def area(poly):\n",
    "    if len(poly) < 3: # not a plane - no area\n",
    "        return 0\n",
    "\n",
    "    total = [0, 0, 0]\n",
    "    for i in range(len(poly)):\n",
    "        vi1 = poly[i]\n",
    "        if i is len(poly)-1:\n",
    "            vi2 = poly[0]\n",
    "        else:\n",
    "            vi2 = poly[i+1]\n",
    "        prod = cross(vi1, vi2)\n",
    "        total[0] += prod[0]\n",
    "        total[1] += prod[1]\n",
    "        total[2] += prod[2]\n",
    "    result = dot(total, unit_normal(poly[0], poly[1], poly[2]))\n",
    "    return abs(result/2)"
   ]
  },
  {
   "cell_type": "code",
   "execution_count": 2,
   "metadata": {},
   "outputs": [
    {
     "data": {
      "text/plain": [
       "0.003625693809347724"
      ]
     },
     "execution_count": 2,
     "metadata": {},
     "output_type": "execute_result"
    }
   ],
   "source": [
    "poly=[[ -0.025000000372529, 0.0551254935562611, -0.0265991650521755 ],\\\n",
    "      [ -0.025000000372529, 0.0159665141254663, 0.0514875464141369 ],\\\n",
    "        [ -0.025000000372529, -0.0435987487435341, -0.014911837875843 ]]\n",
    "area(poly)"
   ]
  },
  {
   "cell_type": "code",
   "execution_count": null,
   "metadata": {},
   "outputs": [],
   "source": []
  }
 ],
 "metadata": {
  "kernelspec": {
   "display_name": "Python 3",
   "language": "python",
   "name": "python3"
  },
  "language_info": {
   "codemirror_mode": {
    "name": "ipython",
    "version": 3
   },
   "file_extension": ".py",
   "mimetype": "text/x-python",
   "name": "python",
   "nbconvert_exporter": "python",
   "pygments_lexer": "ipython3",
   "version": "3.6.9"
  }
 },
 "nbformat": 4,
 "nbformat_minor": 4
}
