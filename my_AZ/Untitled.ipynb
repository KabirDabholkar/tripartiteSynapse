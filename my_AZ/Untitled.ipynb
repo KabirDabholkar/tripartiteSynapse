{
 "cells": [
  {
   "cell_type": "code",
   "execution_count": 11,
   "metadata": {},
   "outputs": [],
   "source": [
    "import matplotlib.pyplot as plt\n",
    "import seaborn as sns\n",
    "import numpy as np"
   ]
  },
  {
   "cell_type": "code",
   "execution_count": 12,
   "metadata": {},
   "outputs": [],
   "source": [
    "N=50000\n",
    "a=np.array(sorted(np.random.normal(0,1,N)))\n",
    "b=np.array(sorted(np.random.normal(0,1,N)+1))"
   ]
  },
  {
   "cell_type": "code",
   "execution_count": 13,
   "metadata": {},
   "outputs": [
    {
     "data": {
      "text/plain": [
       "array([ 0.56433412, -0.26355008, -1.04476105, ..., -0.15541531,\n",
       "       -1.0998251 , -0.06169667])"
      ]
     },
     "execution_count": 13,
     "metadata": {},
     "output_type": "execute_result"
    }
   ],
   "source": [
    "np.random.normal(0,1,N)"
   ]
  },
  {
   "cell_type": "code",
   "execution_count": 14,
   "metadata": {},
   "outputs": [],
   "source": [
    "x,y,z=0,1,0.7\n",
    "\n",
    "c=a+(b-a)/(y-x)*(z-x)\n"
   ]
  },
  {
   "cell_type": "code",
   "execution_count": 15,
   "metadata": {},
   "outputs": [
    {
     "data": {
      "text/plain": [
       "<matplotlib.axes._subplots.AxesSubplot at 0x7fe1f6986ba8>"
      ]
     },
     "execution_count": 15,
     "metadata": {},
     "output_type": "execute_result"
    },
    {
     "data": {
      "image/png": "[encoded data removed]",
      "text/plain": [
       "<Figure size 432x288 with 1 Axes>"
      ]
     },
     "metadata": {
      "needs_background": "light"
     },
     "output_type": "display_data"
    }
   ],
   "source": [
    "sns.distplot(a)\n",
    "sns.distplot(b)\n",
    "sns.distplot(c)"
   ]
  },
  {
   "cell_type": "code",
   "execution_count": 16,
   "metadata": {},
   "outputs": [],
   "source": [
    "#determinant of matrix a\n",
    "def det(a):\n",
    "    return a[0][0]*a[1][1]*a[2][2] + a[0][1]*a[1][2]*a[2][0] + a[0][2]*a[1][0]*a[2][1] - a[0][2]*a[1][1]*a[2][0] - a[0][1]*a[1][0]*a[2][2] - a[0][0]*a[1][2]*a[2][1]\n",
    "\n",
    "#unit normal vector of plane defined by points a, b, and c\n",
    "def unit_normal(a, b, c):\n",
    "    x = det([[1,a[1],a[2]],\n",
    "             [1,b[1],b[2]],\n",
    "             [1,c[1],c[2]]])\n",
    "    y = det([[a[0],1,a[2]],\n",
    "             [b[0],1,b[2]],\n",
    "             [c[0],1,c[2]]])\n",
    "    z = det([[a[0],a[1],1],\n",
    "             [b[0],b[1],1],\n",
    "             [c[0],c[1],1]])\n",
    "    magnitude = (x**2 + y**2 + z**2)**.5\n",
    "    return (x/magnitude, y/magnitude, z/magnitude)\n",
    "\n",
    "#dot product of vectors a and b\n",
    "def dot(a, b):\n",
    "    return a[0]*b[0] + a[1]*b[1] + a[2]*b[2]\n",
    "\n",
    "#cross product of vectors a and b\n",
    "def cross(a, b):\n",
    "    x = a[1] * b[2] - a[2] * b[1]\n",
    "    y = a[2] * b[0] - a[0] * b[2]\n",
    "    z = a[0] * b[1] - a[1] * b[0]\n",
    "    return (x, y, z)\n",
    "\n",
    "#area of polygon poly\n",
    "def area(poly):\n",
    "    if len(poly) < 3: # not a plane - no area\n",
    "        return 0\n",
    "\n",
    "    total = [0, 0, 0]\n",
    "    for i in range(len(poly)):\n",
    "        vi1 = poly[i]\n",
    "        if i is len(poly)-1:\n",
    "            vi2 = poly[0]\n",
    "        else:\n",
    "            vi2 = poly[i+1]\n",
    "        prod = cross(vi1, vi2)\n",
    "        total[0] += prod[0]\n",
    "        total[1] += prod[1]\n",
    "        total[2] += prod[2]\n",
    "    result = dot(total, unit_normal(poly[0], poly[1], poly[2]))\n",
    "    return abs(result/2)"
   ]
  },
  {
   "cell_type": "code",
   "execution_count": 5,
   "metadata": {},
   "outputs": [
    {
     "name": "stdout",
     "output_type": "stream",
     "text": [
      "0.003625693809347724 um^2\n"
     ]
    }
   ],
   "source": [
    "poly=[[ -0.025000000372529, 0.0551254935562611, -0.0265991650521755 ],\\\n",
    "      [ -0.025000000372529, 0.0159665141254663, 0.0514875464141369 ],\\\n",
    "        [ -0.025000000372529, -0.0435987487435341, -0.014911837875843 ]]\n",
    "print(area(poly),\"um^2\")"
   ]
  },
  {
   "cell_type": "code",
   "execution_count": 7,
   "metadata": {},
   "outputs": [
    {
     "name": "stdout",
     "output_type": "stream",
     "text": [
      "3.6256938093477238e-09 cm^2\n"
     ]
    }
   ],
   "source": [
    "print(area(poly)*1e-6,\"cm^2\")"
   ]
  },
  {
   "cell_type": "code",
   "execution_count": 10,
   "metadata": {},
   "outputs": [
    {
     "data": {
      "text/plain": [
       "3.141592653589793"
      ]
     },
     "execution_count": 10,
     "metadata": {},
     "output_type": "execute_result"
    }
   ],
   "source": [
    "np.pi"
   ]
  },
  {
   "cell_type": "code",
   "execution_count": 19,
   "metadata": {},
   "outputs": [
    {
     "data": {
      "text/plain": [
       "4"
      ]
     },
     "execution_count": 19,
     "metadata": {},
     "output_type": "execute_result"
    }
   ],
   "source": [
    "a=np.arange(40)\n",
    "np.searchsorted(a,3.5)"
   ]
  },
  {
   "cell_type": "code",
   "execution_count": 38,
   "metadata": {},
   "outputs": [
    {
     "name": "stdout",
     "output_type": "stream",
     "text": [
      "[0.16666667 0.5        1.        ]\n",
      "2\n"
     ]
    }
   ],
   "source": [
    "a=np.array([0.1,0.2,0.3])\n",
    "cum=np.cumsum(a)\n",
    "\n",
    "cum=cum/cum[-1]\n",
    "\n",
    "print(cum)\n",
    "\n",
    "print(np.searchsorted(cum,0.9))"
   ]
  },
  {
   "cell_type": "code",
   "execution_count": null,
   "metadata": {},
   "outputs": [],
   "source": []
  }
 ],
 "metadata": {
  "kernelspec": {
   "display_name": "Python 3",
   "language": "python",
   "name": "python3"
  },
  "language_info": {
   "codemirror_mode": {
    "name": "ipython",
    "version": 3
   },
   "file_extension": ".py",
   "mimetype": "text/x-python",
   "name": "python",
   "nbconvert_exporter": "python",
   "pygments_lexer": "ipython3",
   "version": "3.6.9"
  }
 },
 "nbformat": 4,
 "nbformat_minor": 4
}
