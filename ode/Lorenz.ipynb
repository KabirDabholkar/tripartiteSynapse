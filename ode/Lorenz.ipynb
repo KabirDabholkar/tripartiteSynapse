{
 "cells": [
  {
   "cell_type": "code",
   "execution_count": 1,
   "metadata": {},
   "outputs": [],
   "source": [
    "from scipy.integrate import odeint\n",
    "from scipy import *\n",
    "import matplotlib.pyplot as plt\n",
    "from mpl_toolkits.mplot3d import Axes3D\n",
    "\n",
    "import bqplot as bq\n",
    "from ipywidgets import interact, interactive, Layout, Box, HBox, VBox, Label\n",
    "import ipywidgets as ipyw\n",
    "from IPython.display import display\n",
    "\n",
    "%matplotlib inline"
   ]
  },
  {
   "cell_type": "code",
   "execution_count": null,
   "metadata": {},
   "outputs": [],
   "source": [
    "## Time interval of the simulations\n",
    "t = arange(0.0, 50.0, 0.01)\n",
    "m = lorenz()\n",
    "\n",
    "## Solving the diffential equations\n",
    "sol = odeint(m.dXdt, m.X0, t)"
   ]
  },
  {
   "cell_type": "code",
   "execution_count": null,
   "metadata": {},
   "outputs": [],
   "source": [
    "## Plot solution timeseries\n",
    "fig, ax = plt.subplots()\n",
    "for i, v in enumerate(m.label):\n",
    "    figY = plt.plot(t, sol[:,i], label=v)\n",
    "\n",
    "plt.xlabel('Time (ms)')\n",
    "plt.legend(frameon=False)\n",
    "plt.show()"
   ]
  },
  {
   "cell_type": "code",
   "execution_count": null,
   "metadata": {},
   "outputs": [],
   "source": [
    "## The butterfly!\n",
    "fig = plt.figure()\n",
    "ax = fig.gca(projection='3d')\n",
    "\n",
    "x, y, z = sol.T\n",
    "ax.plot(x, y, z)\n",
    "\n",
    "ax.set_xlabel('x')\n",
    "ax.set_ylabel('y')\n",
    "ax.set_zlabel('z')\n",
    "plt.show()"
   ]
  },
  {
   "cell_type": "code",
   "execution_count": 2,
   "metadata": {},
   "outputs": [],
   "source": [
    "### Lorenz Model Class\n",
    "class lorenz:\n",
    "    ## Must be in same order as dXdt return\n",
    "    label = ['x', 'y', 'z']\n",
    "    nVar = len(label)\n",
    "\n",
    "    ## Parameters\n",
    "    p = {\n",
    "    's': 10,\n",
    "    'r': 28,\n",
    "    'b': 2.667\n",
    "    }\n",
    "\n",
    "    ## Get initial values for the system\n",
    "    def __init__(self, X0 = [0.3, 0.2, 0.1], T=arange(0.0, 50.0, 0.01)):\n",
    "        self.T = T\n",
    "        self.name = self.__class__.__name__\n",
    "        if self.nVar != len(X0):\n",
    "            print 'ERROR:', self.nVar, 'initial values required for:', self.name\n",
    "        else: \n",
    "            self.X0 = X0\n",
    "\n",
    "    ## Define the dX/dt for the system\n",
    "    def dXdt(self, X, t):\n",
    "        x, y, z = X\n",
    "\n",
    "        dxdt = self.p['s']*(y - x)\n",
    "        dydt = self.p['r']*x - y - x*z\n",
    "        dzdt = x*y - self.p['b']*z\n",
    "\n",
    "        return dxdt, dydt, dzdt"
   ]
  },
  {
   "cell_type": "code",
   "execution_count": 53,
   "metadata": {},
   "outputs": [],
   "source": [
    "### Hodgekin-Huxley Model Class\n",
    "class HH:\n",
    "    ## Must be in same order as dXdt return\n",
    "    label = ['V', 'm', 'h', 'n']\n",
    "    nVar = len(label)\n",
    "\n",
    "    ## Parameters\n",
    "    p = {\n",
    "    'C_m' : 1.0,\n",
    "    'g_Na': 120.0,\n",
    "    'g_K' : 36.0,\n",
    "    'g_L' : 0.3,\n",
    "    'E_Na': 50.0,\n",
    "    'E_K' : -77.0,\n",
    "    'E_L' : -54.387\n",
    "    }\n",
    "\n",
    "    ## Get initial values for the system\n",
    "    def __init__(self, X0 = [-65, 0.05, 0.6, 0.32], T=arange(0.0, 50.0, 0.01)):\n",
    "        self.T = T\n",
    "        self.name = self.__class__.__name__\n",
    "        if self.nVar != len(X0):\n",
    "            print 'ERROR:', self.nVar, 'initial values required for:', self.name\n",
    "        else: \n",
    "            self.X0 = X0\n",
    "            \n",
    "            \n",
    "    ## External current (step function)\n",
    "    def I_ext(self, t): return 10*floor(t/25)\n",
    "         \n",
    "    # Channel gating variables (ms)\n",
    "    def alpha_m(self, V):  return 0.1*(V+40.0)/(1.0 - exp(-(V+40.0) / 10.0))\n",
    "    def beta_m(self, V):   return 4.0*exp(-(V+65.0) / 18.0)\n",
    "    def alpha_h(self, V):  return 0.07*exp(-(V+65.0) / 20.0)\n",
    "    def beta_h(self, V):   return 1.0/(1.0 + exp(-(V+35.0) / 10.0))\n",
    "    def alpha_n(self, V):  return 0.01*(V+55.0)/(1.0 - exp(-(V+55.0) / 10.0))\n",
    "    def beta_n(self, V):   return 0.125*exp(-(V+65) / 80.0)\n",
    "\n",
    "    # Membrane current (in uA/cm^2)\n",
    "    def I_Na(self, V, m, h):  return self.p['g_Na'] * m**3 * h * (V - self.p['E_Na'])\n",
    "    def I_K(self, V, n):      return self.p['g_K']  * n**4 * (V - self.p['E_K'])\n",
    "    def I_L(self, V):         return self.p['g_L'] * (V - self.p['E_L'])\n",
    "\n",
    "    \n",
    "    ## Define the dX/dt for the system\n",
    "    def dXdt(self, X, t):\n",
    "        V, m, h, n = X\n",
    "\n",
    "        dV = self.I_ext(t) - self.I_Na(V, m, h) - self.I_K(V, n) - self.I_L(V)/ self.p['C_m']\n",
    "        dm = self.alpha_m(V)*(1.0-m) - self.beta_m(V)*m\n",
    "        dh = self.alpha_h(V)*(1.0-h) - self.beta_h(V)*h\n",
    "        dn = self.alpha_n(V)*(1.0-n) - self.beta_n(V)*n\n",
    "\n",
    "        return dV, dm, dh, dn"
   ]
  },
  {
   "cell_type": "code",
   "execution_count": 57,
   "metadata": {},
   "outputs": [],
   "source": [
    "class slider():\n",
    "    cpalette = ['#EE224A', '#22AF4B', '#4CB5F5', '#FF5C00', \n",
    "                '#08B9A5', '#15AB00', '#881EE4', '#5C6BC0']\n",
    "    \n",
    "    def __init__(self, model):\n",
    "        self.model = model\n",
    "        self.lines = {}\n",
    "        self.param = {}\n",
    "        self.cb = {}\n",
    "        self.colors = {}\n",
    "        \n",
    "        self._solve()\n",
    "        self._curveColors()\n",
    "        self._plot()\n",
    "        \n",
    "        \n",
    "    def _curveColors(self):\n",
    "        for i,v in enumerate(self.model.label):\n",
    "            self.colors.update({v: self.cpalette[i]})\n",
    "        \n",
    "    def _solve(self):\n",
    "        sol = odeint(self.model.dXdt, self.model.X0, self.model.T)\n",
    "        \n",
    "        self.sol = {}\n",
    "        for i,var in enumerate(self.model.label):\n",
    "            self.sol.update({var: sol[:,i]})\n",
    "    \n",
    "    def _getFig(self):\n",
    "        for v in self.model.label:\n",
    "            x_sc = bq.LinearScale()\n",
    "            y_sc = bq.LinearScale()\n",
    "\n",
    "            x_ax = bq.Axis(label='Time', scale=x_sc, tick_format='0.0f', color='black', grid_lines='solid', grid_color='#ddd')\n",
    "            y_ax = bq.Axis(label=v,      scale=y_sc, tick_format='0.2f', color='black', grid_lines='solid', grid_color='#ddd', orientation='vertical')\n",
    "\n",
    "            # Generate a line (but does not plot it)\n",
    "            l = bq.Lines(x=self.model.T, y=self.sol[v], colors=[self.colors[v]],\n",
    "                              scales={'x': x_sc, 'y': y_sc})\n",
    "        \n",
    "            self.lines.update({v: l})\n",
    "          \n",
    "        fig = bq.Figure(axes=[x_ax, y_ax], marks=self.lines.values(),\n",
    "                       fig_margin={'top':10, 'bottom':0, 'left':60, 'right':10},\n",
    "                       max_aspect_ratio=3, min_aspect_ratio=2.5)\n",
    "        fig.layout.width = '100%'\n",
    "        return fig\n",
    "        \n",
    "    def _plot(self):\n",
    "        self._solve()\n",
    "        fig = self._getFig()\n",
    "        \n",
    "        display(fig)\n",
    "        \n",
    "    def _updateFig(self):        \n",
    "        self._solve()\n",
    "        for v in self.model.label:\n",
    "            self.lines[v].y = self.sol[v]\n",
    "    \n",
    "    ### Parameter handling\n",
    "    def _paramUpdate(self, change):\n",
    "        self.model.p[change['owner'].description] = change['new']\n",
    "        self._updateFig()\n",
    "            \n",
    "    def paramSlider(self):\n",
    "        for k,v in self.model.p.items():\n",
    "            print v\n",
    "            crude = ipyw.IntSlider(\n",
    "                min = -5, max = 10,\n",
    "                description=k,\n",
    "                value = floor(log10(v)), \n",
    "                continuous_update = False\n",
    "            )\n",
    "\n",
    "            fine = ipyw.FloatSlider(\n",
    "                min = 10**floor(log10(v)),\n",
    "                max = 10**(floor(log10(v))+1),\n",
    "                description=k, \n",
    "                value = v,\n",
    "                continuous_update = False\n",
    "            )\n",
    "            \n",
    "            #txt = ipyw.FloatText(value=v, description=k, layout=Layout(width='80px'))\n",
    "        \n",
    "            #ipyw.jslink((fine, 'value'), (txt, 'value'))\n",
    "            crude.observe(self._updateRange, names='value')\n",
    "            fine.observe(self._paramUpdate,  names='value')\n",
    "        \n",
    "            p = [crude, fine]#, txt]\n",
    "            self.param.update({k: p})\n",
    "        \n",
    "        box_layout = Layout(display='flex-start',\n",
    "                    flex_flow='row',\n",
    "                    align_items='flex-start',\n",
    "                    align_content='flex-start',\n",
    "                    width='100%')\n",
    "        \n",
    "        for k, v in self.param.items():\n",
    "            box = Box(children=v, layout=box_layout)\n",
    "            display(box, layout=Layout(align_items='flex-start'))\n",
    "            \n",
    "            \n",
    "    def _updateRange(self, c):\n",
    "        k = c['owner'].description\n",
    "        try:\n",
    "            self.param[k][1].max = 10**(c['new']+1)\n",
    "            self.param[k][1].min = 10**c['new']\n",
    "        except:\n",
    "            self.param[k][1].min = 10**c['new']\n",
    "            self.param[k][1].max = 10**(c['new']+1)\n",
    "        self.param[k][1].value = self.param[k][1].min\n",
    "        self.param[k][1].step = 1 if c['new']>0 else 10**(c['new']-1)\n",
    "        \n",
    "    ### Toggle curve display\n",
    "    def _toggleCurve(self, b):\n",
    "        v = not self.lines[b.description].visible\n",
    "        if self.lines[b.description].visible:\n",
    "            self.cb[b.description].style.button_color = '#ddd'\n",
    "            self.lines[b.description].visible = v\n",
    "        else:\n",
    "            self.cb[b.description].style.button_color = self.colors[b.description]\n",
    "            self.lines[b.description].visible = v\n",
    "        \n",
    "        \n",
    "    def _getToggleButton(self, v):\n",
    "        cb = ipyw.Button(\n",
    "            value = self.lines[v].visible,\n",
    "            description = v,\n",
    "            style = ipyw.ButtonStyle(button_color=self.colors[v]),\n",
    "            layout = Layout(width='100px')\n",
    "        )\n",
    "        return cb\n",
    "        \n",
    "    def toggleButton(self):\n",
    "        for v in self.model.label:\n",
    "            self.cb.update({v: self._getToggleButton(v)})\n",
    "            \n",
    "        display(VBox(self.cb.values()))\n",
    "        \n",
    "        for cb in self.cb.values():\n",
    "            cb.on_click(self._toggleCurve)"
   ]
  },
  {
   "cell_type": "code",
   "execution_count": 48,
   "metadata": {},
   "outputs": [
    {
     "data": {
      "application/vnd.jupyter.widget-view+json": {
       "model_id": "0e09d42838cc47c3b13a57f3b6b30525",
       "version_major": 2,
       "version_minor": 0
      },
      "text/plain": [
       "RmlndXJlKGF4ZXM9W0F4aXMoY29sb3I9J2JsYWNrJywgZ3JpZF9jb2xvcj0nI2RkZCcsIGxhYmVsPXUnVGltZScsIHNjYWxlPUxpbmVhclNjYWxlKCksIHRpY2tfZm9ybWF0PXUnMC4wZicpLCDigKY=\n"
      ]
     },
     "metadata": {},
     "output_type": "display_data"
    },
    {
     "data": {
      "application/vnd.jupyter.widget-view+json": {
       "model_id": "82d8767c68db4d67a1257881bafcc856",
       "version_major": 2,
       "version_minor": 0
      },
      "text/plain": [
       "Qm94KGNoaWxkcmVuPShJbnRTbGlkZXIodmFsdWU9MSwgY29udGludW91c191cGRhdGU9RmFsc2UsIGRlc2NyaXB0aW9uPXUncycsIG1heD0xMCwgbWluPS01KSwgRmxvYXRTbGlkZXIodmFsdWXigKY=\n"
      ]
     },
     "metadata": {},
     "output_type": "display_data"
    },
    {
     "data": {
      "application/vnd.jupyter.widget-view+json": {
       "model_id": "a4b420b9f4134e4caf58a5a8b31076a2",
       "version_major": 2,
       "version_minor": 0
      },
      "text/plain": [
       "Qm94KGNoaWxkcmVuPShJbnRTbGlkZXIodmFsdWU9MSwgY29udGludW91c191cGRhdGU9RmFsc2UsIGRlc2NyaXB0aW9uPXUncicsIG1heD0xMCwgbWluPS01KSwgRmxvYXRTbGlkZXIodmFsdWXigKY=\n"
      ]
     },
     "metadata": {},
     "output_type": "display_data"
    },
    {
     "data": {
      "application/vnd.jupyter.widget-view+json": {
       "model_id": "cb61fa8980014556bab6aa8f9991af55",
       "version_major": 2,
       "version_minor": 0
      },
      "text/plain": [
       "Qm94KGNoaWxkcmVuPShJbnRTbGlkZXIodmFsdWU9MCwgY29udGludW91c191cGRhdGU9RmFsc2UsIGRlc2NyaXB0aW9uPXUnYicsIG1heD0xMCwgbWluPS01KSwgRmxvYXRTbGlkZXIodmFsdWXigKY=\n"
      ]
     },
     "metadata": {},
     "output_type": "display_data"
    },
    {
     "data": {
      "application/vnd.jupyter.widget-view+json": {
       "model_id": "e5b69168227a4edabda557c53d3edbb5",
       "version_major": 2,
       "version_minor": 0
      },
      "text/plain": [
       "VkJveChjaGlsZHJlbj0oQnV0dG9uKGRlc2NyaXB0aW9uPXUneScsIGxheW91dD1MYXlvdXQod2lkdGg9dScxMDBweCcpLCBzdHlsZT1CdXR0b25TdHlsZShidXR0b25fY29sb3I9JyMyMkFGNELigKY=\n"
      ]
     },
     "metadata": {},
     "output_type": "display_data"
    }
   ],
   "source": [
    "X0 = [0.3, 0.2, 0.1]\n",
    "tmin, tmax, dt = 0, 30, 0.01\n",
    "T = arange(tmin,tmax,dt)\n",
    "m = slider(model=lorenz(X0=X0, T=T))\n",
    "\n",
    "m.paramSlider1()\n",
    "m.toggleButton()"
   ]
  },
  {
   "cell_type": "code",
   "execution_count": 58,
   "metadata": {},
   "outputs": [
    {
     "data": {
      "application/vnd.jupyter.widget-view+json": {
       "model_id": "20d634d8a42a4abd95481229aa4aa7c1",
       "version_major": 2,
       "version_minor": 0
      },
      "text/plain": [
       "RmlndXJlKGF4ZXM9W0F4aXMoY29sb3I9J2JsYWNrJywgZ3JpZF9jb2xvcj0nI2RkZCcsIGxhYmVsPXUnVGltZScsIHNjYWxlPUxpbmVhclNjYWxlKCksIHRpY2tfZm9ybWF0PXUnMC4wZicpLCDigKY=\n"
      ]
     },
     "metadata": {},
     "output_type": "display_data"
    },
    {
     "name": "stdout",
     "output_type": "stream",
     "text": [
      "1.0\n",
      "0.3\n",
      "120.0\n",
      "36.0\n",
      "-77.0\n"
     ]
    },
    {
     "ename": "TypeError",
     "evalue": "ufunc 'floor' not supported for the input types, and the inputs could not be safely coerced to any supported types according to the casting rule ''safe''",
     "output_type": "error",
     "traceback": [
      "\u001b[0;31m---------------------------------------------------------------------------\u001b[0m",
      "\u001b[0;31mTypeError\u001b[0m                                 Traceback (most recent call last)",
      "\u001b[0;32m<ipython-input-58-3d8dc3d329d3>\u001b[0m in \u001b[0;36m<module>\u001b[0;34m()\u001b[0m\n\u001b[1;32m      1\u001b[0m \u001b[0mm\u001b[0m \u001b[0;34m=\u001b[0m \u001b[0mslider\u001b[0m\u001b[0;34m(\u001b[0m\u001b[0mmodel\u001b[0m\u001b[0;34m=\u001b[0m\u001b[0mHH\u001b[0m\u001b[0;34m(\u001b[0m\u001b[0;34m)\u001b[0m\u001b[0;34m)\u001b[0m\u001b[0;34m\u001b[0m\u001b[0m\n\u001b[1;32m      2\u001b[0m \u001b[0;34m\u001b[0m\u001b[0m\n\u001b[0;32m----> 3\u001b[0;31m \u001b[0mm\u001b[0m\u001b[0;34m.\u001b[0m\u001b[0mparamSlider1\u001b[0m\u001b[0;34m(\u001b[0m\u001b[0;34m)\u001b[0m\u001b[0;34m\u001b[0m\u001b[0m\n\u001b[0m\u001b[1;32m      4\u001b[0m \u001b[0mm\u001b[0m\u001b[0;34m.\u001b[0m\u001b[0mtoggleButton\u001b[0m\u001b[0;34m(\u001b[0m\u001b[0;34m)\u001b[0m\u001b[0;34m\u001b[0m\u001b[0m\n",
      "\u001b[0;32m<ipython-input-57-644d2ecc36db>\u001b[0m in \u001b[0;36mparamSlider1\u001b[0;34m(self)\u001b[0m\n\u001b[1;32m     68\u001b[0m                 \u001b[0mmin\u001b[0m \u001b[0;34m=\u001b[0m \u001b[0;34m-\u001b[0m\u001b[0;36m5\u001b[0m\u001b[0;34m,\u001b[0m \u001b[0mmax\u001b[0m \u001b[0;34m=\u001b[0m \u001b[0;36m10\u001b[0m\u001b[0;34m,\u001b[0m\u001b[0;34m\u001b[0m\u001b[0m\n\u001b[1;32m     69\u001b[0m                 \u001b[0mdescription\u001b[0m\u001b[0;34m=\u001b[0m\u001b[0mk\u001b[0m\u001b[0;34m,\u001b[0m\u001b[0;34m\u001b[0m\u001b[0m\n\u001b[0;32m---> 70\u001b[0;31m                 \u001b[0mvalue\u001b[0m \u001b[0;34m=\u001b[0m \u001b[0mfloor\u001b[0m\u001b[0;34m(\u001b[0m\u001b[0mlog10\u001b[0m\u001b[0;34m(\u001b[0m\u001b[0mv\u001b[0m\u001b[0;34m)\u001b[0m\u001b[0;34m)\u001b[0m\u001b[0;34m,\u001b[0m\u001b[0;34m\u001b[0m\u001b[0m\n\u001b[0m\u001b[1;32m     71\u001b[0m                 \u001b[0mcontinuous_update\u001b[0m \u001b[0;34m=\u001b[0m \u001b[0mFalse\u001b[0m\u001b[0;34m\u001b[0m\u001b[0m\n\u001b[1;32m     72\u001b[0m             )\n",
      "\u001b[0;31mTypeError\u001b[0m: ufunc 'floor' not supported for the input types, and the inputs could not be safely coerced to any supported types according to the casting rule ''safe''"
     ]
    }
   ],
   "source": [
    "m = slider(model=HH())\n",
    "\n",
    "m.paramSlider1()\n",
    "m.toggleButton()"
   ]
  },
  {
   "cell_type": "code",
   "execution_count": null,
   "metadata": {},
   "outputs": [],
   "source": []
  }
 ],
 "metadata": {
  "kernelspec": {
   "display_name": "Python 2",
   "language": "python",
   "name": "python2"
  },
  "language_info": {
   "codemirror_mode": {
    "name": "ipython",
    "version": 2
   },
   "file_extension": ".py",
   "mimetype": "text/x-python",
   "name": "python",
   "nbconvert_exporter": "python",
   "pygments_lexer": "ipython2",
   "version": "2.7.15rc1"
  }
 },
 "nbformat": 4,
 "nbformat_minor": 2
}
