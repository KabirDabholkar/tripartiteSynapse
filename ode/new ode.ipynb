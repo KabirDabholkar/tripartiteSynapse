{
 "cells": [
  {
   "cell_type": "code",
   "execution_count": 1,
   "metadata": {},
   "outputs": [],
   "source": [
    "%run ../tools/get_SERCA_equilibrium.ipynb"
   ]
  },
  {
   "cell_type": "code",
   "execution_count": 2,
   "metadata": {},
   "outputs": [],
   "source": [
    "import numpy as np\n",
    "from scipy.integrate import *\n",
    "import matplotlib.pyplot as plt\n",
    "from math import *\n",
    "from scipy.optimize import *"
   ]
  },
  {
   "cell_type": "code",
   "execution_count": 3,
   "metadata": {},
   "outputs": [],
   "source": [
    "cai = 100.0e-9\n",
    "cae = 250e-6\n",
    "\n",
    "N_avo=6.0221409e23\n",
    "\n",
    "# Volume Normalisations\n",
    "vol_er = (3.9*0.1*0.1)\n",
    "vol_cyt = (4.0*0.5*0.5-vol_er)\n",
    "vol_tot = vol_cyt + vol_er\n",
    "ntot = 1\n",
    "ctot = ntot/vol_tot\n",
    "fvol_cyt = vol_cyt/vol_tot\n",
    "fvol_er = vol_er/vol_tot"
   ]
  },
  {
   "cell_type": "code",
   "execution_count": 4,
   "metadata": {},
   "outputs": [],
   "source": [
    "# Reaction Rates\n",
    "k_orig={\n",
    "    'kx1_x1a' : 2*1.0e8,\n",
    "    'kx1a_x2' : 1.0e8,\n",
    "    'kx1a_x1' : 83.666,\n",
    "    'kx2_x1a' : 2*83.666,\n",
    "    'kx2_y2'  : 0.6,\n",
    "    'ky2_x2'  : 4.118, #corrected\n",
    "    'ky2_y1a' : 2*30.015,\n",
    "    'ky1a_y1' : 30.015,\n",
    "    'ky1a_y2' : 1.0e5,\n",
    "    'ky1_y1a' : 2*1.0e5,\n",
    "    'ky1_x1'  : 0.4,\n",
    "    'kx1_y1'  : 1.20e-3,\n",
    "    'kleak'     : 0,\n",
    "\n",
    "    'cbHon'   : 0.55e7,\n",
    "    'cbHoff'  : 2.6,\n",
    "    'cbMon'   : 4.35e7,\n",
    "    'cbMoff'  : 35.8,\n",
    "     \n",
    "    'kPMCA01' : 1.5e8,\n",
    "    'kPMCA10' : 20,\n",
    "    'kPMCA12' : 100,\n",
    "    'kPMCA20' : 1e5,\n",
    "    'kPMCA0leak': 12.5\n",
    "\n",
    "}"
   ]
  },
  {
   "cell_type": "code",
   "execution_count": 5,
   "metadata": {},
   "outputs": [],
   "source": [
    "# ODE model\n",
    "class new_model:\n",
    "    # Volume Normalisations\n",
    "    vol_er = (3.9*0.1*0.1)\n",
    "    vol_cyt = (4.0*0.5*0.5-vol_er)\n",
    "    vol_tot = vol_cyt + vol_er\n",
    "    ntot = 1\n",
    "    ctot = ntot/vol_tot\n",
    "    fvol_cyt = vol_cyt/vol_tot\n",
    "    fvol_er = vol_er/vol_tot\n",
    "    N=0.00026033316269814734\n",
    "    er_clamp=0\n",
    "    flux=[]\n",
    "    def __init__(self,parameters):\n",
    "        self.__dict__.update(parameters)\n",
    "    def ode(self,v,t):\n",
    "        Ca, PMCA0, PMCA1, PMCA2,\\\n",
    "        cbH0M0, cbH0M1, cbH0M2, cbH1M0, cbH1M1, cbH1M2, cbH2M0, cbH2M1, cbH2M2,\\\n",
    "        fx1, fx1a, fx2, fy2, fy1a, fy1, cae = v \n",
    "\n",
    "        dx1 = fx1*(-self.kx1_x1a*cai-self.kx1_y1)+fx1a*self.kx1a_x1+fy1*self.ky1_x1\n",
    "        dx1a = fx1a*(-self.kx1a_x2*cai-self.kx1a_x1)+fx1*cai*self.kx1_x1a+fx2*self.kx2_x1a\n",
    "        dx2 = fx2*(-self.kx2_y2-self.kx2_x1a)+fx1a*cai*self.kx1a_x2+fy2*self.ky2_x2\n",
    "\n",
    "        dy1 = fy1*(-self.ky1_y1a*cae-self.ky1_x1)+fy1a*self.ky1a_y1+fx1*self.kx1_y1\n",
    "        dy1a = fy1a*(-self.ky1a_y2*cae-self.ky1a_y1)+fy1*cae*self.ky1_y1a+fy2*self.ky2_y1a\n",
    "        dy2 = fy2*(-self.ky2_x2-self.ky2_y1a)+fy1a*cae*self.ky1a_y2+fx2*self.kx2_y2\n",
    "\n",
    "        dcae = self.N*(-cae*(fy1a*self.ky1a_y2 + fy1*self.ky1_y1a) + (fy1a*self.ky1a_y1 + fy2*self.ky2_y1a))\n",
    "        dCa = (Ca*(-fx1*self.kx1_x1a-fx1a*self.kx1a_x2)+fx2*self.kx2_x1a+fx1a*self.kx1a_x1)\n",
    "\n",
    "        #er leaks\n",
    "        dcae += self.kleak*(Ca - cae)\n",
    "        dCa += -self.vol_er/self.vol_cyt*self.kleak*(Ca - cae)\n",
    "\n",
    "        if self.er_clamp!=0:\n",
    "            self.flux.append(dcae)\n",
    "            dcae=0\n",
    "            \n",
    "        ### PMCA\n",
    "        dCa   +=  (self.kPMCA0leak - self.kPMCA01*Ca)*PMCA0 + self.kPMCA10*PMCA1\n",
    "        dPMCA0 = + self.kPMCA20*PMCA2 + self.kPMCA10*PMCA1 - self.kPMCA01*Ca*PMCA0\n",
    "        dPMCA1 = - (self.kPMCA12 + self.kPMCA10)*PMCA1 + self.kPMCA01*Ca*PMCA0\n",
    "        dPMCA2 = - self.kPMCA20*PMCA2 + self.kPMCA12*PMCA1\n",
    "\n",
    "        ### Calcium Buffers\n",
    "        dCa   +=     self.cbMoff*(cbH2M1 + cbH1M1 + cbH0M1 + 2*(cbH2M2 + cbH1M2 + cbH0M2)) \\\n",
    "                + self.cbHoff*(cbH2M1 + cbH1M1 + cbH0M1 + 2*(cbH2M2 + cbH2M1 + cbH2M0)) \\\n",
    "             - (+ self.cbMon*(cbH2M1 + cbH1M1 + cbH0M1  + 2*(cbH2M0 + cbH1M0 + cbH0M0)) \\\n",
    "                + self.cbHon*(cbH2M1 + cbH1M1 + cbH0M1  + 2*(cbH0M2 + cbH0M1 + cbH0M0)) )*Ca\n",
    "\n",
    "        dcbH0M0 = - 2*(self.cbMon+self.cbHon)*cbH0M0*Ca + self.cbMoff*cbH0M1 + self.cbHoff*cbH1M0\n",
    "\n",
    "        dcbH0M1 = + (2*self.cbMon*cbH0M0 - (self.cbMon + 2*self.cbHon)*cbH0M1)*Ca \\\n",
    "                  + self.cbMoff*(2*cbH0M2 - cbH0M1) + self.cbHoff*cbH1M1\n",
    "\n",
    "        dcbH0M2 = + self.cbMon*cbH0M1*Ca - 2*(self.cbMoff + self.cbHon*Ca)*cbH0M2 + self.cbHoff*cbH1M2\n",
    "\n",
    "        dcbH1M0 = + (2*self.cbHon*cbH0M0 - (self.cbHon + 2*self.cbMon)*cbH1M0)*Ca\\\n",
    "                  + self.cbMoff*cbH1M1   + self.cbHoff*(2*cbH2M0 - cbH1M0)\n",
    "\n",
    "        dcbH1M1 = - ((self.cbMon + self.cbHon)*Ca + (self.cbHoff + self.cbMoff))*cbH1M1\\\n",
    "                  + 2*((self.cbMoff*cbH1M2 + self.cbHoff*cbH2M1) + (self.cbMon*cbH1M0 + self.cbHon*cbH0M1)*Ca)\n",
    "\n",
    "        dcbH1M2 = + (self.cbMon*cbH1M1 + 2*self.cbHon*cbH0M2 - self.cbHon*cbH1M2)*Ca\\\n",
    "                  - (2*self.cbMoff + self.cbHoff)*cbH1M2 + 2*self.cbHoff*cbH2M2\n",
    "\n",
    "        dcbH2M0 = + self.cbMoff*cbH2M1 + self.cbHon*cbH1M0*Ca - 2*(self.cbHoff + self.cbMon*Ca)*cbH2M0\n",
    "\n",
    "        dcbH2M1 = + (self.cbHon*cbH1M1 - self.cbMon*cbH2M1 + 2*self.cbMon*cbH2M0)*Ca\\\n",
    "                  + 2*(self.cbMoff*cbH2M2 - self.cbHoff*cbH2M1) - self.cbMoff*cbH2M1\n",
    "\n",
    "        dcbH2M2 = + (self.cbMon*cbH2M1 + self.cbHon*cbH1M2)*Ca - 2*(self.cbHoff + self.cbMoff)*cbH2M2\n",
    "\n",
    "        dX = [dCa, dPMCA0, dPMCA1, dPMCA2,\\\n",
    "              dcbH0M0, dcbH0M1, dcbH0M2, dcbH1M0, dcbH1M1, dcbH1M2, dcbH2M0, dcbH2M1, dcbH2M2,\\\n",
    "              dx1, dx1a, dx2, dy2, dy1a, dy1, dcae]\n",
    "\n",
    "        return dX"
   ]
  },
  {
   "cell_type": "markdown",
   "metadata": {},
   "source": [
    "# This is to see refilling:"
   ]
  },
  {
   "cell_type": "code",
   "execution_count": 155,
   "metadata": {},
   "outputs": [
    {
     "name": "stderr",
     "output_type": "stream",
     "text": [
      "/usr/lib/python3/dist-packages/ipykernel_launcher.py:19: DeprecationWarning: object of type <class 'float'> cannot be safely interpreted as an integer.\n",
      "/usr/lib/python3/dist-packages/ipykernel_launcher.py:32: DeprecationWarning: object of type <class 'float'> cannot be safely interpreted as an integer.\n"
     ]
    },
    {
     "name": "stdout",
     "output_type": "stream",
     "text": [
      "[0.19379038 0.37901173 0.18531342 0.01327303 0.08670581 0.14190562] \n",
      "Ca ER = 749.9999999365107 uM\n"
     ]
    },
    {
     "data": {
      "image/png": "[encoded data removed]",
      "text/plain": [
       "<matplotlib.figure.Figure at 0x7fab78052a20>"
      ]
     },
     "metadata": {},
     "output_type": "display_data"
    }
   ],
   "source": [
    "#constructing v0 initial vector\n",
    "Ca=100e-9\n",
    "cae=0#250.24e-6\n",
    "pmca = np.array([2.39e-6, 5.82e-7, 4.54e-10])\n",
    "npmca = 180\n",
    "p = 180*pmca/sum(pmca)/N_avo/vol_cyt*1e15*1e6# uM\n",
    "calbindin = [1.48e-05, 7.00e-06, 8.27e-07, 1.21e-05, 5.74e-06, 6.79e-07,\\\n",
    "2.49e-06, 1.18e-06, 1.39e-07] # Total conc. = 45e-6 uM\n",
    "v0 = [Ca]+list(p)+calbindin+get_SERCA_equilibrium(cae*1e6)+[cae]\n",
    "\n",
    "#v0[-7:-1] =[ 0.6420802891222142, 0.30574391044577887, 0.035928792193863426, 0.005142394529773396, 0.008226136319601385, 0.002878477474144645] \n",
    "\n",
    "#Changing parameters\n",
    "k=k_orig.copy()\n",
    "#sf=5#1.2#2.56276565#3**(0.5)#15.077571633298069 \n",
    "#sm=3.53087274 #for 500\n",
    "#sm=1/np.polyval(fit1,sf)#0.06666667#4.475955225950996 #1.0910670852450743#2#1.57496328 #for 750\n",
    "\n",
    "\n",
    "sf,sm=sols[5]#[8.19512923, 0.10158836]\n",
    "k['kleak']=kleakrange[5]*0.2#*0.39623658#\n",
    "\n",
    "for key in ['kx1_x1a','kx1a_x2','ky2_y1a','ky1a_y1']:\n",
    "    k[key]=sf*k[key]\n",
    "for key in ['kx2_y2','ky2_x2','kx1_y1','ky1_x1']:\n",
    "    k[key]=sm*k[key]\n",
    "\n",
    "#0.05#*0.2#*0.2#*0.087 #0.21405838101231592#0.09519188799639043\n",
    "#print(k)\n",
    "\n",
    "tstep = 1e-3\n",
    "tf = 10000\n",
    "t = np.linspace(0, tf, tf/tstep+1)\n",
    "M=new_model(k)\n",
    "# Solve ODE\n",
    "sol = odeint(M.ode,v0,t)\n",
    "\n",
    "plt.figure(figsize=(20,12))\n",
    "plt.plot(t,sol[:,-1]*1e6)\n",
    "plt.grid()\n",
    "\n",
    "print(sol[-1,-7:-1],\"\\nCa ER =\",sol[-1,-1]*1e6,\"uM\")"
   ]
  },
  {
   "cell_type": "code",
   "execution_count": 157,
   "metadata": {},
   "outputs": [
    {
     "name": "stdout",
     "output_type": "stream",
     "text": [
      "serca_x1_feq = 0.19379038120694989\n",
      "serca_x1a_feq = 0.3790117340395536\n",
      "serca_x2_feq = 0.18531341504308455\n",
      "serca_y2_feq = 0.013273032416232263\n",
      "serca_y1a_feq = 0.08670581220565597\n",
      "serca_y1_feq = 0.14190562498324744\n"
     ]
    }
   ],
   "source": [
    "mols=['x1','x1a','x2','y2','y1a','y1']\n",
    "for (m,a) in zip(mols,sol[-1,-7:-1]):\n",
    "    print(\"serca_\"+m+\"_feq = \"+str(a))"
   ]
  },
  {
   "cell_type": "code",
   "execution_count": 141,
   "metadata": {},
   "outputs": [],
   "source": [
    "#first constraint\n",
    "\n",
    "def opt_1(sf,sm,kleak):\n",
    "    #constructing v0 initial vector\n",
    "    Ca=100e-9\n",
    "    cae=0#250.24e-6\n",
    "    pmca = np.array([2.39e-6, 5.82e-7, 4.54e-10])\n",
    "    npmca = 180\n",
    "    p = 180*pmca/sum(pmca)/N_avo/vol_cyt*1e15*1e6# uM\n",
    "    calbindin = [1.48e-05, 7.00e-06, 8.27e-07, 1.21e-05, 5.74e-06, 6.79e-07,\\\n",
    "    2.49e-06, 1.18e-06, 1.39e-07] # Total conc. = 45e-6 uM\n",
    "    v0 = [Ca]+list(p)+calbindin+get_SERCA_equilibrium(cae*1e6)+[cae]\n",
    "\n",
    "    #v0[-7:-1] =[ 0.6420802891222142, 0.30574391044577887, 0.035928792193863426, 0.005142394529773396, 0.008226136319601385, 0.002878477474144645] \n",
    "\n",
    "    #Changing parameters\n",
    "    k=k_orig.copy()\n",
    "    #sf=3\n",
    "    #sm=3.53087274\n",
    "    for key in ['kx1_x1a','kx1a_x2','ky2_y1a','ky1a_y1']:\n",
    "        k[key]=sf*k[key]\n",
    "    for key in ['kx2_y2','ky2_x2','kx1_y1','ky1_x1']:\n",
    "        k[key]=sm*k[key]\n",
    "\n",
    "    k['kleak']=kleak#0.014#0.014 #0.21405838101231592#0.09519188799639043\n",
    "    #print(k)\n",
    "\n",
    "    tstep = 1e-2\n",
    "    tf = 10000\n",
    "    t = np.linspace(0, tf, tf/tstep+1)\n",
    "    M=new_model(k)\n",
    "    # Solve ODE\n",
    "    sol = odeint(M.ode,v0,t)\n",
    "    #print(sol[-1,-1])\n",
    "    return sol[-1,-1]-250e-6"
   ]
  },
  {
   "cell_type": "code",
   "execution_count": 101,
   "metadata": {},
   "outputs": [],
   "source": [
    "#second constraint\n",
    "def opt_2(sf,sm,kleak):\n",
    "    #constructing v0 initial vector\n",
    "    Ca=100e-9\n",
    "    cae=0#250.24e-6\n",
    "    pmca = np.array([2.39e-6, 5.82e-7, 4.54e-10])\n",
    "    npmca = 180\n",
    "    p = 180*pmca/sum(pmca)/N_avo/vol_cyt*1e15*1e6# uM\n",
    "    calbindin = [1.48e-05, 7.00e-06, 8.27e-07, 1.21e-05, 5.74e-06, 6.79e-07,\\\n",
    "    2.49e-06, 1.18e-06, 1.39e-07] # Total conc. = 45e-6 uM\n",
    "    v0 = [Ca]+list(p)+calbindin+get_SERCA_equilibrium(cae*1e6)+[cae]\n",
    "\n",
    "    #v0[-7:-1] =[ 0.6420802891222142, 0.30574391044577887, 0.035928792193863426, 0.005142394529773396, 0.008226136319601385, 0.002878477474144645] \n",
    "\n",
    "    #Changing parameters\n",
    "    k=k_orig.copy()\n",
    "    #sf=3\n",
    "    #sm=3.53087274\n",
    "\n",
    "    #sm=1/np.polyval(fit1,sf)\n",
    "    for key in ['kx1_x1a','kx1a_x2','ky2_y1a','ky1a_y1']:\n",
    "        k[key]=sf*k[key]\n",
    "    for key in ['kx2_y2','ky2_x2','kx1_y1','ky1_x1']:\n",
    "        k[key]=sm*k[key]\n",
    "\n",
    "    k['kleak']=kleak*0.2#0.014*0.2 #0.21405838101231592#0.09519188799639043\n",
    "    #print(k)\n",
    "\n",
    "    tstep = 1e-2\n",
    "    tf = 10000\n",
    "    t = np.linspace(0, tf, tf/tstep+1)\n",
    "    M=new_model(k)\n",
    "    # Solve ODE\n",
    "    sol = odeint(M.ode,v0,t)\n",
    "    #print(sol[-1,-1],\"sf,sm=\",sf,sm)\n",
    "    return sol[-1,-1]-750e-6"
   ]
  },
  {
   "cell_type": "code",
   "execution_count": 102,
   "metadata": {},
   "outputs": [],
   "source": [
    "def func(s,kleak):\n",
    "    sf,sm=s\n",
    "    res=[opt_1(sf,sm,kleak),opt_2(sf,sm,kleak)]\n",
    "    print(sf,sm,res)\n",
    "    return res"
   ]
  },
  {
   "cell_type": "code",
   "execution_count": 122,
   "metadata": {},
   "outputs": [
    {
     "name": "stderr",
     "output_type": "stream",
     "text": [
      "/usr/lib/python3/dist-packages/ipykernel_launcher.py:19: DeprecationWarning: object of type <class 'float'> cannot be safely interpreted as an integer.\n",
      "/usr/lib/python3/dist-packages/ipykernel_launcher.py:29: DeprecationWarning: object of type <class 'float'> cannot be safely interpreted as an integer.\n",
      "/usr/lib/python3/dist-packages/ipykernel_launcher.py:30: DeprecationWarning: object of type <class 'float'> cannot be safely interpreted as an integer.\n"
     ]
    },
    {
     "name": "stdout",
     "output_type": "stream",
     "text": [
      "8.0 0.04 [-0.0001441860413730343, -0.00033570691642083816]\n",
      "8.0 0.04 [-0.0001441860413730343, -0.00033570691642083816]\n",
      "8.0 0.04 [-0.0001441860413730343, -0.00033570691642083816]\n",
      "8.00000011920929 0.04 [-0.0001441860401885674, -0.00033570691084379146]\n",
      "8.0 0.04000000059604645 [-0.00014418603987507663, -0.00033570691160613895]\n"
     ]
    },
    {
     "name": "stderr",
     "output_type": "stream",
     "text": [
      "/home/kabir/.local/lib/python3.6/site-packages/scipy/integrate/odepack.py:247: ODEintWarning: Excess work done on this call (perhaps wrong Dfun type). Run with full_output = 1 to get quantitative information.\n",
      "  warnings.warn(warning_msg, ODEintWarning)\n"
     ]
    },
    {
     "name": "stdout",
     "output_type": "stream",
     "text": [
      "-0.6029446214706056 0.1313851552498744 [-0.00025, -0.00075]\n",
      "14.25773662924955 0.0022168140581946758 [-0.0002412976877498366, -0.0007071705447582954]\n",
      "8.00000011920929 0.04 [-0.0001441860401885674, -0.00033570691084379146]\n",
      "8.0 0.04000000059604645 [-0.00014418603987507663, -0.00033570691160613895]\n",
      "-0.6029446214706056 0.1313851552498744 [-0.00025, -0.00075]\n",
      "14.25773662924955 0.0022168140581946758 [-0.0002412976877498366, -0.0007071705447582954]\n",
      "8.806132387072326 0.06547608818674415 [-7.049842307258315e-05, -0.0001304653357532458]\n",
      "0.8632407858562416 0.09121888313168933 [-0.00023804454859484018, -0.0007057217800885215]\n",
      "10.299139271335726 0.0899414678343973 [1.4818754524020187e-05, 9.822805074909667e-05]\n",
      "7.596325341659698 0.11847726561562191 [1.724712819448093e-05, 9.807999926643245e-06]\n",
      "8.277126532317698 0.10432047948683937 [7.56870261812108e-06, 1.7414560816677704e-05]\n",
      "8.181354935372314 0.10158506283235244 [-3.291091843873103e-07, -1.1186127651535444e-06]\n",
      "8.195208812736988 0.10157509430006577 [-2.553425552134737e-08, -4.630366091560537e-08]\n",
      "8.195132774521275 0.10158844455104205 [2.546557042928249e-10, 6.152802595757803e-10]\n",
      "8.195129213924016 0.10158836154194413 [7.736971328366204e-13, -5.418989909578009e-13]\n",
      "8.19512927214043 0.10158836050396858 [-7.865538190383881e-13, 6.444366524790968e-13]\n",
      "8.195129241928807 0.1015883610341973 [-3.732969337290337e-13, 1.3892142644578165e-13]\n",
      "8.195129234142026 0.10158836119130055 [-2.646150984962625e-13, 1.4080110775221977e-13]\n",
      "8.195129210312798 0.1015883616353862 [1.204123606379781e-13, -2.6150936884711262e-12]\n",
      "8.195129234477376 0.10158836131356067 [8.868123249627935e-15, 4.840326273472528e-13]\n",
      "8.195129356258969 0.10158836119130055 [2.58384004296619e-12, 9.513277210264348e-12]\n",
      "8.195129234142026 0.10158836270508509 [2.8539291698111147e-12, 3.4652764598769314e-12]\n",
      "8.195129225991359 0.10158836141203502 [1.0635047530127562e-14, 8.616603524441713e-12]\n",
      "8.19512924488183 0.10158836119873402 [2.6618681217560614e-14, 5.995107838982494e-13]\n",
      "8.195129245181473 0.10158836118256806 [-2.0211100588279907e-14, -2.200831747747878e-12]\n",
      "8.195129242216058 0.10158836122507434 [-8.866984837346825e-15, 9.321436851561504e-13]\n",
      "8.0 0.04 [-0.0001783367294167874, -0.000443736287884797]\n",
      "8.0 0.04 [-0.0001783367294167874, -0.000443736287884797]\n",
      "8.0 0.04 [-0.0001783367294167874, -0.000443736287884797]\n",
      "8.00000011920929 0.04 [-0.00017833672861711794, -0.0004437362827440045]\n",
      "8.0 0.04000000059604645 [-0.00017833672837375657, -0.00044373628213365397]\n",
      "-79.93295357345887 0.47899321694366476 [-0.00025, -0.00075]\n",
      "55.60166069981257 -0.16392556561671104 [-0.00025, -0.00075]\n",
      "8.00000011920929 0.04 [-0.00017833672861711794, -0.0004437362827440045]\n",
      "8.0 0.04000000059604645 [-0.00017833672837375657, -0.00044373628213365397]\n",
      "-79.93295357345887 0.47899321694366476 [-0.00025, -0.00075]\n",
      "55.60166069981257 -0.16392556561671104 [-0.00025, -0.00075]\n",
      "-11.98291311104542 0.15707866922767474 [-0.00025, -0.00075]\n",
      "21.70089761237886 -0.0010621532076821247 [-0.00025, -0.00075]\n",
      "9.374837106789515 0.07624370112487454 [-0.00010156986732393351, -0.00019620830751188208]\n",
      "-2.823407733056838 0.12581124063004456 [-0.00025, -0.00075]\n",
      "14.462971615374503 0.1051963685530883 [6.78694079347356e-06, 0.00018039241193292487]\n",
      "9.738042912171274 0.13534355077086785 [5.794360191987177e-06, 6.239282261244548e-05]\n",
      "7.715129267393658 0.14549715376363107 [-2.069214121899792e-05, -5.664944381220864e-05]\n",
      "8.37792286578786 0.15701886033090767 [1.0597172606061057e-05, 2.6866731119584968e-05]\n",
      "8.19969124302876 0.15261506155296414 [3.3212636925693305e-07, 8.581031830103784e-07]\n",
      "8.19339126342953 0.1524786050332692 [-2.9757978055452647e-09, -8.55376121398476e-09]\n",
      "8.193474941915737 0.15247950700526297 [2.2269994344719518e-10, 5.514572728581441e-10]\n",
      "8.193471856500587 0.1524794165339943 [2.6091393368760096e-11, 6.150131359045075e-11]\n",
      "8.193471560433837 0.1524794031886864 [8.515850242855894e-13, 2.4459380918231965e-12]\n",
      "8.19347153613552 0.15247940291432435 [-1.3716767522167772e-13, -2.6824495315963537e-13]\n",
      "8.0 0.04 [-0.00019586491335797608, -0.0005077231765822222]\n",
      "8.0 0.04 [-0.00019586491335797608, -0.0005077231765822222]\n",
      "8.0 0.04 [-0.00019586491335797608, -0.0005077231765822222]\n",
      "8.00000011920929 0.04 [-0.00019586491275384377, -0.0005077231736187567]\n",
      "8.0 0.04000000059604645 [-0.0001958649125675096, -0.0005077231734802758]\n",
      "-44.46971797050005 0.3881967270477605 [-0.00025, -0.00075]\n",
      "-0.9510441612864433 0.24948052397801496 [-0.00025, -0.00075]\n",
      "8.00000011920929 0.04 [-0.00019586491275384377, -0.0005077231736187567]\n",
      "8.0 0.04000000059604645 [-0.0001958649125675096, -0.0005077231734802758]\n",
      "-44.46971797050005 0.3881967270477605 [-0.00025, -0.00075]\n",
      "-0.9510441612864433 0.24948052397801496 [-0.00025, -0.00075]\n",
      "23.296699922833746 0.11871252328782855 [1.5564172023262417e-05, 0.0003282103561018546]\n",
      "4.719663853760949 0.31356756453247203 [-3.755378185038447e-05, -0.00020615063493423442]\n",
      "10.304273248680817 0.28577965039932646 [0.0001392877833309287, 0.00033895663611875973]\n",
      "11.279435138588827 0.3688602358893348 [0.00025367712196674584, 0.0005818402810650464]\n",
      "4.719663924089421 0.31356756453247203 [-3.7553778527283315e-05, -0.00020615062629029913]\n",
      "4.719663853760949 0.31356756920499285 [-3.755377952695989e-05, -0.0002061506311382326]\n",
      "6.936795776828142 0.2215762181157098 [-1.5548298920103562e-05, -7.527824228449197e-05]\n",
      "8.095633827814936 0.17858173516749443 [-2.8204638943170064e-05, -5.8738030059796035e-05]\n",
      "8.295767851530481 0.19542864960320439 [-5.974252806575188e-06, -7.97988072663981e-06]\n",
      "8.158491028009754 0.20681180727460596 [2.674159769260791e-06, 3.946777161284876e-06]\n",
      "8.193256971861164 0.20350494175032582 [1.0562345415638351e-07, 2.5411685886480347e-07]\n",
      "8.191698797111655 0.20345451134869239 [1.7173800511576832e-08, 2.9039100010903873e-08]\n",
      "8.191831873779444 0.2034311862599554 [-3.737469701943757e-09, -6.500619118628322e-09]\n",
      "8.191812379085624 0.20343524397965493 [-1.3869558659115183e-11, -2.3935543542845383e-11]\n",
      "8.191812301024164 0.203435259235419 [5.1360825314983316e-15, 1.4284656357083092e-13]\n",
      "8.19181229715641 0.20343525933107287 [-3.9601297501662414e-14, -9.894841022928258e-14]\n",
      "8.191812297829703 0.2034352593522846 [4.538638345361057e-14, -1.7171095274826076e-13]\n",
      "8.191812298831673 0.2034352593047538 [-5.282287194458002e-14, -5.47466802794383e-13]\n",
      "8.191812419223925 0.20343525933107287 [2.849358986603545e-12, -3.914240904057814e-11]\n",
      "8.19181229715641 0.20343526236249446 [3.0736720135239592e-12, 1.3236382693029847e-11]\n",
      "8.191812297324203 0.20343525936576626 [3.3853941785316755e-14, -1.609812543684752e-14]\n",
      "8.0 0.04 [-0.00020651133775015398, -0.0005500178002839486]\n",
      "8.0 0.04 [-0.00020651133775015398, -0.0005500178002839486]\n",
      "8.0 0.04 [-0.00020651133775015398, -0.0005500178002839486]\n",
      "8.00000011920929 0.04 [-0.00020651133727360478, -0.000550017798000354]\n",
      "8.0 0.04000000059604645 [-0.00020651133713810543, -0.0005500177972659818]\n",
      "850.8004228207627 -3.0399663700239032 [-0.00025, -0.00075]\n",
      "-401.2204147142321 1.626408720088361 [-0.00025, -0.00075]\n",
      "8.00000011920929 0.04 [-0.00020651133727360478, -0.000550017798000354]\n",
      "8.0 0.04000000059604645 [-0.00020651133713810543, -0.0005500177972659818]\n",
      "850.8004228207627 -3.0399663700239032 [-0.00025, -0.00075]\n",
      "-401.2204147142321 1.626408720088361 [-0.00025, -0.00075]\n",
      "224.62210743905447 -0.706043421406323 [-0.00025, -0.00075]\n",
      "-87.87111147937736 0.4590304137003139 [-0.00025, -0.00075]\n",
      "67.83917665494212 -0.11965859627610681 [-0.00025, -0.00075]\n",
      "-6.81726222850042 0.16675136799891238 [-0.00025, -0.00075]\n",
      "26.07607014044244 0.05077885508367958 [-0.00015333394246384638, -0.00029481903610150344]\n",
      "52.77065277571516 -0.04404828025022909 [-0.00025, -0.00075]\n",
      "24.35495299738598 0.11978209746707494 [-3.073520007447947e-05, 0.0001819081811192413]\n",
      "-10.958452344123927 0.08338571828945604 [-0.00025, -0.00075]\n",
      "6.68141039411039 0.13774423256736792 [-0.00012656120934666394, -0.00031193740362172874]\n",
      "24.35495336030306 0.11978209746707494 [-3.0735199108482844e-05, 0.0001819081796772626]\n",
      "24.35495299738598 0.11978209925196728 [-3.073519694591083e-05, 0.0001819081920817657]\n",
      "28.919609834088128 0.09548794774792171 [-6.550868801536469e-05, 7.489633107077916e-05]\n",
      "46.865560810095964 0.08453274391751578 [-6.966960784138125e-05, 9.473147984575842e-05]\n"
     ]
    },
    {
     "name": "stdout",
     "output_type": "stream",
     "text": [
      "19.78288935343661 0.09401551486329039 [-8.786381249750215e-05, -4.9293939729142216e-05]\n",
      "28.919610265023895 0.09548794774792171 [-6.550868730549934e-05, 7.489633536843644e-05]\n",
      "28.919609834088128 0.09548794917080301 [-6.55086853116816e-05, 7.489634162486313e-05]\n",
      "24.38782462502259 0.0938907247463788 [-7.672289293903653e-05, 1.4426280198640657e-05]\n",
      "16.496307130908324 0.1057230102723256 [-8.078394345958706e-05, -4.7450736001959344e-05]\n",
      "21.504559899686967 0.10296778445465814 [-6.780333850808638e-05, 3.281509356809875e-05]\n",
      "14.077930723395092 0.11662488117424287 [-7.701779165166843e-05, -5.9406351488876436e-05]\n",
      "18.537835931366597 0.11186744919499626 [-6.281033212617203e-05, 2.9399312616243596e-05]\n",
      "12.266770230720446 0.12889398012069198 [-7.289430078777373e-05, -7.106869187225998e-05]\n",
      "16.42108854299718 0.1222321083178653 [-5.599000167188305e-05, 3.161402221068502e-05]\n",
      "11.336978765109857 0.141672705935663 [-6.497368792605289e-05, -6.455314075723688e-05]\n",
      "14.741993846714301 0.1331076275265304 [-4.959534170664588e-05, 3.0792552638698664e-05]\n",
      "10.701939720005154 0.15408757368689627 [-5.683014379991854e-05, -5.562146082957356e-05]\n",
      "13.421185017551597 0.14430125417815723 [-4.3550571800288624e-05, 2.8467801527436772e-05]\n",
      "10.22902067028474 0.16621497093163712 [-4.875527855495779e-05, -4.593827492144285e-05]\n",
      "12.368630860420048 0.15567911646711732 [-3.7860158590191645e-05, 2.5314120752722947e-05]\n",
      "9.832811774425782 0.17814613492084863 [-4.116045954147626e-05, -3.744868994882012e-05]\n",
      "11.521917898722528 0.16716864556610866 [-3.243265630753809e-05, 2.2087852056825873e-05]\n",
      "9.473732089704335 0.18995827446152808 [-3.426484318490316e-05, -3.1072228059692486e-05]\n",
      "10.833575319327947 0.17872706972533786 [-2.7184029027155926e-05, 1.927223215321297e-05]\n",
      "9.135600023165946 0.20170393505987838 [-2.814865671561852e-05, -2.704542355990824e-05]\n",
      "10.267826518216456 0.19032885271544014 [-2.2050330332746312e-05, 1.712712077537638e-05]\n",
      "8.81180755744886 0.213413930699289 [-2.2832565119735757e-05, -2.5321393862852946e-05]\n",
      "9.79836920469367 0.20195866151381872 [-1.6978249566545854e-05, 1.5797263434796016e-05]\n",
      "8.497674462889407 0.22510423501845245 [-1.8351426591444055e-05, -2.5888934036903005e-05]\n",
      "9.406941833784337 0.21360731870402083 [-1.1901979492761862e-05, 1.5438411271103108e-05]\n",
      "8.185506571323073 0.2367810811489132 [-1.4842572112235155e-05, -2.9086292797249444e-05]\n",
      "9.08308328755027 0.22526951812455553 [-6.6995763006637505e-06, 1.638879648644851e-05]\n",
      "8.243627418818086 0.23676252489208896 [-1.3585669861032108e-05, -2.465685072450491e-05]\n",
      "8.847612328762422 0.231084226494868 [-5.948298533015343e-06, 1.0436984828727743e-05]\n",
      "8.446728739866643 0.24273078296187636 [-4.052676222141862e-06, 9.773650526247266e-07]\n",
      "8.29621363281059 0.2558661051271452 [3.644145401199186e-06, 1.0751293752028269e-05]\n",
      "8.08117545926463 0.25239825917075387 [-4.247207308279133e-06, -1.2010492704684901e-05]\n",
      "8.446728865732709 0.24273078296187636 [-4.0526734779161165e-06, 9.773748864832805e-07]\n",
      "8.446728739866643 0.2427307865788469 [-4.052673154725098e-06, 9.773711628741858e-07]\n",
      "8.319841860032325 0.24841990712284986 [-2.037220811102619e-06, 5.824638750578882e-07]\n",
      "8.186307074732552 0.2543074127894068 [-2.1251379704292006e-07, -5.443859893204759e-07]\n",
      "8.189889128462378 0.2544735482819621 [8.203221735897902e-09, 6.538412050823526e-09]\n",
      "8.19013687630025 0.25445754942637666 [8.404802656798716e-10, 1.1019180135409326e-09]\n",
      "8.190151677645742 0.25445609445475614 [-1.0317824611187632e-11, -1.362695980361428e-11]\n",
      "8.190151500895157 0.2544561120244918 [4.07372703278841e-15, 5.072223023538935e-15]\n",
      "8.190151500973506 0.2544561120173231 [-5.803734229314905e-15, -3.023026707432708e-14]\n",
      "8.190151495409522 0.25445611209398405 [-6.275074860770391e-14, -3.487810084149001e-13]\n",
      "8.190151622937924 0.2544561120244918 [2.8464556016058462e-12, 9.773983597298475e-12]\n",
      "8.190151500895157 0.2544561158161833 [3.1242196872095784e-12, 6.380353276963513e-12]\n",
      "8.190151500995334 0.25445611201670604 [-5.4581935759329125e-14, -7.391841045506498e-14]\n",
      "8.190151500910815 0.2544561120239366 [-3.548425659208321e-14, -3.471777986624458e-14]\n",
      "8.0 0.04 [-0.00021365860321777354, -0.0005799737425197499]\n",
      "8.0 0.04 [-0.00021365860321777354, -0.0005799737425197499]\n",
      "8.0 0.04 [-0.00021365860321777354, -0.0005799737425197499]\n",
      "8.00000011920929 0.04 [-0.00021365860281172914, -0.0005799737406030704]\n",
      "8.0 0.04000000059604645 [-0.00021365860268404908, -0.0005799737402451276]\n",
      "-203.65051755233105 1.0836995565246443 [-0.00025, -0.00075]\n",
      "-73.05652995115247 0.6347271307915338 [-0.00025, -0.00075]\n",
      "8.00000011920929 0.04 [-0.00021365860281172914, -0.0005799737406030704]\n",
      "8.0 0.04000000059604645 [-0.00021365860268404908, -0.0005799737402451276]\n",
      "-203.65051755233105 1.0836995565246443 [-0.00025, -0.00075]\n",
      "-73.05652995115247 0.6347271307915338 [-0.00025, -0.00075]\n",
      "-3.311530392993557 0.3791917787165117 [-0.00025, -0.00075]\n",
      "34.95308680871459 0.1686624286408055 [3.066495452456021e-05, 0.0004641831445043648]\n",
      "9.065510625172244 0.30111542314422735 [1.634486858657501e-05, 6.21599815695355e-05]\n",
      "7.67769622999233 0.2911212455078593 [-2.1760390104030332e-05, -5.985081022598132e-05]\n",
      "7.758925063522643 0.2994033760819473 [-1.4347926673230585e-05, -4.27131864413064e-05]\n",
      "8.417777712703606 0.3099165009863861 [8.37272323671659e-06, 2.420027341457434e-05]\n",
      "8.203597140586918 0.30586347294841554 [5.746458729183378e-07, 1.6381924177776615e-06]\n",
      "8.189313069633462 0.3055546704115736 [2.7913664825862834e-08, 8.2746919569587e-08]\n",
      "8.188382754085497 0.30554034141212993 [-3.730859164576689e-09, -1.0927917360945005e-08]\n",
      "8.188485144817943 0.305542076165865 [-1.399616305556954e-10, -4.1012085145054195e-10]\n",
      "8.188489146284208 0.30554214371220056 [1.863986395789219e-13, 6.356760820849794e-13]\n",
      "8.188489135415102 0.3055421436582885 [-1.162666967910453e-13, -3.422380651443846e-13]\n",
      "8.188489137386174 0.3055421436903255 [-4.8305435172701916e-14, -1.0242707289970232e-13]\n",
      "8.0 0.04 [-0.000218786618736253, -0.0006022530196560362]\n",
      "8.0 0.04 [-0.000218786618736253, -0.0006022530196560362]\n",
      "8.0 0.04 [-0.000218786618736253, -0.0006022530196560362]\n",
      "8.00000011920929 0.04 [-0.00021878661838792268, -0.0006022530179866948]\n",
      "8.0 0.04000000059604645 [-0.0002187866182779467, -0.0006022530176752127]\n",
      "-241.8231714654135 1.2739169170514884 [-0.00025, -0.00075]\n",
      "-87.99922393466072 0.7421174908277608 [-0.00025, -0.00075]\n",
      "8.00000011920929 0.04 [-0.00021878661838792268, -0.0006022530179866948]\n",
      "8.0 0.04000000059604645 [-0.0002187866182779467, -0.0006022530176752127]\n",
      "-241.8231714654135 1.2739169170514884 [-0.00025, -0.00075]\n",
      "-87.99922393466072 0.7421174908277608 [-0.00025, -0.00075]\n",
      "-5.88802935852306 0.44046298718929416 [-0.00025, -0.00075]\n",
      "39.499275673601055 0.19326601760401252 [3.2819568726676605e-05, 0.0004938118204569138]\n",
      "7.683907050707987 0.3453794337171835 [-1.846179640645497e-05, -5.3204195257438745e-05]\n",
      "8.056448999342438 0.36969640405175436 [4.39385808506898e-06, 3.73834556997789e-06]\n",
      "8.475159608744343 0.3622234726529029 [9.996332191230162e-06, 2.9411615178716473e-05]\n",
      "9.34693157916307 0.39345491760792506 [4.919720229425823e-05, 0.0001357044316712036]\n",
      "8.056449119392884 0.36969640405175436 [4.393861060448905e-06, 3.7383554312826967e-06]\n",
      "8.056448999342438 0.3696964095606601 [4.393861311228825e-06, 3.7383514603843253e-06]\n",
      "8.164976771798223 0.3578226171874709 [1.4701409600776467e-07, -4.879243405762727e-07]\n",
      "8.18682589495713 0.35664387499632955 [-2.9123485685621318e-08, -5.6032347954190764e-08]\n",
      "8.18685239122538 0.35669097149225576 [-8.673588509748587e-10, -7.118672788828523e-10]\n",
      "8.186824367258511 0.35669362486955813 [3.1505442731668415e-11, 3.106431366479978e-11]\n",
      "8.186825204703217 0.35669353780162905 [5.1900974837315594e-14, -3.4789014117381223e-12]\n",
      "8.18682531366041 0.3566935332450041 [-3.3895791989174695e-14, 3.689383542594682e-12]\n",
      "8.186825257731428 0.3566935355671245 [-6.842183070121521e-15, 1.7836795408732176e-12]\n",
      "8.186825239757015 0.35669353630290723 [-3.176797475253068e-13, 1.1760823434917023e-12]\n",
      "8.186825309738914 0.3566935303708693 [-1.8165667537914376e-12, 1.1927850200599277e-13]\n",
      "8.186825173847007 0.356693539978647 [6.090096417617208e-13, 9.479288014258014e-15]\n",
      "8.18682519787333 0.3566935382568042 [1.3359999955289692e-13, -1.2958167525112252e-14]\n",
      "8.0 0.04 [-0.00022264450950816198, -0.0006194432057874305]\n"
     ]
    },
    {
     "name": "stdout",
     "output_type": "stream",
     "text": [
      "8.0 0.04 [-0.00022264450950816198, -0.0006194432057874305]\n",
      "8.0 0.04 [-0.00022264450950816198, -0.0006194432057874305]\n",
      "8.00000011920929 0.04 [-0.00022264450920316515, -0.000619443204325736]\n",
      "8.0 0.04000000059604645 [-0.00022264450910545197, -0.0006194432039803518]\n",
      "-478.1780181240079 2.2105947762062925 [-0.00025, -0.00075]\n",
      "-203.40991754377245 1.2282777071203408 [-0.00025, -0.00075]\n",
      "8.00000011920929 0.04 [-0.00022264450920316515, -0.000619443204325736]\n",
      "8.0 0.04000000059604645 [-0.00022264450910545197, -0.0006194432039803518]\n",
      "-478.1780181240079 2.2105947762062925 [-0.00025, -0.00075]\n",
      "-203.40991754377245 1.2282777071203408 [-0.00025, -0.00075]\n",
      "-61.879025820334235 0.714753784677421 [-0.00025, -0.00075]\n",
      "15.01346786923089 0.4045198389879778 [0.00011333262688826689, 0.00044652632414020343]\n",
      "-3.9580848998661224 0.3511603650762769 [-0.00025, -0.00075]\n",
      "-5.052266893558045 0.4616324419538006 [-0.00025, -0.00075]\n",
      "15.013468092948996 0.4045198389879778 [0.00011333262959411816, 0.00044652633627372245]\n",
      "15.01346786923089 0.4045198450157931 [0.00011333263162064642, 0.00044652633459772283]\n",
      "7.885304774003933 0.3699784556795428 [-2.6349204944397066e-05, -6.170998950454391e-05]\n",
      "8.002672286889561 0.399271914714935 [-8.695061254055563e-06, -2.316783297317941e-05]\n",
      "8.193947352318705 0.4099658734867409 [1.2604304621288307e-06, 2.7344319187669244e-06]\n",
      "8.187328112318239 0.4081841882267081 [1.9133156556262916e-07, 4.446685672512005e-07]\n",
      "8.185050317812026 0.40789688771910043 [-9.539900986147917e-09, -2.2217080538787168e-08]\n",
      "8.18515987235002 0.4079104946793161 [1.2645344081747834e-11, 3.030026273290187e-11]\n",
      "8.185159700417838 0.40791047740247055 [-2.2319673236362303e-13, -5.124386158461558e-13]\n",
      "8.185159702701613 0.4079104777208569 [-1.438009867432699e-14, -1.4797332196364588e-13]\n"
     ]
    }
   ],
   "source": [
    "kleakrange=np.linspace(0.02,0.08,7)\n",
    "sols=[]\n",
    "for kleak in kleakrange:\n",
    "    sols.append(fsolve(func,[8,0.04],args=(kleak,)))\n",
    "    print('yay for', kleak)"
   ]
  },
  {
   "cell_type": "code",
   "execution_count": 123,
   "metadata": {},
   "outputs": [
    {
     "data": {
      "text/plain": [
       "Text(0,0.5,'sm')"
      ]
     },
     "execution_count": 123,
     "metadata": {},
     "output_type": "execute_result"
    },
    {
     "data": {
      "image/png": "[encoded data removed]",
      "text/plain": [
       "<matplotlib.figure.Figure at 0x7fab782a1358>"
      ]
     },
     "metadata": {},
     "output_type": "display_data"
    },
    {
     "data": {
      "image/png": "[encoded data removed]",
      "text/plain": [
       "<matplotlib.figure.Figure at 0x7fab781e79b0>"
      ]
     },
     "metadata": {},
     "output_type": "display_data"
    }
   ],
   "source": [
    "sol1=np.array(sols)\n",
    "#print(sol1.T[0])\n",
    "plt.figure(figsize=(10,6))\n",
    "plt.plot(kleakrange,sol1.T[0],'o')\n",
    "plt.ylabel(\"sf\")\n",
    "plt.figure(figsize=(10,6))\n",
    "plt.plot(kleakrange,sol1.T[1],'o')\n",
    "plt.ylabel(\"sm\")\n",
    "#plt.plot(kleakrange,sol1.T[0])"
   ]
  },
  {
   "cell_type": "code",
   "execution_count": 136,
   "metadata": {},
   "outputs": [
    {
     "data": {
      "text/plain": [
       "(0.07, array([8.1868252 , 0.35669354]))"
      ]
     },
     "execution_count": 136,
     "metadata": {},
     "output_type": "execute_result"
    }
   ],
   "source": [
    "kleakrange[5], sols[5]"
   ]
  },
  {
   "cell_type": "code",
   "execution_count": 144,
   "metadata": {},
   "outputs": [],
   "source": [
    "#second constraint\n",
    "def opt_leak_alpha(alpha,sf,sm,kleak):\n",
    "    #constructing v0 initial vector\n",
    "    Ca=100e-9\n",
    "    cae=0#250.24e-6\n",
    "    pmca = np.array([2.39e-6, 5.82e-7, 4.54e-10])\n",
    "    npmca = 180\n",
    "    p = 180*pmca/sum(pmca)/N_avo/vol_cyt*1e15*1e6# uM\n",
    "    calbindin = [1.48e-05, 7.00e-06, 8.27e-07, 1.21e-05, 5.74e-06, 6.79e-07,\\\n",
    "    2.49e-06, 1.18e-06, 1.39e-07] # Total conc. = 45e-6 uM\n",
    "    v0 = [Ca]+list(p)+calbindin+get_SERCA_equilibrium(cae*1e6)+[cae]\n",
    "\n",
    "    #v0[-7:-1] =[ 0.6420802891222142, 0.30574391044577887, 0.035928792193863426, 0.005142394529773396, 0.008226136319601385, 0.002878477474144645] \n",
    "\n",
    "    #Changing parameters\n",
    "    k=k_orig.copy()\n",
    "    #sf=3\n",
    "    #sm=3.53087274\n",
    "\n",
    "    #sm=1/np.polyval(fit1,sf)\n",
    "    for key in ['kx1_x1a','kx1a_x2','ky2_y1a','ky1a_y1']:\n",
    "        k[key]=sf*k[key]\n",
    "    for key in ['kx2_y2','ky2_x2','kx1_y1','ky1_x1']:\n",
    "        k[key]=sm*k[key]\n",
    "\n",
    "    k['kleak']=kleak*alpha#0.014*0.2 #0.21405838101231592#0.09519188799639043\n",
    "    #print(k)\n",
    "\n",
    "    tstep = 1e-2\n",
    "    tf = 10000\n",
    "    t = np.linspace(0, tf, tf/tstep+1)\n",
    "    M=new_model(k)\n",
    "    # Solve ODE\n",
    "    sol = odeint(M.ode,v0,t)\n",
    "    #print(sol[-1,-1],\"sf,sm=\",sf,sm)\n",
    "    return sol[-1,-1]-500e-6"
   ]
  },
  {
   "cell_type": "code",
   "execution_count": 145,
   "metadata": {},
   "outputs": [
    {
     "name": "stderr",
     "output_type": "stream",
     "text": [
      "/usr/lib/python3/dist-packages/ipykernel_launcher.py:19: DeprecationWarning: object of type <class 'float'> cannot be safely interpreted as an integer.\n",
      "/usr/lib/python3/dist-packages/ipykernel_launcher.py:30: DeprecationWarning: object of type <class 'float'> cannot be safely interpreted as an integer.\n"
     ]
    },
    {
     "data": {
      "text/plain": [
       "array([0.39623658])"
      ]
     },
     "execution_count": 145,
     "metadata": {},
     "output_type": "execute_result"
    }
   ],
   "source": [
    "fsolve(opt_leak_alpha,0.2,args=(8.1868252, 0.35669354, 0.07))"
   ]
  },
  {
   "cell_type": "code",
   "execution_count": 143,
   "metadata": {},
   "outputs": [
    {
     "name": "stdout",
     "output_type": "stream",
     "text": [
      "k_SERCA_X1_X1A = 1637365040.0\n",
      "k_SERCA_X1A_X2 = 818682520.0\n",
      "k_SERCA_X1A_X1 = 83.666\n",
      "k_SERCA_X2_X1A = 167.332\n",
      "k_SERCA_X2_Y2 = 0.21401612399999997\n",
      "k_SERCA_Y2_X2 = 1.46886399772\n",
      "k_SERCA_Y2_Y1A = 491.455116756\n",
      "k_SERCA_Y1A_Y1 = 245.727558378\n",
      "k_SERCA_Y1A_Y2 = 100000.0\n",
      "k_SERCA_Y1_Y1A = 200000.0\n",
      "k_SERCA_Y1_X1 = 0.142677416\n",
      "k_SERCA_X1_Y1 = 0.00042803224799999994\n",
      "k_SERCA_LEA = 0\n",
      "k_SERCA_CBHON = 5500000.0\n",
      "k_SERCA_CBHOFF = 2.6\n",
      "k_SERCA_CBMON = 43500000.0\n",
      "k_SERCA_CBMOFF = 35.8\n",
      "k_SERCA_PMCA01 = 150000000.0\n",
      "k_SERCA_PMCA10 = 20\n",
      "k_SERCA_PMCA12 = 100\n",
      "k_SERCA_PMCA20 = 100000.0\n",
      "k_SERCA_PMCA0LEA = 12.5\n"
     ]
    }
   ],
   "source": [
    "#print parameters to copy into mdls\n",
    "k=k_orig.copy()\n",
    "sf=8.1868252\n",
    "sm=0.35669354\n",
    "for key in ['kx1_x1a','kx1a_x2','ky2_y1a','ky1a_y1']:\n",
    "    k[key]=sf*k[key]\n",
    "for key in ['kx2_y2','ky2_x2','kx1_y1','ky1_x1']:\n",
    "    k[key]=sm*k[key]\n",
    "\n",
    "for key in k.keys():\n",
    "    print('k_SERCA_'+key.replace('k','').upper()+' = '+str(k[key]))"
   ]
  },
  {
   "cell_type": "code",
   "execution_count": 201,
   "metadata": {},
   "outputs": [
    {
     "name": "stdout",
     "output_type": "stream",
     "text": [
      "[0.14608167 0.43854768 0.32914486 0.04744164 0.03304028 0.00574388] \n",
      "Ca ER = 861.2536851452427 uM\n"
     ]
    },
    {
     "data": {
      "image/png": "[encoded data removed]",
      "text/plain": [
       "<matplotlib.figure.Figure at 0x7f0818df6550>"
      ]
     },
     "metadata": {},
     "output_type": "display_data"
    }
   ],
   "source": [
    "plt.figure(figsize=(20,12))\n",
    "plt.plot(t,sol[:,-1]*1e6)\n",
    "print(sol[-1,-7:-1],\"\\nCa ER =\",sol[-1,-1]*1e6,\"uM\")"
   ]
  },
  {
   "cell_type": "code",
   "execution_count": 24,
   "metadata": {},
   "outputs": [
    {
     "data": {
      "text/plain": [
       "'AB2A'"
      ]
     },
     "execution_count": 24,
     "metadata": {},
     "output_type": "execute_result"
    }
   ],
   "source": [
    "\"aB2a\".upper()"
   ]
  },
  {
   "cell_type": "markdown",
   "metadata": {},
   "source": [
    "# This is to see clamp behavior"
   ]
  },
  {
   "cell_type": "code",
   "execution_count": 10,
   "metadata": {},
   "outputs": [
    {
     "ename": "NameError",
     "evalue": "name 'get_SERCA_equilibrium' is not defined",
     "output_type": "error",
     "traceback": [
      "\u001b[0;31m------------------------------------------------------\u001b[0m",
      "\u001b[0;31mNameError\u001b[0m            Traceback (most recent call last)",
      "\u001b[0;32m<ipython-input-10-993e7bf51f7b>\u001b[0m in \u001b[0;36m<module>\u001b[0;34m()\u001b[0m\n\u001b[1;32m      6\u001b[0m \u001b[0mp\u001b[0m \u001b[0;34m=\u001b[0m \u001b[0;36m180\u001b[0m\u001b[0;34m*\u001b[0m\u001b[0mpmca\u001b[0m\u001b[0;34m/\u001b[0m\u001b[0msum\u001b[0m\u001b[0;34m(\u001b[0m\u001b[0mpmca\u001b[0m\u001b[0;34m)\u001b[0m\u001b[0;34m/\u001b[0m\u001b[0mN_avo\u001b[0m\u001b[0;34m/\u001b[0m\u001b[0mvol_cyt\u001b[0m\u001b[0;34m*\u001b[0m\u001b[0;36m1e15\u001b[0m\u001b[0;34m*\u001b[0m\u001b[0;36m1e6\u001b[0m\u001b[0;31m# uM\u001b[0m\u001b[0;34m\u001b[0m\u001b[0m\n\u001b[1;32m      7\u001b[0m \u001b[0mcalbindin\u001b[0m \u001b[0;34m=\u001b[0m \u001b[0;34m[\u001b[0m\u001b[0;36m1.48e-05\u001b[0m\u001b[0;34m,\u001b[0m \u001b[0;36m7.00e-06\u001b[0m\u001b[0;34m,\u001b[0m \u001b[0;36m8.27e-07\u001b[0m\u001b[0;34m,\u001b[0m \u001b[0;36m1.21e-05\u001b[0m\u001b[0;34m,\u001b[0m \u001b[0;36m5.74e-06\u001b[0m\u001b[0;34m,\u001b[0m \u001b[0;36m6.79e-07\u001b[0m\u001b[0;34m,\u001b[0m\u001b[0;36m2.49e-06\u001b[0m\u001b[0;34m,\u001b[0m \u001b[0;36m1.18e-06\u001b[0m\u001b[0;34m,\u001b[0m \u001b[0;36m1.39e-07\u001b[0m\u001b[0;34m]\u001b[0m \u001b[0;31m# Total conc. = 45e-6 uM\u001b[0m\u001b[0;34m\u001b[0m\u001b[0m\n\u001b[0;32m----> 8\u001b[0;31m \u001b[0mv0\u001b[0m \u001b[0;34m=\u001b[0m \u001b[0;34m[\u001b[0m\u001b[0mCa\u001b[0m\u001b[0;34m]\u001b[0m\u001b[0;34m+\u001b[0m\u001b[0mlist\u001b[0m\u001b[0;34m(\u001b[0m\u001b[0mp\u001b[0m\u001b[0;34m)\u001b[0m\u001b[0;34m+\u001b[0m\u001b[0mcalbindin\u001b[0m\u001b[0;34m+\u001b[0m\u001b[0mget_SERCA_equilibrium\u001b[0m\u001b[0;34m(\u001b[0m\u001b[0mcae\u001b[0m\u001b[0;34m*\u001b[0m\u001b[0;36m1e6\u001b[0m\u001b[0;34m)\u001b[0m\u001b[0;34m+\u001b[0m\u001b[0;34m[\u001b[0m\u001b[0mcae\u001b[0m\u001b[0;34m]\u001b[0m\u001b[0;34m\u001b[0m\u001b[0m\n\u001b[0m\u001b[1;32m      9\u001b[0m \u001b[0;34m\u001b[0m\u001b[0m\n\u001b[1;32m     10\u001b[0m \u001b[0;31m#v0[-7:-1] =[ 0.6420802891222142, 0.30574391044577887, 0.035928792193863426, 0.005142394529773396, 0.008226136319601385, 0.002878477474144645]\u001b[0m\u001b[0;34m\u001b[0m\u001b[0;34m\u001b[0m\u001b[0m\n",
      "\u001b[0;31mNameError\u001b[0m: name 'get_SERCA_equilibrium' is not defined"
     ]
    }
   ],
   "source": [
    "#constructing v0 initial vector\n",
    "Ca=100e-9\n",
    "cae=250e-6#250.24e-6\n",
    "pmca = np.array([2.39e-6, 5.82e-7, 4.54e-10])\n",
    "npmca = 180\n",
    "p = 180*pmca/sum(pmca)/N_avo/vol_cyt*1e15*1e6# uM\n",
    "calbindin = [1.48e-05, 7.00e-06, 8.27e-07, 1.21e-05, 5.74e-06, 6.79e-07,\\\n",
    "2.49e-06, 1.18e-06, 1.39e-07] # Total conc. = 45e-6 uM\n",
    "v0 = [Ca]+list(p)+calbindin+get_SERCA_equilibrium(cae*1e6)+[cae]\n",
    "\n",
    "#v0[-7:-1] =[ 0.6420802891222142, 0.30574391044577887, 0.035928792193863426, 0.005142394529773396, 0.008226136319601385, 0.002878477474144645] \n",
    "\n",
    "#Changing parameters \n",
    "k=k_orig.copy()\n",
    "sf=2\n",
    "sm=3.593\n",
    "for key in ['kx1_x1a','kx1a_x2']:\n",
    "    k[key]=sf*k[key]\n",
    "for key in ['kx2_y2','ky2_x2','kx1_y1','ky1_x1']:\n",
    "    k[key]=sm*k[key]\n",
    "\n",
    "k['kleak']=0\n",
    "\n",
    "\n",
    "tstep = 1e-4\n",
    "tf = 100\n",
    "t = np.linspace(0, tf, tf/tstep+1)\n",
    "M=new_model(k)\n",
    "M.er_clamp=1\n",
    "# Solve ODE\n",
    "sol = odeint(M.ode,v0,t)"
   ]
  },
  {
   "cell_type": "code",
   "execution_count": 11,
   "metadata": {},
   "outputs": [
    {
     "ename": "NameError",
     "evalue": "name 'tf' is not defined",
     "output_type": "error",
     "traceback": [
      "\u001b[0;31m------------------------------------------------------\u001b[0m",
      "\u001b[0;31mNameError\u001b[0m            Traceback (most recent call last)",
      "\u001b[0;32m<ipython-input-11-5e40d0e342a0>\u001b[0m in \u001b[0;36m<module>\u001b[0;34m()\u001b[0m\n\u001b[1;32m      1\u001b[0m \u001b[0mplt\u001b[0m\u001b[0;34m.\u001b[0m\u001b[0mfigure\u001b[0m\u001b[0;34m(\u001b[0m\u001b[0mfigsize\u001b[0m\u001b[0;34m=\u001b[0m\u001b[0;34m(\u001b[0m\u001b[0;36m20\u001b[0m\u001b[0;34m,\u001b[0m\u001b[0;36m12\u001b[0m\u001b[0;34m)\u001b[0m\u001b[0;34m)\u001b[0m\u001b[0;34m\u001b[0m\u001b[0m\n\u001b[0;32m----> 2\u001b[0;31m \u001b[0mplt\u001b[0m\u001b[0;34m.\u001b[0m\u001b[0mplot\u001b[0m\u001b[0;34m(\u001b[0m\u001b[0mnp\u001b[0m\u001b[0;34m.\u001b[0m\u001b[0mlinspace\u001b[0m\u001b[0;34m(\u001b[0m\u001b[0;36m0\u001b[0m\u001b[0;34m,\u001b[0m\u001b[0mtf\u001b[0m\u001b[0;34m,\u001b[0m\u001b[0mlen\u001b[0m\u001b[0;34m(\u001b[0m\u001b[0mM\u001b[0m\u001b[0;34m.\u001b[0m\u001b[0mflux\u001b[0m\u001b[0;34m)\u001b[0m\u001b[0;34m)\u001b[0m\u001b[0;34m,\u001b[0m\u001b[0mnp\u001b[0m\u001b[0;34m.\u001b[0m\u001b[0marray\u001b[0m\u001b[0;34m(\u001b[0m\u001b[0mM\u001b[0m\u001b[0;34m.\u001b[0m\u001b[0mflux\u001b[0m\u001b[0;34m)\u001b[0m\u001b[0;34m*\u001b[0m\u001b[0;36m1e6\u001b[0m\u001b[0;34m)\u001b[0m\u001b[0;31m#sol[:,-1]*1e6)\u001b[0m\u001b[0;34m\u001b[0m\u001b[0m\n\u001b[0m\u001b[1;32m      3\u001b[0m \u001b[0;31m#plt.ylim((0,300))\u001b[0m\u001b[0;34m\u001b[0m\u001b[0;34m\u001b[0m\u001b[0m\n\u001b[1;32m      4\u001b[0m \u001b[0mprint\u001b[0m\u001b[0;34m(\u001b[0m\u001b[0mlist\u001b[0m\u001b[0;34m(\u001b[0m\u001b[0msol\u001b[0m\u001b[0;34m[\u001b[0m\u001b[0;34m-\u001b[0m\u001b[0;36m1\u001b[0m\u001b[0;34m,\u001b[0m\u001b[0;34m:\u001b[0m\u001b[0;34m]\u001b[0m\u001b[0;34m)\u001b[0m\u001b[0;34m)\u001b[0m\u001b[0;34m\u001b[0m\u001b[0m\n",
      "\u001b[0;31mNameError\u001b[0m: name 'tf' is not defined"
     ]
    },
    {
     "data": {
      "text/plain": [
       "<matplotlib.figure.Figure at 0x7f7ce97c4a58>"
      ]
     },
     "metadata": {},
     "output_type": "display_data"
    }
   ],
   "source": [
    "plt.figure(figsize=(20,12))\n",
    "plt.plot(np.linspace(0,tf,len(M.flux)),np.array(M.flux)*1e6)#sol[:,-1]*1e6)\n",
    "#plt.ylim((0,300))\n",
    "print(list(sol[-1,:]))"
   ]
  },
  {
   "cell_type": "code",
   "execution_count": 46,
   "metadata": {},
   "outputs": [
    {
     "data": {
      "text/plain": [
       "0.21405838101231592"
      ]
     },
     "execution_count": 46,
     "metadata": {},
     "output_type": "execute_result"
    }
   ],
   "source": [
    "kleak=577#35.05#\n",
    "ER_conc_rate=(2.1675*kleak+6.214988)*1e15/N_avo/vol_er*1e6\n",
    "\n",
    "ER_conc_rate/250"
   ]
  },
  {
   "cell_type": "code",
   "execution_count": 46,
   "metadata": {},
   "outputs": [
    {
     "name": "stdout",
     "output_type": "stream",
     "text": [
      "N= 0.00026033316269814734\n"
     ]
    }
   ],
   "source": [
    "old=81775.83556434109\n",
    "serca_conc_rate=500*1e15/N_avo/vol_er*1e6 #from MCell\n",
    "print(\"N=\",serca_conc_rate/old)"
   ]
  },
  {
   "cell_type": "code",
   "execution_count": 72,
   "metadata": {},
   "outputs": [
    {
     "data": {
      "text/plain": [
       "1259.2838604210299"
      ]
     },
     "execution_count": 72,
     "metadata": {},
     "output_type": "execute_result"
    }
   ],
   "source": [
    "5.3617692263536004e-05/(1e15/N_avo/vol_er)"
   ]
  },
  {
   "cell_type": "code",
   "execution_count": 7,
   "metadata": {},
   "outputs": [
    {
     "name": "stdout",
     "output_type": "stream",
     "text": [
      "Ca Flux in ions/sec =  82.20222328500002\n",
      "Predicted MCell kleak =  35.05599586580223\n"
     ]
    }
   ],
   "source": [
    "#from S Bandara et al 2013\n",
    "J=0.014*250 #uM/s\n",
    "J/=1e15/N_avo/vol_er*1e6\n",
    "print(\"Ca Flux in ions/sec = \",J)\n",
    "\n",
    "p=[2.1675959461586873, 6.214988757731395]\n",
    "kleak=(J-p[1])/p[0]\n",
    "print(\"Predicted MCell kleak = \",kleak)"
   ]
  },
  {
   "cell_type": "code",
   "execution_count": null,
   "metadata": {},
   "outputs": [],
   "source": []
  },
  {
   "cell_type": "code",
   "execution_count": null,
   "metadata": {},
   "outputs": [],
   "source": []
  }
 ],
 "metadata": {
  "kernelspec": {
   "display_name": "Python 3",
   "language": "python",
   "name": "python3"
  },
  "language_info": {
   "codemirror_mode": {
    "name": "ipython",
    "version": 3
   },
   "file_extension": ".py",
   "mimetype": "text/x-python",
   "name": "python",
   "nbconvert_exporter": "python",
   "pygments_lexer": "ipython3",
   "version": "3.6.5"
  }
 },
 "nbformat": 4,
 "nbformat_minor": 2
}
