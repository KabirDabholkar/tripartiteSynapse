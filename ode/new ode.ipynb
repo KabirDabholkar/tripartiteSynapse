{
 "cells": [
  {
   "cell_type": "code",
   "execution_count": 13,
   "metadata": {},
   "outputs": [],
   "source": [
    "%run ../tools/get_SERCA_equilibrium.ipynb"
   ]
  },
  {
   "cell_type": "code",
   "execution_count": 14,
   "metadata": {},
   "outputs": [],
   "source": [
    "import numpy as np\n",
    "from scipy.integrate import *\n",
    "import matplotlib.pyplot as plt\n",
    "from math import *\n",
    "from scipy.optimize import *"
   ]
  },
  {
   "cell_type": "code",
   "execution_count": 15,
   "metadata": {},
   "outputs": [],
   "source": [
    "cai = 100.0e-9\n",
    "cae = 250e-6\n",
    "\n",
    "N_avo=6.0221409e23\n",
    "\n",
    "# Volume Normalisations\n",
    "vol_er = (3.9*0.1*0.1)\n",
    "vol_cyt = (4.0*0.5*0.5-vol_er)\n",
    "vol_tot = vol_cyt + vol_er\n",
    "ntot = 1\n",
    "ctot = ntot/vol_tot\n",
    "fvol_cyt = vol_cyt/vol_tot\n",
    "fvol_er = vol_er/vol_tot"
   ]
  },
  {
   "cell_type": "code",
   "execution_count": 16,
   "metadata": {},
   "outputs": [],
   "source": [
    "# Reaction Rates\n",
    "k_orig={\n",
    "    'kx1_x1a' : 2*1.0e8,\n",
    "    'kx1a_x2' : 1.0e8,\n",
    "    'kx1a_x1' : 83.666,\n",
    "    'kx2_x1a' : 2*83.666,\n",
    "    'kx2_y2'  : 0.6,\n",
    "    'ky2_x2'  : 4.118, #corrected\n",
    "    'ky2_y1a' : 2*30.015,\n",
    "    'ky1a_y1' : 30.015,\n",
    "    'ky1a_y2' : 1.0e5,\n",
    "    'ky1_y1a' : 2*1.0e5,\n",
    "    'ky1_x1'  : 0.4,\n",
    "    'kx1_y1'  : 1.20e-3,\n",
    "    'kleak'     : 0,\n",
    "\n",
    "    'cbHon'   : 0.55e7,\n",
    "    'cbHoff'  : 2.6,\n",
    "    'cbMon'   : 4.35e7,\n",
    "    'cbMoff'  : 35.8,\n",
    "     \n",
    "    'kPMCA01' : 1.5e8,\n",
    "    'kPMCA10' : 20,\n",
    "    'kPMCA12' : 100,\n",
    "    'kPMCA20' : 1e5,\n",
    "    'kPMCA0leak': 12.5\n",
    "\n",
    "}"
   ]
  },
  {
   "cell_type": "code",
   "execution_count": 17,
   "metadata": {},
   "outputs": [],
   "source": [
    "# ODE model\n",
    "class new_model:\n",
    "    # Volume Normalisations\n",
    "    vol_er = (3.9*0.1*0.1)\n",
    "    vol_cyt = (4.0*0.5*0.5-vol_er)\n",
    "    vol_tot = vol_cyt + vol_er\n",
    "    ntot = 1\n",
    "    ctot = ntot/vol_tot\n",
    "    fvol_cyt = vol_cyt/vol_tot\n",
    "    fvol_er = vol_er/vol_tot\n",
    "    N=0.00026033316269814734\n",
    "    er_clamp=0\n",
    "    flux=[]\n",
    "    def __init__(self,parameters):\n",
    "        self.__dict__.update(parameters)\n",
    "    def ode(self,v,t):\n",
    "        Ca, PMCA0, PMCA1, PMCA2,\\\n",
    "        cbH0M0, cbH0M1, cbH0M2, cbH1M0, cbH1M1, cbH1M2, cbH2M0, cbH2M1, cbH2M2,\\\n",
    "        fx1, fx1a, fx2, fy2, fy1a, fy1, cae = v \n",
    "\n",
    "        dx1 = fx1*(-self.kx1_x1a*cai-self.kx1_y1)+fx1a*self.kx1a_x1+fy1*self.ky1_x1\n",
    "        dx1a = fx1a*(-self.kx1a_x2*cai-self.kx1a_x1)+fx1*cai*self.kx1_x1a+fx2*self.kx2_x1a\n",
    "        dx2 = fx2*(-self.kx2_y2-self.kx2_x1a)+fx1a*cai*self.kx1a_x2+fy2*self.ky2_x2\n",
    "\n",
    "        dy1 = fy1*(-self.ky1_y1a*cae-self.ky1_x1)+fy1a*self.ky1a_y1+fx1*self.kx1_y1\n",
    "        dy1a = fy1a*(-self.ky1a_y2*cae-self.ky1a_y1)+fy1*cae*self.ky1_y1a+fy2*self.ky2_y1a\n",
    "        dy2 = fy2*(-self.ky2_x2-self.ky2_y1a)+fy1a*cae*self.ky1a_y2+fx2*self.kx2_y2\n",
    "\n",
    "        dcae = self.N*(-cae*(fy1a*self.ky1a_y2 + fy1*self.ky1_y1a) + (fy1a*self.ky1a_y1 + fy2*self.ky2_y1a))\n",
    "        dCa = (Ca*(-fx1*self.kx1_x1a-fx1a*self.kx1a_x2)+fx2*self.kx2_x1a+fx1a*self.kx1a_x1)\n",
    "\n",
    "        #er leaks\n",
    "        dcae += self.kleak*(Ca - cae)\n",
    "        dCa += -self.vol_er/self.vol_cyt*self.kleak*(Ca - cae)\n",
    "\n",
    "        if self.er_clamp!=0:\n",
    "            self.flux.append(dcae)\n",
    "            dcae=0\n",
    "            \n",
    "        ### PMCA\n",
    "        dCa   +=  (self.kPMCA0leak - self.kPMCA01*Ca)*PMCA0 + self.kPMCA10*PMCA1\n",
    "        dPMCA0 = + self.kPMCA20*PMCA2 + self.kPMCA10*PMCA1 - self.kPMCA01*Ca*PMCA0\n",
    "        dPMCA1 = - (self.kPMCA12 + self.kPMCA10)*PMCA1 + self.kPMCA01*Ca*PMCA0\n",
    "        dPMCA2 = - self.kPMCA20*PMCA2 + self.kPMCA12*PMCA1\n",
    "\n",
    "        ### Calcium Buffers\n",
    "        dCa   +=     self.cbMoff*(cbH2M1 + cbH1M1 + cbH0M1 + 2*(cbH2M2 + cbH1M2 + cbH0M2)) \\\n",
    "                + self.cbHoff*(cbH2M1 + cbH1M1 + cbH0M1 + 2*(cbH2M2 + cbH2M1 + cbH2M0)) \\\n",
    "             - (+ self.cbMon*(cbH2M1 + cbH1M1 + cbH0M1  + 2*(cbH2M0 + cbH1M0 + cbH0M0)) \\\n",
    "                + self.cbHon*(cbH2M1 + cbH1M1 + cbH0M1  + 2*(cbH0M2 + cbH0M1 + cbH0M0)) )*Ca\n",
    "\n",
    "        dcbH0M0 = - 2*(self.cbMon+self.cbHon)*cbH0M0*Ca + self.cbMoff*cbH0M1 + self.cbHoff*cbH1M0\n",
    "\n",
    "        dcbH0M1 = + (2*self.cbMon*cbH0M0 - (self.cbMon + 2*self.cbHon)*cbH0M1)*Ca \\\n",
    "                  + self.cbMoff*(2*cbH0M2 - cbH0M1) + self.cbHoff*cbH1M1\n",
    "\n",
    "        dcbH0M2 = + self.cbMon*cbH0M1*Ca - 2*(self.cbMoff + self.cbHon*Ca)*cbH0M2 + self.cbHoff*cbH1M2\n",
    "\n",
    "        dcbH1M0 = + (2*self.cbHon*cbH0M0 - (self.cbHon + 2*self.cbMon)*cbH1M0)*Ca\\\n",
    "                  + self.cbMoff*cbH1M1   + self.cbHoff*(2*cbH2M0 - cbH1M0)\n",
    "\n",
    "        dcbH1M1 = - ((self.cbMon + self.cbHon)*Ca + (self.cbHoff + self.cbMoff))*cbH1M1\\\n",
    "                  + 2*((self.cbMoff*cbH1M2 + self.cbHoff*cbH2M1) + (self.cbMon*cbH1M0 + self.cbHon*cbH0M1)*Ca)\n",
    "\n",
    "        dcbH1M2 = + (self.cbMon*cbH1M1 + 2*self.cbHon*cbH0M2 - self.cbHon*cbH1M2)*Ca\\\n",
    "                  - (2*self.cbMoff + self.cbHoff)*cbH1M2 + 2*self.cbHoff*cbH2M2\n",
    "\n",
    "        dcbH2M0 = + self.cbMoff*cbH2M1 + self.cbHon*cbH1M0*Ca - 2*(self.cbHoff + self.cbMon*Ca)*cbH2M0\n",
    "\n",
    "        dcbH2M1 = + (self.cbHon*cbH1M1 - self.cbMon*cbH2M1 + 2*self.cbMon*cbH2M0)*Ca\\\n",
    "                  + 2*(self.cbMoff*cbH2M2 - self.cbHoff*cbH2M1) - self.cbMoff*cbH2M1\n",
    "\n",
    "        dcbH2M2 = + (self.cbMon*cbH2M1 + self.cbHon*cbH1M2)*Ca - 2*(self.cbHoff + self.cbMoff)*cbH2M2\n",
    "\n",
    "        dX = [dCa, dPMCA0, dPMCA1, dPMCA2,\\\n",
    "              dcbH0M0, dcbH0M1, dcbH0M2, dcbH1M0, dcbH1M1, dcbH1M2, dcbH2M0, dcbH2M1, dcbH2M2,\\\n",
    "              dx1, dx1a, dx2, dy2, dy1a, dy1, dcae]\n",
    "\n",
    "        return dX"
   ]
  },
  {
   "cell_type": "markdown",
   "metadata": {},
   "source": [
    "# This is to see refilling:"
   ]
  },
  {
   "cell_type": "code",
   "execution_count": 44,
   "metadata": {},
   "outputs": [
    {
     "name": "stderr",
     "output_type": "stream",
     "text": [
      "/usr/lib/python3/dist-packages/ipykernel_launcher.py:19: DeprecationWarning: object of type <class 'float'> cannot be safely interpreted as an integer.\n",
      "/usr/lib/python3/dist-packages/ipykernel_launcher.py:27: DeprecationWarning: object of type <class 'float'> cannot be safely interpreted as an integer.\n"
     ]
    }
   ],
   "source": [
    "#constructing v0 initial vector\n",
    "Ca=100e-9\n",
    "cae=0#250.24e-6\n",
    "pmca = np.array([2.39e-6, 5.82e-7, 4.54e-10])\n",
    "npmca = 180\n",
    "p = 180*pmca/sum(pmca)/N_avo/vol_cyt*1e15*1e6# uM\n",
    "calbindin = [1.48e-05, 7.00e-06, 8.27e-07, 1.21e-05, 5.74e-06, 6.79e-07,\\\n",
    "2.49e-06, 1.18e-06, 1.39e-07] # Total conc. = 45e-6 uM\n",
    "v0 = [Ca]+list(p)+calbindin+get_SERCA_equilibrium(cae*1e6)+[cae]\n",
    "\n",
    "#v0[-7:-1] =[ 0.6420802891222142, 0.30574391044577887, 0.035928792193863426, 0.005142394529773396, 0.008226136319601385, 0.002878477474144645] \n",
    "\n",
    "#Changing parameters\n",
    "k=k_orig.copy()\n",
    "sf=2\n",
    "sm=3.53087274 #for 500\n",
    "#sm=1.57496328 #for 750\n",
    "for key in ['kx1_x1a','kx1a_x2']:\n",
    "    k[key]=sf*k[key]\n",
    "for key in ['kx2_y2','ky2_x2','kx1_y1','ky1_x1']:\n",
    "    k[key]=sm*k[key]\n",
    "\n",
    "k['kleak']=0#0.014 #0.21405838101231592#0.09519188799639043\n",
    "#print(k)\n",
    "\n",
    "tstep = 1e-3\n",
    "tf = 10000\n",
    "t = np.linspace(0, tf, tf/tstep+1)\n",
    "M=new_model(k)\n",
    "# Solve ODE\n",
    "sol = odeint(M.ode,v0,t)"
   ]
  },
  {
   "cell_type": "code",
   "execution_count": 45,
   "metadata": {},
   "outputs": [
    {
     "name": "stdout",
     "output_type": "stream",
     "text": [
      "[0.64244411 0.30714704 0.03671109 0.00534887 0.00642154 0.00192733]\n"
     ]
    },
    {
     "data": {
      "image/png": "[encoded data removed]",
      "text/plain": [
       "<matplotlib.figure.Figure at 0x7f7d1c91bb38>"
      ]
     },
     "metadata": {},
     "output_type": "display_data"
    }
   ],
   "source": [
    "plt.figure(figsize=(20,12))\n",
    "plt.plot(t,sol[:,-1]*1e6)\n",
    "print(sol[-1,-7:-1])"
   ]
  },
  {
   "cell_type": "code",
   "execution_count": 34,
   "metadata": {},
   "outputs": [
    {
     "name": "stdout",
     "output_type": "stream",
     "text": [
      "k_SERCA_X1_X1A = 400000000.0\n",
      "k_SERCA_X1A_X2 = 200000000.0\n",
      "k_SERCA_X1A_X1 = 83.666\n",
      "k_SERCA_X2_X1A = 167.332\n",
      "k_SERCA_X2_Y2 = 2.1557999999999997\n",
      "k_SERCA_Y2_X2 = 14.795974000000001\n",
      "k_SERCA_Y2_Y1A = 60.03\n",
      "k_SERCA_Y1A_Y1 = 30.015\n",
      "k_SERCA_Y1A_Y2 = 100000.0\n",
      "k_SERCA_Y1_Y1A = 200000.0\n",
      "k_SERCA_Y1_X1 = 1.4372\n",
      "k_SERCA_X1_Y1 = 0.0043116\n",
      "k_SERCA_LEA = 0\n",
      "k_SERCA_CBHON = 5500000.0\n",
      "k_SERCA_CBHOFF = 2.6\n",
      "k_SERCA_CBMON = 43500000.0\n",
      "k_SERCA_CBMOFF = 35.8\n",
      "k_SERCA_PMCA01 = 150000000.0\n",
      "k_SERCA_PMCA10 = 20\n",
      "k_SERCA_PMCA12 = 100\n",
      "k_SERCA_PMCA20 = 100000.0\n",
      "k_SERCA_PMCA0LEA = 12.5\n"
     ]
    }
   ],
   "source": [
    "#print parameters to copy into mdls\n",
    "k=k_orig.copy()\n",
    "sf=2\n",
    "sm=3.593\n",
    "for key in ['kx1_x1a','kx1a_x2']:\n",
    "    k[key]=sf*k[key]\n",
    "for key in ['kx2_y2','ky2_x2','kx1_y1','ky1_x1']:\n",
    "    k[key]=sm*k[key]\n",
    "\n",
    "for key in k.keys():\n",
    "    print('k_SERCA_'+key.replace('k','').upper()+' = '+str(k[key]))"
   ]
  },
  {
   "cell_type": "code",
   "execution_count": 24,
   "metadata": {},
   "outputs": [
    {
     "data": {
      "text/plain": [
       "'AB2A'"
      ]
     },
     "execution_count": 24,
     "metadata": {},
     "output_type": "execute_result"
    }
   ],
   "source": [
    "\"aB2a\".upper()"
   ]
  },
  {
   "cell_type": "markdown",
   "metadata": {},
   "source": [
    "# This is to see clamp behavior"
   ]
  },
  {
   "cell_type": "code",
   "execution_count": 10,
   "metadata": {},
   "outputs": [
    {
     "ename": "NameError",
     "evalue": "name 'get_SERCA_equilibrium' is not defined",
     "output_type": "error",
     "traceback": [
      "\u001b[0;31m------------------------------------------------------\u001b[0m",
      "\u001b[0;31mNameError\u001b[0m            Traceback (most recent call last)",
      "\u001b[0;32m<ipython-input-10-993e7bf51f7b>\u001b[0m in \u001b[0;36m<module>\u001b[0;34m()\u001b[0m\n\u001b[1;32m      6\u001b[0m \u001b[0mp\u001b[0m \u001b[0;34m=\u001b[0m \u001b[0;36m180\u001b[0m\u001b[0;34m*\u001b[0m\u001b[0mpmca\u001b[0m\u001b[0;34m/\u001b[0m\u001b[0msum\u001b[0m\u001b[0;34m(\u001b[0m\u001b[0mpmca\u001b[0m\u001b[0;34m)\u001b[0m\u001b[0;34m/\u001b[0m\u001b[0mN_avo\u001b[0m\u001b[0;34m/\u001b[0m\u001b[0mvol_cyt\u001b[0m\u001b[0;34m*\u001b[0m\u001b[0;36m1e15\u001b[0m\u001b[0;34m*\u001b[0m\u001b[0;36m1e6\u001b[0m\u001b[0;31m# uM\u001b[0m\u001b[0;34m\u001b[0m\u001b[0m\n\u001b[1;32m      7\u001b[0m \u001b[0mcalbindin\u001b[0m \u001b[0;34m=\u001b[0m \u001b[0;34m[\u001b[0m\u001b[0;36m1.48e-05\u001b[0m\u001b[0;34m,\u001b[0m \u001b[0;36m7.00e-06\u001b[0m\u001b[0;34m,\u001b[0m \u001b[0;36m8.27e-07\u001b[0m\u001b[0;34m,\u001b[0m \u001b[0;36m1.21e-05\u001b[0m\u001b[0;34m,\u001b[0m \u001b[0;36m5.74e-06\u001b[0m\u001b[0;34m,\u001b[0m \u001b[0;36m6.79e-07\u001b[0m\u001b[0;34m,\u001b[0m\u001b[0;36m2.49e-06\u001b[0m\u001b[0;34m,\u001b[0m \u001b[0;36m1.18e-06\u001b[0m\u001b[0;34m,\u001b[0m \u001b[0;36m1.39e-07\u001b[0m\u001b[0;34m]\u001b[0m \u001b[0;31m# Total conc. = 45e-6 uM\u001b[0m\u001b[0;34m\u001b[0m\u001b[0m\n\u001b[0;32m----> 8\u001b[0;31m \u001b[0mv0\u001b[0m \u001b[0;34m=\u001b[0m \u001b[0;34m[\u001b[0m\u001b[0mCa\u001b[0m\u001b[0;34m]\u001b[0m\u001b[0;34m+\u001b[0m\u001b[0mlist\u001b[0m\u001b[0;34m(\u001b[0m\u001b[0mp\u001b[0m\u001b[0;34m)\u001b[0m\u001b[0;34m+\u001b[0m\u001b[0mcalbindin\u001b[0m\u001b[0;34m+\u001b[0m\u001b[0mget_SERCA_equilibrium\u001b[0m\u001b[0;34m(\u001b[0m\u001b[0mcae\u001b[0m\u001b[0;34m*\u001b[0m\u001b[0;36m1e6\u001b[0m\u001b[0;34m)\u001b[0m\u001b[0;34m+\u001b[0m\u001b[0;34m[\u001b[0m\u001b[0mcae\u001b[0m\u001b[0;34m]\u001b[0m\u001b[0;34m\u001b[0m\u001b[0m\n\u001b[0m\u001b[1;32m      9\u001b[0m \u001b[0;34m\u001b[0m\u001b[0m\n\u001b[1;32m     10\u001b[0m \u001b[0;31m#v0[-7:-1] =[ 0.6420802891222142, 0.30574391044577887, 0.035928792193863426, 0.005142394529773396, 0.008226136319601385, 0.002878477474144645]\u001b[0m\u001b[0;34m\u001b[0m\u001b[0;34m\u001b[0m\u001b[0m\n",
      "\u001b[0;31mNameError\u001b[0m: name 'get_SERCA_equilibrium' is not defined"
     ]
    }
   ],
   "source": [
    "#constructing v0 initial vector\n",
    "Ca=100e-9\n",
    "cae=250e-6#250.24e-6\n",
    "pmca = np.array([2.39e-6, 5.82e-7, 4.54e-10])\n",
    "npmca = 180\n",
    "p = 180*pmca/sum(pmca)/N_avo/vol_cyt*1e15*1e6# uM\n",
    "calbindin = [1.48e-05, 7.00e-06, 8.27e-07, 1.21e-05, 5.74e-06, 6.79e-07,\\\n",
    "2.49e-06, 1.18e-06, 1.39e-07] # Total conc. = 45e-6 uM\n",
    "v0 = [Ca]+list(p)+calbindin+get_SERCA_equilibrium(cae*1e6)+[cae]\n",
    "\n",
    "#v0[-7:-1] =[ 0.6420802891222142, 0.30574391044577887, 0.035928792193863426, 0.005142394529773396, 0.008226136319601385, 0.002878477474144645] \n",
    "\n",
    "#Changing parameters \n",
    "k=k_orig.copy()\n",
    "sf=2\n",
    "sm=3.593\n",
    "for key in ['kx1_x1a','kx1a_x2']:\n",
    "    k[key]=sf*k[key]\n",
    "for key in ['kx2_y2','ky2_x2','kx1_y1','ky1_x1']:\n",
    "    k[key]=sm*k[key]\n",
    "\n",
    "k['kleak']=0\n",
    "\n",
    "\n",
    "tstep = 1e-4\n",
    "tf = 100\n",
    "t = np.linspace(0, tf, tf/tstep+1)\n",
    "M=new_model(k)\n",
    "M.er_clamp=1\n",
    "# Solve ODE\n",
    "sol = odeint(M.ode,v0,t)"
   ]
  },
  {
   "cell_type": "code",
   "execution_count": 11,
   "metadata": {},
   "outputs": [
    {
     "ename": "NameError",
     "evalue": "name 'tf' is not defined",
     "output_type": "error",
     "traceback": [
      "\u001b[0;31m------------------------------------------------------\u001b[0m",
      "\u001b[0;31mNameError\u001b[0m            Traceback (most recent call last)",
      "\u001b[0;32m<ipython-input-11-5e40d0e342a0>\u001b[0m in \u001b[0;36m<module>\u001b[0;34m()\u001b[0m\n\u001b[1;32m      1\u001b[0m \u001b[0mplt\u001b[0m\u001b[0;34m.\u001b[0m\u001b[0mfigure\u001b[0m\u001b[0;34m(\u001b[0m\u001b[0mfigsize\u001b[0m\u001b[0;34m=\u001b[0m\u001b[0;34m(\u001b[0m\u001b[0;36m20\u001b[0m\u001b[0;34m,\u001b[0m\u001b[0;36m12\u001b[0m\u001b[0;34m)\u001b[0m\u001b[0;34m)\u001b[0m\u001b[0;34m\u001b[0m\u001b[0m\n\u001b[0;32m----> 2\u001b[0;31m \u001b[0mplt\u001b[0m\u001b[0;34m.\u001b[0m\u001b[0mplot\u001b[0m\u001b[0;34m(\u001b[0m\u001b[0mnp\u001b[0m\u001b[0;34m.\u001b[0m\u001b[0mlinspace\u001b[0m\u001b[0;34m(\u001b[0m\u001b[0;36m0\u001b[0m\u001b[0;34m,\u001b[0m\u001b[0mtf\u001b[0m\u001b[0;34m,\u001b[0m\u001b[0mlen\u001b[0m\u001b[0;34m(\u001b[0m\u001b[0mM\u001b[0m\u001b[0;34m.\u001b[0m\u001b[0mflux\u001b[0m\u001b[0;34m)\u001b[0m\u001b[0;34m)\u001b[0m\u001b[0;34m,\u001b[0m\u001b[0mnp\u001b[0m\u001b[0;34m.\u001b[0m\u001b[0marray\u001b[0m\u001b[0;34m(\u001b[0m\u001b[0mM\u001b[0m\u001b[0;34m.\u001b[0m\u001b[0mflux\u001b[0m\u001b[0;34m)\u001b[0m\u001b[0;34m*\u001b[0m\u001b[0;36m1e6\u001b[0m\u001b[0;34m)\u001b[0m\u001b[0;31m#sol[:,-1]*1e6)\u001b[0m\u001b[0;34m\u001b[0m\u001b[0m\n\u001b[0m\u001b[1;32m      3\u001b[0m \u001b[0;31m#plt.ylim((0,300))\u001b[0m\u001b[0;34m\u001b[0m\u001b[0;34m\u001b[0m\u001b[0m\n\u001b[1;32m      4\u001b[0m \u001b[0mprint\u001b[0m\u001b[0;34m(\u001b[0m\u001b[0mlist\u001b[0m\u001b[0;34m(\u001b[0m\u001b[0msol\u001b[0m\u001b[0;34m[\u001b[0m\u001b[0;34m-\u001b[0m\u001b[0;36m1\u001b[0m\u001b[0;34m,\u001b[0m\u001b[0;34m:\u001b[0m\u001b[0;34m]\u001b[0m\u001b[0;34m)\u001b[0m\u001b[0;34m)\u001b[0m\u001b[0;34m\u001b[0m\u001b[0m\n",
      "\u001b[0;31mNameError\u001b[0m: name 'tf' is not defined"
     ]
    },
    {
     "data": {
      "text/plain": [
       "<matplotlib.figure.Figure at 0x7f7ce97c4a58>"
      ]
     },
     "metadata": {},
     "output_type": "display_data"
    }
   ],
   "source": [
    "plt.figure(figsize=(20,12))\n",
    "plt.plot(np.linspace(0,tf,len(M.flux)),np.array(M.flux)*1e6)#sol[:,-1]*1e6)\n",
    "#plt.ylim((0,300))\n",
    "print(list(sol[-1,:]))"
   ]
  },
  {
   "cell_type": "code",
   "execution_count": 46,
   "metadata": {},
   "outputs": [
    {
     "data": {
      "text/plain": [
       "0.21405838101231592"
      ]
     },
     "execution_count": 46,
     "metadata": {},
     "output_type": "execute_result"
    }
   ],
   "source": [
    "kleak=577#35.05#\n",
    "ER_conc_rate=(2.1675*kleak+6.214988)*1e15/N_avo/vol_er*1e6\n",
    "\n",
    "ER_conc_rate/250"
   ]
  },
  {
   "cell_type": "code",
   "execution_count": 46,
   "metadata": {},
   "outputs": [
    {
     "name": "stdout",
     "output_type": "stream",
     "text": [
      "N= 0.00026033316269814734\n"
     ]
    }
   ],
   "source": [
    "old=81775.83556434109\n",
    "serca_conc_rate=500*1e15/N_avo/vol_er*1e6 #from MCell\n",
    "print(\"N=\",serca_conc_rate/old)"
   ]
  },
  {
   "cell_type": "code",
   "execution_count": 72,
   "metadata": {},
   "outputs": [
    {
     "data": {
      "text/plain": [
       "1259.2838604210299"
      ]
     },
     "execution_count": 72,
     "metadata": {},
     "output_type": "execute_result"
    }
   ],
   "source": [
    "5.3617692263536004e-05/(1e15/N_avo/vol_er)"
   ]
  },
  {
   "cell_type": "code",
   "execution_count": 7,
   "metadata": {},
   "outputs": [
    {
     "name": "stdout",
     "output_type": "stream",
     "text": [
      "Ca Flux in ions/sec =  82.20222328500002\n",
      "Predicted MCell kleak =  35.05599586580223\n"
     ]
    }
   ],
   "source": [
    "#from S Bandara et al 2013\n",
    "J=0.014*250 #uM/s\n",
    "J/=1e15/N_avo/vol_er*1e6\n",
    "print(\"Ca Flux in ions/sec = \",J)\n",
    "\n",
    "p=[2.1675959461586873, 6.214988757731395]\n",
    "kleak=(J-p[1])/p[0]\n",
    "print(\"Predicted MCell kleak = \",kleak)"
   ]
  },
  {
   "cell_type": "code",
   "execution_count": null,
   "metadata": {},
   "outputs": [],
   "source": []
  },
  {
   "cell_type": "code",
   "execution_count": 7,
   "metadata": {},
   "outputs": [],
   "source": [
    "def opt_sm(sm):\n",
    "    #constructing v0 initial vector\n",
    "    Ca=100e-9\n",
    "    cae=0#250.24e-6\n",
    "    pmca = np.array([2.39e-6, 5.82e-7, 4.54e-10])\n",
    "    npmca = 180\n",
    "    p = 180*pmca/sum(pmca)/N_avo/vol_cyt*1e15*1e6# uM\n",
    "    calbindin = [1.48e-05, 7.00e-06, 8.27e-07, 1.21e-05, 5.74e-06, 6.79e-07,\\\n",
    "    2.49e-06, 1.18e-06, 1.39e-07] # Total conc. = 45e-6 uM\n",
    "    v0 = [Ca]+list(p)+calbindin+get_SERCA_equilibrium(cae*1e6)+[cae]\n",
    "\n",
    "    #v0[-7:-1] =[ 0.6420802891222142, 0.30574391044577887, 0.035928792193863426, 0.005142394529773396, 0.008226136319601385, 0.002878477474144645] \n",
    "\n",
    "    #Changing parameters\n",
    "    k=k_orig.copy()\n",
    "    sf=3\n",
    "    #sm=3.53087274\n",
    "    for key in ['kx1_x1a','kx1a_x2']:\n",
    "        k[key]=sf*k[key]\n",
    "    for key in ['kx2_y2','ky2_x2','kx1_y1','ky1_x1']:\n",
    "        k[key]=sm*k[key]\n",
    "\n",
    "    k['kleak']=0.014 #0.21405838101231592#0.09519188799639043\n",
    "    #print(k)\n",
    "\n",
    "    tstep = 1e-4\n",
    "    tf = 1000\n",
    "    t = np.linspace(0, tf, tf/tstep+1)\n",
    "    M=new_model(k)\n",
    "    # Solve ODE\n",
    "    sol = odeint(M.ode,v0,t)\n",
    "    print(sol[-1,-1])\n",
    "    return sol[-1,-1]-250e-6"
   ]
  },
  {
   "cell_type": "code",
   "execution_count": 8,
   "metadata": {},
   "outputs": [
    {
     "name": "stderr",
     "output_type": "stream",
     "text": [
      "/usr/lib/python3/dist-packages/ipykernel_launcher.py:19: DeprecationWarning: object of type <class 'float'> cannot be safely interpreted as an integer.\n",
      "/usr/lib/python3/dist-packages/ipykernel_launcher.py:27: DeprecationWarning: object of type <class 'float'> cannot be safely interpreted as an integer.\n"
     ]
    },
    {
     "name": "stdout",
     "output_type": "stream",
     "text": [
      "0.0003242201457041875\n",
      "0.0003242201457041875\n",
      "0.0003242201457041875\n",
      "0.0003242201449321019\n",
      "0.0004146899283948508\n",
      "0.0002155346733047383\n",
      "0.0002629218412656777\n",
      "0.00025199379229092243\n",
      "0.0002498723385550397\n",
      "0.0002500012304238153\n",
      "0.0002500000009119127\n",
      "0.00025000000000055425\n",
      "0.00024999999597187923\n"
     ]
    },
    {
     "data": {
      "text/plain": [
       "array([1.57496328])"
      ]
     },
     "execution_count": 8,
     "metadata": {},
     "output_type": "execute_result"
    }
   ],
   "source": [
    "fsolve(opt_sm,3.593,)"
   ]
  },
  {
   "cell_type": "code",
   "execution_count": null,
   "metadata": {},
   "outputs": [],
   "source": []
  }
 ],
 "metadata": {
  "kernelspec": {
   "display_name": "Python 3",
   "language": "python",
   "name": "python3"
  },
  "language_info": {
   "codemirror_mode": {
    "name": "ipython",
    "version": 3
   },
   "file_extension": ".py",
   "mimetype": "text/x-python",
   "name": "python",
   "nbconvert_exporter": "python",
   "pygments_lexer": "ipython3",
   "version": "3.6.5"
  }
 },
 "nbformat": 4,
 "nbformat_minor": 2
}
