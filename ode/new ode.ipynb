{
 "cells": [
  {
   "cell_type": "code",
   "execution_count": 10,
   "metadata": {},
   "outputs": [],
   "source": [
    "%run ../tools/tools/get_SERCA_equilibrium.ipynb"
   ]
  },
  {
   "cell_type": "code",
   "execution_count": 11,
   "metadata": {},
   "outputs": [],
   "source": [
    "import numpy as np\n",
    "from scipy.integrate import *\n",
    "import matplotlib.pyplot as plt\n",
    "from math import *\n",
    "from scipy.optimize import *"
   ]
  },
  {
   "cell_type": "code",
   "execution_count": 12,
   "metadata": {},
   "outputs": [],
   "source": [
    "cai = 100.0e-9\n",
    "cae = 250e-6\n",
    "\n",
    "N_avo=6.0221409e23\n",
    "\n",
    "# Volume Normalisations\n",
    "vol_er = (3.9*0.1*0.1)\n",
    "vol_cyt = (4.0*0.5*0.5-vol_er)\n",
    "vol_tot = vol_cyt + vol_er\n",
    "ntot = 1\n",
    "ctot = ntot/vol_tot\n",
    "fvol_cyt = vol_cyt/vol_tot\n",
    "fvol_er = vol_er/vol_tot"
   ]
  },
  {
   "cell_type": "code",
   "execution_count": 13,
   "metadata": {},
   "outputs": [],
   "source": [
    "# Reaction Rates\n",
    "k_orig={\n",
    "    'kx1_x1a' : 2*1.0e8,\n",
    "    'kx1a_x2' : 1.0e8,\n",
    "    'kx1a_x1' : 83.666,\n",
    "    'kx2_x1a' : 2*83.666,\n",
    "    'kx2_y2'  : 0.6,\n",
    "    'ky2_x2'  : 4.118, #corrected\n",
    "    'ky2_y1a' : 2*30.015,\n",
    "    'ky1a_y1' : 30.015,\n",
    "    'ky1a_y2' : 1.0e5,\n",
    "    'ky1_y1a' : 2*1.0e5,\n",
    "    'ky1_x1'  : 0.4,\n",
    "    'kx1_y1'  : 1.20e-3,\n",
    "    'kleak'     : 0,\n",
    "\n",
    "    'cbHon'   : 0.55e7,\n",
    "    'cbHoff'  : 2.6,\n",
    "    'cbMon'   : 4.35e7,\n",
    "    'cbMoff'  : 35.8,\n",
    "     \n",
    "    'kPMCA01' : 1.5e8,\n",
    "    'kPMCA10' : 20,\n",
    "    'kPMCA12' : 100,\n",
    "    'kPMCA20' : 1e5,\n",
    "    'kPMCA0leak': 12.5\n",
    "\n",
    "}"
   ]
  },
  {
   "cell_type": "code",
   "execution_count": 28,
   "metadata": {},
   "outputs": [],
   "source": [
    "# ODE model\n",
    "class new_model:\n",
    "    # Volume Normalisations\n",
    "    vol_er = (3.9*0.1*0.1)\n",
    "    vol_cyt = (4.0*0.5*0.5-vol_er)\n",
    "    vol_tot = vol_cyt + vol_er\n",
    "    ntot = 1\n",
    "    ctot = ntot/vol_tot\n",
    "    fvol_cyt = vol_cyt/vol_tot\n",
    "    fvol_er = vol_er/vol_tot\n",
    "    \n",
    "    def __init__(self,parameters):\n",
    "        self.__dict__.update(parameters)\n",
    "    def ode(self,v,t):\n",
    "        Ca, PMCA0, PMCA1, PMCA2,\\\n",
    "        cbH0M0, cbH0M1, cbH0M2, cbH1M0, cbH1M1, cbH1M2, cbH2M0, cbH2M1, cbH2M2,\\\n",
    "        fx1, fx1a, fx2, fy2, fy1a, fy1, cae = v \n",
    "\n",
    "        dx1 = fx1*(-self.kx1_x1a*cai-self.kx1_y1)+fx1a*self.kx1a_x1+fy1*self.ky1_x1\n",
    "        dx1a = fx1a*(-self.kx1a_x2*cai-self.kx1a_x1)+fx1*cai*self.kx1_x1a+fx2*self.kx2_x1a\n",
    "        dx2 = fx2*(-self.kx2_y2-self.kx2_x1a)+fx1a*cai*self.kx1a_x2+fy2*self.ky2_x2\n",
    "\n",
    "        dy1 = fy1*(-self.ky1_y1a*cae-self.ky1_x1)+fy1a*self.ky1a_y1+fx1*self.kx1_y1\n",
    "        dy1a = fy1a*(-self.ky1a_y2*cae-self.ky1a_y1)+fy1*cae*self.ky1_y1a+fy2*self.ky2_y1a\n",
    "        dy2 = fy2*(-self.ky2_x2-self.ky2_y1a)+fy1a*cae*self.ky1a_y2+fx2*self.kx2_y2\n",
    "\n",
    "        dcae = -cae*(fy1a*self.ky1a_y2 + fy1*self.ky1_y1a) + (fy1a*self.ky1a_y1 + fy2*self.ky2_y1a)\n",
    "        dCa = (Ca*(-fx1*self.kx1_x1a-fx1a*self.kx1a_x2)+fx2*self.kx2_x1a+fx1a*self.kx1a_x1)\n",
    "\n",
    "        #er leaks\n",
    "        dcae += self.kleak*(Ca - cae)\n",
    "        dCa += -self.vol_er/self.vol_cyt*self.kleak*(Ca - cae)\n",
    "\n",
    "        ### PMCA\n",
    "        dCa   +=  (self.kPMCA0leak - self.kPMCA01*Ca)*PMCA0 + self.kPMCA10*PMCA1\n",
    "        dPMCA0 = + self.kPMCA20*PMCA2 + self.kPMCA10*PMCA1 - self.kPMCA01*Ca*PMCA0\n",
    "        dPMCA1 = - (self.kPMCA12 + self.kPMCA10)*PMCA1 + self.kPMCA01*Ca*PMCA0\n",
    "        dPMCA2 = - self.kPMCA20*PMCA2 + self.kPMCA12*PMCA1\n",
    "\n",
    "        ### Calcium Buffers\n",
    "        dCa   +=     self.cbMoff*(cbH2M1 + cbH1M1 + cbH0M1 + 2*(cbH2M2 + cbH1M2 + cbH0M2)) \\\n",
    "                + self.cbHoff*(cbH2M1 + cbH1M1 + cbH0M1 + 2*(cbH2M2 + cbH2M1 + cbH2M0)) \\\n",
    "             - (+ self.cbMon*(cbH2M1 + cbH1M1 + cbH0M1  + 2*(cbH2M0 + cbH1M0 + cbH0M0)) \\\n",
    "                + self.cbHon*(cbH2M1 + cbH1M1 + cbH0M1  + 2*(cbH0M2 + cbH0M1 + cbH0M0)) )*Ca\n",
    "\n",
    "        dcbH0M0 = - 2*(self.cbMon+self.cbHon)*cbH0M0*Ca + self.cbMoff*cbH0M1 + self.cbHoff*cbH1M0\n",
    "\n",
    "        dcbH0M1 = + (2*self.cbMon*cbH0M0 - (self.cbMon + 2*self.cbHon)*cbH0M1)*Ca \\\n",
    "                  + self.cbMoff*(2*cbH0M2 - cbH0M1) + self.cbHoff*cbH1M1\n",
    "\n",
    "        dcbH0M2 = + self.cbMon*cbH0M1*Ca - 2*(self.cbMoff + self.cbHon*Ca)*cbH0M2 + self.cbHoff*cbH1M2\n",
    "\n",
    "        dcbH1M0 = + (2*self.cbHon*cbH0M0 - (self.cbHon + 2*self.cbMon)*cbH1M0)*Ca\\\n",
    "                  + self.cbMoff*cbH1M1   + self.cbHoff*(2*cbH2M0 - cbH1M0)\n",
    "\n",
    "        dcbH1M1 = - ((self.cbMon + self.cbHon)*Ca + (self.cbHoff + self.cbMoff))*cbH1M1\\\n",
    "                  + 2*((self.cbMoff*cbH1M2 + self.cbHoff*cbH2M1) + (self.cbMon*cbH1M0 + self.cbHon*cbH0M1)*Ca)\n",
    "\n",
    "        dcbH1M2 = + (self.cbMon*cbH1M1 + 2*self.cbHon*cbH0M2 - self.cbHon*cbH1M2)*Ca\\\n",
    "                  - (2*self.cbMoff + self.cbHoff)*cbH1M2 + 2*self.cbHoff*cbH2M2\n",
    "\n",
    "        dcbH2M0 = + self.cbMoff*cbH2M1 + self.cbHon*cbH1M0*Ca - 2*(self.cbHoff + self.cbMon*Ca)*cbH2M0\n",
    "\n",
    "        dcbH2M1 = + (self.cbHon*cbH1M1 - self.cbMon*cbH2M1 + 2*self.cbMon*cbH2M0)*Ca\\\n",
    "                  + 2*(self.cbMoff*cbH2M2 - self.cbHoff*cbH2M1) - self.cbMoff*cbH2M1\n",
    "\n",
    "        dcbH2M2 = + (self.cbMon*cbH2M1 + self.cbHon*cbH1M2)*Ca - 2*(self.cbHoff + self.cbMoff)*cbH2M2\n",
    "\n",
    "        dX = [dCa, dPMCA0, dPMCA1, dPMCA2,\\\n",
    "              dcbH0M0, dcbH0M1, dcbH0M2, dcbH1M0, dcbH1M1, dcbH1M2, dcbH2M0, dcbH2M1, dcbH2M2,\\\n",
    "              dx1, dx1a, dx2, dy2, dy1a, dy1, dcae]\n",
    "\n",
    "        return dX"
   ]
  },
  {
   "cell_type": "code",
   "execution_count": 51,
   "metadata": {},
   "outputs": [
    {
     "name": "stderr",
     "output_type": "stream",
     "text": [
      "/usr/lib/python3/dist-packages/ipykernel_launcher.py:19: DeprecationWarning: object of type <class 'float'> cannot be safely interpreted as an integer.\n",
      "/usr/lib/python3/dist-packages/ipykernel_launcher.py:31: DeprecationWarning: object of type <class 'float'> cannot be safely interpreted as an integer.\n"
     ]
    },
    {
     "name": "stdout",
     "output_type": "stream",
     "text": [
      "20\n"
     ]
    }
   ],
   "source": [
    "Ca=100e-9\n",
    "cae=250e-6\n",
    "pmca = np.array([2.39e-6, 5.82e-7, 4.54e-10])\n",
    "npmca = 180\n",
    "p = 180*pmca/sum(pmca)/N_avo/vol_cyt*1e15*1e6# uM\n",
    "#print(p)\n",
    "\n",
    "calbindin = [1.48e-05, 7.00e-06, 8.27e-07, 1.21e-05, 5.74e-06, 6.79e-07,\\\n",
    "2.49e-06, 1.18e-06, 1.39e-07] # Total conc. = 45e-6 uM\n",
    "\n",
    "v0 = [Ca]+list(p)+calbindin+get_SERCA_equilibrium(cae*1e6)+[cae]\n",
    "#print(len(v0))\n",
    "#v0 = [0.79150804, 0.18920662, 0.011307258, 0.0023747239, 0.0039558979, 0.0016474684, cae]\n",
    "#v0 = [1, 0, 0.0, 0, 0, 0.0, cae]\n",
    "\n",
    "print(len(v0))\n",
    "\n",
    "\n",
    "k=k_orig.copy()\n",
    "sf=2\n",
    "sm=30\n",
    "for key in ['kx1_x1a','kx1a_x2']:\n",
    "    k[key]=sf*k[key]\n",
    "for key in ['kx2_y2','ky2_x2','kx1_y1','ky1_x1']:\n",
    "    k[key]=sm*k[key]\n",
    "\n",
    "k['kleak']=320\n",
    "#print(k)\n",
    "\n",
    "tstep = 1e-4\n",
    "tf = 100\n",
    "t = np.linspace(0, tf, tf/tstep+1)\n",
    "M=new_model(k)\n",
    "# Solve ODE\n",
    "sol = odeint(M.ode,v0,t)"
   ]
  },
  {
   "cell_type": "code",
   "execution_count": 52,
   "metadata": {},
   "outputs": [
    {
     "data": {
      "text/plain": [
       "[<matplotlib.lines.Line2D at 0x7f9b7668c5c0>]"
      ]
     },
     "execution_count": 52,
     "metadata": {},
     "output_type": "execute_result"
    },
    {
     "data": {
      "image/png": "[encoded data removed]",
      "text/plain": [
       "<matplotlib.figure.Figure at 0x7f9b766df438>"
      ]
     },
     "metadata": {},
     "output_type": "display_data"
    }
   ],
   "source": [
    "plt.figure(figsize=(20,12))\n",
    "plt.plot(t,sol[:,-1]*1e6)\n",
    "#plt.ylim((249.99e-6,250.03e-6))"
   ]
  },
  {
   "cell_type": "code",
   "execution_count": 87,
   "metadata": {},
   "outputs": [
    {
     "data": {
      "text/plain": [
       "0.09519188799639043"
      ]
     },
     "execution_count": 87,
     "metadata": {},
     "output_type": "execute_result"
    }
   ],
   "source": [
    "kleak=255\n",
    "ER_conc_rate=(2.1675*kleak+6.214988)*1e15/N_avo/vol_er*1e6\n",
    "\n",
    "ER_conc_rate/250"
   ]
  },
  {
   "cell_type": "code",
   "execution_count": null,
   "metadata": {},
   "outputs": [],
   "source": []
  }
 ],
 "metadata": {
  "kernelspec": {
   "display_name": "Python 3",
   "language": "python",
   "name": "python3"
  },
  "language_info": {
   "codemirror_mode": {
    "name": "ipython",
    "version": 3
   },
   "file_extension": ".py",
   "mimetype": "text/x-python",
   "name": "python",
   "nbconvert_exporter": "python",
   "pygments_lexer": "ipython3",
   "version": "3.6.5"
  }
 },
 "nbformat": 4,
 "nbformat_minor": 2
}
