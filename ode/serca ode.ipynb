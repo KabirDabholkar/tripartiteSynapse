{
 "cells": [
  {
   "cell_type": "code",
   "execution_count": 1,
   "metadata": {},
   "outputs": [],
   "source": [
    "from scipy.integrate import *\n",
    "import matplotlib.pyplot as plt\n",
    "from math import *\n",
    "import bohrium as np\n",
    "from scipy.optimize import *"
   ]
  },
  {
   "cell_type": "code",
   "execution_count": 2,
   "metadata": {},
   "outputs": [],
   "source": [
    "cai = 100.0e-9\n",
    "cae = 1.0e-6\n",
    "\n",
    "\n",
    "# Volume Normalisations\n",
    "vol_er = (3.9*0.1*0.1)\n",
    "vol_cyt = (4.0*0.5*0.5-vol_er)\n",
    "vol_tot = vol_cyt + vol_er\n",
    "ntot = 1\n",
    "ctot = ntot/vol_tot\n",
    "fvol_cyt = vol_cyt/vol_tot\n",
    "fvol_er = vol_er/vol_tot"
   ]
  },
  {
   "cell_type": "code",
   "execution_count": 3,
   "metadata": {},
   "outputs": [],
   "source": [
    "# Reaction Rates\n",
    "k_orig={\n",
    "    'kx1_x1a' : 2*1.0e8,\n",
    "    'kx1a_x2' : 1.0e8,\n",
    "    'kx1a_x1' : 83.666,\n",
    "    'kx2_x1a' : 2*83.666,\n",
    "    'kx2_y2' : 0.6,\n",
    "    'ky2_x2' : 4.118, #corrected\n",
    "    'ky2_y1a' : 2*30.015,\n",
    "    'ky1a_y1' : 30.015,\n",
    "    'ky1a_y2' : 1.0e5,\n",
    "    'ky1_y1a' : 2*1.0e5,\n",
    "    'ky1_x1' : 0.4,\n",
    "    'kx1_y1' : 1.20e-3,\n",
    "    'kca' : 0#40.45 #update\n",
    "}"
   ]
  },
  {
   "cell_type": "code",
   "execution_count": 4,
   "metadata": {},
   "outputs": [],
   "source": [
    "# SERCA ODE model\n",
    "def serca_ode(v ,t):\n",
    "    fx1, fx1a, fx2, fy2, fy1a, fy1, cae = v \n",
    "    for key in k.keys():\n",
    "        exec(key + \" = \"+str(k[key]))\n",
    "\n",
    "    dx1 = fx1*(-kx1_x1a*cai-kx1_y1)+fx1a*kx1a_x1+fy1*ky1_x1\n",
    "    dx1a = fx1a*(-kx1a_x2*cai-kx1a_x1)+fx1*cai*kx1_x1a+fx2*kx2_x1a\n",
    "    dx2 = fx2*(-kx2_y2-kx2_x1a)+fx1a*cai*kx1a_x2+fy2*ky2_x2\n",
    "\n",
    "    dy1 = fy1*(-ky1_y1a*cae-ky1_x1)+fy1a*ky1a_y1+fx1*kx1_y1\n",
    "    dy1a = fy1a*(-ky1a_y2*cae-ky1a_y1)+fy1*cae*ky1_y1a+fy2*ky2_y1a\n",
    "    dy2 = fy2*(-ky2_x2-ky2_y1a)+fy1a*cae*ky1a_y2+fx2*kx2_y2\n",
    "\n",
    "    dcae = -cae*(fy1a*ky1a_y2 + fy1*ky1_y1a) + (fy1a*ky1a_y1 + fy2*ky2_y1a) + kca*(cai - cae)\n",
    "    #print dcae\n",
    "\n",
    "    return [dx1, dx1a, dx2, dy2, dy1a, dy1, dcae]"
   ]
  },
  {
   "cell_type": "code",
   "execution_count": 5,
   "metadata": {},
   "outputs": [],
   "source": [
    "#params for 250\n",
    "cae=250e-6\n",
    "sf=1\n",
    "sm=15\n",
    "k=k_orig.copy()\n",
    "for key in ['ky2_x2','kx2_y2','ky1_x1','kx1_y1']:\n",
    "    k[key]=k[key]*sm\n",
    "    \n",
    "#for key in k.keys():\n",
    "#    k[key]=k[key]*sm\n",
    "\n",
    "# Initial Conditions 250\n",
    "v0 = [0.75554529, 0.18054556, 0.010757505, 0.011069105, 0.026363904, 0.015718635, cae]\n",
    "\n",
    "#v0 = [0.58250749, 0.28762388, 0.06026734, 0.03595298, 0.02742567,0.0061074,cae]\n",
    "#v0[3],v0[5] = v0[5],v0[3]\n",
    "v0 = [0.79150804, 0.18920662, 0.011307258, 0.0016474684, 0.0039558979, 0.0023747239, cae]\n",
    "#v0 = [1, 0, 0.0, 0, 0, 0.0, cae]\n",
    "serca_x1_feq = 0.75554529\n",
    "serca_x1a_feq = 0.18054556\n",
    "serca_x2_feq = 0.010757505\n",
    "serca_y1_feq = 0.015718635\n",
    "serca_y1a_feq = 0.026363904\n",
    "serca_y2_feq = 0.011069105"
   ]
  },
  {
   "cell_type": "code",
   "execution_count": 6,
   "metadata": {},
   "outputs": [],
   "source": [
    "#params for 500\n",
    "sf=2\n",
    "sm=1\n",
    "k=k_orig.copy()\n",
    "for key in ['kx1_x1a','kx1a_x2']:\n",
    "    k[key]=k[key]*sf\n",
    "    \n",
    "for key in ['ky2_x2','kx2_y2','ky1_x1','kx1_y1']:\n",
    "    k[key]=k[key]*sm\n",
    "\n",
    "# Initial Conditions 500\n",
    "#v0 = [0.75554529, 0.18054556, 0.010757505, 0.015718635, 0.026363904, 0.011069105, cae]\n",
    "cae=500e-6\n",
    "#v0 = [0.62341553, 0.28796958, 0.04206038, 0.019705, 0.02051164, 0.00633787,cae]\n",
    "#v0[3],v0[5] = v0[5],v0[3]\n",
    "v0=[6.42444113e-01, 3.07147043e-01, 3.67110945e-02, 5.34887244e-03, 6.42154346e-03, 1.92733239e-03, cae]\n",
    "#v0 = [0.79150804, 0.18920662, 0.011307258, 0.0023747239, 0.0039558979, 0.0016474684, cae]\n",
    "#v0 = [1, 0, 0.0, 0, 0, 0.0, cae]"
   ]
  },
  {
   "cell_type": "code",
   "execution_count": 7,
   "metadata": {},
   "outputs": [],
   "source": [
    "#params for 750\n",
    "sf=2\n",
    "sm=1\n",
    "k=k_orig.copy()\n",
    "for key in ['kx1_x1a','kx1a_x2']:\n",
    "    k[key]=k[key]*sf\n",
    "    \n",
    "for key in ['ky2_x2','kx2_y2','ky1_x1','kx1_y1']:\n",
    "    k[key]=k[key]*sm\n",
    "\n",
    "# Initial Conditions 500\n",
    "#v0 = [0.75554529, 0.18054556, 0.010757505, 0.015718635, 0.026363904, 0.011069105, cae]\n",
    "cae=0 #750e-6\n",
    "#v0 = [0.62341553, 0.28796958, 0.04206038, 0.019705, 0.02051164, 0.00633787,cae]\n",
    "#v0[3],v0[5] = v0[5],v0[3]\n",
    "v0=[1,0,0,0,0,0,cae]\n",
    "#v0=[0.53122686, 0.38096253, 0.0683006 , 0.00995152, 0.00796481, 0.00159368, cae]\n",
    "#v0 = [0.79150804, 0.18920662, 0.011307258, 0.0023747239, 0.0039558979, 0.0016474684, cae]\n",
    "#v0 = [1, 0, 0.0, 0, 0, 0.0, cae]"
   ]
  },
  {
   "cell_type": "code",
   "execution_count": 8,
   "metadata": {},
   "outputs": [],
   "source": [
    "#params for general final conc\n",
    "final_conc=500\n",
    "sf=final_conc/250.0\n",
    "sm=1\n",
    "k=k_orig.copy()\n",
    "for key in ['kx1_x1a','kx1a_x2']:\n",
    "    k[key]=k[key]*sf\n",
    "    \n",
    "for key in ['ky2_x2','kx2_y2']:\n",
    "    k[key]=k[key]*sm\n",
    "\n",
    "# Initial Conditions 500\n",
    "#v0 = [0.75554529, 0.18054556, 0.010757505, 0.015718635, 0.026363904, 0.011069105, cae]\n",
    "cae=100*1e-6\n",
    "#v0 = [0.62341553, 0.28796958, 0.04206038, 0.019705, 0.02051164, 0.00633787,cae]\n",
    "#v0[3],v0[5] = v0[5],v0[3]\n",
    "v0=[0.9064242610635374,\n",
    " 0.08667073947013512,\n",
    " 0.0020718270138444204,\n",
    " 0.0003018689189853863,\n",
    " 0.0018120308340165466,\n",
    " 0.002719272784396905, cae]\n",
    "#v0 = [0.79150804, 0.18920662, 0.011307258, 0.0023747239, 0.0039558979, 0.0016474684, cae]\n",
    "#v0 = [1, 0, 0.0, 0, 0, 0.0, cae]"
   ]
  },
  {
   "cell_type": "code",
   "execution_count": 9,
   "metadata": {},
   "outputs": [
    {
     "ename": "NameError",
     "evalue": "name 'kx1_x1a' is not defined",
     "output_type": "error",
     "traceback": [
      "\u001b[0;31m---------------------------------------------------------------------------\u001b[0m",
      "\u001b[0;31mNameError\u001b[0m                                 Traceback (most recent call last)",
      "\u001b[0;32m<ipython-input-9-811feb347009>\u001b[0m in \u001b[0;36m<module>\u001b[0;34m\u001b[0m\n\u001b[1;32m      4\u001b[0m \u001b[0;34m\u001b[0m\u001b[0m\n\u001b[1;32m      5\u001b[0m \u001b[0;31m# Solve ODE\u001b[0m\u001b[0;34m\u001b[0m\u001b[0;34m\u001b[0m\u001b[0;34m\u001b[0m\u001b[0m\n\u001b[0;32m----> 6\u001b[0;31m \u001b[0msol\u001b[0m \u001b[0;34m=\u001b[0m \u001b[0modeint\u001b[0m\u001b[0;34m(\u001b[0m\u001b[0mserca_ode\u001b[0m\u001b[0;34m,\u001b[0m \u001b[0mv0\u001b[0m\u001b[0;34m,\u001b[0m \u001b[0mt\u001b[0m\u001b[0;34m)\u001b[0m\u001b[0;34m\u001b[0m\u001b[0;34m\u001b[0m\u001b[0m\n\u001b[0m",
      "\u001b[0;32m~/anaconda3/lib/python3.7/site-packages/scipy/integrate/odepack.py\u001b[0m in \u001b[0;36modeint\u001b[0;34m(func, y0, t, args, Dfun, col_deriv, full_output, ml, mu, rtol, atol, tcrit, h0, hmax, hmin, ixpr, mxstep, mxhnil, mxordn, mxords, printmessg, tfirst)\u001b[0m\n\u001b[1;32m    242\u001b[0m                              \u001b[0mfull_output\u001b[0m\u001b[0;34m,\u001b[0m \u001b[0mrtol\u001b[0m\u001b[0;34m,\u001b[0m \u001b[0matol\u001b[0m\u001b[0;34m,\u001b[0m \u001b[0mtcrit\u001b[0m\u001b[0;34m,\u001b[0m \u001b[0mh0\u001b[0m\u001b[0;34m,\u001b[0m \u001b[0mhmax\u001b[0m\u001b[0;34m,\u001b[0m \u001b[0mhmin\u001b[0m\u001b[0;34m,\u001b[0m\u001b[0;34m\u001b[0m\u001b[0;34m\u001b[0m\u001b[0m\n\u001b[1;32m    243\u001b[0m                              \u001b[0mixpr\u001b[0m\u001b[0;34m,\u001b[0m \u001b[0mmxstep\u001b[0m\u001b[0;34m,\u001b[0m \u001b[0mmxhnil\u001b[0m\u001b[0;34m,\u001b[0m \u001b[0mmxordn\u001b[0m\u001b[0;34m,\u001b[0m \u001b[0mmxords\u001b[0m\u001b[0;34m,\u001b[0m\u001b[0;34m\u001b[0m\u001b[0;34m\u001b[0m\u001b[0m\n\u001b[0;32m--> 244\u001b[0;31m                              int(bool(tfirst)))\n\u001b[0m\u001b[1;32m    245\u001b[0m     \u001b[0;32mif\u001b[0m \u001b[0moutput\u001b[0m\u001b[0;34m[\u001b[0m\u001b[0;34m-\u001b[0m\u001b[0;36m1\u001b[0m\u001b[0;34m]\u001b[0m \u001b[0;34m<\u001b[0m \u001b[0;36m0\u001b[0m\u001b[0;34m:\u001b[0m\u001b[0;34m\u001b[0m\u001b[0;34m\u001b[0m\u001b[0m\n\u001b[1;32m    246\u001b[0m         \u001b[0mwarning_msg\u001b[0m \u001b[0;34m=\u001b[0m \u001b[0m_msgs\u001b[0m\u001b[0;34m[\u001b[0m\u001b[0moutput\u001b[0m\u001b[0;34m[\u001b[0m\u001b[0;34m-\u001b[0m\u001b[0;36m1\u001b[0m\u001b[0;34m]\u001b[0m\u001b[0;34m]\u001b[0m \u001b[0;34m+\u001b[0m \u001b[0;34m\" Run with full_output = 1 to get quantitative information.\"\u001b[0m\u001b[0;34m\u001b[0m\u001b[0;34m\u001b[0m\u001b[0m\n",
      "\u001b[0;32m<ipython-input-4-72f42c6c1b05>\u001b[0m in \u001b[0;36mserca_ode\u001b[0;34m(v, t)\u001b[0m\n\u001b[1;32m      5\u001b[0m         \u001b[0mexec\u001b[0m\u001b[0;34m(\u001b[0m\u001b[0mkey\u001b[0m \u001b[0;34m+\u001b[0m \u001b[0;34m\" = \"\u001b[0m\u001b[0;34m+\u001b[0m\u001b[0mstr\u001b[0m\u001b[0;34m(\u001b[0m\u001b[0mk\u001b[0m\u001b[0;34m[\u001b[0m\u001b[0mkey\u001b[0m\u001b[0;34m]\u001b[0m\u001b[0;34m)\u001b[0m\u001b[0;34m)\u001b[0m\u001b[0;34m\u001b[0m\u001b[0;34m\u001b[0m\u001b[0m\n\u001b[1;32m      6\u001b[0m \u001b[0;34m\u001b[0m\u001b[0m\n\u001b[0;32m----> 7\u001b[0;31m     \u001b[0mdx1\u001b[0m \u001b[0;34m=\u001b[0m \u001b[0mfx1\u001b[0m\u001b[0;34m*\u001b[0m\u001b[0;34m(\u001b[0m\u001b[0;34m-\u001b[0m\u001b[0mkx1_x1a\u001b[0m\u001b[0;34m*\u001b[0m\u001b[0mcai\u001b[0m\u001b[0;34m-\u001b[0m\u001b[0mkx1_y1\u001b[0m\u001b[0;34m)\u001b[0m\u001b[0;34m+\u001b[0m\u001b[0mfx1a\u001b[0m\u001b[0;34m*\u001b[0m\u001b[0mkx1a_x1\u001b[0m\u001b[0;34m+\u001b[0m\u001b[0mfy1\u001b[0m\u001b[0;34m*\u001b[0m\u001b[0mky1_x1\u001b[0m\u001b[0;34m\u001b[0m\u001b[0;34m\u001b[0m\u001b[0m\n\u001b[0m\u001b[1;32m      8\u001b[0m     \u001b[0mdx1a\u001b[0m \u001b[0;34m=\u001b[0m \u001b[0mfx1a\u001b[0m\u001b[0;34m*\u001b[0m\u001b[0;34m(\u001b[0m\u001b[0;34m-\u001b[0m\u001b[0mkx1a_x2\u001b[0m\u001b[0;34m*\u001b[0m\u001b[0mcai\u001b[0m\u001b[0;34m-\u001b[0m\u001b[0mkx1a_x1\u001b[0m\u001b[0;34m)\u001b[0m\u001b[0;34m+\u001b[0m\u001b[0mfx1\u001b[0m\u001b[0;34m*\u001b[0m\u001b[0mcai\u001b[0m\u001b[0;34m*\u001b[0m\u001b[0mkx1_x1a\u001b[0m\u001b[0;34m+\u001b[0m\u001b[0mfx2\u001b[0m\u001b[0;34m*\u001b[0m\u001b[0mkx2_x1a\u001b[0m\u001b[0;34m\u001b[0m\u001b[0;34m\u001b[0m\u001b[0m\n\u001b[1;32m      9\u001b[0m     \u001b[0mdx2\u001b[0m \u001b[0;34m=\u001b[0m \u001b[0mfx2\u001b[0m\u001b[0;34m*\u001b[0m\u001b[0;34m(\u001b[0m\u001b[0;34m-\u001b[0m\u001b[0mkx2_y2\u001b[0m\u001b[0;34m-\u001b[0m\u001b[0mkx2_x1a\u001b[0m\u001b[0;34m)\u001b[0m\u001b[0;34m+\u001b[0m\u001b[0mfx1a\u001b[0m\u001b[0;34m*\u001b[0m\u001b[0mcai\u001b[0m\u001b[0;34m*\u001b[0m\u001b[0mkx1a_x2\u001b[0m\u001b[0;34m+\u001b[0m\u001b[0mfy2\u001b[0m\u001b[0;34m*\u001b[0m\u001b[0mky2_x2\u001b[0m\u001b[0;34m\u001b[0m\u001b[0;34m\u001b[0m\u001b[0m\n",
      "\u001b[0;31mNameError\u001b[0m: name 'kx1_x1a' is not defined"
     ]
    }
   ],
   "source": [
    "tstep = 1e-4\n",
    "tf = 1\n",
    "t = np.linspace(0, tf, tf/tstep+1)\n",
    "\n",
    "# Solve ODE\n",
    "sol = odeint(serca_ode, v0, t)"
   ]
  },
  {
   "cell_type": "code",
   "execution_count": null,
   "metadata": {},
   "outputs": [],
   "source": [
    "plt.figure(figsize=(20,12))\n",
    "state_label=['x0','x1','x2','y2','y1','y0']\n",
    "for i in range(6):\n",
    "    plt.plot(t,sol[:,i],label=state_label[i])\n",
    "         \n",
    "plt.legend()\n",
    "\n",
    "\n",
    "plt.figure(figsize=(20,12))\n",
    "#grid(True)\n",
    "plt.plot(t,sol[:,6]*1e6)\n",
    "np.array(sol[-1,:])"
   ]
  },
  {
   "cell_type": "code",
   "execution_count": 47,
   "metadata": {},
   "outputs": [],
   "source": [
    "a=\"\"\"plt.figure(figsize=(20,12))\n",
    "for sf in np.linspace(1.0,3.0,99):\n",
    "    k=k_orig.copy()\n",
    "    for key in ['kx1_x1a','kx1a_x2']:\n",
    "        k[key]=k[key]*sf\n",
    "    tstep = 1e-2\n",
    "    tf = 100\n",
    "    t = np.linspace(0, tf, tf/tstep+1)\n",
    "\n",
    "    # Solve ODE\n",
    "    sol = odeint(serca_ode, v0, t)\n",
    "    plt.plot(t,sol[:,6]*1e6,label='sf='+str(sf))\n",
    "plt.legend()\n",
    "    \"\"\""
   ]
  },
  {
   "cell_type": "code",
   "execution_count": 6,
   "metadata": {},
   "outputs": [],
   "source": [
    "def func_tbs(f,eq_value):\n",
    "\tprint f[0]\n",
    "\tk['kx1_xa'],k['kx1a_x2']=k['kx1_x1a']*f[0],k['kx1a_x2']*f[0] \n",
    "\tsol = odeint(serca_ode, v0, t)\n",
    "\treturn sol[-1,-1]-eq_value"
   ]
  },
  {
   "cell_type": "code",
   "execution_count": 7,
   "metadata": {},
   "outputs": [],
   "source": [
    "k=k_orig.copy()\n",
    "cae=0\n",
    "v0 = [0.4, 0.1, 0.0, 0.4, 0.1, 0.0, cae]\n",
    "\n",
    "tstep = 1e-2\n",
    "tf = 100\n",
    "t = np.arange(0, tf, tstep)"
   ]
  },
  {
   "cell_type": "code",
   "execution_count": null,
   "metadata": {},
   "outputs": [],
   "source": [
    "SOL=fsolve(func_tbs,1,args=(500.0e-6,))"
   ]
  },
  {
   "cell_type": "code",
   "execution_count": null,
   "metadata": {},
   "outputs": [],
   "source": []
  },
  {
   "cell_type": "code",
   "execution_count": 23,
   "metadata": {},
   "outputs": [
    {
     "name": "stdout",
     "output_type": "stream",
     "text": [
      "[1.         1.22222222 1.44444444 1.66666667 1.88888889 2.11111111\n",
      " 2.33333333 2.55555556 2.77777778 3.        ]\n"
     ]
    }
   ],
   "source": [
    "print np.linspace(1.0,3.0,10)"
   ]
  },
  {
   "cell_type": "code",
   "execution_count": null,
   "metadata": {},
   "outputs": [],
   "source": []
  }
 ],
 "metadata": {
  "kernelspec": {
   "display_name": "Python 2",
   "language": "python",
   "name": "python2"
  },
  "language_info": {
   "codemirror_mode": {
    "name": "ipython",
    "version": 3
   },
   "file_extension": ".py",
   "mimetype": "text/x-python",
   "name": "python",
   "nbconvert_exporter": "python",
   "pygments_lexer": "ipython3",
   "version": "3.7.3"
  }
 },
 "nbformat": 4,
 "nbformat_minor": 2
}
