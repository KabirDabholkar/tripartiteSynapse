{
 "cells": [
  {
   "cell_type": "code",
   "execution_count": 2,
   "metadata": {},
   "outputs": [],
   "source": [
    "from numpy import *\n",
    "import bqplot as bq\n",
    "from ipywidgets import interact, interactive, Layout, Box, HBox, VBox, Label\n",
    "import ipywidgets as widgets\n",
    "from IPython.display import display\n",
    "\n",
    "from scipy import optimize\n",
    "from scipy.integrate import odeint"
   ]
  },
  {
   "cell_type": "code",
   "execution_count": 3,
   "metadata": {},
   "outputs": [],
   "source": [
    "class model:\n",
    "    # Volume Normalisations\n",
    "    vol_er = (3.9*0.1*0.1) # all units in um\n",
    "    vol_cyt = (4.0*0.5*0.5-vol_er)\n",
    "    vol_tot = vol_cyt + vol_er\n",
    "    Pt=15e-6\n",
    "    gamma=vol_er/vol_cyt\n",
    "    c=100e-9\n",
    "    t0_cond=[Pt,0,0,0,0]\n",
    "    initials=[1,1,1,1,1,1,1,1]\n",
    "    eq_value=[Pt/4,Pt/4,gamma*Pt/4,gamma*Pt/4,250e-6]\n",
    "\n",
    "\n",
    "\n",
    "def ode(x,t,k1,k_1,k2,k_2,k3,k_3,k4,k_4):\n",
    "    x1,x2,y1,y2,ce=x\n",
    "    dx1 = k4*y1/gamma-k_4*x1-k1*c**2*x1+k_1*x2\n",
    "    dx2 = k1*c**2*x1-k_1*x2+k_2*y2/gamma-k2*x2\n",
    "    dy1 = k2*y2-k_3*ce**2*y1-k4\n",
    "    dy2 = k2*x2/gamma-k_2*y2-k3*y2+k_3*ce**2*y1\n",
    "    dce = 2*k3*y2-2*k_3*ce**2*y1\n",
    "    return [dx1,dx2,dy1,dy2,dce]\n",
    "\n",
    "def func_tbs(params, value):\n",
    "    X=odeint(ode,t0_cond,t,args=tuple(params))\n",
    "    return X[-1]-value"
   ]
  },
  {
   "cell_type": "code",
   "execution_count": null,
   "metadata": {},
   "outputs": [],
   "source": []
  }
 ],
 "metadata": {
  "kernelspec": {
   "display_name": "Python 2",
   "language": "python",
   "name": "python2"
  },
  "language_info": {
   "codemirror_mode": {
    "name": "ipython",
    "version": 2
   },
   "file_extension": ".py",
   "mimetype": "text/x-python",
   "name": "python",
   "nbconvert_exporter": "python",
   "pygments_lexer": "ipython2",
   "version": "2.7.15rc1"
  }
 },
 "nbformat": 4,
 "nbformat_minor": 2
}
