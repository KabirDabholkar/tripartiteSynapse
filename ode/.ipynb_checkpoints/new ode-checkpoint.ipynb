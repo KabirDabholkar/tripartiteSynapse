{
 "cells": [
  {
   "cell_type": "code",
   "execution_count": 1,
   "metadata": {},
   "outputs": [],
   "source": [
    "%run ../tools/tools/get_SERCA_equilibrium.ipynb"
   ]
  },
  {
   "cell_type": "code",
   "execution_count": 2,
   "metadata": {},
   "outputs": [],
   "source": [
    "import numpy as np\n",
    "from scipy.integrate import *\n",
    "import matplotlib.pyplot as plt\n",
    "from math import *\n",
    "from scipy.optimize import *"
   ]
  },
  {
   "cell_type": "code",
   "execution_count": 3,
   "metadata": {},
   "outputs": [],
   "source": [
    "cai = 100.0e-9\n",
    "cae = 250e-6\n",
    "\n",
    "N_avo=6.0221409e23\n",
    "\n",
    "# Volume Normalisations\n",
    "vol_er = (3.9*0.1*0.1)\n",
    "vol_cyt = (4.0*0.5*0.5-vol_er)\n",
    "vol_tot = vol_cyt + vol_er\n",
    "ntot = 1\n",
    "ctot = ntot/vol_tot\n",
    "fvol_cyt = vol_cyt/vol_tot\n",
    "fvol_er = vol_er/vol_tot"
   ]
  },
  {
   "cell_type": "code",
   "execution_count": 4,
   "metadata": {},
   "outputs": [],
   "source": [
    "# Reaction Rates\n",
    "k_orig={\n",
    "    'kx1_x1a' : 2*1.0e8,\n",
    "    'kx1a_x2' : 1.0e8,\n",
    "    'kx1a_x1' : 83.666,\n",
    "    'kx2_x1a' : 2*83.666,\n",
    "    'kx2_y2'  : 0.6,\n",
    "    'ky2_x2'  : 4.118, #corrected\n",
    "    'ky2_y1a' : 2*30.015,\n",
    "    'ky1a_y1' : 30.015,\n",
    "    'ky1a_y2' : 1.0e5,\n",
    "    'ky1_y1a' : 2*1.0e5,\n",
    "    'ky1_x1'  : 0.4,\n",
    "    'kx1_y1'  : 1.20e-3,\n",
    "    'kleak'     : 0,\n",
    "\n",
    "    'cbHon'   : 0.55e7,\n",
    "    'cbHoff'  : 2.6,\n",
    "    'cbMon'   : 4.35e7,\n",
    "    'cbMoff'  : 35.8,\n",
    "     \n",
    "    'kPMCA01' : 1.5e8,\n",
    "    'kPMCA10' : 20,\n",
    "    'kPMCA12' : 100,\n",
    "    'kPMCA20' : 1e5,\n",
    "    'kPMCA0leak': 12.5\n",
    "\n",
    "}"
   ]
  },
  {
   "cell_type": "code",
   "execution_count": 14,
   "metadata": {},
   "outputs": [],
   "source": [
    "# ODE model\n",
    "def ode(v,t,k):\n",
    "    Ca, PMCA0, PMCA1, PMCA2,\\\n",
    "    cbH0M0, cbH0M1, cbH0M2, cbH1M0, cbH1M1, cbH1M2, cbH2M0, cbH2M1, cbH2M2,\\\n",
    "    fx1, fx1a, fx2, fy2, fy1a, fy1, cae = v \n",
    "    \n",
    "    execute_string=[]\n",
    "    for key in my_k.keys():\n",
    "        execute_string.append(key+\"; \"+key + \" = \"+str(my_k[key]))\n",
    "    exec('; '.join(execute_string))\n",
    "    #for key in k.keys():\n",
    "    #    exec(\"print(key,\"+str(k[key])+\")\")\n",
    "\n",
    "    dx1 = fx1*(-kx1_x1a*Ca-kx1_y1)+fx1a*kx1a_x1+fy1*ky1_x1\n",
    "    dx1a = fx1a*(-kx1a_x2*Ca-kx1a_x1)+fx1*Ca*kx1_x1a+fx2*kx2_x1a\n",
    "    dx2 = fx2*(-kx2_y2-kx2_x1a)+fx1a*Ca*kx1a_x2+fy2*ky2_x2\n",
    "\n",
    "    dy1 = fy1*(-ky1_y1a*cae-ky1_x1)+fy1a*ky1a_y1+fx1*kx1_y1\n",
    "    dy1a = fy1a*(-ky1a_y2*cae-ky1a_y1)+fy1*cae*ky1_y1a+fy2*ky2_y1a\n",
    "    dy2 = fy2*(-ky2_x2-ky2_y1a)+fy1a*cae*ky1a_y2+fx2*kx2_y2\n",
    "\n",
    "    dcae = -cae*(fy1a*ky1a_y2 + fy1*ky1_y1a) + (fy1a*ky1a_y1 + fy2*ky2_y1a)\n",
    "    dCa = (Ca*(-fx1*kx1_x1a-fx1a*kx1a_x2)+fx2*kx2_x1a+fx1a*kx1a_x1)\n",
    "    \n",
    "    #er leaks\n",
    "    print(kleak)\n",
    "    dcae += kleak*(Ca - cae)\n",
    "    dCa += -vol_er/vol_cyt*kleak*(Ca - cae)\n",
    "    \n",
    "    ### PMCA\n",
    "    dCa   +=  (kPMCA0leak - kPMCA01*Ca)*PMCA0 + kPMCA10*PMCA1\n",
    "    dPMCA0 = + kPMCA20*PMCA2 + kPMCA10*PMCA1 - kPMCA01*Ca*PMCA0\n",
    "    dPMCA1 = - (kPMCA12 + kPMCA10)*PMCA1 + kPMCA01*Ca*PMCA0\n",
    "    dPMCA2 = - kPMCA20*PMCA2 + kPMCA12*PMCA1\n",
    "\n",
    "    ### Calcium Buffers\n",
    "    dCa   +=     cbMoff*(cbH2M1 + cbH1M1 + cbH0M1 + 2*(cbH2M2 + cbH1M2 + cbH0M2)) \\\n",
    "            + cbHoff*(cbH2M1 + cbH1M1 + cbH0M1 + 2*(cbH2M2 + cbH2M1 + cbH2M0)) \\\n",
    "         - (+ cbMon*(cbH2M1 + cbH1M1 + cbH0M1  + 2*(cbH2M0 + cbH1M0 + cbH0M0)) \\\n",
    "            + cbHon*(cbH2M1 + cbH1M1 + cbH0M1  + 2*(cbH0M2 + cbH0M1 + cbH0M0)) )*Ca\n",
    "\n",
    "    dcbH0M0 = - 2*(cbMon+cbHon)*cbH0M0*Ca + cbMoff*cbH0M1 + cbHoff*cbH1M0\n",
    "\n",
    "    dcbH0M1 = + (2*cbMon*cbH0M0 - (cbMon + 2*cbHon)*cbH0M1)*Ca \\\n",
    "              + cbMoff*(2*cbH0M2 - cbH0M1) + cbHoff*cbH1M1\n",
    "\n",
    "    dcbH0M2 = + cbMon*cbH0M1*Ca - 2*(cbMoff + cbHon*Ca)*cbH0M2 + cbHoff*cbH1M2\n",
    "\n",
    "    dcbH1M0 = + (2*cbHon*cbH0M0 - (cbHon + 2*cbMon)*cbH1M0)*Ca\\\n",
    "              + cbMoff*cbH1M1   + cbHoff*(2*cbH2M0 - cbH1M0)\n",
    "\n",
    "    dcbH1M1 = - ((cbMon + cbHon)*Ca + (cbHoff + cbMoff))*cbH1M1\\\n",
    "              + 2*((cbMoff*cbH1M2 + cbHoff*cbH2M1) + (cbMon*cbH1M0 + cbHon*cbH0M1)*Ca)\n",
    "\n",
    "    dcbH1M2 = + (cbMon*cbH1M1 + 2*cbHon*cbH0M2 - cbHon*cbH1M2)*Ca\\\n",
    "              - (2*cbMoff + cbHoff)*cbH1M2 + 2*cbHoff*cbH2M2\n",
    "\n",
    "    dcbH2M0 = + cbMoff*cbH2M1 + cbHon*cbH1M0*Ca - 2*(cbHoff + cbMon*Ca)*cbH2M0\n",
    "\n",
    "    dcbH2M1 = + (cbHon*cbH1M1 - cbMon*cbH2M1 + 2*cbMon*cbH2M0)*Ca\\\n",
    "              + 2*(cbMoff*cbH2M2 - cbHoff*cbH2M1) - cbMoff*cbH2M1\n",
    "\n",
    "    dcbH2M2 = + (cbMon*cbH2M1 + cbHon*cbH1M2)*Ca - 2*(cbHoff + cbMoff)*cbH2M2\n",
    "\n",
    "    dX = [dCa, dPMCA0, dPMCA1, dPMCA2,\\\n",
    "          dcbH0M0, dcbH0M1, dcbH0M2, dcbH1M0, dcbH1M1, dcbH1M2, dcbH2M0, dcbH2M1, dcbH2M2,\\\n",
    "          dx1, dx1a, dx2, dy2, dy1a, dy1, dcae]\n",
    "    \n",
    "    return dX"
   ]
  },
  {
   "cell_type": "code",
   "execution_count": 15,
   "metadata": {},
   "outputs": [
    {
     "name": "stdout",
     "output_type": "stream",
     "text": [
      "{'kx1_x1a': 400000000.0, 'kx1a_x2': 200000000.0, 'kx1a_x1': 83.666, 'kx2_x1a': 167.332, 'kx2_y2': 18.0, 'ky2_x2': 123.54, 'ky2_y1a': 60.03, 'ky1a_y1': 30.015, 'ky1a_y2': 100000.0, 'ky1_y1a': 200000.0, 'ky1_x1': 12.0, 'kx1_y1': 0.036, 'kleak': 0.09519188799639043, 'cbHon': 5500000.0, 'cbHoff': 2.6, 'cbMon': 43500000.0, 'cbMoff': 35.8, 'kPMCA01': 150000000.0, 'kPMCA10': 20, 'kPMCA12': 100, 'kPMCA20': 100000.0, 'kPMCA0leak': 12.5}\n"
     ]
    },
    {
     "name": "stderr",
     "output_type": "stream",
     "text": [
      "/usr/lib/python3/dist-packages/ipykernel_launcher.py:18: DeprecationWarning: object of type <class 'float'> cannot be safely interpreted as an integer.\n"
     ]
    }
   ],
   "source": [
    "Ca=100e-9\n",
    "cae=250e-6\n",
    "pmca = np.array([2.39e-6, 5.82e-7, 4.54e-10])\n",
    "npmca = 180\n",
    "p = 180*pmca/sum(pmca)/N_avo/vol_cyt*1e15*1e6# uM\n",
    "#print(p)\n",
    "\n",
    "calbindin = [1.48e-05, 7.00e-06, 8.27e-07, 1.21e-05, 5.74e-06, 6.79e-07,\\\n",
    "2.49e-06, 1.18e-06, 1.39e-07] # Total conc. = 45e-6 uM\n",
    "\n",
    "v0 = [Ca]+list(p)+calbindin+get_SERCA_equilibrium(cae*1e6)+[cae]\n",
    "#print(len(v0))\n",
    "#v0 = [0.79150804, 0.18920662, 0.011307258, 0.0023747239, 0.0039558979, 0.0016474684, cae]\n",
    "#v0 = [1, 0, 0.0, 0, 0, 0.0, cae]\n",
    "\n",
    "\n",
    "\n",
    "\n",
    "k=k_orig.copy()\n",
    "sf=2\n",
    "sm=30\n",
    "for key in ['kx1_x1a','kx1a_x2']:\n",
    "    k[key]=sf*k[key]\n",
    "for key in ['kx2_y2','ky2_x2','kx1_y1','ky1_x1']:\n",
    "    k[key]=sm*k[key]\n",
    "\n",
    "k['kleak']=0.09519188799639043\n",
    "print(k)"
   ]
  },
  {
   "cell_type": "code",
   "execution_count": 16,
   "metadata": {},
   "outputs": [
    {
     "name": "stderr",
     "output_type": "stream",
     "text": [
      "/usr/lib/python3/dist-packages/ipykernel_launcher.py:3: DeprecationWarning: object of type <class 'float'> cannot be safely interpreted as an integer.\n",
      "  This is separate from the ipykernel package so we can avoid doing imports until\n"
     ]
    },
    {
     "ename": "NameError",
     "evalue": "name 'kleak' is not defined",
     "output_type": "error",
     "traceback": [
      "\u001b[0;31m---------------------------------------------------------------------------\u001b[0m",
      "\u001b[0;31mNameError\u001b[0m                                 Traceback (most recent call last)",
      "\u001b[0;32m<ipython-input-16-1d61dd6a4f42>\u001b[0m in \u001b[0;36m<module>\u001b[0;34m()\u001b[0m\n\u001b[1;32m      4\u001b[0m \u001b[0;34m\u001b[0m\u001b[0m\n\u001b[1;32m      5\u001b[0m \u001b[0;31m# Solve ODE\u001b[0m\u001b[0;34m\u001b[0m\u001b[0;34m\u001b[0m\u001b[0m\n\u001b[0;32m----> 6\u001b[0;31m \u001b[0msol\u001b[0m \u001b[0;34m=\u001b[0m \u001b[0modeint\u001b[0m\u001b[0;34m(\u001b[0m\u001b[0mode\u001b[0m\u001b[0;34m,\u001b[0m\u001b[0mv0\u001b[0m\u001b[0;34m,\u001b[0m\u001b[0mt\u001b[0m\u001b[0;34m,\u001b[0m\u001b[0margs\u001b[0m\u001b[0;34m=\u001b[0m\u001b[0;34m(\u001b[0m\u001b[0mk\u001b[0m\u001b[0;34m,\u001b[0m\u001b[0;34m)\u001b[0m\u001b[0;34m)\u001b[0m\u001b[0;34m\u001b[0m\u001b[0m\n\u001b[0m",
      "\u001b[0;32m/home/kabir/.local/lib/python3.6/site-packages/scipy/integrate/odepack.py\u001b[0m in \u001b[0;36modeint\u001b[0;34m(func, y0, t, args, Dfun, col_deriv, full_output, ml, mu, rtol, atol, tcrit, h0, hmax, hmin, ixpr, mxstep, mxhnil, mxordn, mxords, printmessg, tfirst)\u001b[0m\n\u001b[1;32m    242\u001b[0m                              \u001b[0mfull_output\u001b[0m\u001b[0;34m,\u001b[0m \u001b[0mrtol\u001b[0m\u001b[0;34m,\u001b[0m \u001b[0matol\u001b[0m\u001b[0;34m,\u001b[0m \u001b[0mtcrit\u001b[0m\u001b[0;34m,\u001b[0m \u001b[0mh0\u001b[0m\u001b[0;34m,\u001b[0m \u001b[0mhmax\u001b[0m\u001b[0;34m,\u001b[0m \u001b[0mhmin\u001b[0m\u001b[0;34m,\u001b[0m\u001b[0;34m\u001b[0m\u001b[0m\n\u001b[1;32m    243\u001b[0m                              \u001b[0mixpr\u001b[0m\u001b[0;34m,\u001b[0m \u001b[0mmxstep\u001b[0m\u001b[0;34m,\u001b[0m \u001b[0mmxhnil\u001b[0m\u001b[0;34m,\u001b[0m \u001b[0mmxordn\u001b[0m\u001b[0;34m,\u001b[0m \u001b[0mmxords\u001b[0m\u001b[0;34m,\u001b[0m\u001b[0;34m\u001b[0m\u001b[0m\n\u001b[0;32m--> 244\u001b[0;31m                              int(bool(tfirst)))\n\u001b[0m\u001b[1;32m    245\u001b[0m     \u001b[0;32mif\u001b[0m \u001b[0moutput\u001b[0m\u001b[0;34m[\u001b[0m\u001b[0;34m-\u001b[0m\u001b[0;36m1\u001b[0m\u001b[0;34m]\u001b[0m \u001b[0;34m<\u001b[0m \u001b[0;36m0\u001b[0m\u001b[0;34m:\u001b[0m\u001b[0;34m\u001b[0m\u001b[0m\n\u001b[1;32m    246\u001b[0m         \u001b[0mwarning_msg\u001b[0m \u001b[0;34m=\u001b[0m \u001b[0m_msgs\u001b[0m\u001b[0;34m[\u001b[0m\u001b[0moutput\u001b[0m\u001b[0;34m[\u001b[0m\u001b[0;34m-\u001b[0m\u001b[0;36m1\u001b[0m\u001b[0;34m]\u001b[0m\u001b[0;34m]\u001b[0m \u001b[0;34m+\u001b[0m \u001b[0;34m\" Run with full_output = 1 to get quantitative information.\"\u001b[0m\u001b[0;34m\u001b[0m\u001b[0m\n",
      "\u001b[0;32m<ipython-input-14-6c2684026202>\u001b[0m in \u001b[0;36mode\u001b[0;34m(v, t, k)\u001b[0m\n\u001b[1;32m     20\u001b[0m \u001b[0;34m\u001b[0m\u001b[0m\n\u001b[1;32m     21\u001b[0m     \u001b[0;31m#er leaks\u001b[0m\u001b[0;34m\u001b[0m\u001b[0;34m\u001b[0m\u001b[0m\n\u001b[0;32m---> 22\u001b[0;31m     \u001b[0mprint\u001b[0m\u001b[0;34m(\u001b[0m\u001b[0mkleak\u001b[0m\u001b[0;34m)\u001b[0m\u001b[0;34m\u001b[0m\u001b[0m\n\u001b[0m\u001b[1;32m     23\u001b[0m     \u001b[0mdcae\u001b[0m \u001b[0;34m+=\u001b[0m \u001b[0mkleak\u001b[0m\u001b[0;34m*\u001b[0m\u001b[0;34m(\u001b[0m\u001b[0mCa\u001b[0m \u001b[0;34m-\u001b[0m \u001b[0mcae\u001b[0m\u001b[0;34m)\u001b[0m\u001b[0;34m\u001b[0m\u001b[0m\n\u001b[1;32m     24\u001b[0m     \u001b[0mdCa\u001b[0m \u001b[0;34m+=\u001b[0m \u001b[0;34m-\u001b[0m\u001b[0mvol_er\u001b[0m\u001b[0;34m/\u001b[0m\u001b[0mvol_cyt\u001b[0m\u001b[0;34m*\u001b[0m\u001b[0mkleak\u001b[0m\u001b[0;34m*\u001b[0m\u001b[0;34m(\u001b[0m\u001b[0mCa\u001b[0m \u001b[0;34m-\u001b[0m \u001b[0mcae\u001b[0m\u001b[0;34m)\u001b[0m\u001b[0;34m\u001b[0m\u001b[0m\n",
      "\u001b[0;31mNameError\u001b[0m: name 'kleak' is not defined"
     ]
    }
   ],
   "source": [
    "tstep = 1e-4\n",
    "tf = 100\n",
    "t = np.linspace(0, tf, tf/tstep+1)\n",
    "\n",
    "# Solve ODE\n",
    "sol = odeint(ode,v0,t,args=(k,))"
   ]
  },
  {
   "cell_type": "code",
   "execution_count": 41,
   "metadata": {},
   "outputs": [
    {
     "ename": "NameError",
     "evalue": "name 'sol' is not defined",
     "output_type": "error",
     "traceback": [
      "\u001b[0;31m---------------------------------------------------------------------------\u001b[0m",
      "\u001b[0;31mNameError\u001b[0m                                 Traceback (most recent call last)",
      "\u001b[0;32m<ipython-input-41-36066803a062>\u001b[0m in \u001b[0;36m<module>\u001b[0;34m()\u001b[0m\n\u001b[1;32m      1\u001b[0m \u001b[0mplt\u001b[0m\u001b[0;34m.\u001b[0m\u001b[0mfigure\u001b[0m\u001b[0;34m(\u001b[0m\u001b[0mfigsize\u001b[0m\u001b[0;34m=\u001b[0m\u001b[0;34m(\u001b[0m\u001b[0;36m20\u001b[0m\u001b[0;34m,\u001b[0m\u001b[0;36m12\u001b[0m\u001b[0;34m)\u001b[0m\u001b[0;34m)\u001b[0m\u001b[0;34m\u001b[0m\u001b[0m\n\u001b[0;32m----> 2\u001b[0;31m \u001b[0mplt\u001b[0m\u001b[0;34m.\u001b[0m\u001b[0mplot\u001b[0m\u001b[0;34m(\u001b[0m\u001b[0mt\u001b[0m\u001b[0;34m,\u001b[0m\u001b[0msol\u001b[0m\u001b[0;34m[\u001b[0m\u001b[0;34m:\u001b[0m\u001b[0;34m,\u001b[0m\u001b[0;34m-\u001b[0m\u001b[0;36m1\u001b[0m\u001b[0;34m]\u001b[0m\u001b[0;34m*\u001b[0m\u001b[0;36m1e6\u001b[0m\u001b[0;34m)\u001b[0m\u001b[0;34m\u001b[0m\u001b[0m\n\u001b[0m\u001b[1;32m      3\u001b[0m \u001b[0;31m#plt.ylim((249.99e-6,250.03e-6))\u001b[0m\u001b[0;34m\u001b[0m\u001b[0;34m\u001b[0m\u001b[0m\n",
      "\u001b[0;31mNameError\u001b[0m: name 'sol' is not defined"
     ]
    },
    {
     "data": {
      "text/plain": [
       "<matplotlib.figure.Figure at 0x7fdfd9fbc668>"
      ]
     },
     "metadata": {},
     "output_type": "display_data"
    }
   ],
   "source": [
    "plt.figure(figsize=(20,12))\n",
    "plt.plot(t,sol[:,-1]*1e6)\n",
    "#plt.ylim((249.99e-6,250.03e-6))"
   ]
  },
  {
   "cell_type": "code",
   "execution_count": 87,
   "metadata": {},
   "outputs": [
    {
     "data": {
      "text/plain": [
       "0.09519188799639043"
      ]
     },
     "execution_count": 87,
     "metadata": {},
     "output_type": "execute_result"
    }
   ],
   "source": [
    "kleak=255\n",
    "ER_conc_rate=(2.1675*kleak+6.214988)*1e15/N_avo/vol_er*1e6\n",
    "\n",
    "ER_conc_rate/250"
   ]
  },
  {
   "cell_type": "code",
   "execution_count": null,
   "metadata": {},
   "outputs": [],
   "source": []
  }
 ],
 "metadata": {
  "kernelspec": {
   "display_name": "Python 3",
   "language": "python",
   "name": "python3"
  },
  "language_info": {
   "codemirror_mode": {
    "name": "ipython",
    "version": 3
   },
   "file_extension": ".py",
   "mimetype": "text/x-python",
   "name": "python",
   "nbconvert_exporter": "python",
   "pygments_lexer": "ipython3",
   "version": "3.6.5"
  }
 },
 "nbformat": 4,
 "nbformat_minor": 2
}
