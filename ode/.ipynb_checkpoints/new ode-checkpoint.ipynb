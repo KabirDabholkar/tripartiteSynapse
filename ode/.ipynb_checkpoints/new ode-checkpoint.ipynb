{
 "cells": [
  {
   "cell_type": "code",
   "execution_count": 1,
   "metadata": {},
   "outputs": [],
   "source": [
    "%run ../tools/tools/get_SERCA_equilibrium.ipynb"
   ]
  },
  {
   "cell_type": "code",
   "execution_count": 2,
   "metadata": {},
   "outputs": [],
   "source": [
    "import numpy as np\n",
    "from scipy.integrate import *\n",
    "import matplotlib.pyplot as plt\n",
    "from math import *\n",
    "from scipy.optimize import *"
   ]
  },
  {
   "cell_type": "code",
   "execution_count": 3,
   "metadata": {},
   "outputs": [],
   "source": [
    "cai = 100.0e-9\n",
    "cae = 250e-6\n",
    "\n",
    "N_avo=6.0221409e23\n",
    "\n",
    "# Volume Normalisations\n",
    "vol_er = (3.9*0.1*0.1)\n",
    "vol_cyt = (4.0*0.5*0.5-vol_er)\n",
    "vol_tot = vol_cyt + vol_er\n",
    "ntot = 1\n",
    "ctot = ntot/vol_tot\n",
    "fvol_cyt = vol_cyt/vol_tot\n",
    "fvol_er = vol_er/vol_tot"
   ]
  },
  {
   "cell_type": "code",
   "execution_count": 4,
   "metadata": {},
   "outputs": [],
   "source": [
    "# Reaction Rates\n",
    "k_orig={\n",
    "    'kx1_x1a' : 2*1.0e8,\n",
    "    'kx1a_x2' : 1.0e8,\n",
    "    'kx1a_x1' : 83.666,\n",
    "    'kx2_x1a' : 2*83.666,\n",
    "    'kx2_y2'  : 0.6,\n",
    "    'ky2_x2'  : 4.118, #corrected\n",
    "    'ky2_y1a' : 2*30.015,\n",
    "    'ky1a_y1' : 30.015,\n",
    "    'ky1a_y2' : 1.0e5,\n",
    "    'ky1_y1a' : 2*1.0e5,\n",
    "    'ky1_x1'  : 0.4,\n",
    "    'kx1_y1'  : 1.20e-3,\n",
    "    'kleak'     : 0,\n",
    "\n",
    "    'cbHon'   : 0.55e7,\n",
    "    'cbHoff'  : 2.6,\n",
    "    'cbMon'   : 4.35e7,\n",
    "    'cbMoff'  : 35.8,\n",
    "     \n",
    "    'kPMCA01' : 1.5e8,\n",
    "    'kPMCA10' : 20,\n",
    "    'kPMCA12' : 100,\n",
    "    'kPMCA20' : 1e5,\n",
    "    'kPMCA0leak': 12.5\n",
    "\n",
    "}"
   ]
  },
  {
   "cell_type": "code",
   "execution_count": 5,
   "metadata": {},
   "outputs": [],
   "source": [
    "# ODE model\n",
    "class new_model:\n",
    "    # Volume Normalisations\n",
    "    vol_er = (3.9*0.1*0.1)\n",
    "    vol_cyt = (4.0*0.5*0.5-vol_er)\n",
    "    vol_tot = vol_cyt + vol_er\n",
    "    ntot = 1\n",
    "    ctot = ntot/vol_tot\n",
    "    fvol_cyt = vol_cyt/vol_tot\n",
    "    fvol_er = vol_er/vol_tot\n",
    "    N=0.00026033316269814734\n",
    "    er_clamp=0\n",
    "    flux=[]\n",
    "    def __init__(self,parameters):\n",
    "        self.__dict__.update(parameters)\n",
    "    def ode(self,v,t):\n",
    "        Ca, PMCA0, PMCA1, PMCA2,\\\n",
    "        cbH0M0, cbH0M1, cbH0M2, cbH1M0, cbH1M1, cbH1M2, cbH2M0, cbH2M1, cbH2M2,\\\n",
    "        fx1, fx1a, fx2, fy2, fy1a, fy1, cae = v \n",
    "\n",
    "        dx1 = fx1*(-self.kx1_x1a*cai-self.kx1_y1)+fx1a*self.kx1a_x1+fy1*self.ky1_x1\n",
    "        dx1a = fx1a*(-self.kx1a_x2*cai-self.kx1a_x1)+fx1*cai*self.kx1_x1a+fx2*self.kx2_x1a\n",
    "        dx2 = fx2*(-self.kx2_y2-self.kx2_x1a)+fx1a*cai*self.kx1a_x2+fy2*self.ky2_x2\n",
    "\n",
    "        dy1 = fy1*(-self.ky1_y1a*cae-self.ky1_x1)+fy1a*self.ky1a_y1+fx1*self.kx1_y1\n",
    "        dy1a = fy1a*(-self.ky1a_y2*cae-self.ky1a_y1)+fy1*cae*self.ky1_y1a+fy2*self.ky2_y1a\n",
    "        dy2 = fy2*(-self.ky2_x2-self.ky2_y1a)+fy1a*cae*self.ky1a_y2+fx2*self.kx2_y2\n",
    "\n",
    "        dcae = self.N*(-cae*(fy1a*self.ky1a_y2 + fy1*self.ky1_y1a) + (fy1a*self.ky1a_y1 + fy2*self.ky2_y1a))\n",
    "        dCa = (Ca*(-fx1*self.kx1_x1a-fx1a*self.kx1a_x2)+fx2*self.kx2_x1a+fx1a*self.kx1a_x1)\n",
    "\n",
    "        #er leaks\n",
    "        dcae += self.kleak*(Ca - cae)\n",
    "        dCa += -self.vol_er/self.vol_cyt*self.kleak*(Ca - cae)\n",
    "\n",
    "        if self.er_clamp!=0:\n",
    "            self.flux.append(dcae)\n",
    "            dcae=0\n",
    "            \n",
    "        ### PMCA\n",
    "        dCa   +=  (self.kPMCA0leak - self.kPMCA01*Ca)*PMCA0 + self.kPMCA10*PMCA1\n",
    "        dPMCA0 = + self.kPMCA20*PMCA2 + self.kPMCA10*PMCA1 - self.kPMCA01*Ca*PMCA0\n",
    "        dPMCA1 = - (self.kPMCA12 + self.kPMCA10)*PMCA1 + self.kPMCA01*Ca*PMCA0\n",
    "        dPMCA2 = - self.kPMCA20*PMCA2 + self.kPMCA12*PMCA1\n",
    "\n",
    "        ### Calcium Buffers\n",
    "        dCa   +=     self.cbMoff*(cbH2M1 + cbH1M1 + cbH0M1 + 2*(cbH2M2 + cbH1M2 + cbH0M2)) \\\n",
    "                + self.cbHoff*(cbH2M1 + cbH1M1 + cbH0M1 + 2*(cbH2M2 + cbH2M1 + cbH2M0)) \\\n",
    "             - (+ self.cbMon*(cbH2M1 + cbH1M1 + cbH0M1  + 2*(cbH2M0 + cbH1M0 + cbH0M0)) \\\n",
    "                + self.cbHon*(cbH2M1 + cbH1M1 + cbH0M1  + 2*(cbH0M2 + cbH0M1 + cbH0M0)) )*Ca\n",
    "\n",
    "        dcbH0M0 = - 2*(self.cbMon+self.cbHon)*cbH0M0*Ca + self.cbMoff*cbH0M1 + self.cbHoff*cbH1M0\n",
    "\n",
    "        dcbH0M1 = + (2*self.cbMon*cbH0M0 - (self.cbMon + 2*self.cbHon)*cbH0M1)*Ca \\\n",
    "                  + self.cbMoff*(2*cbH0M2 - cbH0M1) + self.cbHoff*cbH1M1\n",
    "\n",
    "        dcbH0M2 = + self.cbMon*cbH0M1*Ca - 2*(self.cbMoff + self.cbHon*Ca)*cbH0M2 + self.cbHoff*cbH1M2\n",
    "\n",
    "        dcbH1M0 = + (2*self.cbHon*cbH0M0 - (self.cbHon + 2*self.cbMon)*cbH1M0)*Ca\\\n",
    "                  + self.cbMoff*cbH1M1   + self.cbHoff*(2*cbH2M0 - cbH1M0)\n",
    "\n",
    "        dcbH1M1 = - ((self.cbMon + self.cbHon)*Ca + (self.cbHoff + self.cbMoff))*cbH1M1\\\n",
    "                  + 2*((self.cbMoff*cbH1M2 + self.cbHoff*cbH2M1) + (self.cbMon*cbH1M0 + self.cbHon*cbH0M1)*Ca)\n",
    "\n",
    "        dcbH1M2 = + (self.cbMon*cbH1M1 + 2*self.cbHon*cbH0M2 - self.cbHon*cbH1M2)*Ca\\\n",
    "                  - (2*self.cbMoff + self.cbHoff)*cbH1M2 + 2*self.cbHoff*cbH2M2\n",
    "\n",
    "        dcbH2M0 = + self.cbMoff*cbH2M1 + self.cbHon*cbH1M0*Ca - 2*(self.cbHoff + self.cbMon*Ca)*cbH2M0\n",
    "\n",
    "        dcbH2M1 = + (self.cbHon*cbH1M1 - self.cbMon*cbH2M1 + 2*self.cbMon*cbH2M0)*Ca\\\n",
    "                  + 2*(self.cbMoff*cbH2M2 - self.cbHoff*cbH2M1) - self.cbMoff*cbH2M1\n",
    "\n",
    "        dcbH2M2 = + (self.cbMon*cbH2M1 + self.cbHon*cbH1M2)*Ca - 2*(self.cbHoff + self.cbMoff)*cbH2M2\n",
    "\n",
    "        dX = [dCa, dPMCA0, dPMCA1, dPMCA2,\\\n",
    "              dcbH0M0, dcbH0M1, dcbH0M2, dcbH1M0, dcbH1M1, dcbH1M2, dcbH2M0, dcbH2M1, dcbH2M2,\\\n",
    "              dx1, dx1a, dx2, dy2, dy1a, dy1, dcae]\n",
    "\n",
    "        return dX"
   ]
  },
  {
   "cell_type": "markdown",
   "metadata": {},
   "source": [
    "# This is to see refilling:"
   ]
  },
  {
   "cell_type": "code",
   "execution_count": 25,
   "metadata": {},
   "outputs": [
    {
     "name": "stderr",
     "output_type": "stream",
     "text": [
      "/usr/lib/python3/dist-packages/ipykernel_launcher.py:19: DeprecationWarning: object of type <class 'float'> cannot be safely interpreted as an integer.\n",
      "/usr/lib/python3/dist-packages/ipykernel_launcher.py:27: DeprecationWarning: object of type <class 'float'> cannot be safely interpreted as an integer.\n"
     ]
    }
   ],
   "source": [
    "#constructing v0 initial vector\n",
    "Ca=100e-9\n",
    "cae=0#250.24e-6\n",
    "pmca = np.array([2.39e-6, 5.82e-7, 4.54e-10])\n",
    "npmca = 180\n",
    "p = 180*pmca/sum(pmca)/N_avo/vol_cyt*1e15*1e6# uM\n",
    "calbindin = [1.48e-05, 7.00e-06, 8.27e-07, 1.21e-05, 5.74e-06, 6.79e-07,\\\n",
    "2.49e-06, 1.18e-06, 1.39e-07] # Total conc. = 45e-6 uM\n",
    "v0 = [Ca]+list(p)+calbindin+get_SERCA_equilibrium(cae*1e6)+[cae]\n",
    "\n",
    "#v0[-7:-1] =[ 0.6420802891222142, 0.30574391044577887, 0.035928792193863426, 0.005142394529773396, 0.008226136319601385, 0.002878477474144645] \n",
    "\n",
    "#Changing parameters\n",
    "k=k_orig.copy()\n",
    "sf=3\n",
    "#sm=3.53087274 #for 500\n",
    "sm=1.57496328 #for 750\n",
    "for key in ['kx1_x1a','kx1a_x2']:\n",
    "    k[key]=sf*k[key]\n",
    "for key in ['kx2_y2','ky2_x2','kx1_y1','ky1_x1']:\n",
    "    k[key]=sm*k[key]\n",
    "\n",
    "k['kleak']=0.014 #0.21405838101231592#0.09519188799639043\n",
    "#print(k)\n",
    "\n",
    "tstep = 1e-3\n",
    "tf = 10000\n",
    "t = np.linspace(0, tf, tf/tstep+1)\n",
    "M=new_model(k)\n",
    "# Solve ODE\n",
    "sol = odeint(M.ode,v0,t)"
   ]
  },
  {
   "cell_type": "code",
   "execution_count": 26,
   "metadata": {},
   "outputs": [
    {
     "name": "stdout",
     "output_type": "stream",
     "text": [
      "[0.5193872319795779, 0.3723915862041316, 0.06672380727358877, 0.008685734913775726, 0.02058740798496984, 0.012224231669021056]\n"
     ]
    },
    {
     "data": {
      "image/png": "[encoded data removed]",
      "text/plain": [
       "<matplotlib.figure.Figure at 0x7f42bc579438>"
      ]
     },
     "metadata": {},
     "output_type": "display_data"
    }
   ],
   "source": [
    "plt.figure(figsize=(20,12))\n",
    "plt.plot(t,sol[:,-1]*1e6)\n",
    "print(list(sol[-1,-7:-1]))"
   ]
  },
  {
   "cell_type": "markdown",
   "metadata": {},
   "source": [
    "# This is to see clamp behavior"
   ]
  },
  {
   "cell_type": "code",
   "execution_count": 39,
   "metadata": {},
   "outputs": [
    {
     "name": "stderr",
     "output_type": "stream",
     "text": [
      "/usr/lib/python3/dist-packages/ipykernel_launcher.py:19: DeprecationWarning: object of type <class 'float'> cannot be safely interpreted as an integer.\n",
      "/usr/lib/python3/dist-packages/ipykernel_launcher.py:26: DeprecationWarning: object of type <class 'float'> cannot be safely interpreted as an integer.\n"
     ]
    }
   ],
   "source": [
    "#constructing v0 initial vector\n",
    "Ca=100e-9\n",
    "cae=250e-6#250.24e-6\n",
    "pmca = np.array([2.39e-6, 5.82e-7, 4.54e-10])\n",
    "npmca = 180\n",
    "p = 180*pmca/sum(pmca)/N_avo/vol_cyt*1e15*1e6# uM\n",
    "calbindin = [1.48e-05, 7.00e-06, 8.27e-07, 1.21e-05, 5.74e-06, 6.79e-07,\\\n",
    "2.49e-06, 1.18e-06, 1.39e-07] # Total conc. = 45e-6 uM\n",
    "v0 = [Ca]+list(p)+calbindin+get_SERCA_equilibrium(cae*1e6)+[cae]\n",
    "\n",
    "#v0[-7:-1] =[ 0.6420802891222142, 0.30574391044577887, 0.035928792193863426, 0.005142394529773396, 0.008226136319601385, 0.002878477474144645] \n",
    "\n",
    "#Changing parameters \n",
    "k=k_orig.copy()\n",
    "sf=2\n",
    "sm=3.593\n",
    "for key in ['kx1_x1a','kx1a_x2']:\n",
    "    k[key]=sf*k[key]\n",
    "for key in ['kx2_y2','ky2_x2','kx1_y1','ky1_x1']:\n",
    "    k[key]=sm*k[key]\n",
    "\n",
    "k['kleak']=0\n",
    "\n",
    "\n",
    "tstep = 1e-4\n",
    "tf = 100\n",
    "t = np.linspace(0, tf, tf/tstep+1)\n",
    "M=new_model(k)\n",
    "M.er_clamp=1\n",
    "# Solve ODE\n",
    "sol = odeint(M.ode,v0,t)"
   ]
  },
  {
   "cell_type": "code",
   "execution_count": 45,
   "metadata": {},
   "outputs": [
    {
     "name": "stdout",
     "output_type": "stream",
     "text": [
      "[9.996094368202158e-08, 0.27644980886557696, 0.03454272971864696, 3.454272971864696e-05, 2.4355358905175653e-05, 5.9164487544465e-06, 3.5930866385788415e-07, 1.0300165868705165e-05, 2.502135310826516e-06, 1.5195583239845278e-07, 1.089015125335449e-06, 2.645455649801621e-07, 1.606597427402946e-08, 0.636587621134009, 0.30426545432676744, 0.03632585364950107, 0.0048310392841024235, 0.011327037782705308, 0.0066629939078173064, 0.00025]\n"
     ]
    },
    {
     "data": {
      "image/png": "[encoded data removed]",
      "text/plain": [
       "<matplotlib.figure.Figure at 0x7f77245f5e80>"
      ]
     },
     "metadata": {},
     "output_type": "display_data"
    }
   ],
   "source": [
    "plt.figure(figsize=(20,12))\n",
    "plt.plot(np.linspace(0,tf,len(M.flux)),np.array(M.flux)*1e6)#sol[:,-1]*1e6)\n",
    "#plt.ylim((0,300))\n",
    "print(list(sol[-1,:]))"
   ]
  },
  {
   "cell_type": "code",
   "execution_count": 46,
   "metadata": {},
   "outputs": [
    {
     "data": {
      "text/plain": [
       "0.21405838101231592"
      ]
     },
     "execution_count": 46,
     "metadata": {},
     "output_type": "execute_result"
    }
   ],
   "source": [
    "kleak=577#35.05#\n",
    "ER_conc_rate=(2.1675*kleak+6.214988)*1e15/N_avo/vol_er*1e6\n",
    "\n",
    "ER_conc_rate/250"
   ]
  },
  {
   "cell_type": "code",
   "execution_count": 46,
   "metadata": {},
   "outputs": [
    {
     "name": "stdout",
     "output_type": "stream",
     "text": [
      "N= 0.00026033316269814734\n"
     ]
    }
   ],
   "source": [
    "old=81775.83556434109\n",
    "serca_conc_rate=500*1e15/N_avo/vol_er*1e6 #from MCell\n",
    "print(\"N=\",serca_conc_rate/old)"
   ]
  },
  {
   "cell_type": "code",
   "execution_count": 72,
   "metadata": {},
   "outputs": [
    {
     "data": {
      "text/plain": [
       "1259.2838604210299"
      ]
     },
     "execution_count": 72,
     "metadata": {},
     "output_type": "execute_result"
    }
   ],
   "source": [
    "5.3617692263536004e-05/(1e15/N_avo/vol_er)"
   ]
  },
  {
   "cell_type": "code",
   "execution_count": 7,
   "metadata": {},
   "outputs": [
    {
     "name": "stdout",
     "output_type": "stream",
     "text": [
      "Ca Flux in ions/sec =  82.20222328500002\n",
      "Predicted MCell kleak =  35.05599586580223\n"
     ]
    }
   ],
   "source": [
    "#from S Bandara et al 2013\n",
    "J=0.014*250 #uM/s\n",
    "J/=1e15/N_avo/vol_er*1e6\n",
    "print(\"Ca Flux in ions/sec = \",J)\n",
    "\n",
    "p=[2.1675959461586873, 6.214988757731395]\n",
    "kleak=(J-p[1])/p[0]\n",
    "print(\"Predicted MCell kleak = \",kleak)"
   ]
  },
  {
   "cell_type": "code",
   "execution_count": null,
   "metadata": {},
   "outputs": [],
   "source": []
  },
  {
   "cell_type": "code",
   "execution_count": 7,
   "metadata": {},
   "outputs": [],
   "source": [
    "def opt_sm(sm):\n",
    "    #constructing v0 initial vector\n",
    "    Ca=100e-9\n",
    "    cae=0#250.24e-6\n",
    "    pmca = np.array([2.39e-6, 5.82e-7, 4.54e-10])\n",
    "    npmca = 180\n",
    "    p = 180*pmca/sum(pmca)/N_avo/vol_cyt*1e15*1e6# uM\n",
    "    calbindin = [1.48e-05, 7.00e-06, 8.27e-07, 1.21e-05, 5.74e-06, 6.79e-07,\\\n",
    "    2.49e-06, 1.18e-06, 1.39e-07] # Total conc. = 45e-6 uM\n",
    "    v0 = [Ca]+list(p)+calbindin+get_SERCA_equilibrium(cae*1e6)+[cae]\n",
    "\n",
    "    #v0[-7:-1] =[ 0.6420802891222142, 0.30574391044577887, 0.035928792193863426, 0.005142394529773396, 0.008226136319601385, 0.002878477474144645] \n",
    "\n",
    "    #Changing parameters\n",
    "    k=k_orig.copy()\n",
    "    sf=3\n",
    "    #sm=3.53087274\n",
    "    for key in ['kx1_x1a','kx1a_x2']:\n",
    "        k[key]=sf*k[key]\n",
    "    for key in ['kx2_y2','ky2_x2','kx1_y1','ky1_x1']:\n",
    "        k[key]=sm*k[key]\n",
    "\n",
    "    k['kleak']=0.014 #0.21405838101231592#0.09519188799639043\n",
    "    #print(k)\n",
    "\n",
    "    tstep = 1e-4\n",
    "    tf = 1000\n",
    "    t = np.linspace(0, tf, tf/tstep+1)\n",
    "    M=new_model(k)\n",
    "    # Solve ODE\n",
    "    sol = odeint(M.ode,v0,t)\n",
    "    print(sol[-1,-1])\n",
    "    return sol[-1,-1]-250e-6"
   ]
  },
  {
   "cell_type": "code",
   "execution_count": 8,
   "metadata": {},
   "outputs": [
    {
     "name": "stderr",
     "output_type": "stream",
     "text": [
      "/usr/lib/python3/dist-packages/ipykernel_launcher.py:19: DeprecationWarning: object of type <class 'float'> cannot be safely interpreted as an integer.\n",
      "/usr/lib/python3/dist-packages/ipykernel_launcher.py:27: DeprecationWarning: object of type <class 'float'> cannot be safely interpreted as an integer.\n"
     ]
    },
    {
     "name": "stdout",
     "output_type": "stream",
     "text": [
      "0.0003242201457041875\n",
      "0.0003242201457041875\n",
      "0.0003242201457041875\n",
      "0.0003242201449321019\n",
      "0.0004146899283948508\n",
      "0.0002155346733047383\n",
      "0.0002629218412656777\n",
      "0.00025199379229092243\n",
      "0.0002498723385550397\n",
      "0.0002500012304238153\n",
      "0.0002500000009119127\n",
      "0.00025000000000055425\n",
      "0.00024999999597187923\n"
     ]
    },
    {
     "data": {
      "text/plain": [
       "array([1.57496328])"
      ]
     },
     "execution_count": 8,
     "metadata": {},
     "output_type": "execute_result"
    }
   ],
   "source": [
    "fsolve(opt_sm,3.593,)"
   ]
  },
  {
   "cell_type": "code",
   "execution_count": null,
   "metadata": {},
   "outputs": [],
   "source": []
  }
 ],
 "metadata": {
  "kernelspec": {
   "display_name": "Python 3",
   "language": "python",
   "name": "python3"
  },
  "language_info": {
   "codemirror_mode": {
    "name": "ipython",
    "version": 3
   },
   "file_extension": ".py",
   "mimetype": "text/x-python",
   "name": "python",
   "nbconvert_exporter": "python",
   "pygments_lexer": "ipython3",
   "version": "3.6.5"
  }
 },
 "nbformat": 4,
 "nbformat_minor": 2
}
