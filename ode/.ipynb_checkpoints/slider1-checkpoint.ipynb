{
 "cells": [
  {
   "cell_type": "code",
   "execution_count": 6,
   "metadata": {},
   "outputs": [],
   "source": [
    "from numpy import *\n",
    "from scipy.integrate import odeint\n",
    "from scipy import arange\n",
    "import matplotlib.pyplot as plt\n",
    "from mpl_toolkits.mplot3d import Axes3D\n",
    "\n",
    "import bqplot as bq\n",
    "from ipywidgets import interact, interactive, Layout, Box, HBox, VBox, Label\n",
    "import ipywidgets as widgets\n",
    "from IPython.display import display\n",
    "\n",
    "%matplotlib inline"
   ]
  },
  {
   "cell_type": "code",
   "execution_count": 11,
   "metadata": {},
   "outputs": [],
   "source": [
    "### Lorenz Model Class\n",
    "class lorenz:\n",
    "    ## Must be in same order as dXdt return\n",
    "    label = ['x', 'y', 'z']\n",
    "    nVar = len(label)\n",
    "\n",
    "    ## Parameters\n",
    "    p = {\n",
    "    's': 10,\n",
    "    'r': 28,\n",
    "    'b': 2.667\n",
    "    }\n",
    "\n",
    "    ## Get initial values for the system\n",
    "    def __init__(self, X0 = [0.3, 0.2, 0.1], T = arange(0.0, 50.0, 0.01)):\n",
    "        self.T = T\n",
    "        self.name = self.__class__.__name__\n",
    "        if self.nVar != len(X0):\n",
    "            print 'ERROR:', self.nVar, 'initial values required for:', self.name\n",
    "        else: \n",
    "            self.X0 = X0\n",
    "            \n",
    "        self.solve()\n",
    "        self.plot()\n",
    "\n",
    "    ## Define the dX/dt for the system\n",
    "    def dXdt(self, X, t):\n",
    "        x, y, z = X\n",
    "\n",
    "        dxdt = self.p['s']*(y - x)\n",
    "        dydt = self.p['r']*x - y - x*z\n",
    "        dzdt = x*y - self.p['b']*z\n",
    "\n",
    "        return dxdt, dydt, dzdt\n",
    "    \n",
    "    def solve(self):\n",
    "        sol = odeint(self.dXdt, self.X0, self.T)\n",
    "        \n",
    "        self.sol = {}\n",
    "        for i,var in enumerate(self.label):\n",
    "            self.sol.update({var: sol[:,i]})\n",
    "    \n",
    "    def plot(self):\n",
    "        self.solve()\n",
    "        \n",
    "        # Generate a line (but does not plot it)\n",
    "        self.l = bq.Lines(x=self.T, y=self.sol['x'], colors=['red'], opacities=[1], fill='bottom', fill_colors=['red'], fill_opacities=[1], \\\n",
    "                          scales={'x': bq.LinearScale(), 'y': bq.LinearScale()})\n",
    "\n",
    "        # Draw the above defined line in figure\n",
    "        self.fig = bq.Figure(marks=[self.l])\n",
    "        display(self.fig)\n",
    "        \n",
    "    def slider(self, s=10.0, r=28.0, b=2.667):\n",
    "        self.p['s'] = s\n",
    "        self.p['r'] = r\n",
    "        self.p['b'] = b\n",
    "        \n",
    "        self.solve()\n",
    "        self.l.y = self.sol['x']"
   ]
  },
  {
   "cell_type": "code",
   "execution_count": 13,
   "metadata": {},
   "outputs": [
    {
     "data": {
      "application/vnd.jupyter.widget-view+json": {
       "model_id": "1ff9b163ed4f4e06bf0f087261f7f20a",
       "version_major": 2,
       "version_minor": 0
      },
      "text/plain": [
       "aW50ZXJhY3RpdmUoY2hpbGRyZW49KEZsb2F0U2xpZGVyKHZhbHVlPTEuMCwgZGVzY3JpcHRpb249dSdzJywgbWF4PTEwLjAsIG1pbj0tMTAuMCksIEZsb2F0U2xpZGVyKHZhbHVlPTEuMCwgZGXigKY=\n"
      ]
     },
     "metadata": {},
     "output_type": "display_data"
    }
   ],
   "source": [
    "## Time interval of the simulations\n",
    "t = arange(0.0, 50.0, 0.01)\n",
    "m = lorenz()\n",
    "\n",
    "## Solving the diffential equations\n",
    "sol = odeint(m.dXdt, m.X0, t)\n",
    "\n",
    "m = lorenz()\n",
    "\n",
    "slider = interactive(m.slider,\n",
    "         s=widgets.FloatSlider(min=-10, max=10, step=0.1,value=1),\n",
    "         r=widgets.FloatSlider(min=-10, max=10, step=0.1,value=1),\n",
    "         b=widgets.FloatSlider(min=-10, max=10, step=0.1,value=1))\n",
    "\n",
    "    \n",
    "display(slider)"
   ]
  },
  {
   "cell_type": "code",
   "execution_count": null,
   "metadata": {},
   "outputs": [],
   "source": []
  },
  {
   "cell_type": "code",
   "execution_count": null,
   "metadata": {},
   "outputs": [],
   "source": []
  }
 ],
 "metadata": {
  "kernelspec": {
   "display_name": "Python 2",
   "language": "python",
   "name": "python2"
  },
  "language_info": {
   "codemirror_mode": {
    "name": "ipython",
    "version": 2
   },
   "file_extension": ".py",
   "mimetype": "text/x-python",
   "name": "python",
   "nbconvert_exporter": "python",
   "pygments_lexer": "ipython2",
   "version": "2.7.15rc1"
  }
 },
 "nbformat": 4,
 "nbformat_minor": 2
}
