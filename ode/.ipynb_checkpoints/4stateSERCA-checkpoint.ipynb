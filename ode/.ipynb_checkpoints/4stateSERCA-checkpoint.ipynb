{
 "cells": [
  {
   "cell_type": "code",
   "execution_count": 1,
   "metadata": {},
   "outputs": [],
   "source": [
    "#modelling the 4 state serca Higgins model\n",
    "from scipy import optimize\n",
    "from scipy.integrate import *\n",
    "from matplotlib.pyplot import *\n",
    "import numpy as np"
   ]
  },
  {
   "cell_type": "code",
   "execution_count": 2,
   "metadata": {},
   "outputs": [],
   "source": [
    "# Volume Normalisations\n",
    "vol_er = (3.9*0.1*0.1) # all units in um\n",
    "vol_cyt = (4.0*0.5*0.5-vol_er)\n",
    "vol_tot = vol_cyt + vol_er\n",
    "Pt=15e-6\n",
    "gamma=vol_er/vol_cyt\n",
    "c=100e-9\n",
    "t0_cond=[Pt,0,0,0,0]\n",
    "initials=[1,1,1,1,1,1,1,1]\n",
    "eq_value=[Pt/4,Pt/4,gamma*Pt/4,gamma*Pt/4,250e-6]\n",
    "\n",
    "def ode(x,t,k1,k_1,k2,k_2,k3,k_3,k4,k_4):\n",
    "    x1,x2,y1,y2,ce=x\n",
    "    dx1 = k4*y1/gamma-k_4*x1-k1*c**2*x1+k_1*x2\n",
    "    dx2 = k1*c**2*x1-k_1*x2+k_2*y2/gamma-k2*x2\n",
    "    dy1 = k2*y2-k_3*ce**2*y1-k4\n",
    "    dy2 = k2*x2/gamma-k_2*y2-k3*y2+k_3*ce**2*y1\n",
    "    dce = 2*k3*y2-2*k_3*ce**2*y1\n",
    "    return [dx1,dx2,dy1,dy2,dce]"
   ]
  },
  {
   "cell_type": "code",
   "execution_count": 3,
   "metadata": {},
   "outputs": [
    {
     "ename": "TypeError",
     "evalue": "fsolve: there is a mismatch between the input and output shape of the 'func' argument 'func_tbs'.Shape should be (8,) but it is (5,).",
     "output_type": "error",
     "traceback": [
      "\u001b[0;31m---------------------------------------------------------------------------\u001b[0m",
      "\u001b[0;31mTypeError\u001b[0m                                 Traceback (most recent call last)",
      "\u001b[0;32m<ipython-input-3-fa5ae51a7d7e>\u001b[0m in \u001b[0;36m<module>\u001b[0;34m()\u001b[0m\n\u001b[1;32m      7\u001b[0m \u001b[0;31m#print func_tbs([5,10],value)\u001b[0m\u001b[0;34m\u001b[0m\u001b[0;34m\u001b[0m\u001b[0m\n\u001b[1;32m      8\u001b[0m \u001b[0;34m\u001b[0m\u001b[0m\n\u001b[0;32m----> 9\u001b[0;31m \u001b[0msol\u001b[0m\u001b[0;34m=\u001b[0m\u001b[0moptimize\u001b[0m\u001b[0;34m.\u001b[0m\u001b[0mroot\u001b[0m\u001b[0;34m(\u001b[0m\u001b[0mfunc_tbs\u001b[0m\u001b[0;34m,\u001b[0m\u001b[0minitials\u001b[0m\u001b[0;34m,\u001b[0m\u001b[0margs\u001b[0m\u001b[0;34m=\u001b[0m\u001b[0;34m(\u001b[0m\u001b[0meq_value\u001b[0m\u001b[0;34m,\u001b[0m\u001b[0;34m)\u001b[0m\u001b[0;34m,\u001b[0m\u001b[0mmethod\u001b[0m\u001b[0;34m=\u001b[0m\u001b[0;34m'hybr'\u001b[0m\u001b[0;34m,\u001b[0m\u001b[0mjac\u001b[0m\u001b[0;34m=\u001b[0m\u001b[0mFalse\u001b[0m\u001b[0;34m,\u001b[0m\u001b[0mtol\u001b[0m\u001b[0;34m=\u001b[0m\u001b[0;36m1e-3\u001b[0m\u001b[0;34m)\u001b[0m\u001b[0;34m\u001b[0m\u001b[0m\n\u001b[0m\u001b[1;32m     10\u001b[0m \u001b[0;31m#plot(odeint(ode,t0_cond,t,args=tuple(sol['x'])))\u001b[0m\u001b[0;34m\u001b[0m\u001b[0;34m\u001b[0m\u001b[0m\n\u001b[1;32m     11\u001b[0m \u001b[0;31m#plot(odeint(ode,t0_cond,t,args=tuple([1,1,1,1,1,1,1,1])))\u001b[0m\u001b[0;34m\u001b[0m\u001b[0;34m\u001b[0m\u001b[0m\n",
      "\u001b[0;32m/usr/local/lib/python2.7/dist-packages/scipy/optimize/_root.pyc\u001b[0m in \u001b[0;36mroot\u001b[0;34m(fun, x0, args, method, jac, tol, callback, options)\u001b[0m\n\u001b[1;32m    185\u001b[0m \u001b[0;34m\u001b[0m\u001b[0m\n\u001b[1;32m    186\u001b[0m     \u001b[0;32mif\u001b[0m \u001b[0mmeth\u001b[0m \u001b[0;34m==\u001b[0m \u001b[0;34m'hybr'\u001b[0m\u001b[0;34m:\u001b[0m\u001b[0;34m\u001b[0m\u001b[0m\n\u001b[0;32m--> 187\u001b[0;31m         \u001b[0msol\u001b[0m \u001b[0;34m=\u001b[0m \u001b[0m_root_hybr\u001b[0m\u001b[0;34m(\u001b[0m\u001b[0mfun\u001b[0m\u001b[0;34m,\u001b[0m \u001b[0mx0\u001b[0m\u001b[0;34m,\u001b[0m \u001b[0margs\u001b[0m\u001b[0;34m=\u001b[0m\u001b[0margs\u001b[0m\u001b[0;34m,\u001b[0m \u001b[0mjac\u001b[0m\u001b[0;34m=\u001b[0m\u001b[0mjac\u001b[0m\u001b[0;34m,\u001b[0m \u001b[0;34m**\u001b[0m\u001b[0moptions\u001b[0m\u001b[0;34m)\u001b[0m\u001b[0;34m\u001b[0m\u001b[0m\n\u001b[0m\u001b[1;32m    188\u001b[0m     \u001b[0;32melif\u001b[0m \u001b[0mmeth\u001b[0m \u001b[0;34m==\u001b[0m \u001b[0;34m'lm'\u001b[0m\u001b[0;34m:\u001b[0m\u001b[0;34m\u001b[0m\u001b[0m\n\u001b[1;32m    189\u001b[0m         \u001b[0msol\u001b[0m \u001b[0;34m=\u001b[0m \u001b[0m_root_leastsq\u001b[0m\u001b[0;34m(\u001b[0m\u001b[0mfun\u001b[0m\u001b[0;34m,\u001b[0m \u001b[0mx0\u001b[0m\u001b[0;34m,\u001b[0m \u001b[0margs\u001b[0m\u001b[0;34m=\u001b[0m\u001b[0margs\u001b[0m\u001b[0;34m,\u001b[0m \u001b[0mjac\u001b[0m\u001b[0;34m=\u001b[0m\u001b[0mjac\u001b[0m\u001b[0;34m,\u001b[0m \u001b[0;34m**\u001b[0m\u001b[0moptions\u001b[0m\u001b[0;34m)\u001b[0m\u001b[0;34m\u001b[0m\u001b[0m\n",
      "\u001b[0;32m/usr/local/lib/python2.7/dist-packages/scipy/optimize/minpack.pyc\u001b[0m in \u001b[0;36m_root_hybr\u001b[0;34m(func, x0, args, jac, col_deriv, xtol, maxfev, band, eps, factor, diag, **unknown_options)\u001b[0m\n\u001b[1;32m    212\u001b[0m     \u001b[0;32mif\u001b[0m \u001b[0;32mnot\u001b[0m \u001b[0misinstance\u001b[0m\u001b[0;34m(\u001b[0m\u001b[0margs\u001b[0m\u001b[0;34m,\u001b[0m \u001b[0mtuple\u001b[0m\u001b[0;34m)\u001b[0m\u001b[0;34m:\u001b[0m\u001b[0;34m\u001b[0m\u001b[0m\n\u001b[1;32m    213\u001b[0m         \u001b[0margs\u001b[0m \u001b[0;34m=\u001b[0m \u001b[0;34m(\u001b[0m\u001b[0margs\u001b[0m\u001b[0;34m,\u001b[0m\u001b[0;34m)\u001b[0m\u001b[0;34m\u001b[0m\u001b[0m\n\u001b[0;32m--> 214\u001b[0;31m     \u001b[0mshape\u001b[0m\u001b[0;34m,\u001b[0m \u001b[0mdtype\u001b[0m \u001b[0;34m=\u001b[0m \u001b[0m_check_func\u001b[0m\u001b[0;34m(\u001b[0m\u001b[0;34m'fsolve'\u001b[0m\u001b[0;34m,\u001b[0m \u001b[0;34m'func'\u001b[0m\u001b[0;34m,\u001b[0m \u001b[0mfunc\u001b[0m\u001b[0;34m,\u001b[0m \u001b[0mx0\u001b[0m\u001b[0;34m,\u001b[0m \u001b[0margs\u001b[0m\u001b[0;34m,\u001b[0m \u001b[0mn\u001b[0m\u001b[0;34m,\u001b[0m \u001b[0;34m(\u001b[0m\u001b[0mn\u001b[0m\u001b[0;34m,\u001b[0m\u001b[0;34m)\u001b[0m\u001b[0;34m)\u001b[0m\u001b[0;34m\u001b[0m\u001b[0m\n\u001b[0m\u001b[1;32m    215\u001b[0m     \u001b[0;32mif\u001b[0m \u001b[0mepsfcn\u001b[0m \u001b[0;32mis\u001b[0m \u001b[0mNone\u001b[0m\u001b[0;34m:\u001b[0m\u001b[0;34m\u001b[0m\u001b[0m\n\u001b[1;32m    216\u001b[0m         \u001b[0mepsfcn\u001b[0m \u001b[0;34m=\u001b[0m \u001b[0mfinfo\u001b[0m\u001b[0;34m(\u001b[0m\u001b[0mdtype\u001b[0m\u001b[0;34m)\u001b[0m\u001b[0;34m.\u001b[0m\u001b[0meps\u001b[0m\u001b[0;34m\u001b[0m\u001b[0m\n",
      "\u001b[0;32m/usr/local/lib/python2.7/dist-packages/scipy/optimize/minpack.pyc\u001b[0m in \u001b[0;36m_check_func\u001b[0;34m(checker, argname, thefunc, x0, args, numinputs, output_shape)\u001b[0m\n\u001b[1;32m     39\u001b[0m                 \u001b[0mmsg\u001b[0m \u001b[0;34m+=\u001b[0m \u001b[0;34m\".\"\u001b[0m\u001b[0;34m\u001b[0m\u001b[0m\n\u001b[1;32m     40\u001b[0m             \u001b[0mmsg\u001b[0m \u001b[0;34m+=\u001b[0m \u001b[0;34m'Shape should be %s but it is %s.'\u001b[0m \u001b[0;34m%\u001b[0m \u001b[0;34m(\u001b[0m\u001b[0moutput_shape\u001b[0m\u001b[0;34m,\u001b[0m \u001b[0mshape\u001b[0m\u001b[0;34m(\u001b[0m\u001b[0mres\u001b[0m\u001b[0;34m)\u001b[0m\u001b[0;34m)\u001b[0m\u001b[0;34m\u001b[0m\u001b[0m\n\u001b[0;32m---> 41\u001b[0;31m             \u001b[0;32mraise\u001b[0m \u001b[0mTypeError\u001b[0m\u001b[0;34m(\u001b[0m\u001b[0mmsg\u001b[0m\u001b[0;34m)\u001b[0m\u001b[0;34m\u001b[0m\u001b[0m\n\u001b[0m\u001b[1;32m     42\u001b[0m     \u001b[0;32mif\u001b[0m \u001b[0missubdtype\u001b[0m\u001b[0;34m(\u001b[0m\u001b[0mres\u001b[0m\u001b[0;34m.\u001b[0m\u001b[0mdtype\u001b[0m\u001b[0;34m,\u001b[0m \u001b[0minexact\u001b[0m\u001b[0;34m)\u001b[0m\u001b[0;34m:\u001b[0m\u001b[0;34m\u001b[0m\u001b[0m\n\u001b[1;32m     43\u001b[0m         \u001b[0mdt\u001b[0m \u001b[0;34m=\u001b[0m \u001b[0mres\u001b[0m\u001b[0;34m.\u001b[0m\u001b[0mdtype\u001b[0m\u001b[0;34m\u001b[0m\u001b[0m\n",
      "\u001b[0;31mTypeError\u001b[0m: fsolve: there is a mismatch between the input and output shape of the 'func' argument 'func_tbs'.Shape should be (8,) but it is (5,)."
     ]
    }
   ],
   "source": [
    "t=np.linspace(0,0.1,100)\n",
    "\n",
    "def func_tbs(params, value):\n",
    "    X=odeint(ode,t0_cond,t,args=tuple(params))\n",
    "    return X[-1]-value\n",
    "\n",
    "#print func_tbs([5,10],value)\n",
    "\n",
    "sol=optimize.root(func_tbs,initials,args=(eq_value,),method='broyden1',jac=False,tol=1e-3)\n",
    "#plot(odeint(ode,t0_cond,t,args=tuple(sol['x'])))\n",
    "#plot(odeint(ode,t0_cond,t,args=tuple([1,1,1,1,1,1,1,1])))\n",
    "#show()\n",
    "#plot(func_tbs())"
   ]
  },
  {
   "cell_type": "markdown",
   "metadata": {},
   "source": [
    "YEP!!! no. of args have to be equal to number of variable\n",
    "\n",
    "see example below!"
   ]
  },
  {
   "cell_type": "code",
   "execution_count": 16,
   "metadata": {},
   "outputs": [
    {
     "name": "stdout",
     "output_type": "stream",
     "text": [
      "     fun: array([-1.19189110e-01, -3.75000000e-06, -1.00000152e-01, -1.52185224e-07,\n",
      "       -2.50000000e-04])\n",
      " message: 'A solution was found at the specified tolerance.'\n",
      "     nit: 4\n",
      "  status: 1\n",
      " success: True\n",
      "       x: array([-1.25338998e+15, -3.94349150e+10, -1.05159933e+15, -1.60037636e+09,\n",
      "       -2.62899433e+12])\n"
     ]
    }
   ],
   "source": [
    "# Volume Normalisations\n",
    "vol_er = (3.9*0.1*0.1) # all units in um\n",
    "vol_cyt = (4.0*0.5*0.5-vol_er)\n",
    "vol_tot = vol_cyt + vol_er\n",
    "Pt=15e-6\n",
    "gamma=vol_er/vol_cyt\n",
    "c=100e-9\n",
    "t0_cond=[Pt,0,0,0,0]\n",
    "initials=[1,1,1,1,1]\n",
    "eq_value=[Pt/4,Pt/4,gamma*Pt/4,gamma*Pt/4,250e-6]\n",
    "\n",
    "def ode(x,t,k1,k_1,k2,k_2,k3):\n",
    "    k_3,k4,k_4 = 1,1,1\n",
    "    x1,x2,y1,y2,ce=x\n",
    "    dx1 = k4*y1/gamma-k_4*x1-k1*c**2*x1+k_1*x2\n",
    "    dx2 = k1*c**2*x1-k_1*x2+k_2*y2/gamma-k2*x2\n",
    "    dy1 = k2*y2-k_3*ce**2*y1-k4\n",
    "    dy2 = k2*x2/gamma-k_2*y2-k3*y2+k_3*ce**2*y1\n",
    "    dce = 2*k3*y2-2*k_3*ce**2*y1\n",
    "    return [dx1,dx2,dy1,dy2,dce]\n",
    "\n",
    "t=np.linspace(0,0.1,100)\n",
    "\n",
    "def func_tbs(params, value):\n",
    "    X=odeint(ode,t0_cond,t,args=tuple(params))\n",
    "    return X[-1]-value\n",
    "\n",
    "#print func_tbs([5,10],value)\n",
    "\n",
    "sol=optimize.root(func_tbs,initials,args=(eq_value,),method='broyden1',tol=1e-3)\n",
    "#plot(odeint(ode,t0_cond,t,args=tuple(sol['x'])))\n",
    "#plot(odeint(ode,t0_cond,t,args=tuple([1,1,1,1,1,1,1,1])))\n",
    "#show()\n",
    "#plot(func_tbs())\n",
    "print sol"
   ]
  },
  {
   "cell_type": "code",
   "execution_count": 17,
   "metadata": {},
   "outputs": [
    {
     "data": {
      "text/plain": [
       "[<matplotlib.lines.Line2D at 0x7fc37a9e8290>,\n",
       " <matplotlib.lines.Line2D at 0x7fc37a971910>,\n",
       " <matplotlib.lines.Line2D at 0x7fc37a9719d0>,\n",
       " <matplotlib.lines.Line2D at 0x7fc37a971a90>,\n",
       " <matplotlib.lines.Line2D at 0x7fc37a971b50>]"
      ]
     },
     "execution_count": 17,
     "metadata": {},
     "output_type": "execute_result"
    },
    {
     "data": {
      "image/png": "[encoded data removed]",
      "text/plain": [
       "<Figure size 432x288 with 1 Axes>"
      ]
     },
     "metadata": {
      "needs_background": "light"
     },
     "output_type": "display_data"
    }
   ],
   "source": [
    "plot(odeint(ode,t0_cond,t,args=tuple(sol['x'])))"
   ]
  },
  {
   "cell_type": "code",
   "execution_count": null,
   "metadata": {},
   "outputs": [],
   "source": []
  }
 ],
 "metadata": {
  "kernelspec": {
   "display_name": "Python 2",
   "language": "python",
   "name": "python2"
  },
  "language_info": {
   "codemirror_mode": {
    "name": "ipython",
    "version": 2
   },
   "file_extension": ".py",
   "mimetype": "text/x-python",
   "name": "python",
   "nbconvert_exporter": "python",
   "pygments_lexer": "ipython2",
   "version": "2.7.15rc1"
  }
 },
 "nbformat": 4,
 "nbformat_minor": 2
}
