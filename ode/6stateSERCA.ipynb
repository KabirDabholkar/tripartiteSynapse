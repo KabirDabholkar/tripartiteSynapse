{
 "cells": [
  {
   "cell_type": "code",
   "execution_count": 105,
   "metadata": {},
   "outputs": [],
   "source": [
    "from scipy.integrate import odeint\n",
    "from scipy import *\n",
    "import matplotlib.pyplot as plt\n",
    "#from mpl_toolkits.mplot3d import Axes3D\n",
    "\n",
    "import bqplot as bq\n",
    "from ipywidgets import interact, interactive, Layout, Box, HBox, VBox, Label\n",
    "import ipywidgets as ipyw\n",
    "from IPython.display import display\n",
    "\n",
    "%matplotlib inline"
   ]
  },
  {
   "cell_type": "code",
   "execution_count": 132,
   "metadata": {},
   "outputs": [],
   "source": [
    "### Four state serca model class\n",
    "class serca:\n",
    "    \n",
    "    ## Must be in same order as dXdt return\n",
    "    label = ['x0', 'x1', 'x2', 'y0', 'y1', 'y2', 'ca_e']\n",
    "    nVar = len(label)\n",
    "    \n",
    "    vol_er = (3.9*0.1*0.1) # all units in um\n",
    "    vol_cyt = (4.0*0.5*0.5-vol_er)\n",
    "    vol_tot = vol_cyt + vol_er\n",
    "    Pt=15e-6\n",
    "    gamma=vol_er/vol_cyt\n",
    "    c=100e-9\n",
    "    \n",
    "    cai = 100.0e-9\n",
    "    cae = 0\n",
    "    nserca = 8678.0\n",
    "    N_avo=6.022e23\n",
    "    initial = array([0.75554529, 0.18054556, 0.010757505, 0.015718635, 0.026363904, 0.011069105,1])\n",
    "    initial = initial*nserca/(vol_er/1e18)/N_avo\n",
    "    initial[6] = cae\n",
    "\n",
    "    \n",
    "    \n",
    "    #eq_value=[Pt/4,Pt/4,gamma*Pt/4,gamma*Pt/4,250e-6]\n",
    "    \n",
    "    ## Parameters\n",
    "    p_orig = {\n",
    "    'kx0_x1':2*1.0e8,\n",
    "    'kx1_x2':1.0e8,\n",
    "    'kx1_x0':83.666,\n",
    "    'kx2_x1':2*83.666,\n",
    "    'kx2_y2':0.6,\n",
    "    'ky2_x2':0.097,\n",
    "    'ky2_y1':2*30.015,\n",
    "    'ky1_y0':30.015,\n",
    "    'ky1_y2':1.0e5,\n",
    "    'ky0_y1':2*1.0e5,\n",
    "    'ky0_x0':0.4,\n",
    "    'kx0_y0':1.20e-3\n",
    "    }\n",
    "    p=p_orig\n",
    "    \n",
    "    ## Get initial values for the system\n",
    "    def __init__(self, X0=initial, T=arange(0.0, 1e-3, 1e-6),f=1):\n",
    "        self.T = T\n",
    "        self.f=f\n",
    "        self.name = self.__class__.__name__\n",
    "        if self.nVar != len(X0):\n",
    "            print 'ERROR:', self.nVar, 'initial values required for:', self.name\n",
    "        else: \n",
    "            self.X0 = X0\n",
    "            \n",
    "    def dXdt1(self,X,t):\n",
    "        x1,x2,y1,y2,ce=X\n",
    "        for var in self.p.keys():\n",
    "            exec(var+'='+str(self.p[var]))\n",
    "        \n",
    "        dx1 = k4*y1/self.gamma-k_4*x1-k1*self.c**2*x1+k_1*x2\n",
    "        dx2 = k1*self.c**2*x1-k_1*x2+k_2*y2/self.gamma-k2*x2\n",
    "        dy1 = k2*y2-k_3*ce**2*y1-k4\n",
    "        dy2 = k2*x2/self.gamma-k_2*y2-k3*y2+k_3*ce**2*y1\n",
    "        dce = 2*k3*y2-2*k_3*ce**2*y1\n",
    "        return [dx1,dx2,dy1,dy2,dce]\n",
    "    \n",
    "    def dXdt(self,X,t):\n",
    "        x0, x1, x2, y0, y1, y2, ca_e = X \n",
    "        \n",
    "        for var in self.p.keys():\n",
    "            exec(var+'='+str(self.p[var]))\n",
    "            \n",
    "        dx0 = x0*(-kx0_x1*self.cai-kx0_y0)+x1*kx1_x0+y0*ky0_x0\n",
    "        dx1 = x1*(-kx1_x2*self.cai-kx1_x0)+x0*self.cai*kx0_x1+x2*kx2_x1\n",
    "        dx2 = x2*(-kx2_y2-kx2_x1)+x1*self.cai*kx1_x2+y2*ky2_x2\n",
    "        dy0 = y0*(-ky0_y1*ca_e-ky0_x0)+y1*ky1_y0+x0*kx0_y0\n",
    "        dy1 = y1*(-ky1_y2*ca_e-ky1_y0)+y0*ca_e*ky0_y1+y2*ky2_y1\n",
    "        dy2 = y2*(-ky2_x2-ky2_y1)+y1*ca_e*ky1_y2+x2*kx2_y2\n",
    "        dcae = -ca_e*(y1*ky1_y2 + y0*ky0_y1) + (y1*ky1_y0 + y2*ky2_y1)\n",
    "        return [dx0, dx1, dx2, dy0, dy1, dy2, dcae]\n",
    "    \n",
    "    def update_p(self):\n",
    "        for k in self.p.keys():\n",
    "            self.p[k]=self.f*self.p_orig[k]\n",
    "            #print self.p"
   ]
  },
  {
   "cell_type": "code",
   "execution_count": 133,
   "metadata": {},
   "outputs": [],
   "source": [
    "class slider():\n",
    "    cpalette = ['#EE224A', '#22AF4B', '#4CB5F5', '#FF5C00', \n",
    "                '#08B9A5', '#15AB00', '#881EE4', '#5C6BC0']\n",
    "    \n",
    "    def __init__(self, model):\n",
    "        self.model = model\n",
    "        self.lines = {}\n",
    "        self.param = {}\n",
    "        self.cb = {}\n",
    "        self.colors = {}\n",
    "        \n",
    "        self._solve()\n",
    "        self._curveColors()\n",
    "        self._plot()\n",
    "        \n",
    "        \n",
    "    def _curveColors(self):\n",
    "        for i,v in enumerate(self.model.label):\n",
    "            self.colors.update({v: self.cpalette[i]})\n",
    "        \n",
    "    def _solve(self):\n",
    "        sol = odeint(self.model.dXdt, self.model.X0, self.model.T)\n",
    "        \n",
    "        self.sol = {}\n",
    "        for i,var in enumerate(self.model.label):\n",
    "            self.sol.update({var: sol[:,i]})\n",
    "    \n",
    "    def _getFig(self):\n",
    "        for v in self.model.label:\n",
    "            x_sc = bq.LinearScale()\n",
    "            y_sc = bq.LinearScale()\n",
    "\n",
    "            x_ax = bq.Axis(label='Time', scale=x_sc, tick_format=None, color='black', grid_lines='solid', grid_color='#ddd')\n",
    "            y_ax = bq.Axis(label=v,      scale=y_sc, tick_format=None, color='black', grid_lines='solid', grid_color='#ddd', orientation='vertical')\n",
    "\n",
    "            # Generate a line (but does not plot it)\n",
    "            l = bq.Lines(x=self.model.T, y=self.sol[v], colors=[self.colors[v]],\n",
    "                              scales={'x': x_sc, 'y': y_sc})\n",
    "        \n",
    "            self.lines.update({v: l})\n",
    "          \n",
    "        fig = bq.Figure(axes=[x_ax, y_ax], marks=self.lines.values(),\n",
    "                       fig_margin={'top':10, 'bottom':0, 'left':60, 'right':10},\n",
    "                       max_aspect_ratio=3, min_aspect_ratio=2.5)\n",
    "        fig.layout.width = '100%'\n",
    "        return fig\n",
    "        \n",
    "    def _plot(self):\n",
    "        self._solve()\n",
    "        fig = self._getFig()\n",
    "        \n",
    "        display(fig)\n",
    "        \n",
    "    def _updateFig(self):        \n",
    "        self._solve()\n",
    "        for v in self.model.label:\n",
    "            self.lines[v].y = self.sol[v]\n",
    "    \n",
    "    ### Parameter handling\n",
    "    def _paramUpdate(self, change):\n",
    "        self.model.p[change['owner'].description] = change['new']\n",
    "        self._updateFig()\n",
    "            \n",
    "    def paramSlider(self):\n",
    "        for k,v in self.model.p.items():\n",
    "            crude = ipyw.IntSlider(\n",
    "                min = -5, max = 10,\n",
    "                description=k,\n",
    "                value = floor(log10(v)), \n",
    "                continuous_update = False\n",
    "            )\n",
    "\n",
    "            fine = ipyw.FloatSlider(\n",
    "                min = 10**floor(log10(v)),\n",
    "                max = 10**(floor(log10(v))+1),\n",
    "                description=k, \n",
    "                value = v,\n",
    "                continuous_update = False\n",
    "            )\n",
    "            \n",
    "            #txt = ipyw.FloatText(value=v, description=k, layout=Layout(width='80px'))\n",
    "        \n",
    "            #ipyw.jslink((fine, 'value'), (txt, 'value'))\n",
    "            crude.observe(self._updateRange, names='value')\n",
    "            fine.observe(self._paramUpdate,  names='value')\n",
    "        \n",
    "            p = [crude, fine]#, txt]\n",
    "            self.param.update({k: p})\n",
    "        \n",
    "        box_layout = Layout(display='flex-start',\n",
    "                    flex_flow='row',\n",
    "                    align_items='flex-start',\n",
    "                    align_content='flex-start',\n",
    "                    width='100%')\n",
    "        \n",
    "        for k, v in self.param.items():\n",
    "            box = Box(children=v, layout=box_layout)\n",
    "            display(box, layout=Layout(align_items='flex-start'))\n",
    "            \n",
    "            \n",
    "    def _updateRange(self, c):\n",
    "        k = c['owner'].description\n",
    "        try:\n",
    "            self.param[k][1].max = 10**(c['new']+1)\n",
    "            self.param[k][1].min = 10**c['new']\n",
    "        except:\n",
    "            self.param[k][1].min = 10**c['new']\n",
    "            self.param[k][1].max = 10**(c['new']+1)\n",
    "        self.param[k][1].value = self.param[k][1].min\n",
    "        self.param[k][1].step = 1 if c['new']>0 else 10**(c['new']-1)\n",
    "        \n",
    "    ### Toggle curve display\n",
    "    def _toggleCurve(self, b):\n",
    "        v = not self.lines[b.description].visible\n",
    "        if self.lines[b.description].visible:\n",
    "            self.cb[b.description].style.button_color = '#ddd'\n",
    "            self.lines[b.description].visible = v\n",
    "        else:\n",
    "            self.cb[b.description].style.button_color = self.colors[b.description]\n",
    "            self.lines[b.description].visible = v\n",
    "        \n",
    "        \n",
    "    def _getToggleButton(self, v):\n",
    "        cb = ipyw.Button(\n",
    "            value = self.lines[v].visible,\n",
    "            description = v,\n",
    "            style = ipyw.ButtonStyle(button_color=self.colors[v]),\n",
    "            layout = Layout(width='100px')\n",
    "        )\n",
    "        return cb\n",
    "        \n",
    "    def toggleButton(self):\n",
    "        for v in self.model.label:\n",
    "            self.cb.update({v: self._getToggleButton(v)})\n",
    "            \n",
    "        display(VBox(self.cb.values()))\n",
    "        \n",
    "        for cb in self.cb.values():\n",
    "            cb.on_click(self._toggleCurve)"
   ]
  },
  {
   "cell_type": "code",
   "execution_count": 134,
   "metadata": {},
   "outputs": [
    {
     "data": {
      "application/vnd.jupyter.widget-view+json": {
       "model_id": "9df4d1cc3e764ec88accae617e0ec67a",
       "version_major": 2,
       "version_minor": 0
      },
      "text/plain": [
       "RmlndXJlKGF4ZXM9W0F4aXMoY29sb3I9J2JsYWNrJywgZ3JpZF9jb2xvcj0nI2RkZCcsIGxhYmVsPXUnVGltZScsIHNjYWxlPUxpbmVhclNjYWxlKCkpLCBBeGlzKGNvbG9yPSdibGFjaycsIGfigKY=\n"
      ]
     },
     "metadata": {},
     "output_type": "display_data"
    },
    {
     "data": {
      "application/vnd.jupyter.widget-view+json": {
       "model_id": "525ed0090a4545588f32b91b46c04fe1",
       "version_major": 2,
       "version_minor": 0
      },
      "text/plain": [
       "Qm94KGNoaWxkcmVuPShJbnRTbGlkZXIodmFsdWU9MTAsIGNvbnRpbnVvdXNfdXBkYXRlPUZhbHNlLCBkZXNjcmlwdGlvbj11J2t4MF94MScsIG1heD0xMCwgbWluPS01KSwgRmxvYXRTbGlkZXLigKY=\n"
      ]
     },
     "metadata": {},
     "output_type": "display_data"
    },
    {
     "data": {
      "application/vnd.jupyter.widget-view+json": {
       "model_id": "2c4aed64d6e547f4890d8ef26693b52f",
       "version_major": 2,
       "version_minor": 0
      },
      "text/plain": [
       "Qm94KGNoaWxkcmVuPShJbnRTbGlkZXIodmFsdWU9NywgY29udGludW91c191cGRhdGU9RmFsc2UsIGRlc2NyaXB0aW9uPXUna3kwX3kxJywgbWF4PTEwLCBtaW49LTUpLCBGbG9hdFNsaWRlcijigKY=\n"
      ]
     },
     "metadata": {},
     "output_type": "display_data"
    },
    {
     "data": {
      "application/vnd.jupyter.widget-view+json": {
       "model_id": "771a7f94ba8e4de1961297beeee1ea74",
       "version_major": 2,
       "version_minor": 0
      },
      "text/plain": [
       "Qm94KGNoaWxkcmVuPShJbnRTbGlkZXIodmFsdWU9MSwgY29udGludW91c191cGRhdGU9RmFsc2UsIGRlc2NyaXB0aW9uPXUna3kwX3gwJywgbWF4PTEwLCBtaW49LTUpLCBGbG9hdFNsaWRlcijigKY=\n"
      ]
     },
     "metadata": {},
     "output_type": "display_data"
    },
    {
     "data": {
      "application/vnd.jupyter.widget-view+json": {
       "model_id": "e04b82eda06b48e6b25955ffbd875d7d",
       "version_major": 2,
       "version_minor": 0
      },
      "text/plain": [
       "Qm94KGNoaWxkcmVuPShJbnRTbGlkZXIodmFsdWU9MywgY29udGludW91c191cGRhdGU9RmFsc2UsIGRlc2NyaXB0aW9uPXUna3kyX3kxJywgbWF4PTEwLCBtaW49LTUpLCBGbG9hdFNsaWRlcijigKY=\n"
      ]
     },
     "metadata": {},
     "output_type": "display_data"
    },
    {
     "data": {
      "application/vnd.jupyter.widget-view+json": {
       "model_id": "b709c8df7970408cb8b02844d3ff0b05",
       "version_major": 2,
       "version_minor": 0
      },
      "text/plain": [
       "Qm94KGNoaWxkcmVuPShJbnRTbGlkZXIodmFsdWU9NywgY29udGludW91c191cGRhdGU9RmFsc2UsIGRlc2NyaXB0aW9uPXUna3kxX3kyJywgbWF4PTEwLCBtaW49LTUpLCBGbG9hdFNsaWRlcijigKY=\n"
      ]
     },
     "metadata": {},
     "output_type": "display_data"
    },
    {
     "data": {
      "application/vnd.jupyter.widget-view+json": {
       "model_id": "c704dcc0c67446858fb09dc8acac5275",
       "version_major": 2,
       "version_minor": 0
      },
      "text/plain": [
       "Qm94KGNoaWxkcmVuPShJbnRTbGlkZXIodmFsdWU9LTEsIGNvbnRpbnVvdXNfdXBkYXRlPUZhbHNlLCBkZXNjcmlwdGlvbj11J2t4MF95MCcsIG1heD0xMCwgbWluPS01KSwgRmxvYXRTbGlkZXLigKY=\n"
      ]
     },
     "metadata": {},
     "output_type": "display_data"
    },
    {
     "data": {
      "application/vnd.jupyter.widget-view+json": {
       "model_id": "b268d7c4c0a743c8943491a211f21d3c",
       "version_major": 2,
       "version_minor": 0
      },
      "text/plain": [
       "Qm94KGNoaWxkcmVuPShJbnRTbGlkZXIodmFsdWU9MSwgY29udGludW91c191cGRhdGU9RmFsc2UsIGRlc2NyaXB0aW9uPXUna3gyX3kyJywgbWF4PTEwLCBtaW49LTUpLCBGbG9hdFNsaWRlcijigKY=\n"
      ]
     },
     "metadata": {},
     "output_type": "display_data"
    },
    {
     "data": {
      "application/vnd.jupyter.widget-view+json": {
       "model_id": "10a5c4b121324c47bdcee97d382f5e66",
       "version_major": 2,
       "version_minor": 0
      },
      "text/plain": [
       "Qm94KGNoaWxkcmVuPShJbnRTbGlkZXIodmFsdWU9MTAsIGNvbnRpbnVvdXNfdXBkYXRlPUZhbHNlLCBkZXNjcmlwdGlvbj11J2t4MV94MicsIG1heD0xMCwgbWluPS01KSwgRmxvYXRTbGlkZXLigKY=\n"
      ]
     },
     "metadata": {},
     "output_type": "display_data"
    },
    {
     "data": {
      "application/vnd.jupyter.widget-view+json": {
       "model_id": "a340466255824f0591e21c59d7b090d1",
       "version_major": 2,
       "version_minor": 0
      },
      "text/plain": [
       "Qm94KGNoaWxkcmVuPShJbnRTbGlkZXIodmFsdWU9MywgY29udGludW91c191cGRhdGU9RmFsc2UsIGRlc2NyaXB0aW9uPXUna3gxX3gwJywgbWF4PTEwLCBtaW49LTUpLCBGbG9hdFNsaWRlcijigKY=\n"
      ]
     },
     "metadata": {},
     "output_type": "display_data"
    },
    {
     "data": {
      "application/vnd.jupyter.widget-view+json": {
       "model_id": "de42a91531774c1284086e28219045db",
       "version_major": 2,
       "version_minor": 0
      },
      "text/plain": [
       "Qm94KGNoaWxkcmVuPShJbnRTbGlkZXIodmFsdWU9MywgY29udGludW91c191cGRhdGU9RmFsc2UsIGRlc2NyaXB0aW9uPXUna3kxX3kwJywgbWF4PTEwLCBtaW49LTUpLCBGbG9hdFNsaWRlcijigKY=\n"
      ]
     },
     "metadata": {},
     "output_type": "display_data"
    },
    {
     "data": {
      "application/vnd.jupyter.widget-view+json": {
       "model_id": "e12c85bea7fb4357bf4b1b19bf252f28",
       "version_major": 2,
       "version_minor": 0
      },
      "text/plain": [
       "Qm94KGNoaWxkcmVuPShJbnRTbGlkZXIodmFsdWU9NCwgY29udGludW91c191cGRhdGU9RmFsc2UsIGRlc2NyaXB0aW9uPXUna3gyX3gxJywgbWF4PTEwLCBtaW49LTUpLCBGbG9hdFNsaWRlcijigKY=\n"
      ]
     },
     "metadata": {},
     "output_type": "display_data"
    },
    {
     "data": {
      "application/vnd.jupyter.widget-view+json": {
       "model_id": "282fc99d98c14923ab22b2efa9a6aa88",
       "version_major": 2,
       "version_minor": 0
      },
      "text/plain": [
       "Qm94KGNoaWxkcmVuPShJbnRTbGlkZXIodmFsdWU9MCwgY29udGludW91c191cGRhdGU9RmFsc2UsIGRlc2NyaXB0aW9uPXUna3kyX3gyJywgbWF4PTEwLCBtaW49LTUpLCBGbG9hdFNsaWRlcijigKY=\n"
      ]
     },
     "metadata": {},
     "output_type": "display_data"
    },
    {
     "data": {
      "application/vnd.jupyter.widget-view+json": {
       "model_id": "5def6f15ba284e5b84b8f2adf6bd3106",
       "version_major": 2,
       "version_minor": 0
      },
      "text/plain": [
       "VkJveChjaGlsZHJlbj0oQnV0dG9uKGRlc2NyaXB0aW9uPXUneTEnLCBsYXlvdXQ9TGF5b3V0KHdpZHRoPXUnMTAwcHgnKSwgc3R5bGU9QnV0dG9uU3R5bGUoYnV0dG9uX2NvbG9yPScjMDhCOUHigKY=\n"
      ]
     },
     "metadata": {},
     "output_type": "display_data"
    }
   ],
   "source": [
    "T = arange(0.0, 1, 1e-4)\n",
    "S=serca(T=T)\n",
    "S.f=1e2\n",
    "S.update_p()\n",
    "m = slider(model=S)\n",
    "#S.p_orig\n",
    "m.paramSlider()\n",
    "m.toggleButton()"
   ]
  },
  {
   "cell_type": "code",
   "execution_count": null,
   "metadata": {},
   "outputs": [],
   "source": []
  }
 ],
 "metadata": {
  "kernelspec": {
   "display_name": "Python 2",
   "language": "python",
   "name": "python2"
  },
  "language_info": {
   "codemirror_mode": {
    "name": "ipython",
    "version": 2
   },
   "file_extension": ".py",
   "mimetype": "text/x-python",
   "name": "python",
   "nbconvert_exporter": "python",
   "pygments_lexer": "ipython2",
   "version": "2.7.15rc1"
  }
 },
 "nbformat": 4,
 "nbformat_minor": 2
}
