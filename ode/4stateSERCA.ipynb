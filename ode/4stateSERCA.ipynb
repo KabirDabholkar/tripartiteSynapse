{
 "cells": [
  {
   "cell_type": "code",
   "execution_count": 1,
   "metadata": {},
   "outputs": [],
   "source": [
    "from scipy.integrate import odeint\n",
    "from scipy import *\n",
    "import matplotlib.pyplot as plt\n",
    "from mpl_toolkits.mplot3d import Axes3D\n",
    "\n",
    "import bqplot as bq\n",
    "from ipywidgets import interact, interactive, Layout, Box, HBox, VBox, Label\n",
    "import ipywidgets as ipyw\n",
    "from IPython.display import display\n",
    "\n",
    "%matplotlib inline"
   ]
  },
  {
   "cell_type": "markdown",
   "metadata": {},
   "source": [
    "YEP!!! no. of args have to be equal to number of variable\n",
    "\n",
    "see example below!"
   ]
  },
  {
   "cell_type": "code",
   "execution_count": 16,
   "metadata": {},
   "outputs": [
    {
     "name": "stdout",
     "output_type": "stream",
     "text": [
      "     fun: array([-1.19189110e-01, -3.75000000e-06, -1.00000152e-01, -1.52185224e-07,\n",
      "       -2.50000000e-04])\n",
      " message: 'A solution was found at the specified tolerance.'\n",
      "     nit: 4\n",
      "  status: 1\n",
      " success: True\n",
      "       x: array([-1.25338998e+15, -3.94349150e+10, -1.05159933e+15, -1.60037636e+09,\n",
      "       -2.62899433e+12])\n"
     ]
    }
   ],
   "source": [
    "# Volume Normalisations\n",
    "vol_er = (3.9*0.1*0.1) # all units in um\n",
    "vol_cyt = (4.0*0.5*0.5-vol_er)\n",
    "vol_tot = vol_cyt + vol_er\n",
    "Pt=15e-6\n",
    "gamma=vol_er/vol_cyt\n",
    "c=100e-9\n",
    "t0_cond=[Pt,0,0,0,0]\n",
    "initials=[1,1,1,1,1]\n",
    "eq_value=[Pt/4,Pt/4,gamma*Pt/4,gamma*Pt/4,250e-6]\n",
    "\n",
    "def ode(x,t,k1,k_1,k2,k_2,k3):\n",
    "    k_3,k4,k_4 = 1,1,1\n",
    "    x1,x2,y1,y2,ce=x\n",
    "    dx1 = k4*y1/gamma-k_4*x1-k1*c**2*x1+k_1*x2\n",
    "    dx2 = k1*c**2*x1-k_1*x2+k_2*y2/gamma-k2*x2\n",
    "    dy1 = k2*y2-k_3*ce**2*y1-k4\n",
    "    dy2 = k2*x2/gamma-k_2*y2-k3*y2+k_3*ce**2*y1\n",
    "    dce = 2*k3*y2-2*k_3*ce**2*y1\n",
    "    return [dx1,dx2,dy1,dy2,dce]\n",
    "\n",
    "t=np.linspace(0,0.1,100)\n",
    "\n",
    "def func_tbs(params, value):\n",
    "    X=odeint(ode,t0_cond,t,args=tuple(params))\n",
    "    return X[-1]-value\n",
    "\n",
    "#print func_tbs([5,10],value)\n",
    "\n",
    "sol=optimize.root(func_tbs,initials,args=(eq_value,),method='broyden1',tol=1e-3)\n",
    "#plot(odeint(ode,t0_cond,t,args=tuple(sol['x'])))\n",
    "#plot(odeint(ode,t0_cond,t,args=tuple([1,1,1,1,1,1,1,1])))\n",
    "#show()\n",
    "#plot(func_tbs())\n",
    "print sol"
   ]
  },
  {
   "cell_type": "code",
   "execution_count": 20,
   "metadata": {},
   "outputs": [],
   "source": [
    "class slider():\n",
    "    cpalette = ['#EE224A', '#22AF4B', '#4CB5F5', '#FF5C00', \n",
    "                '#08B9A5', '#15AB00', '#881EE4', '#5C6BC0']\n",
    "    \n",
    "    def __init__(self, model):\n",
    "        self.model = model\n",
    "        self.lines = {}\n",
    "        self.param = {}\n",
    "        self.cb = {}\n",
    "        self.colors = {}\n",
    "        \n",
    "        self._solve()\n",
    "        self._curveColors()\n",
    "        self._plot()\n",
    "        \n",
    "        \n",
    "    def _curveColors(self):\n",
    "        for i,v in enumerate(self.model.label):\n",
    "            self.colors.update({v: self.cpalette[i]})\n",
    "        \n",
    "    def _solve(self):\n",
    "        sol = odeint(self.model.dXdt, self.model.X0, self.model.T)\n",
    "        \n",
    "        self.sol = {}\n",
    "        for i,var in enumerate(self.model.label):\n",
    "            self.sol.update({var: sol[:,i]})\n",
    "    \n",
    "    def _getFig(self):\n",
    "        for v in self.model.label:\n",
    "            x_sc = bq.LinearScale()\n",
    "            y_sc = bq.LinearScale()\n",
    "\n",
    "            x_ax = bq.Axis(label='Time', scale=x_sc, tick_format='0.0f', color='black', grid_lines='solid', grid_color='#ddd')\n",
    "            y_ax = bq.Axis(label=v,      scale=y_sc, tick_format='0.2f', color='black', grid_lines='solid', grid_color='#ddd', orientation='vertical')\n",
    "\n",
    "            # Generate a line (but does not plot it)\n",
    "            l = bq.Lines(x=self.model.T, y=self.sol[v], colors=[self.colors[v]],\n",
    "                              scales={'x': x_sc, 'y': y_sc})\n",
    "        \n",
    "            self.lines.update({v: l})\n",
    "          \n",
    "        fig = bq.Figure(axes=[x_ax, y_ax], marks=self.lines.values(),\n",
    "                       fig_margin={'top':10, 'bottom':0, 'left':60, 'right':10},\n",
    "                       max_aspect_ratio=3, min_aspect_ratio=2.5)\n",
    "        fig.layout.width = '100%'\n",
    "        return fig\n",
    "        \n",
    "    def _plot(self):\n",
    "        self._solve()\n",
    "        fig = self._getFig()\n",
    "        \n",
    "        display(fig)\n",
    "        \n",
    "    def _updateFig(self):        \n",
    "        self._solve()\n",
    "        for v in self.model.label:\n",
    "            self.lines[v].y = self.sol[v]\n",
    "    \n",
    "    ### Parameter handling\n",
    "    def _paramUpdate(self, change):\n",
    "        self.model.p[change['owner'].description] = change['new']\n",
    "        self._updateFig()\n",
    "            \n",
    "    def paramSlider(self):\n",
    "        for k,v in self.model.p.items():\n",
    "            crude = ipyw.IntSlider(\n",
    "                min = -5, max = 10,\n",
    "                description=k,\n",
    "                value = floor(log10(v)), \n",
    "                continuous_update = False\n",
    "            )\n",
    "\n",
    "            fine = ipyw.FloatSlider(\n",
    "                min = 10**floor(log10(v)),\n",
    "                max = 10**(floor(log10(v))+1),\n",
    "                description=k, \n",
    "                value = v,\n",
    "                continuous_update = False\n",
    "            )\n",
    "            \n",
    "            #txt = ipyw.FloatText(value=v, description=k, layout=Layout(width='80px'))\n",
    "        \n",
    "            #ipyw.jslink((fine, 'value'), (txt, 'value'))\n",
    "            crude.observe(self._updateRange, names='value')\n",
    "            fine.observe(self._paramUpdate,  names='value')\n",
    "        \n",
    "            p = [crude, fine]#, txt]\n",
    "            self.param.update({k: p})\n",
    "        \n",
    "        box_layout = Layout(display='flex-start',\n",
    "                    flex_flow='row',\n",
    "                    align_items='flex-start',\n",
    "                    align_content='flex-start',\n",
    "                    width='100%')\n",
    "        \n",
    "        for k, v in self.param.items():\n",
    "            box = Box(children=v, layout=box_layout)\n",
    "            display(box, layout=Layout(align_items='flex-start'))\n",
    "            \n",
    "            \n",
    "    def _updateRange(self, c):\n",
    "        k = c['owner'].description\n",
    "        try:\n",
    "            self.param[k][1].max = 10**(c['new']+1)\n",
    "            self.param[k][1].min = 10**c['new']\n",
    "        except:\n",
    "            self.param[k][1].min = 10**c['new']\n",
    "            self.param[k][1].max = 10**(c['new']+1)\n",
    "        self.param[k][1].value = self.param[k][1].min\n",
    "        self.param[k][1].step = 1 if c['new']>0 else 10**(c['new']-1)\n",
    "        \n",
    "    ### Toggle curve display\n",
    "    def _toggleCurve(self, b):\n",
    "        v = not self.lines[b.description].visible\n",
    "        if self.lines[b.description].visible:\n",
    "            self.cb[b.description].style.button_color = '#ddd'\n",
    "            self.lines[b.description].visible = v\n",
    "        else:\n",
    "            self.cb[b.description].style.button_color = self.colors[b.description]\n",
    "            self.lines[b.description].visible = v\n",
    "        \n",
    "        \n",
    "    def _getToggleButton(self, v):\n",
    "        cb = ipyw.Button(\n",
    "            value = self.lines[v].visible,\n",
    "            description = v,\n",
    "            style = ipyw.ButtonStyle(button_color=self.colors[v]),\n",
    "            layout = Layout(width='100px')\n",
    "        )\n",
    "        return cb\n",
    "        \n",
    "    def toggleButton(self):\n",
    "        for v in self.model.label:\n",
    "            self.cb.update({v: self._getToggleButton(v)})\n",
    "            \n",
    "        display(VBox(self.cb.values()))\n",
    "        \n",
    "        for cb in self.cb.values():\n",
    "            cb.on_click(self._toggleCurve)"
   ]
  },
  {
   "cell_type": "code",
   "execution_count": 21,
   "metadata": {},
   "outputs": [],
   "source": [
    "### Four state serca model class\n",
    "class serca:\n",
    "    \n",
    "    ## Must be in same order as dXdt return\n",
    "    label = ['x1', 'x2', 'y1','y1','ce']\n",
    "    nVar = len(label)\n",
    "    \n",
    "    vol_er = (3.9*0.1*0.1) # all units in um\n",
    "    vol_cyt = (4.0*0.5*0.5-vol_er)\n",
    "    vol_tot = vol_cyt + vol_er\n",
    "    Pt=15e-6\n",
    "    gamma=vol_er/vol_cyt\n",
    "    c=100e-9\n",
    "    \n",
    "    #eq_value=[Pt/4,Pt/4,gamma*Pt/4,gamma*Pt/4,250e-6]\n",
    "    \n",
    "    ## Parameters\n",
    "    p = {\n",
    "    'k1':  1,\n",
    "    'k_1': 1,\n",
    "    'k2':  1,\n",
    "    'k_2': 1,\n",
    "    'k3':  1,\n",
    "    'k_3': 1,\n",
    "    'k4':  1,\n",
    "    'k_4': 1,\n",
    "    }\n",
    "    \n",
    "    ## Get initial values for the system\n",
    "    def __init__(self, X0=[Pt,0,0,0,0], T=arange(0.0, 50.0, 0.01)):\n",
    "        self.T = T\n",
    "        self.name = self.__class__.__name__\n",
    "        if self.nVar != len(X0):\n",
    "            print 'ERROR:', self.nVar, 'initial values required for:', self.name\n",
    "        else: \n",
    "            self.X0 = X0\n",
    "            \n",
    "    def dXdt(self,X,t):\n",
    "        x1,x2,y1,y2,ce=X\n",
    "        for var in self.p.keys():\n",
    "            exec(var+'='+str(self.p[var]))\n",
    "        \n",
    "        dx1 = k4*y1/self.gamma-k_4*x1-k1*self.c**2*x1+k_1*x2\n",
    "        dx2 = k1*self.c**2*x1-k_1*x2+k_2*y2/self.gamma-k2*x2\n",
    "        dy1 = k2*y2-k_3*ce**2*y1-k4\n",
    "        dy2 = k2*x2/self.gamma-k_2*y2-k3*y2+k_3*ce**2*y1\n",
    "        dce = 2*k3*y2-2*k_3*ce**2*y1\n",
    "        return [dx1,dx2,dy1,dy2,dce]"
   ]
  },
  {
   "cell_type": "code",
   "execution_count": 22,
   "metadata": {},
   "outputs": [
    {
     "data": {
      "application/vnd.jupyter.widget-view+json": {
       "model_id": "09c335d1ac704bd083ab287f9beaa5dd",
       "version_major": 2,
       "version_minor": 0
      },
      "text/plain": [
       "RmlndXJlKGF4ZXM9W0F4aXMoY29sb3I9J2JsYWNrJywgZ3JpZF9jb2xvcj0nI2RkZCcsIGxhYmVsPXUnVGltZScsIHNjYWxlPUxpbmVhclNjYWxlKCksIHRpY2tfZm9ybWF0PXUnMC4wZicpLCDigKY=\n"
      ]
     },
     "metadata": {},
     "output_type": "display_data"
    },
    {
     "data": {
      "application/vnd.jupyter.widget-view+json": {
       "model_id": "075ebc99e8ba40f7a7009a45a68f322a",
       "version_major": 2,
       "version_minor": 0
      },
      "text/plain": [
       "Qm94KGNoaWxkcmVuPShJbnRTbGlkZXIodmFsdWU9MCwgY29udGludW91c191cGRhdGU9RmFsc2UsIGRlc2NyaXB0aW9uPXUnazMnLCBtYXg9MTAsIG1pbj0tNSksIEZsb2F0U2xpZGVyKHZhbHXigKY=\n"
      ]
     },
     "metadata": {},
     "output_type": "display_data"
    },
    {
     "data": {
      "application/vnd.jupyter.widget-view+json": {
       "model_id": "b95d2ccbe1c14e11a7ce269e735cb401",
       "version_major": 2,
       "version_minor": 0
      },
      "text/plain": [
       "Qm94KGNoaWxkcmVuPShJbnRTbGlkZXIodmFsdWU9MCwgY29udGludW91c191cGRhdGU9RmFsc2UsIGRlc2NyaXB0aW9uPXUnazInLCBtYXg9MTAsIG1pbj0tNSksIEZsb2F0U2xpZGVyKHZhbHXigKY=\n"
      ]
     },
     "metadata": {},
     "output_type": "display_data"
    },
    {
     "data": {
      "application/vnd.jupyter.widget-view+json": {
       "model_id": "f88c1b3d321d41d1926fde26ff5d78ba",
       "version_major": 2,
       "version_minor": 0
      },
      "text/plain": [
       "Qm94KGNoaWxkcmVuPShJbnRTbGlkZXIodmFsdWU9MCwgY29udGludW91c191cGRhdGU9RmFsc2UsIGRlc2NyaXB0aW9uPXUnazEnLCBtYXg9MTAsIG1pbj0tNSksIEZsb2F0U2xpZGVyKHZhbHXigKY=\n"
      ]
     },
     "metadata": {},
     "output_type": "display_data"
    },
    {
     "data": {
      "application/vnd.jupyter.widget-view+json": {
       "model_id": "47e41fcfbcd745f3b15bfc594eb80a0b",
       "version_major": 2,
       "version_minor": 0
      },
      "text/plain": [
       "Qm94KGNoaWxkcmVuPShJbnRTbGlkZXIodmFsdWU9MCwgY29udGludW91c191cGRhdGU9RmFsc2UsIGRlc2NyaXB0aW9uPXUnazQnLCBtYXg9MTAsIG1pbj0tNSksIEZsb2F0U2xpZGVyKHZhbHXigKY=\n"
      ]
     },
     "metadata": {},
     "output_type": "display_data"
    },
    {
     "data": {
      "application/vnd.jupyter.widget-view+json": {
       "model_id": "8793dcaddc5d42659098b2aa979454f5",
       "version_major": 2,
       "version_minor": 0
      },
      "text/plain": [
       "Qm94KGNoaWxkcmVuPShJbnRTbGlkZXIodmFsdWU9MCwgY29udGludW91c191cGRhdGU9RmFsc2UsIGRlc2NyaXB0aW9uPXUna18xJywgbWF4PTEwLCBtaW49LTUpLCBGbG9hdFNsaWRlcih2YWzigKY=\n"
      ]
     },
     "metadata": {},
     "output_type": "display_data"
    },
    {
     "data": {
      "application/vnd.jupyter.widget-view+json": {
       "model_id": "dc99ac24d7cc4c83acc84190f029dbce",
       "version_major": 2,
       "version_minor": 0
      },
      "text/plain": [
       "Qm94KGNoaWxkcmVuPShJbnRTbGlkZXIodmFsdWU9MCwgY29udGludW91c191cGRhdGU9RmFsc2UsIGRlc2NyaXB0aW9uPXUna18zJywgbWF4PTEwLCBtaW49LTUpLCBGbG9hdFNsaWRlcih2YWzigKY=\n"
      ]
     },
     "metadata": {},
     "output_type": "display_data"
    },
    {
     "data": {
      "application/vnd.jupyter.widget-view+json": {
       "model_id": "926dba1c3c93499280ad6370c10d2030",
       "version_major": 2,
       "version_minor": 0
      },
      "text/plain": [
       "Qm94KGNoaWxkcmVuPShJbnRTbGlkZXIodmFsdWU9MCwgY29udGludW91c191cGRhdGU9RmFsc2UsIGRlc2NyaXB0aW9uPXUna18yJywgbWF4PTEwLCBtaW49LTUpLCBGbG9hdFNsaWRlcih2YWzigKY=\n"
      ]
     },
     "metadata": {},
     "output_type": "display_data"
    },
    {
     "data": {
      "application/vnd.jupyter.widget-view+json": {
       "model_id": "5a3c634f124c42079169912a69919781",
       "version_major": 2,
       "version_minor": 0
      },
      "text/plain": [
       "Qm94KGNoaWxkcmVuPShJbnRTbGlkZXIodmFsdWU9MCwgY29udGludW91c191cGRhdGU9RmFsc2UsIGRlc2NyaXB0aW9uPXUna180JywgbWF4PTEwLCBtaW49LTUpLCBGbG9hdFNsaWRlcih2YWzigKY=\n"
      ]
     },
     "metadata": {},
     "output_type": "display_data"
    },
    {
     "data": {
      "application/vnd.jupyter.widget-view+json": {
       "model_id": "5ad1f3334d9544a8b9895ff826269ea5",
       "version_major": 2,
       "version_minor": 0
      },
      "text/plain": [
       "VkJveChjaGlsZHJlbj0oQnV0dG9uKGRlc2NyaXB0aW9uPXUneDInLCBsYXlvdXQ9TGF5b3V0KHdpZHRoPXUnMTAwcHgnKSwgc3R5bGU9QnV0dG9uU3R5bGUoYnV0dG9uX2NvbG9yPScjMjJBRjTigKY=\n"
      ]
     },
     "metadata": {},
     "output_type": "display_data"
    }
   ],
   "source": [
    "#X0 = [0.3, 0.2, 0.1]\n",
    "#tmin, tmax, dt = 0, 30, 0.01\n",
    "#T = arange(tmin,tmax,dt)\n",
    "m = slider(model=serca())\n",
    "\n",
    "m.paramSlider()\n",
    "m.toggleButton()"
   ]
  },
  {
   "cell_type": "code",
   "execution_count": null,
   "metadata": {},
   "outputs": [],
   "source": []
  }
 ],
 "metadata": {
  "kernelspec": {
   "display_name": "Python 2",
   "language": "python",
   "name": "python2"
  },
  "language_info": {
   "codemirror_mode": {
    "name": "ipython",
    "version": 2
   },
   "file_extension": ".py",
   "mimetype": "text/x-python",
   "name": "python",
   "nbconvert_exporter": "python",
   "pygments_lexer": "ipython2",
   "version": "2.7.15rc1"
  }
 },
 "nbformat": 4,
 "nbformat_minor": 2
}
