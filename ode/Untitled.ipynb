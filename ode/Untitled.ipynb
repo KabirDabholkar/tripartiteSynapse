{
 "cells": [
  {
   "cell_type": "code",
   "execution_count": 1,
   "metadata": {},
   "outputs": [],
   "source": [
    "from scipy.integrate import *\n",
    "from matplotlib.pyplot import *\n",
    "import numpy as np"
   ]
  },
  {
   "cell_type": "code",
   "execution_count": 2,
   "metadata": {},
   "outputs": [],
   "source": [
    "cai = 100.0e-9\n",
    "cae = 750.0e-6\n",
    "nserca = 8678.0\n",
    "\n",
    "# Reaction Rates\n",
    "kx1_x1a=2*1.0e8\n",
    "kx1a_x2=1.0e8\n",
    "kx1a_x1=83.666\n",
    "kx2_x1a=2*83.666\n",
    "kx2_y2=0.6\n",
    "ky2_x2=0.097\n",
    "ky2_y1a=2*30.015\n",
    "ky1a_y1=30.015\n",
    "ky1a_y2=1.0e5\n",
    "ky1_y1a=2*1.0e5\n",
    "ky1_x1=0.4\n",
    "kx1_y1=1.20e-3\n",
    "\n",
    "f = 1\n",
    "#modification in reaction rates\n",
    "kx2_y2=0.6\n",
    "ky2_x2=4.118\n",
    "\n",
    "ky1_x1=f*0.4\n",
    "kx1_y1=f*1.20e-3\n",
    "\n",
    "# Volume Normalisations\n",
    "vol_er = (3.9*0.1*0.1) # all units in um\n",
    "vol_cyt = (4.0*0.5*0.5-vol_er)\n",
    "vol_tot = vol_cyt + vol_er\n",
    "ntot = 1\n",
    "ctot = ntot/vol_tot\n",
    "fvol_cyt = vol_cyt/vol_tot\n",
    "fvol_er = vol_er/vol_tot\n",
    "\n",
    "ncai = cai*vol_cyt*6.022*1e8\n",
    "ncae = cae*vol_er*6.022*1e8"
   ]
  },
  {
   "cell_type": "code",
   "execution_count": 3,
   "metadata": {},
   "outputs": [
    {
     "name": "stdout",
     "output_type": "stream",
     "text": [
      "[-46297135579.274796, 17361426083.665997, 28935709508.558, -2399882.3352, 1600060.03, 799809.356, -3199699.85]\n"
     ]
    },
    {
     "ename": "NameError",
     "evalue": "name 'N_avo' is not defined",
     "output_type": "error",
     "traceback": [
      "\u001b[0;31m---------------------------------------------------------------------------\u001b[0m",
      "\u001b[0;31mNameError\u001b[0m                                 Traceback (most recent call last)",
      "\u001b[0;32m<ipython-input-3-bdc302fc902c>\u001b[0m in \u001b[0;36m<module>\u001b[0;34m()\u001b[0m\n\u001b[1;32m     18\u001b[0m \u001b[0;31m# Initial Conditions\u001b[0m\u001b[0;34m\u001b[0m\u001b[0;34m\u001b[0m\u001b[0m\n\u001b[1;32m     19\u001b[0m \u001b[0mv0\u001b[0m \u001b[0;34m=\u001b[0m \u001b[0mnp\u001b[0m\u001b[0;34m.\u001b[0m\u001b[0marray\u001b[0m\u001b[0;34m(\u001b[0m\u001b[0;34m[\u001b[0m\u001b[0;36m0.75554529\u001b[0m\u001b[0;34m,\u001b[0m \u001b[0;36m0.18054556\u001b[0m\u001b[0;34m,\u001b[0m \u001b[0;36m0.010757505\u001b[0m\u001b[0;34m,\u001b[0m \u001b[0;36m0.015718635\u001b[0m\u001b[0;34m,\u001b[0m \u001b[0;36m0.026363904\u001b[0m\u001b[0;34m,\u001b[0m \u001b[0;36m0.011069105\u001b[0m\u001b[0;34m,\u001b[0m\u001b[0;36m1\u001b[0m\u001b[0;34m]\u001b[0m\u001b[0;34m)\u001b[0m\u001b[0;34m\u001b[0m\u001b[0m\n\u001b[0;32m---> 20\u001b[0;31m \u001b[0mv0\u001b[0m \u001b[0;34m=\u001b[0m \u001b[0mv0\u001b[0m\u001b[0;34m*\u001b[0m\u001b[0mnserca\u001b[0m\u001b[0;34m/\u001b[0m\u001b[0;34m(\u001b[0m\u001b[0mvol_er\u001b[0m\u001b[0;34m/\u001b[0m\u001b[0;36m1e18\u001b[0m\u001b[0;34m)\u001b[0m\u001b[0;34m/\u001b[0m\u001b[0mN_avo\u001b[0m\u001b[0;34m\u001b[0m\u001b[0m\n\u001b[0m\u001b[1;32m     21\u001b[0m \u001b[0mv0\u001b[0m\u001b[0;34m[\u001b[0m\u001b[0;36m6\u001b[0m\u001b[0;34m]\u001b[0m\u001b[0;34m=\u001b[0m\u001b[0mcae\u001b[0m\u001b[0;34m\u001b[0m\u001b[0m\n\u001b[1;32m     22\u001b[0m \u001b[0;34m\u001b[0m\u001b[0m\n",
      "\u001b[0;31mNameError\u001b[0m: name 'N_avo' is not defined"
     ]
    }
   ],
   "source": [
    "# SERCA ODE model\n",
    "def serca_ode(v ,t):\n",
    "\tfx1, fx1a, fx2,\tfy1, fy1a, fy2, ncae = v \n",
    "\t\n",
    "\tdx1 = fx1*(-kx1_x1a*ncai-kx1_y1)+fx1a*kx1a_x1+fy1*ky1_x1\n",
    "\tdx1a = fx1a*(-kx1a_x2*ncai-kx1a_x1)+fx1*ncai*kx1_x1a+fx2*kx2_x1a\n",
    "\tdx2 = fx2*(-kx2_y2-kx2_x1a)+fx1a*ncai*kx1a_x2+fy2*ky2_x2\n",
    "\n",
    "\tdy1 = fy1*(-ky1_y1a*ncae-ky1_x1)+fy1a*ky1a_y1+fx1*kx1_y1\n",
    "\tdy1a = fy1a*(-ky1a_y2*ncae-ky1a_y1)+fy1*ncae*ky1_y1a+fy2*ky2_y1a\n",
    "\tdy2 = fy2*(-ky2_x2-ky2_y1a)+fy1a*ncae*ky1a_y2+fx2*kx2_y2\n",
    "\t\n",
    "\tdcae = -ncae*(fy1a*ky1a_y2 + fy1*ky1_y1a) + (fy1a*ky1a_y1 + fy2*ky2_y1a)\n",
    "\n",
    "\treturn [dx1, dx1a, dx2, dy1, dy1a, dy2, dcae]\n",
    "\n",
    "print serca_ode([4,5,3,6,4,3,2],5)\n",
    "# Initial Conditions\n",
    "v0 = np.array([0.75554529, 0.18054556, 0.010757505, 0.015718635, 0.026363904, 0.011069105,1])\n",
    "v0 = v0*nserca/(vol_er/1e18)/N_avo\n",
    "v0[6]=cae\n",
    "\n",
    "tstep = 10e-5\n",
    "tf = 1\n",
    "t = np.linspace(0, tf, tf/tstep+1)\n",
    "\n",
    "# Solve ODE\n",
    "sol = odeint(serca_ode, v0, t)\n",
    "\n",
    "label = ['x0', 'x1', 'x2', 'y0', 'y1', 'y2', 'cae']\n",
    "a_ca=subplot(3,1,3)\n",
    "a_ca.plot(t,sol[:,6]/23.45, label=label[6])\n",
    "a_ca.set_title(label[6])\n",
    "a_ca.legend()\n",
    "\n",
    "ax=[]\n",
    "for i in range(6):\n",
    "\tax.append(subplot(3,3,i+1))\n",
    "\tax[-1].plot(t,sol[:,i], label=label[i])\n",
    "\tax[-1].set_title(label[i])\n",
    "\tax[-1].legend()\n",
    "show()\n",
    "#close()\n",
    "#plot(t,sol[:,6]/23.45, label='Cae')"
   ]
  },
  {
   "cell_type": "code",
   "execution_count": null,
   "metadata": {},
   "outputs": [],
   "source": [
    "plot()"
   ]
  }
 ],
 "metadata": {
  "kernelspec": {
   "display_name": "Python 2",
   "language": "python",
   "name": "python2"
  },
  "language_info": {
   "codemirror_mode": {
    "name": "ipython",
    "version": 2
   },
   "file_extension": ".py",
   "mimetype": "text/x-python",
   "name": "python",
   "nbconvert_exporter": "python",
   "pygments_lexer": "ipython2",
   "version": "2.7.15rc1"
  }
 },
 "nbformat": 4,
 "nbformat_minor": 2
}
