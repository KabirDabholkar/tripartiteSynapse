{
 "cells": [
  {
   "cell_type": "code",
   "execution_count": 4,
   "metadata": {},
   "outputs": [],
   "source": [
    "from scipy.integrate import *\n",
    "from matplotlib.pyplot import *\n",
    "import numpy as np\n"
   ]
  },
  {
   "cell_type": "code",
   "execution_count": 9,
   "metadata": {},
   "outputs": [],
   "source": [
    "cai = 100.0e-9\n",
    "cae = 1e-6\n",
    "nserca = 8678.0\n",
    "\n",
    "# Reaction Rates\n",
    "kx1_x1a=2*1.0e8\n",
    "kx1a_x2=1.0e8\n",
    "kx1a_x1=83.666\n",
    "kx2_x1a=2*83.666\n",
    "kx2_y2=0.6\n",
    "ky2_x2=0.097\n",
    "ky2_y1a=2*30.015\n",
    "ky1a_y1=30.015\n",
    "ky1a_y2=1.0e5\n",
    "ky1_y1a=2*1.0e5\n",
    "ky1_x1=0.4\n",
    "kx1_y1=1.20e-3\n",
    "\n",
    "f = 1\n",
    "#modification in reaction rates\n",
    "kx2_y2=0.6\n",
    "ky2_x2=4.118\n",
    "\n",
    "ky1_x1=f*0.4\n",
    "kx1_y1=f*1.20e-3\n",
    "\n",
    "# Volume Normalisations\n",
    "vol_er = (3.9*0.1*0.1) # all units in um\n",
    "vol_cyt = (4.0*0.5*0.5-vol_er)\n",
    "vol_tot = vol_cyt + vol_er\n",
    "ntot = 1\n",
    "ctot = ntot/vol_tot\n",
    "fvol_cyt = vol_cyt/vol_tot\n",
    "fvol_er = vol_er/vol_tot\n",
    "\n",
    "ncai = cai #*vol_cyt*6.022*1e8\n",
    "ncae = cae #*vol_er*6.022*1e8\n"
   ]
  },
  {
   "cell_type": "code",
   "execution_count": 10,
   "metadata": {},
   "outputs": [],
   "source": [
    "# SERCA ODE model\n",
    "def serca_ode(v ,t):\n",
    "\tfx1, fx1a, fx2,\tfy1, fy1a, fy2, ncae = v \n",
    "\t\n",
    "\tdx1 = fx1*(-kx1_x1a*ncai-kx1_y1)+fx1a*kx1a_x1+fy1*ky1_x1\n",
    "\tdx1a = fx1a*(-kx1a_x2*ncai-kx1a_x1)+fx1*ncai*kx1_x1a+fx2*kx2_x1a\n",
    "\tdx2 = fx2*(-kx2_y2-kx2_x1a)+fx1a*ncai*kx1a_x2+fy2*ky2_x2\n",
    "\n",
    "\tdy1 = fy1*(-ky1_y1a*ncae-ky1_x1)+fy1a*ky1a_y1+fx1*kx1_y1\n",
    "\tdy1a = fy1a*(-ky1a_y2*ncae-ky1a_y1)+fy1*ncae*ky1_y1a+fy2*ky2_y1a\n",
    "\tdy2 = fy2*(-ky2_x2-ky2_y1a)+fy1a*ncae*ky1a_y2+fx2*kx2_y2\n",
    "\t\n",
    "\tdcae = -ncae*(fy1a*ky1a_y2 + fy1*ky1_y1a) + (fy1a*ky1a_y1 + fy2*ky2_y1a)\n",
    "\n",
    "\treturn [dx1, dx1a, dx2, dy1, dy1a, dy2, dcae]"
   ]
  },
  {
   "cell_type": "code",
   "execution_count": 12,
   "metadata": {},
   "outputs": [
    {
     "name": "stderr",
     "output_type": "stream",
     "text": [
      "/usr/local/lib/python2.7/dist-packages/ipykernel_launcher.py:9: DeprecationWarning: object of type <type 'float'> cannot be safely interpreted as an integer.\n",
      "  if __name__ == '__main__':\n"
     ]
    },
    {
     "data": {
      "image/png": "[encoded data removed]",
      "text/plain": [
       "<Figure size 432x288 with 1 Axes>"
      ]
     },
     "metadata": {
      "needs_background": "light"
     },
     "output_type": "display_data"
    }
   ],
   "source": [
    "# Initial Conditions\n",
    "v0 = [0.75554529, 0.18054556, 0.010757505, 0.015718635, 0.026363904, 0.011069105]\n",
    "#v0 = [i*nserca for i in v0]\n",
    "v0.append(ncae)\n",
    "\n",
    "tstep = 10e-3\n",
    "tf = 50.0\n",
    "\n",
    "t = np.linspace(0, tf, tf/tstep+1)\n",
    "\n",
    "# Solve ODE\n",
    "sol = odeint(serca_ode, v0, t)\n",
    "\n",
    "label = ['x1', 'x1a', 'x2', 'y1', 'y1a', 'y2', 'ncae']\n",
    "for i in range(6):\n",
    "\tplot(t,sol[:,i], label=label[i])\n",
    "#show()\n",
    "#close()\n",
    "#print sol[:,6]\n",
    "plot(t,sol[:,6], label='Cae')\n",
    "legend()\n",
    "show()\n",
    "\n"
   ]
  },
  {
   "cell_type": "code",
   "execution_count": null,
   "metadata": {},
   "outputs": [],
   "source": []
  },
  {
   "cell_type": "code",
   "execution_count": null,
   "metadata": {},
   "outputs": [],
   "source": []
  }
 ],
 "metadata": {
  "kernelspec": {
   "display_name": "Python 2",
   "language": "python",
   "name": "python2"
  },
  "language_info": {
   "codemirror_mode": {
    "name": "ipython",
    "version": 2
   },
   "file_extension": ".py",
   "mimetype": "text/x-python",
   "name": "python",
   "nbconvert_exporter": "python",
   "pygments_lexer": "ipython2",
   "version": "2.7.15rc1"
  }
 },
 "nbformat": 4,
 "nbformat_minor": 2
}
