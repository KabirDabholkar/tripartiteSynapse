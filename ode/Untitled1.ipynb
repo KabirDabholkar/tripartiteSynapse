{
 "cells": [
  {
   "cell_type": "code",
   "execution_count": null,
   "metadata": {},
   "outputs": [],
   "source": [
    "from scipy import optimize\n",
    "import numpy as np"
   ]
  },
  {
   "cell_type": "code",
   "execution_count": null,
   "metadata": {},
   "outputs": [],
   "source": [
    "dx = x0*(-kx0_x1*self.cai-kx0_y0)+x1*kx1_x0+y0*ky0_x0\n",
    "dx1 = x1*(-kx1_x2*self.cai-kx1_x0)+x0*self.cai*kx0_x1+x2*kx2_x1\n",
    "dx2 = x2*(-kx2_y2-kx2_x1)+x1*self.cai*kx1_x2+y2*ky2_x2\n",
    "dy0 = y0*(-ky0_y1*ca_e-ky0_x0)+y1*ky1_y0+x0*kx0_y0\n",
    "dy1 = y1*(-ky1_y2*ca_e-ky1_y0)+y0*ca_e*ky0_y1+y2*ky2_y1\n",
    "dy2 = y2*(-ky2_x2-ky2_y1)+y1*ca_e*ky1_y2+x2*kx2_y2\n",
    "dcae = -ca_e*(y1*ky1_y2 + y0*ky0_y1) + (y1*ky1_y0 + y2*ky2_y1)"
   ]
  }
 ],
 "metadata": {
  "kernelspec": {
   "display_name": "Python 2",
   "language": "python",
   "name": "python2"
  },
  "language_info": {
   "codemirror_mode": {
    "name": "ipython",
    "version": 2
   },
   "file_extension": ".py",
   "mimetype": "text/x-python",
   "name": "python",
   "nbconvert_exporter": "python",
   "pygments_lexer": "ipython2",
   "version": "2.7.12"
  }
 },
 "nbformat": 4,
 "nbformat_minor": 2
}
