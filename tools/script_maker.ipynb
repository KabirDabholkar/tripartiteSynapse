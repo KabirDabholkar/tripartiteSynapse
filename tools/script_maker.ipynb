{
 "cells": [
  {
   "cell_type": "code",
   "execution_count": 4,
   "metadata": {},
   "outputs": [
    {
     "name": "stderr",
     "output_type": "stream",
     "text": [
      "ERROR:root:File `'averaging.ipynb.py'` not found.\n",
      "ERROR:root:File `'optimize_slope.ipynb.py'` not found.\n"
     ]
    }
   ],
   "source": [
    "import subprocess\n",
    "from multiprocessing import Pool,cpu_count\n",
    "import os\n",
    "from itertools import product,repeat\n",
    "import numpy as np\n",
    "import matplotlib.pyplot as plt\n",
    "from scipy.optimize import curve_fit\n",
    "from scipy.interpolate import spline\n",
    "from scipy.ndimage.filters import gaussian_filter1d\n",
    "from scipy import stats\n",
    "import fileinput as fi\n",
    "import pickle as pkl\n",
    "\n",
    "\n",
    "%run averaging.ipynb\n",
    "%run optimize_slope.ipynb\n",
    "\n",
    "ncores=cpu_count()"
   ]
  },
  {
   "cell_type": "code",
   "execution_count": 5,
   "metadata": {},
   "outputs": [],
   "source": [
    "area_er = 2*(3.9+0.1+0.1*0.1+3.9*0.1)\n",
    "vol_er = (3.9*0.1*0.1)\n",
    "vol_cyt = (4.0*0.5*0.5-vol_er)\n",
    "vol_tot = vol_cyt + vol_er\n",
    "N_avo=6.0221409e23"
   ]
  },
  {
   "cell_type": "markdown",
   "metadata": {},
   "source": [
    "# Search and Replace in files"
   ]
  },
  {
   "cell_type": "code",
   "execution_count": 4,
   "metadata": {},
   "outputs": [],
   "source": [
    "dataloc=\"/home/kabir/Project/tripartiteSynapse/mcell/R150control_clamped/\"\n",
    "files=os.listdir(dataloc)\n",
    "RS_files=[]\n",
    "for f in files:\n",
    "    if \"RSI\" in f:\n",
    "        RS_files.append(f)\n",
    "#RSI_files"
   ]
  },
  {
   "cell_type": "code",
   "execution_count": 14,
   "metadata": {},
   "outputs": [],
   "source": [
    "for fn in RS_files:\n",
    "    with fi.FileInput(dataloc+fn,inplace=True, backup='.bak') as f:\n",
    "        for line in f:\n",
    "            print(line.replace('\"ppf/','\"ppf/clamped/'), end='')"
   ]
  },
  {
   "cell_type": "code",
   "execution_count": 7,
   "metadata": {},
   "outputs": [],
   "source": [
    "for fn in RS_files:\n",
    "    with fi.FileInput(dataloc+fn,inplace=True, backup='.bak') as f:\n",
    "        for line in f:\n",
    "            print(line.replace('\"RS20p\"','\"freq/no_ryr\"'), end='')"
   ]
  },
  {
   "cell_type": "code",
   "execution_count": 7,
   "metadata": {
    "collapsed": true
   },
   "outputs": [
    {
     "data": {
      "text/plain": [
       "(array([ 70.,  78.,  84.,  89.,  94.,  98., 103., 107., 111., 115., 120.,\n",
       "        124., 128., 133., 138., 143., 149., 157.,   0.,   0.]),\n",
       " {70: 107,\n",
       "  78: 329,\n",
       "  84: 391,\n",
       "  89: 326,\n",
       "  94: 274,\n",
       "  98: 166,\n",
       "  103: 120,\n",
       "  107: 78,\n",
       "  111: 58,\n",
       "  115: 48,\n",
       "  120: 22,\n",
       "  124: 29,\n",
       "  128: 6,\n",
       "  133: 6,\n",
       "  138: 13,\n",
       "  143: 3,\n",
       "  149: 9,\n",
       "  157: 0})"
      ]
     },
     "execution_count": 7,
     "metadata": {},
     "output_type": "execute_result"
    }
   ],
   "source": [
    "p=[-1.205e-06,  4.109e-04, -3.469e-02,  8.770e-01] #polynomial from tools/RSI_script_VDCC-clamped.ipynb\n",
    "loc=\"/home/kabir/Project/tripartiteSynapse/murthy/Pr distribution-Murthy1997.dat\"\n",
    "\n",
    "dist=np.loadtxt(loc)\n",
    "\n",
    "vdcc_numbers=np.zeros(len(dist.T[0]))\n",
    "vdcc_dist={}\n",
    "\n",
    "for i,d in enumerate(dist.T[0]):\n",
    "    P=p[:3]+[p[3]-d]\n",
    "    #print(P)\n",
    "    roots=np.roots(P)\n",
    "    real_roots=np.real(roots[np.isreal(roots)])\n",
    "    #print(real_roots)\n",
    "    for r in real_roots:\n",
    "        if r>=60 and r<=160:\n",
    "            vdcc_number=int(r)\n",
    "            vdcc_numbers[i]=vdcc_number\n",
    "            #print(i)\n",
    "            vdcc_dist[vdcc_number]=int(dist.T[1][i]/sum(dist.T[1])*2000)\n",
    "\n",
    "vdcc_numbers,vdcc_dist"
   ]
  },
  {
   "cell_type": "code",
   "execution_count": 6,
   "metadata": {},
   "outputs": [],
   "source": [
    "sims=[\"stores_blocked\",\"R150control_clamped\",\"R300ER2x_clamped\" ,\"R300ER3x_clamped\",\"R150ER3x_clamped\" ,\"R150ER2x_clamped\"]\n",
    "isi_range=range(20,201,40)\n",
    "for sim in sims:\n",
    "    for isi in isi_range:\n",
    "        #isi=100\n",
    "        temp_loc=\"/home/kabir/Project/tripartiteSynapse/mcell/\"+sim+\"/RSI\"+str(isi)+\"V80.mdl\"\n",
    "        with open(temp_loc,'r') as template:\n",
    "            template_lines = template.readlines()\n",
    "        for vdcc_number in vdcc_numbers:\n",
    "            new_loc=\"/home/kabir/Project/tripartiteSynapse/mcell/\"+sim+\"/RSI\"+str(isi)+\"V\"+str(int(vdcc_number))+\".mdl\"\n",
    "            new_lines=[line.replace(\"VDCC_number_presynaptic = 80\",\"VDCC_number_presynaptic = \"+str(int(vdcc_number))) for line in template_lines]\n",
    "            with open(new_loc,'w') as new_file:\n",
    "                new_file.writelines(new_lines)\n"
   ]
  },
  {
   "cell_type": "markdown",
   "metadata": {},
   "source": [
    "### counting simulations"
   ]
  },
  {
   "cell_type": "code",
   "execution_count": 10,
   "metadata": {
    "collapsed": true
   },
   "outputs": [
    {
     "name": "stdout",
     "output_type": "stream",
     "text": [
      "R150control RSI20V84 391\n",
      "R150control RSI20V70 104\n",
      "R150control RSI20V98 166\n",
      "R150control RSI20V94 274\n",
      "R150control RSI20V138 13\n",
      "R150control RSI20V115 48\n",
      "R150control RSI20V78 329\n",
      "R150control RSI20V128 6\n",
      "R150control RSI20V124 29\n",
      "R150control RSI20V120 22\n",
      "R150ER3x RSI20V84 391\n",
      "R150ER3x RSI20V70 107\n",
      "R150ER3x RSI20V98 166\n",
      "R150ER3x RSI20V94 274\n",
      "R150ER3x RSI20V138 13\n",
      "R150ER3x RSI20V115 48\n",
      "R150ER3x RSI20V78 329\n",
      "R150ER3x RSI20V128 6\n",
      "R150ER3x RSI20V124 29\n",
      "R150ER3x RSI20V120 22\n",
      "R150ER2x RSI20V84 391\n",
      "R150ER2x RSI20V70 107\n",
      "R150ER2x RSI20V98 166\n",
      "R150ER2x RSI20V94 274\n",
      "R150ER2x RSI20V138 13\n",
      "R150ER2x RSI20V115 48\n",
      "R150ER2x RSI20V78 329\n",
      "R150ER2x RSI20V128 6\n",
      "R150ER2x RSI20V124 29\n",
      "R150ER2x RSI20V120 22\n",
      "R300ER2x RSI20V84 389\n",
      "R300ER2x RSI20V70 107\n",
      "R300ER2x RSI20V98 166\n",
      "R300ER2x RSI20V94 274\n",
      "R300ER2x RSI20V138 13\n",
      "R300ER2x RSI20V115 48\n",
      "R300ER2x RSI20V78 329\n",
      "R300ER2x RSI20V128 6\n",
      "R300ER2x RSI20V124 29\n",
      "R300ER2x RSI20V120 22\n",
      "R300ER3x RSI20V84 391\n",
      "R300ER3x RSI20V70 104\n",
      "R300ER3x RSI20V98 166\n",
      "R300ER3x RSI20V94 274\n",
      "R300ER3x RSI20V138 13\n",
      "R300ER3x RSI20V115 48\n",
      "R300ER3x RSI20V78 329\n",
      "R300ER3x RSI20V128 6\n",
      "R300ER3x RSI20V124 29\n",
      "R300ER3x RSI20V120 22\n"
     ]
    }
   ],
   "source": [
    "with open(\"/home/kabir/Project/tripartiteSynapse/results/rec.pkl\",'rb') as f:\n",
    "    rec=pkl.load(f)\n",
    "\n",
    "for key in rec.keys():\n",
    "    for sub in rec[key].keys():\n",
    "        if \"I20\" in sub:\n",
    "            print(key, sub, rec[key][sub])"
   ]
  },
  {
   "cell_type": "markdown",
   "metadata": {},
   "source": [
    "# kleak conversion to mcell"
   ]
  },
  {
   "cell_type": "code",
   "execution_count": 69,
   "metadata": {},
   "outputs": [
    {
     "name": "stdout",
     "output_type": "stream",
     "text": [
      "Ca Flux in ions/sec =  411.01111642500007\n",
      "Predicted kleak =  186.74888573427603\n"
     ]
    }
   ],
   "source": [
    "#from S Bandara et al 2013\n",
    "J=0.07*250 #uM/s\n",
    "J/=1e15/N_avo/vol_er*1e6\n",
    "print(\"Ca Flux in ions/sec = \",J)\n",
    "\n",
    "p=[2.1675959461586873, 6.214988757731395]\n",
    "kleak=(J-p[1])/p[0]\n",
    "print(\"Predicted kleak = \",kleak)"
   ]
  },
  {
   "cell_type": "markdown",
   "metadata": {},
   "source": [
    "# creating run.sh file"
   ]
  },
  {
   "cell_type": "code",
   "execution_count": 8,
   "metadata": {},
   "outputs": [],
   "source": [
    "def seed_num(vdcc_num):\n",
    "    #vdcc_num=int(fname.split('V')[1].replace('.mdl',''))\n",
    "    if vdcc_num>=110 and vdcc_num<=160:\n",
    "        return 1000\n",
    "    elif vdcc_num>=90 and vdcc_num<=100:\n",
    "        return 2000\n",
    "    elif vdcc_num>=70 and vdcc_num<=80:\n",
    "        return 3000\n",
    "    elif vdcc_num>=40 and vdcc_num<=60:\n",
    "        return 5000\n",
    "    else:\n",
    "        return 10"
   ]
  },
  {
   "cell_type": "markdown",
   "metadata": {},
   "source": [
    "### create job list along with no. of seeds:"
   ]
  },
  {
   "cell_type": "code",
   "execution_count": 14,
   "metadata": {
    "collapsed": true
   },
   "outputs": [
    {
     "name": "stdout",
     "output_type": "stream",
     "text": [
      "/home/kabir/Project/tripartiteSynapse/mcell\n",
      "isi = [20, 60, 100, 140, 180] \n",
      "vdcc = [ 70.  78.  84.  89.  94.  98. 103. 107. 111. 115. 120. 124. 128. 133.\n",
      " 138. 143. 149. 157.   0.   0.]\n"
     ]
    },
    {
     "data": {
      "text/plain": [
       "[('R150control_clamped/RSI20V89.mdl', (1, 326)),\n",
       " ('R300ER2x_clamped/RSI20V89.mdl', (1, 326)),\n",
       " ('R300ER3x_clamped/RSI20V89.mdl', (1, 326)),\n",
       " ('R150ER3x_clamped/RSI20V89.mdl', (1, 326)),\n",
       " ('R150ER2x_clamped/RSI20V89.mdl', (1, 326)),\n",
       " ('R150control_clamped/RSI20V103.mdl', (1, 120)),\n",
       " ('R300ER2x_clamped/RSI20V103.mdl', (1, 120)),\n",
       " ('R300ER3x_clamped/RSI20V103.mdl', (1, 120)),\n",
       " ('R150ER3x_clamped/RSI20V103.mdl', (1, 120)),\n",
       " ('R150ER2x_clamped/RSI20V103.mdl', (1, 120)),\n",
       " ('R150control_clamped/RSI20V107.mdl', (1, 78)),\n",
       " ('R300ER2x_clamped/RSI20V107.mdl', (1, 78)),\n",
       " ('R300ER3x_clamped/RSI20V107.mdl', (1, 78)),\n",
       " ('R150ER3x_clamped/RSI20V107.mdl', (1, 78)),\n",
       " ('R150ER2x_clamped/RSI20V107.mdl', (1, 78)),\n",
       " ('R150control_clamped/RSI20V111.mdl', (1, 58)),\n",
       " ('R300ER2x_clamped/RSI20V111.mdl', (1, 58)),\n",
       " ('R300ER3x_clamped/RSI20V111.mdl', (1, 58)),\n",
       " ('R150ER3x_clamped/RSI20V111.mdl', (1, 58)),\n",
       " ('R150ER2x_clamped/RSI20V111.mdl', (1, 58)),\n",
       " ('R150control_clamped/RSI20V133.mdl', (1, 6)),\n",
       " ('R300ER2x_clamped/RSI20V133.mdl', (1, 6)),\n",
       " ('R300ER3x_clamped/RSI20V133.mdl', (1, 6)),\n",
       " ('R150ER3x_clamped/RSI20V133.mdl', (1, 6)),\n",
       " ('R150ER2x_clamped/RSI20V133.mdl', (1, 6)),\n",
       " ('R150control_clamped/RSI20V143.mdl', (1, 3)),\n",
       " ('R300ER2x_clamped/RSI20V143.mdl', (1, 3)),\n",
       " ('R300ER3x_clamped/RSI20V143.mdl', (1, 3)),\n",
       " ('R150ER3x_clamped/RSI20V143.mdl', (1, 3)),\n",
       " ('R150ER2x_clamped/RSI20V143.mdl', (1, 3)),\n",
       " ('R150control_clamped/RSI20V149.mdl', (1, 9)),\n",
       " ('R300ER2x_clamped/RSI20V149.mdl', (1, 9)),\n",
       " ('R300ER3x_clamped/RSI20V149.mdl', (1, 9)),\n",
       " ('R150ER3x_clamped/RSI20V149.mdl', (1, 9)),\n",
       " ('R150ER2x_clamped/RSI20V149.mdl', (1, 9)),\n",
       " ('R150control_clamped/RSI20V157.mdl', (1, 0)),\n",
       " ('R300ER2x_clamped/RSI20V157.mdl', (1, 0)),\n",
       " ('R300ER3x_clamped/RSI20V157.mdl', (1, 0)),\n",
       " ('R150ER3x_clamped/RSI20V157.mdl', (1, 0)),\n",
       " ('R150ER2x_clamped/RSI20V157.mdl', (1, 0)),\n",
       " ('R150control_clamped/RSI60V89.mdl', (1, 326)),\n",
       " ('R300ER2x_clamped/RSI60V89.mdl', (1, 326)),\n",
       " ('R300ER3x_clamped/RSI60V89.mdl', (1, 326)),\n",
       " ('R150ER3x_clamped/RSI60V89.mdl', (1, 326)),\n",
       " ('R150ER2x_clamped/RSI60V89.mdl', (1, 326)),\n",
       " ('R150control_clamped/RSI60V103.mdl', (1, 120)),\n",
       " ('R300ER2x_clamped/RSI60V103.mdl', (1, 120)),\n",
       " ('R300ER3x_clamped/RSI60V103.mdl', (1, 120)),\n",
       " ('R150ER3x_clamped/RSI60V103.mdl', (1, 120)),\n",
       " ('R150ER2x_clamped/RSI60V103.mdl', (1, 120)),\n",
       " ('R150control_clamped/RSI60V107.mdl', (1, 78)),\n",
       " ('R300ER2x_clamped/RSI60V107.mdl', (1, 78)),\n",
       " ('R300ER3x_clamped/RSI60V107.mdl', (1, 78)),\n",
       " ('R150ER3x_clamped/RSI60V107.mdl', (1, 78)),\n",
       " ('R150ER2x_clamped/RSI60V107.mdl', (1, 78)),\n",
       " ('R150control_clamped/RSI60V111.mdl', (1, 58)),\n",
       " ('R300ER2x_clamped/RSI60V111.mdl', (1, 58)),\n",
       " ('R300ER3x_clamped/RSI60V111.mdl', (1, 58)),\n",
       " ('R150ER3x_clamped/RSI60V111.mdl', (1, 58)),\n",
       " ('R150ER2x_clamped/RSI60V111.mdl', (1, 58)),\n",
       " ('R150control_clamped/RSI60V133.mdl', (1, 6)),\n",
       " ('R300ER2x_clamped/RSI60V133.mdl', (1, 6)),\n",
       " ('R300ER3x_clamped/RSI60V133.mdl', (1, 6)),\n",
       " ('R150ER3x_clamped/RSI60V133.mdl', (1, 6)),\n",
       " ('R150ER2x_clamped/RSI60V133.mdl', (1, 6)),\n",
       " ('R150control_clamped/RSI60V143.mdl', (1, 3)),\n",
       " ('R300ER2x_clamped/RSI60V143.mdl', (1, 3)),\n",
       " ('R300ER3x_clamped/RSI60V143.mdl', (1, 3)),\n",
       " ('R150ER3x_clamped/RSI60V143.mdl', (1, 3)),\n",
       " ('R150ER2x_clamped/RSI60V143.mdl', (1, 3)),\n",
       " ('R150control_clamped/RSI60V149.mdl', (1, 9)),\n",
       " ('R300ER2x_clamped/RSI60V149.mdl', (1, 9)),\n",
       " ('R300ER3x_clamped/RSI60V149.mdl', (1, 9)),\n",
       " ('R150ER3x_clamped/RSI60V149.mdl', (1, 9)),\n",
       " ('R150ER2x_clamped/RSI60V149.mdl', (1, 9)),\n",
       " ('R150control_clamped/RSI60V157.mdl', (1, 0)),\n",
       " ('R300ER2x_clamped/RSI60V157.mdl', (1, 0)),\n",
       " ('R300ER3x_clamped/RSI60V157.mdl', (1, 0)),\n",
       " ('R150ER3x_clamped/RSI60V157.mdl', (1, 0)),\n",
       " ('R150ER2x_clamped/RSI60V157.mdl', (1, 0)),\n",
       " ('R150control_clamped/RSI100V89.mdl', (1, 326)),\n",
       " ('R300ER2x_clamped/RSI100V89.mdl', (1, 326)),\n",
       " ('R300ER3x_clamped/RSI100V89.mdl', (1, 326)),\n",
       " ('R150ER3x_clamped/RSI100V89.mdl', (1, 326)),\n",
       " ('R150ER2x_clamped/RSI100V89.mdl', (1, 326)),\n",
       " ('R150control_clamped/RSI100V103.mdl', (1, 120)),\n",
       " ('R300ER2x_clamped/RSI100V103.mdl', (1, 120)),\n",
       " ('R300ER3x_clamped/RSI100V103.mdl', (1, 120)),\n",
       " ('R150ER3x_clamped/RSI100V103.mdl', (1, 120)),\n",
       " ('R150ER2x_clamped/RSI100V103.mdl', (1, 120)),\n",
       " ('R150control_clamped/RSI100V107.mdl', (1, 78)),\n",
       " ('R300ER2x_clamped/RSI100V107.mdl', (1, 78)),\n",
       " ('R300ER3x_clamped/RSI100V107.mdl', (1, 78)),\n",
       " ('R150ER3x_clamped/RSI100V107.mdl', (1, 78)),\n",
       " ('R150ER2x_clamped/RSI100V107.mdl', (1, 78)),\n",
       " ('R150control_clamped/RSI100V111.mdl', (1, 58)),\n",
       " ('R300ER2x_clamped/RSI100V111.mdl', (1, 58)),\n",
       " ('R300ER3x_clamped/RSI100V111.mdl', (1, 58)),\n",
       " ('R150ER3x_clamped/RSI100V111.mdl', (1, 58)),\n",
       " ('R150ER2x_clamped/RSI100V111.mdl', (1, 58)),\n",
       " ('R150control_clamped/RSI100V133.mdl', (1, 6)),\n",
       " ('R300ER2x_clamped/RSI100V133.mdl', (1, 6)),\n",
       " ('R300ER3x_clamped/RSI100V133.mdl', (1, 6)),\n",
       " ('R150ER3x_clamped/RSI100V133.mdl', (1, 6)),\n",
       " ('R150ER2x_clamped/RSI100V133.mdl', (1, 6)),\n",
       " ('R150control_clamped/RSI100V143.mdl', (1, 3)),\n",
       " ('R300ER2x_clamped/RSI100V143.mdl', (1, 3)),\n",
       " ('R300ER3x_clamped/RSI100V143.mdl', (1, 3)),\n",
       " ('R150ER3x_clamped/RSI100V143.mdl', (1, 3)),\n",
       " ('R150ER2x_clamped/RSI100V143.mdl', (1, 3)),\n",
       " ('R150control_clamped/RSI100V149.mdl', (1, 9)),\n",
       " ('R300ER2x_clamped/RSI100V149.mdl', (1, 9)),\n",
       " ('R300ER3x_clamped/RSI100V149.mdl', (1, 9)),\n",
       " ('R150ER3x_clamped/RSI100V149.mdl', (1, 9)),\n",
       " ('R150ER2x_clamped/RSI100V149.mdl', (1, 9)),\n",
       " ('R150control_clamped/RSI100V157.mdl', (1, 0)),\n",
       " ('R300ER2x_clamped/RSI100V157.mdl', (1, 0)),\n",
       " ('R300ER3x_clamped/RSI100V157.mdl', (1, 0)),\n",
       " ('R150ER3x_clamped/RSI100V157.mdl', (1, 0)),\n",
       " ('R150ER2x_clamped/RSI100V157.mdl', (1, 0)),\n",
       " ('R150control_clamped/RSI140V89.mdl', (1, 326)),\n",
       " ('R300ER2x_clamped/RSI140V89.mdl', (1, 326)),\n",
       " ('R300ER3x_clamped/RSI140V89.mdl', (1, 326)),\n",
       " ('R150ER3x_clamped/RSI140V89.mdl', (1, 326)),\n",
       " ('R150ER2x_clamped/RSI140V89.mdl', (1, 326)),\n",
       " ('R150control_clamped/RSI140V103.mdl', (1, 120)),\n",
       " ('R300ER2x_clamped/RSI140V103.mdl', (1, 120)),\n",
       " ('R300ER3x_clamped/RSI140V103.mdl', (1, 120)),\n",
       " ('R150ER3x_clamped/RSI140V103.mdl', (1, 120)),\n",
       " ('R150ER2x_clamped/RSI140V103.mdl', (1, 120)),\n",
       " ('R150control_clamped/RSI140V107.mdl', (1, 78)),\n",
       " ('R300ER2x_clamped/RSI140V107.mdl', (1, 78)),\n",
       " ('R300ER3x_clamped/RSI140V107.mdl', (1, 78)),\n",
       " ('R150ER3x_clamped/RSI140V107.mdl', (1, 78)),\n",
       " ('R150ER2x_clamped/RSI140V107.mdl', (1, 78)),\n",
       " ('R150control_clamped/RSI140V111.mdl', (1, 58)),\n",
       " ('R300ER2x_clamped/RSI140V111.mdl', (1, 58)),\n",
       " ('R300ER3x_clamped/RSI140V111.mdl', (1, 58)),\n",
       " ('R150ER3x_clamped/RSI140V111.mdl', (1, 58)),\n",
       " ('R150ER2x_clamped/RSI140V111.mdl', (1, 58)),\n",
       " ('R150control_clamped/RSI140V133.mdl', (1, 6)),\n",
       " ('R300ER2x_clamped/RSI140V133.mdl', (1, 6)),\n",
       " ('R300ER3x_clamped/RSI140V133.mdl', (1, 6)),\n",
       " ('R150ER3x_clamped/RSI140V133.mdl', (1, 6)),\n",
       " ('R150ER2x_clamped/RSI140V133.mdl', (1, 6)),\n",
       " ('R150control_clamped/RSI140V143.mdl', (1, 3)),\n",
       " ('R300ER2x_clamped/RSI140V143.mdl', (1, 3)),\n",
       " ('R300ER3x_clamped/RSI140V143.mdl', (1, 3)),\n",
       " ('R150ER3x_clamped/RSI140V143.mdl', (1, 3)),\n",
       " ('R150ER2x_clamped/RSI140V143.mdl', (1, 3)),\n",
       " ('R150control_clamped/RSI140V149.mdl', (1, 9)),\n",
       " ('R300ER2x_clamped/RSI140V149.mdl', (1, 9)),\n",
       " ('R300ER3x_clamped/RSI140V149.mdl', (1, 9)),\n",
       " ('R150ER3x_clamped/RSI140V149.mdl', (1, 9)),\n",
       " ('R150ER2x_clamped/RSI140V149.mdl', (1, 9)),\n",
       " ('R150control_clamped/RSI140V157.mdl', (1, 0)),\n",
       " ('R300ER2x_clamped/RSI140V157.mdl', (1, 0)),\n",
       " ('R300ER3x_clamped/RSI140V157.mdl', (1, 0)),\n",
       " ('R150ER3x_clamped/RSI140V157.mdl', (1, 0)),\n",
       " ('R150ER2x_clamped/RSI140V157.mdl', (1, 0)),\n",
       " ('R150control_clamped/RSI180V89.mdl', (1, 326)),\n",
       " ('R300ER2x_clamped/RSI180V89.mdl', (1, 326)),\n",
       " ('R300ER3x_clamped/RSI180V89.mdl', (1, 326)),\n",
       " ('R150ER3x_clamped/RSI180V89.mdl', (1, 326)),\n",
       " ('R150ER2x_clamped/RSI180V89.mdl', (1, 326)),\n",
       " ('R150control_clamped/RSI180V103.mdl', (1, 120)),\n",
       " ('R300ER2x_clamped/RSI180V103.mdl', (1, 120)),\n",
       " ('R300ER3x_clamped/RSI180V103.mdl', (1, 120)),\n",
       " ('R150ER3x_clamped/RSI180V103.mdl', (1, 120)),\n",
       " ('R150ER2x_clamped/RSI180V103.mdl', (1, 120)),\n",
       " ('R150control_clamped/RSI180V107.mdl', (1, 78)),\n",
       " ('R300ER2x_clamped/RSI180V107.mdl', (1, 78)),\n",
       " ('R300ER3x_clamped/RSI180V107.mdl', (1, 78)),\n",
       " ('R150ER3x_clamped/RSI180V107.mdl', (1, 78)),\n",
       " ('R150ER2x_clamped/RSI180V107.mdl', (1, 78)),\n",
       " ('R150control_clamped/RSI180V111.mdl', (1, 58)),\n",
       " ('R300ER2x_clamped/RSI180V111.mdl', (1, 58)),\n",
       " ('R300ER3x_clamped/RSI180V111.mdl', (1, 58)),\n",
       " ('R150ER3x_clamped/RSI180V111.mdl', (1, 58)),\n",
       " ('R150ER2x_clamped/RSI180V111.mdl', (1, 58)),\n",
       " ('R150control_clamped/RSI180V133.mdl', (1, 6)),\n",
       " ('R300ER2x_clamped/RSI180V133.mdl', (1, 6)),\n",
       " ('R300ER3x_clamped/RSI180V133.mdl', (1, 6)),\n",
       " ('R150ER3x_clamped/RSI180V133.mdl', (1, 6)),\n",
       " ('R150ER2x_clamped/RSI180V133.mdl', (1, 6)),\n",
       " ('R150control_clamped/RSI180V143.mdl', (1, 3)),\n",
       " ('R300ER2x_clamped/RSI180V143.mdl', (1, 3)),\n",
       " ('R300ER3x_clamped/RSI180V143.mdl', (1, 3)),\n",
       " ('R150ER3x_clamped/RSI180V143.mdl', (1, 3)),\n",
       " ('R150ER2x_clamped/RSI180V143.mdl', (1, 3)),\n",
       " ('R150control_clamped/RSI180V149.mdl', (1, 9)),\n",
       " ('R300ER2x_clamped/RSI180V149.mdl', (1, 9)),\n",
       " ('R300ER3x_clamped/RSI180V149.mdl', (1, 9)),\n",
       " ('R150ER3x_clamped/RSI180V149.mdl', (1, 9)),\n",
       " ('R150ER2x_clamped/RSI180V149.mdl', (1, 9)),\n",
       " ('R150control_clamped/RSI180V157.mdl', (1, 0)),\n",
       " ('R300ER2x_clamped/RSI180V157.mdl', (1, 0)),\n",
       " ('R300ER3x_clamped/RSI180V157.mdl', (1, 0)),\n",
       " ('R150ER3x_clamped/RSI180V157.mdl', (1, 0)),\n",
       " ('R150ER2x_clamped/RSI180V157.mdl', (1, 0))]"
      ]
     },
     "execution_count": 14,
     "metadata": {},
     "output_type": "execute_result"
    }
   ],
   "source": [
    "#Murthy 1997 dist\n",
    "\n",
    "sims=[\"R150control_clamped\",\"R300ER2x_clamped\" ,\"R300ER3x_clamped\",\"R150ER3x_clamped\" ,\"R150ER2x_clamped\"]#\"stores_blocked\",\n",
    "script_folder=\"/home/kabir/Project/tripartiteSynapse/mcell\"#+'/'+sim_type\n",
    "print(script_folder)\n",
    "isi=list(isi_range)\n",
    "VDCC=vdcc_numbers\n",
    "\n",
    "print('isi = '+str(isi),'\\nvdcc = '+str(VDCC))\n",
    "fnames=[]\n",
    "seeds=[]\n",
    "for (i,v,sim) in product(isi,vdcc_dist.keys(),sims):\n",
    "    if \"RSI\"+str(i)+\"V\"+str(v) not in rec[sim.replace(\"_clamped\",\"\")].keys():\n",
    "        fnames.append(sim+\"/RSI\"+str(i)+\"V\"+str(v)+\".mdl\")\n",
    "        seeds.append((1,int(vdcc_dist[v]))) #seed_num(v)\n",
    "    #print(d/sum(dist.T[1]))\n",
    "list(zip(fnames,seeds))"
   ]
  },
  {
   "cell_type": "code",
   "execution_count": 40,
   "metadata": {},
   "outputs": [
    {
     "name": "stdout",
     "output_type": "stream",
     "text": [
      "/home/kabir/Project/tripartiteSynapse/mcell\n",
      "isi = [20] \n",
      "vdcc = [140, 150, 160, 170, 180, 190]\n",
      "['R150control_clamped/RSI20V140.mdl', 'R150control_clamped/RSI20V150.mdl', 'R150control_clamped/RSI20V160.mdl', 'R150control_clamped/RSI20V170.mdl', 'R150control_clamped/RSI20V180.mdl', 'R150control_clamped/RSI20V190.mdl'] [(1, 1000), (1, 1000), (1, 1000), (1, 1000), (1, 1000), (1, 1000)]\n"
     ]
    }
   ],
   "source": [
    "#VDCC range\n",
    "\n",
    "sims=[\"R150control\"]#,\"R150ER2x\",\"R300ER2x\",\"R150ER3x\",\"R300ER3x\"]#,\"stores_blocked\" \"ryr_old\",\n",
    "#sim_type=sims[2]\n",
    "script_folder=\"/home/kabir/Project/tripartiteSynapse/mcell\"#+'/'+sim_type\n",
    "print(script_folder)\n",
    "isi=[20]\n",
    "VDCC=list(range(140,200,10))\n",
    "\n",
    "print('isi = '+str(isi),'\\nvdcc = '+str(VDCC))\n",
    "fnames=[]\n",
    "seeds=[]\n",
    "for (i,v,sim) in product(isi,VDCC,sims):\n",
    "    fnames.append(sim+\"_clamped/RSI\"+str(i)+\"V\"+str(v)+\".mdl\")\n",
    "    seeds.append((1,1000)) #seed_num(v)\n",
    "print(fnames,seeds)\n"
   ]
  },
  {
   "cell_type": "code",
   "execution_count": 5,
   "metadata": {},
   "outputs": [
    {
     "name": "stdout",
     "output_type": "stream",
     "text": [
      "/home/kabir/Project/tripartiteSynapse/mcell/R150control\n",
      "isi = [20, 40, 60, 80, 100] \n",
      "vdcc = [90]\n",
      "['RSI20V90.mdl', 'RSI40V90.mdl', 'RSI60V90.mdl', 'RSI80V90.mdl', 'RSI100V90.mdl']\n"
     ]
    }
   ],
   "source": [
    "#ISI range\n",
    "\n",
    "sims=[\"R150control\",\"R150ER2x\",\"R300ER2x\",\"R150ER3x\",\"R300ER3x\"]\n",
    "sim_type=sims[0]\n",
    "script_folder=\"/home/kabir/Project/tripartiteSynapse/mcell\"+'/'+sim_type\n",
    "print(script_folder)\n",
    "isi=list(range(20,101,20))\n",
    "VDCC=[90]\n",
    "print('isi = '+str(isi),'\\nvdcc = '+str(list(VDCC)))\n",
    "fnames=[]\n",
    "for (i,v) in product(isi,VDCC):\n",
    "    fnames.append(\"RSI\"+str(i)+\"V\"+str(v)+\".mdl\")\n",
    "#fnames=[\"RSI20V90.mdl\",\"RSI30V90.mdl\",\"RSI40V90.mdl\"]\n",
    "print(fnames)\n",
    "#seed_num=1000"
   ]
  },
  {
   "cell_type": "code",
   "execution_count": 21,
   "metadata": {},
   "outputs": [
    {
     "name": "stdout",
     "output_type": "stream",
     "text": [
      "/home/kabir/Project/tripartiteSynapse/mcell/R300ER2x\n",
      "isi = [20] \n",
      "vdcc = [40, 60, 80, 100, 120, 140, 160]\n",
      "['RSI20V40.mdl', 'RSI20V60.mdl', 'RSI20V80.mdl', 'RSI20V100.mdl', 'RSI20V120.mdl', 'RSI20V140.mdl', 'RSI20V160.mdl']\n"
     ]
    }
   ],
   "source": [
    "#VDCC range\n",
    "\n",
    "sims=[\"R150control\",\"R150ER2x\",\"R300ER2x\",\"R150ER3x\",\"R300ER3x\"]\n",
    "sim_type=sims[2]\n",
    "script_folder=\"/home/kabir/Project/tripartiteSynapse/mcell\"+'/'+sim_type\n",
    "print(script_folder)\n",
    "isi=[20]\n",
    "VDCC=list(range(40,161,20))\n",
    "print('isi = '+str(isi),'\\nvdcc = '+str(list(VDCC)))\n",
    "fnames=[]\n",
    "for (i,v) in product(isi,VDCC):\n",
    "    fnames.append(\"RSI\"+str(i)+\"V\"+str(v)+\".mdl\")\n",
    "print(fnames)"
   ]
  },
  {
   "cell_type": "code",
   "execution_count": 4,
   "metadata": {},
   "outputs": [
    {
     "name": "stdout",
     "output_type": "stream",
     "text": [
      "/home/kabir/Project/tripartiteSynapse/mcell/R300ER3x\n",
      "isi = [20] \n",
      "vdcc = [70]\n",
      "['RSI20V70.mdl']\n"
     ]
    }
   ],
   "source": [
    "#3003x\n",
    "\n",
    "sims=[\"R150control\",\"R150ER2x\",\"R300ER2x\",\"R150ER3x\",\"R300ER3x\"]\n",
    "sim_type=sims[4]\n",
    "script_folder=\"/home/kabir/Project/tripartiteSynapse/mcell\"+'/'+sim_type\n",
    "print(script_folder)\n",
    "isi=[20]\n",
    "VDCC=[70]\n",
    "print('isi = '+str(isi),'\\nvdcc = '+str(list(VDCC)))\n",
    "fnames=[]\n",
    "for (i,v) in product(isi,VDCC):\n",
    "    fnames.append(\"RSI\"+str(i)+\"V\"+str(v)+\".mdl\")\n",
    "print(fnames)"
   ]
  },
  {
   "cell_type": "code",
   "execution_count": 5,
   "metadata": {},
   "outputs": [
    {
     "name": "stdout",
     "output_type": "stream",
     "text": [
      "['R150control/RS20p20hz.mdl', 'R150ER2x/RS20p20hz.mdl', 'R300ER2x/RS20p20hz.mdl', 'R150ER3x/RS20p20hz.mdl', 'R300ER3x/RS20p20hz.mdl']\n"
     ]
    }
   ],
   "source": [
    "sims=[\"R150control\",\"R150ER2x\",\"R300ER2x\",\"R150ER3x\",\"R300ER3x\"]\n",
    "script_folder=\"/home/kabir/Project/tripartiteSynapse/mcell\"\n",
    "fnames=[s+'/RS20p20hz.mdl' for s in sims]\n",
    "print(fnames)"
   ]
  },
  {
   "cell_type": "markdown",
   "metadata": {},
   "source": [
    "#### write freq.sh"
   ]
  },
  {
   "cell_type": "code",
   "execution_count": 38,
   "metadata": {},
   "outputs": [],
   "source": [
    "with open(script_folder+'/freq.sh','w') as f:\n",
    "    for name in fnames:\n",
    "            loc=script_folder+'/'+name\n",
    "            f.write(\"sed --i 's/^#PBS -J.*/#PBS -J 1-\"+str(1000)+\"/' pbs.py\\n\")\n",
    "            f.write(\"qsub -N \"+name.replace(\"RS20p20hz.mdl\",'').replace(script_folder,'')+\" -v I='\"+loc.replace('/kabir/Project/','/subhadra/kabir/')+\"' pbs.py\\n\")\n",
    "            f.write(\"\\n\")"
   ]
  },
  {
   "cell_type": "markdown",
   "metadata": {},
   "source": [
    "#### write run.sh"
   ]
  },
  {
   "cell_type": "code",
   "execution_count": 15,
   "metadata": {},
   "outputs": [],
   "source": [
    "with open(script_folder+'/run.sh','w') as f:\n",
    "    for (name,s) in zip(fnames,seeds):\n",
    "        if s[1]>s[0]:\n",
    "            loc=script_folder+'/'+name\n",
    "            #f.write(\"sleep 5\\n\")\n",
    "            f.write(\"sed --i 's/^#PBS -J.*/#PBS -J \"+str(s[0])+\"-\"+str(s[1])+\"/' pbs.py\\n\")\n",
    "            f.write(\"qsub -N \"+name.replace(\"_clamped\",'').replace(\".mdl\",'')+\" -v I='\"+loc.replace('/kabir/Project/','/subhadra/kabir/')+\"' pbs.py\\n\")\n",
    "            f.write(\"\\n\")"
   ]
  },
  {
   "cell_type": "markdown",
   "metadata": {},
   "source": [
    "### copy run.sh to cluster"
   ]
  },
  {
   "cell_type": "code",
   "execution_count": 16,
   "metadata": {},
   "outputs": [],
   "source": [
    "#sync script files to cluster\n",
    "p=subprocess.call([\"rsync\",\"-arhP\",script_folder+'/run.sh',\"subhadra@192.168.1.244:/home/subhadra/kabir/tripartiteSynapse/mcell/\"])"
   ]
  },
  {
   "cell_type": "markdown",
   "metadata": {},
   "source": [
    "### copy sims folders to cluster"
   ]
  },
  {
   "cell_type": "code",
   "execution_count": 27,
   "metadata": {},
   "outputs": [],
   "source": [
    "#sync script files to cluster\n",
    "for s in sims:\n",
    "    p=subprocess.call([\"rsync\",\"-arhP\",script_folder+'/'+s,\"subhadra@192.168.1.244:/home/subhadra/kabir/tripartiteSynapse/mcell/\"])"
   ]
  },
  {
   "cell_type": "code",
   "execution_count": 42,
   "metadata": {},
   "outputs": [],
   "source": [
    "#sync data back to this system\n",
    "p=subprocess.call([\"rsync\",\"-arhP\",\"subhadra@192.168.1.244:/storage/subhadra/kabir/output/ppf/\"+outfolder,\"/data/kabir/output/ppf/\"])"
   ]
  },
  {
   "cell_type": "code",
   "execution_count": 17,
   "metadata": {},
   "outputs": [],
   "source": [
    "outfolder='R300ER3x'#'R150control'#RSI40V90'"
   ]
  },
  {
   "cell_type": "code",
   "execution_count": 18,
   "metadata": {},
   "outputs": [],
   "source": [
    "#sync data back to this system\n",
    "p=subprocess.call([\"rsync\",\"-arhP\",\"subhadra@192.168.1.244:/storage/subhadra/kabir/result/ppf/\"+outfolder,\"/home/kabir/Project/tripartiteSynapse/results/ppf/\"])"
   ]
  }
 ],
 "metadata": {
  "kernelspec": {
   "display_name": "Python 3",
   "language": "python",
   "name": "python3"
  },
  "language_info": {
   "codemirror_mode": {
    "name": "ipython",
    "version": 3
   },
   "file_extension": ".py",
   "mimetype": "text/x-python",
   "name": "python",
   "nbconvert_exporter": "python",
   "pygments_lexer": "ipython3",
   "version": "3.7.3"
  }
 },
 "nbformat": 4,
 "nbformat_minor": 2
}
