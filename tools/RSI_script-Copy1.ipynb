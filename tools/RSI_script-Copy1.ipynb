{
 "cells": [
  {
   "cell_type": "code",
   "execution_count": 1,
   "metadata": {},
   "outputs": [],
   "source": [
    "import subprocess\n",
    "from multiprocessing import Pool,cpu_count\n",
    "import os\n",
    "from itertools import product,repeat\n",
    "import numpy as np\n",
    "import matplotlib.pyplot as plt\n",
    "from scipy.optimize import curve_fit\n",
    "from scipy.interpolate import spline\n",
    "from scipy.ndimage.filters import gaussian_filter1d\n",
    "from scipy import stats\n",
    "import fileinput as fi\n",
    "\n",
    "%run averaging.ipynb\n",
    "%run optimize_slope.ipynb\n",
    "\n",
    "ncores=cpu_count()"
   ]
  },
  {
   "cell_type": "code",
   "execution_count": 2,
   "metadata": {},
   "outputs": [],
   "source": [
    "area_er = 2*(3.9+0.1+0.1*0.1+3.9*0.1)\n",
    "vol_er = (3.9*0.1*0.1)\n",
    "vol_cyt = (4.0*0.5*0.5-vol_er)\n",
    "vol_tot = vol_cyt + vol_er\n",
    "N_avo=6.0221409e23"
   ]
  },
  {
   "cell_type": "markdown",
   "metadata": {},
   "source": [
    "# Initial RSnostim equilibrium check"
   ]
  },
  {
   "cell_type": "code",
   "execution_count": 333,
   "metadata": {},
   "outputs": [
    {
     "data": {
      "image/png": "[encoded data removed]",
      "text/plain": [
       "<matplotlib.figure.Figure at 0x7f86a82e77b8>"
      ]
     },
     "metadata": {},
     "output_type": "display_data"
    }
   ],
   "source": [
    "sims=[\"R150control\",\"R150ER2x\",\"R150ER3x\",\"R300ER2x\",\"R300ER3x\"]\n",
    "data_loc=\"/data/kabir/output/ppf/\"\n",
    "sim_type=\"RSnostim\"\n",
    "\n",
    "data_type=[\"ca.dat\",\"pmca&leak_ca_flux.dat\",\"serca_ca_flux.dat\"]\n",
    "\n",
    "plt.figure(figsize=(6,4))\n",
    "for s in sims[0:3]:\n",
    "    data_folder=data_loc+s+'/'+sim_type\n",
    "    data_file=data_folder+\"/s_00001/dat/\"+data_type[0]\n",
    "    ca_dat=np.loadtxt(data_file)\n",
    "    #print(ca_dat)\n",
    "    ydata=ca_dat.T[3]*1e15/N_avo/vol_er*1e6\n",
    "    #ydata=ca_dat.T[2]-ca_dat.T[1]\n",
    "    xdata=ca_dat.T[0]\n",
    "    plt.plot(xdata,ydata,label=s.replace('R150',''))\n",
    "plt.legend()\n",
    "plt.xlabel(\"time (sec)\")\n",
    "plt.ylabel(\"ER Calcium concentration (uM)\")\n",
    "\n",
    "plt.ylim((0,800))\n",
    "plt.savefig(\"/home/kabir/Project/tripartiteSynapse/plots/equilibrium.eps\")"
   ]
  },
  {
   "cell_type": "markdown",
   "metadata": {},
   "source": [
    "# Search and Replace in files"
   ]
  },
  {
   "cell_type": "code",
   "execution_count": 67,
   "metadata": {},
   "outputs": [],
   "source": [
    "dataloc=\"/home/kabir/Project/tripartiteSynapse/mcell/R300ER2x/\"\n",
    "files=os.listdir(dataloc)\n",
    "RSI_files=[]\n",
    "for f in files:\n",
    "    if \"RSI\" in f:\n",
    "        RSI_files.append(f)\n",
    "#RSI_files"
   ]
  },
  {
   "cell_type": "code",
   "execution_count": 68,
   "metadata": {},
   "outputs": [],
   "source": [
    "for fn in RSI_files:\n",
    "    with fi.FileInput(dataloc+fn,inplace=True, backup='.bak') as f:\n",
    "        for line in f:\n",
    "            print(line.replace('\"ppf/\"','\"ppf/R300ER2x/\"'), end='')"
   ]
  },
  {
   "cell_type": "markdown",
   "metadata": {},
   "source": [
    "# kleak conversion to mcell"
   ]
  },
  {
   "cell_type": "code",
   "execution_count": 69,
   "metadata": {},
   "outputs": [
    {
     "name": "stdout",
     "output_type": "stream",
     "text": [
      "Ca Flux in ions/sec =  411.01111642500007\n",
      "Predicted kleak =  186.74888573427603\n"
     ]
    }
   ],
   "source": [
    "#from S Bandara et al 2013\n",
    "J=0.07*250 #uM/s\n",
    "J/=1e15/N_avo/vol_er*1e6\n",
    "print(\"Ca Flux in ions/sec = \",J)\n",
    "\n",
    "p=[2.1675959461586873, 6.214988757731395]\n",
    "kleak=(J-p[1])/p[0]\n",
    "print(\"Predicted kleak = \",kleak)"
   ]
  },
  {
   "cell_type": "markdown",
   "metadata": {},
   "source": [
    "# creating run.sh file"
   ]
  },
  {
   "cell_type": "code",
   "execution_count": 53,
   "metadata": {},
   "outputs": [],
   "source": [
    "def seed_num(fname):\n",
    "    vdcc_num=int(fname.split('V')[1].replace('.mdl',''))\n",
    "    if vdcc_num>=110 and vdcc_num<=160:\n",
    "        return 1000\n",
    "    elif vdcc_num>=90 and vdcc_num<=100:\n",
    "        return 2000\n",
    "    elif vdcc_num>=70 and vdcc_num<=80:\n",
    "        return 3000\n",
    "    elif vdcc_num>=40 and vdcc_num<=60:\n",
    "        return 5000\n",
    "    else:\n",
    "        return 10"
   ]
  },
  {
   "cell_type": "code",
   "execution_count": 151,
   "metadata": {},
   "outputs": [],
   "source": [
    "a=\"\"\"for name in fnames:\n",
    "    input_loc=script_folder+'/'+name.replace('V90','V80')\n",
    "    output_loc=script_folder+'/'+name\n",
    "    with open(input_loc,'r') as infile:\n",
    "        lines=infile.readlines()\n",
    "    \n",
    "    lines=[line.replace(\"VDCC_number_presynaptic = 80\",\"VDCC_number_presynaptic = 90\") for line in lines]\n",
    "        \n",
    "    with open(output_loc,'w') as outfile:\n",
    "        outfile.writelines(lines)\n",
    "#\"\"\"            "
   ]
  },
  {
   "cell_type": "code",
   "execution_count": 6,
   "metadata": {},
   "outputs": [
    {
     "name": "stdout",
     "output_type": "stream",
     "text": [
      "/home/kabir/Project/tripartiteSynapse/mcell/R150control\n",
      "isi = [20, 40, 60, 80, 100] \n",
      "vdcc = [90]\n",
      "['RSI20V90.mdl', 'RSI40V90.mdl', 'RSI60V90.mdl', 'RSI80V90.mdl', 'RSI100V90.mdl']\n"
     ]
    }
   ],
   "source": [
    "#ISI range\n",
    "\n",
    "sims=[\"R150control\",\"R150ER2x\",\"R300ER2x\",\"R150ER3x\",\"R300ER3x\"]\n",
    "sim_type=sims[0]\n",
    "script_folder=\"/home/kabir/Project/tripartiteSynapse/mcell\"+'/'+sim_type\n",
    "print(script_folder)\n",
    "isi=list(range(20,101,20))\n",
    "VDCC=[90]\n",
    "print('isi = '+str(isi),'\\nvdcc = '+str(list(VDCC)))\n",
    "fnames=[]\n",
    "for (i,v) in product(isi,VDCC):\n",
    "    fnames.append(\"RSI\"+str(i)+\"V\"+str(v)+\".mdl\")\n",
    "#fnames=[\"RSI20V90.mdl\",\"RSI30V90.mdl\",\"RSI40V90.mdl\"]\n",
    "print(fnames)\n",
    "#seed_num=1000"
   ]
  },
  {
   "cell_type": "code",
   "execution_count": 13,
   "metadata": {},
   "outputs": [
    {
     "name": "stdout",
     "output_type": "stream",
     "text": [
      "/home/kabir/Project/tripartiteSynapse/mcell/R300ER2x\n",
      "isi = [20] \n",
      "vdcc = [60, 80, 100]\n",
      "['RSI20V60.mdl', 'RSI20V80.mdl', 'RSI20V100.mdl']\n"
     ]
    }
   ],
   "source": [
    "#VDCC range\n",
    "\n",
    "sims=[\"R150control\",\"R150ER2x\",\"R300ER2x\",\"R150ER3x\",\"R300ER3x\"]\n",
    "sim_type=sims[2]\n",
    "script_folder=\"/home/kabir/Project/tripartiteSynapse/mcell\"+'/'+sim_type\n",
    "print(script_folder)\n",
    "isi=[20]\n",
    "VDCC=list(range(60,101,20))\n",
    "print('isi = '+str(isi),'\\nvdcc = '+str(list(VDCC)))\n",
    "fnames=[]\n",
    "for (i,v) in product(isi,VDCC):\n",
    "    fnames.append(\"RSI\"+str(i)+\"V\"+str(v)+\".mdl\")\n",
    "print(fnames)"
   ]
  },
  {
   "cell_type": "code",
   "execution_count": 287,
   "metadata": {},
   "outputs": [
    {
     "name": "stdout",
     "output_type": "stream",
     "text": [
      "/home/kabir/Project/tripartiteSynapse/mcell/R300ER3x\n",
      "isi = [20] \n",
      "vdcc = [70]\n",
      "['RSI20V70.mdl']\n"
     ]
    }
   ],
   "source": [
    "#3003x\n",
    "\n",
    "sims=[\"R150control\",\"R150ER2x\",\"R300ER2x\",\"R150ER3x\",\"R300ER3x\"]\n",
    "sim_type=sims[4]\n",
    "script_folder=\"/home/kabir/Project/tripartiteSynapse/mcell\"+'/'+sim_type\n",
    "print(script_folder)\n",
    "isi=[20]\n",
    "VDCC=[70]\n",
    "print('isi = '+str(isi),'\\nvdcc = '+str(list(VDCC)))\n",
    "fnames=[]\n",
    "for (i,v) in product(isi,VDCC):\n",
    "    fnames.append(\"RSI\"+str(i)+\"V\"+str(v)+\".mdl\")\n",
    "print(fnames)"
   ]
  },
  {
   "cell_type": "code",
   "execution_count": 231,
   "metadata": {},
   "outputs": [
    {
     "name": "stdout",
     "output_type": "stream",
     "text": [
      "/home/kabir/Project/tripartiteSynapse/mcell/R300ER2x\n",
      "isi = [20] \n",
      "vdcc = [60]\n",
      "['RSI20V60.mdl']\n"
     ]
    }
   ],
   "source": [
    "#write run.sh\n",
    "with open(script_folder+'/run.sh','w') as f:\n",
    "    for name in fnames:\n",
    "            loc=script_folder+'/'+name\n",
    "            f.write(\"sed --i 's/^#PBS -J.*/#PBS -J 1-\"+str(seed_num(name))+\"/' pbs.py\\n\")\n",
    "            f.write(\"qsub -N \"+name.replace(\".mdl\",sim_type).replace(\"RSI\",'I')+\" -v I='\"+loc.replace('/kabir/Project/','/subhadra/kabir/')+\"' pbs.py\\n\")\n",
    "            f.write(\"\\n\")\n",
    "\n",
    "#sync script files to cluster\n",
    "p=subprocess.call([\"rsync\",\"-arhP\",script_folder,\"subhadra@192.168.1.244:/home/subhadra/kabir/tripartiteSynapse/mcell/\"])"
   ]
  },
  {
   "cell_type": "code",
   "execution_count": 280,
   "metadata": {},
   "outputs": [],
   "source": [
    "outfolder='AD/RSI40V90'"
   ]
  },
  {
   "cell_type": "code",
   "execution_count": 41,
   "metadata": {},
   "outputs": [],
   "source": [
    "outfolder='AD'#RSI40V90'"
   ]
  },
  {
   "cell_type": "code",
   "execution_count": 42,
   "metadata": {},
   "outputs": [],
   "source": [
    "#sync data back to this system\n",
    "p=subprocess.call([\"rsync\",\"-arhP\",\"subhadra@192.168.1.244:/storage/subhadra/kabir/output/ppf/\"+outfolder,\"/data/kabir/output/ppf/\"])"
   ]
  },
  {
   "cell_type": "code",
   "execution_count": 156,
   "metadata": {},
   "outputs": [],
   "source": [
    "outfolder='R150control'#RSI40V90'"
   ]
  },
  {
   "cell_type": "code",
   "execution_count": 157,
   "metadata": {},
   "outputs": [],
   "source": [
    "#sync data back to this system\n",
    "p=subprocess.call([\"rsync\",\"-arhP\",\"subhadra@192.168.1.244:/storage/subhadra/kabir/output/ppf/\"+outfolder,\"/data/kabir/output/ppf/\"])"
   ]
  },
  {
   "cell_type": "code",
   "execution_count": 8,
   "metadata": {},
   "outputs": [
    {
     "name": "stdout",
     "output_type": "stream",
     "text": [
      "R300ER3x RSI20V70\n",
      "\n",
      "Calculating Average of /dat/ca.dat\n",
      "RSI20V70\n",
      "seeds:  2977\n",
      "Writing average to: /home/kabir/Project/tripartiteSynapse/results/ppf/R300ER3x/RSI20V70/ca.dat\n",
      "\n",
      "Calculating Average of /dat/ryr_ca_flux.dat\n",
      "RSI20V70\n",
      "seeds:  2977\n",
      "Writing average to: /home/kabir/Project/tripartiteSynapse/results/ppf/R300ER3x/RSI20V70/ryr_ca_flux.dat\n",
      "Calculating Calcium Concentration...\n",
      "Writing Ca Conc. to file:/CaConc\n",
      "isi:  20 \n",
      "vdcc:  70\n",
      "seeds:  2977\n",
      "resampling: 100\n",
      "resampling: 200\n",
      "resampling: 300\n",
      "resampling: 400\n",
      "resampling: 500\n",
      "resampling: 600\n",
      "resampling: 700\n",
      "resampling: 800\n",
      "resampling: 900\n",
      "resampling: 1000\n",
      "Vesicle release stats:\n",
      " [0.08423513604299646, 0.005032312421199133, 0.6215354383607657, 0.008905800578252748, 7.404974160077712, 0.45614876506288415, 0.3805680311905367, 0.009371166762403425, 0.6194319688094627, 0.009371166762403417, 0.35562926488266183, 0.030432211944566284, 0.6443707351173376, 0.030432211944566284, 20.0, 70.0]\n"
     ]
    },
    {
     "data": {
      "image/png": "[encoded data removed]",
      "text/plain": [
       "<matplotlib.figure.Figure at 0x7f8712158748>"
      ]
     },
     "metadata": {},
     "output_type": "display_data"
    },
    {
     "name": "stdout",
     "output_type": "stream",
     "text": [
      "isi:  20 \n",
      "vdcc:  70\n",
      "Ca stats:\n",
      " [2.20000000e-03 6.48205400e+00 1.73769993e-02 2.22500000e-02\n",
      " 1.20351060e+01 3.78280410e-02]\n",
      "Ca stats:\n",
      " [2.20000000e-03 6.48205400e+00 1.73769993e-02 2.22500000e-02\n",
      " 1.20351060e+01 3.78280410e-02 2.00000000e+01 7.00000000e+01]\n"
     ]
    },
    {
     "data": {
      "text/plain": [
       "[None]"
      ]
     },
     "execution_count": 8,
     "metadata": {},
     "output_type": "execute_result"
    }
   ],
   "source": [
    "%run analysis.ipynb\n",
    "p=Pool(ncores)\n",
    "#print(fnames)\n",
    "fnames=[\"RSI20V70\"]\n",
    "p.starmap(all_analysis,product(fnames,sims[4:]))\n",
    "#all_analysis(fnames[-1])\n",
    "#all_analysis(\"RSI20V90\",\"R150ER2x\")"
   ]
  },
  {
   "cell_type": "code",
   "execution_count": 4,
   "metadata": {},
   "outputs": [],
   "source": [
    "def all_analysis(name,sim):\n",
    "    print(sim,name)\n",
    "    dataDirName = name.replace(\".mdl\",\"\")\n",
    "    dataType = \"ppf/\"+sim+\"/\"\n",
    "    \n",
    "    M=analysis(dataDirName,dataType)\n",
    "    \n",
    "    data_files=['ca.dat', 'ryr_mol.dat', 'serca_ca_flux.dat', 'vdcc_pq_ca_flux.dat', 'calbindin_mol.dat',\\\n",
    "            'serca_mol.dat', 'pmca&leak_ca_flux.dat', 'rrp.dat', 'ryr_ca_flux.dat']\n",
    "    \n",
    "    for data_file in [data_files[i] for i in [0,-1]]:\n",
    "        M.avg_dat(inFile=\"/dat/\"+data_file, outFile=\"/\"+data_file)\n",
    "    M.conc_calc(inFile=\"/ca.dat\", outFile=\"/CaConc\")\n",
    "\n",
    "    isi = int(M.dataDirName.split(\"I\")[1].split(\"V\")[0])\n",
    "    vdcc = int(M.dataDirName.split(\"V\")[1])\n",
    "    print('isi: ', isi, '\\nvdcc: ', vdcc)\n",
    "\n",
    "    M.relppf(isi, vdcc, resample=1000)\n",
    "\n",
    "    M.caStat(showFig=True)"
   ]
  },
  {
   "cell_type": "code",
   "execution_count": 14,
   "metadata": {},
   "outputs": [],
   "source": [
    "res_loc=\"/home/kabir/Project/tripartiteSynapse/results/ppf/\"\n",
    "result={}\n",
    "for sim_type in sims[0:3]:\n",
    "    result[sim_type]={}\n",
    "    for name in fnames:\n",
    "        loc=res_loc+sim_type+'/'+name.replace(\".mdl\",\"\")+'/'+'result'\n",
    "        if os.path.isfile(loc+'.dat'):\n",
    "            os.rename(loc+'.dat',loc)\n",
    "        with open(loc,'r') as f:\n",
    "            l=f.readlines()\n",
    "            result[sim_type][name]=[float(a) for a in l[2].replace('\\n','').split('\\t')]\n",
    "#/home/kabir/Project/tripartiteSynapse/results/ppf/R150ER2x/RSI20V120"
   ]
  },
  {
   "cell_type": "code",
   "execution_count": 16,
   "metadata": {},
   "outputs": [
    {
     "data": {
      "image/png": "[encoded data removed]",
      "text/plain": [
       "<matplotlib.figure.Figure at 0x7f8710fbb898>"
      ]
     },
     "metadata": {},
     "output_type": "display_data"
    }
   ],
   "source": [
    "plt.figure(figsize=(10,6))\n",
    "for sim_type in sims[0:3]:\n",
    "    #print(result[sim_type])\n",
    "    res=result[sim_type]\n",
    "    xdata=[res[name][-1] for name in fnames]\n",
    "    ydata=[res[name][0] for name in fnames]\n",
    "    #print(ydata)\n",
    "    plt.plot(xdata,ydata,'o',label=sim_type)\n",
    "plt.xlabel(\"Number of VDCCs\")\n",
    "plt.ylabel(\"P1\")\n",
    "plt.title(\"Basal Neurotransmitter release probability \")\n",
    "plt.xticks([60,80,100])\n",
    "plt.legend()\n",
    "plt.savefig(\"/home/kabir/Project/tripartiteSynapse/plots/P1VDCC.pdf\")"
   ]
  },
  {
   "cell_type": "code",
   "execution_count": 338,
   "metadata": {},
   "outputs": [
    {
     "data": {
      "text/plain": [
       "<matplotlib.legend.Legend at 0x7f86740f05f8>"
      ]
     },
     "execution_count": 338,
     "metadata": {},
     "output_type": "execute_result"
    },
    {
     "data": {
      "image/png": "[encoded data removed]",
      "text/plain": [
       "<matplotlib.figure.Figure at 0x7f86740f0898>"
      ]
     },
     "metadata": {},
     "output_type": "display_data"
    }
   ],
   "source": [
    "plt.figure(figsize=(10,6))\n",
    "for sim_type in sims[0:3]:\n",
    "    #print(result[sim_type])\n",
    "    res=result[sim_type]\n",
    "    xdata=[res[name][0] for name in fnames]\n",
    "    ydata=[res[name][4] for name in fnames]\n",
    "    #print(ydata)\n",
    "    plt.plot(xdata,ydata,label=sim_type)\n",
    "plt.xlabel(\"VDCC\")\n",
    "plt.ylabel(\"P1\")\n",
    "plt.title(\"Basal Neurotransmitter release probability \")\n",
    "plt.legend()\n",
    "#plt.savefig(\"/home/kabir/Project/tripartiteSynapse/plots/ppr.pdf\")"
   ]
  },
  {
   "cell_type": "code",
   "execution_count": 337,
   "metadata": {},
   "outputs": [
    {
     "name": "stdout",
     "output_type": "stream",
     "text": [
      "\n",
      "Calculating Average of /dat/ryr_ca_flux.dat\n",
      "RSI20V80\n",
      "seeds:  3000\n",
      "Writing average to: /home/kabir/Project/tripartiteSynapse/results/ppf/R300ER2x/RSI20V80/ryr_ca_flux.dat\n"
     ]
    },
    {
     "data": {
      "text/plain": [
       "[None]"
      ]
     },
     "execution_count": 337,
     "metadata": {},
     "output_type": "execute_result"
    }
   ],
   "source": [
    "def faverage(data_file):\n",
    "    dataDirName=\"RSI20V80\"\n",
    "    dataType=\"ppf/R300ER3x/\"\n",
    "    M=analysis(dataDirName,dataType)\n",
    "    M.avg_dat(inFile=\"/dat/\"+data_file, outFile=\"/\"+data_file)\n",
    "    \n",
    "data_files=['az.dat', 'ryr_mol.dat', 'serca_ca_flux.dat', 'vdcc_pq_ca_flux.dat', 'calbindin_mol.dat',\\\n",
    "            'serca_mol.dat', 'pmca&leak_ca_flux.dat', 'rrp.dat', 'ryr_ca_flux.dat']\n",
    "\n",
    "p=Pool(ncores-1)\n",
    "p.starmap(faverage,product(data_files[-1:]))"
   ]
  },
  {
   "cell_type": "code",
   "execution_count": 31,
   "metadata": {},
   "outputs": [
    {
     "data": {
      "text/plain": [
       "Text(0,0.5,'PPR')"
      ]
     },
     "execution_count": 31,
     "metadata": {},
     "output_type": "execute_result"
    },
    {
     "data": {
      "image/png": "[encoded data removed]",
      "text/plain": [
       "<matplotlib.figure.Figure at 0x7f8710fae588>"
      ]
     },
     "metadata": {},
     "output_type": "display_data"
    }
   ],
   "source": [
    "loc500=\"/data/kabir/output/ppf/nishant/R75SC500.txt\"\n",
    "loc750=\"/data/kabir/output/ppf/nishant/R75SC750V80.txt\"\n",
    "locC=\"/data/kabir/output/ppf/nishant/RSV80.txt\"\n",
    "legend=['500', '750', 'control']\n",
    "\n",
    "data=[np.loadtxt(loc500), np.loadtxt(loc750), np.loadtxt(locC)]\n",
    "plt.figure(figsize=(10,6))\n",
    "for i,d in enumerate(data):\n",
    "    x=d.T[6]\n",
    "    y=d.T[4]\n",
    "    plt.plot(x,y, 'o-', label=legend[i])\n",
    "    \n",
    "plt.legend()\n",
    "plt.xlabel(\"ISI\")\n",
    "plt.ylabel(\"PPR\")"
   ]
  },
  {
   "cell_type": "code",
   "execution_count": 35,
   "metadata": {},
   "outputs": [
    {
     "data": {
      "text/plain": [
       "Text(0,0.5,'PPR')"
      ]
     },
     "execution_count": 35,
     "metadata": {},
     "output_type": "execute_result"
    },
    {
     "data": {
      "image/png": "[encoded data removed]",
      "text/plain": [
       "<matplotlib.figure.Figure at 0x7f86dc218470>"
      ]
     },
     "metadata": {},
     "output_type": "display_data"
    }
   ],
   "source": [
    "loc750=\"/data/kabir/output/ppf/nishant/R75SC750I20.txt\"\n",
    "locC=\"/data/kabir/output/ppf/nishant/RSI20.txt\"\n",
    "legend=['750', 'control']\n",
    "\n",
    "data=[np.loadtxt(loc750), np.loadtxt(locC)]\n",
    "\n",
    "plt.figure(figsize=(10,6))\n",
    "for i,d in enumerate(data):\n",
    "    x=d.T[0]\n",
    "    y=d.T[4]\n",
    "    plt.plot(x,y, 'o-', label=legend[i])\n",
    "    \n",
    "plt.legend()\n",
    "plt.xlabel(\"Pr\")\n",
    "plt.ylabel(\"PPR\")"
   ]
  },
  {
   "cell_type": "code",
   "execution_count": 26,
   "metadata": {},
   "outputs": [
    {
     "data": {
      "text/plain": [
       "Text(0,0.5,'PPR')"
      ]
     },
     "execution_count": 26,
     "metadata": {},
     "output_type": "execute_result"
    },
    {
     "data": {
      "image/png": "[encoded data removed]",
      "text/plain": [
       "<matplotlib.figure.Figure at 0x7f8710d39cc0>"
      ]
     },
     "metadata": {},
     "output_type": "display_data"
    }
   ],
   "source": [
    "loc=\"/data/kabir/output/ppf/nishant/R75SC750I20.txt\"\n",
    "data=np.loadtxt(loc)\n",
    "x=data.T[0]\n",
    "y=data.T[4]\n",
    "plt.figure(figsize=(10,6))\n",
    "plt.plot(x,y)\n",
    "plt.xlabel(\"P1\")\n",
    "plt.ylabel(\"PPR\")"
   ]
  },
  {
   "cell_type": "code",
   "execution_count": 255,
   "metadata": {
    "collapsed": true
   },
   "outputs": [
    {
     "name": "stdout",
     "output_type": "stream",
     "text": [
      "s_01547 9002\n",
      "s_00027 9002\n",
      "s_00119 9002\n",
      "s_00499 9002\n",
      "s_01843 9002\n",
      "s_00387 9002\n",
      "s_00089 9002\n",
      "s_00342 9002\n",
      "s_01922 9002\n",
      "s_01393 9002\n",
      "s_00784 9002\n",
      "s_01093 9002\n",
      "s_01405 9002\n",
      "s_01973 9002\n",
      "s_00830 9002\n",
      "s_00056 9002\n",
      "s_00606 9002\n",
      "s_01255 9002\n",
      "s_00066 9002\n",
      "s_01114 9002\n",
      "s_00340 9002\n",
      "s_01363 9002\n",
      "s_00270 9002\n",
      "s_01443 9002\n",
      "s_00087 9002\n",
      "s_01070 9002\n",
      "s_00508 9002\n",
      "s_00095 9002\n",
      "s_00249 9002\n",
      "s_00217 9002\n",
      "s_01373 9002\n",
      "s_01277 9002\n",
      "s_01178 9002\n",
      "s_00012 9002\n",
      "s_00695 9002\n",
      "s_01647 9002\n",
      "s_00223 9002\n",
      "s_00931 9002\n",
      "s_01012 9002\n",
      "s_00793 9002\n",
      "s_00505 9002\n",
      "s_00669 9002\n",
      "s_00461 9002\n",
      "s_01418 9002\n",
      "s_00116 9002\n",
      "s_01251 9002\n",
      "s_00068 9002\n",
      "s_00584 9002\n",
      "s_00051 9002\n",
      "s_00082 9002\n",
      "s_00380 9002\n",
      "s_00825 9002\n",
      "s_01716 9002\n",
      "s_01407 9002\n",
      "s_00305 9002\n",
      "s_00715 9002\n",
      "s_01154 9002\n",
      "s_00679 9002\n",
      "s_00837 9002\n",
      "s_00246 9002\n",
      "s_00859 9002\n",
      "s_00378 9002\n",
      "s_01458 9002\n",
      "s_00968 9002\n",
      "s_00419 9002\n",
      "s_00561 9002\n",
      "s_01553 9002\n",
      "s_01250 9002\n",
      "s_00997 9002\n",
      "s_00638 9002\n",
      "s_01768 9002\n",
      "s_01753 9002\n",
      "s_00757 9002\n",
      "s_01958 9002\n",
      "s_01482 9002\n",
      "s_00120 9002\n",
      "s_00438 9002\n",
      "s_00369 9002\n",
      "s_00849 9002\n",
      "s_00037 9002\n",
      "s_00365 9002\n",
      "s_00221 9002\n",
      "s_01598 9002\n",
      "s_01170 9002\n",
      "s_01773 9002\n",
      "s_00839 9002\n",
      "s_00671 9002\n",
      "s_01327 9002\n",
      "s_00786 9002\n",
      "s_01577 9002\n",
      "s_01877 9002\n",
      "s_01875 9002\n",
      "s_01472 9002\n",
      "s_01283 9002\n",
      "s_01172 9002\n",
      "s_01441 9002\n",
      "s_01204 9002\n",
      "s_01527 9002\n",
      "s_00504 9002\n",
      "s_01499 9002\n",
      "s_01089 9002\n",
      "s_00376 9002\n",
      "s_01943 9002\n",
      "s_01066 9002\n",
      "s_01214 9002\n",
      "s_01268 9002\n",
      "s_01800 9002\n",
      "s_01746 9002\n",
      "s_00603 9002\n",
      "s_00033 9002\n",
      "s_01494 9002\n",
      "s_00628 9002\n",
      "s_01385 9002\n",
      "s_00598 9002\n",
      "s_00618 9002\n",
      "s_00808 9002\n",
      "s_01144 9002\n",
      "s_01286 9002\n",
      "s_01880 9002\n",
      "s_00014 9002\n",
      "s_00117 9002\n",
      "s_01303 9002\n",
      "s_01082 9002\n",
      "s_00689 9002\n",
      "s_01147 9002\n",
      "s_00151 9002\n",
      "s_01918 9002\n",
      "s_01974 9002\n",
      "s_01400 9002\n",
      "s_01892 9002\n",
      "s_00685 9002\n",
      "s_00753 9002\n",
      "s_01002 9002\n",
      "s_00986 9002\n",
      "s_01142 9002\n",
      "s_00528 9002\n",
      "s_00452 9002\n",
      "s_00500 9002\n",
      "s_00686 9002\n",
      "s_01453 9002\n",
      "s_00125 9002\n",
      "s_01470 9002\n",
      "s_01979 9002\n",
      "s_01301 9002\n",
      "s_01382 9002\n",
      "s_00610 9002\n",
      "s_01143 9002\n"
     ]
    },
    {
     "name": "stderr",
     "output_type": "stream",
     "text": [
      "Process ForkPoolWorker-267:\n",
      "Process ForkPoolWorker-269:\n",
      "Process ForkPoolWorker-271:\n",
      "Process ForkPoolWorker-273:\n",
      "Process ForkPoolWorker-264:\n",
      "Process ForkPoolWorker-268:\n",
      "Process ForkPoolWorker-272:\n",
      "Process ForkPoolWorker-270:\n",
      "Traceback (most recent call last):\n",
      "Traceback (most recent call last):\n",
      "  File \"/usr/lib/python3.6/multiprocessing/process.py\", line 258, in _bootstrap\n",
      "    self.run()\n",
      "Traceback (most recent call last):\n",
      "Traceback (most recent call last):\n",
      "Traceback (most recent call last):\n",
      "  File \"/usr/lib/python3.6/multiprocessing/process.py\", line 93, in run\n",
      "    self._target(*self._args, **self._kwargs)\n",
      "  File \"/usr/lib/python3.6/multiprocessing/process.py\", line 258, in _bootstrap\n",
      "    self.run()\n",
      "Traceback (most recent call last):\n",
      "  File \"/usr/lib/python3.6/multiprocessing/process.py\", line 93, in run\n",
      "    self._target(*self._args, **self._kwargs)\n",
      "  File \"/usr/lib/python3.6/multiprocessing/process.py\", line 258, in _bootstrap\n",
      "    self.run()\n",
      "Traceback (most recent call last):\n",
      "Process ForkPoolWorker-266:\n",
      "  File \"/usr/lib/python3.6/multiprocessing/process.py\", line 258, in _bootstrap\n",
      "    self.run()\n",
      "  File \"/usr/lib/python3.6/multiprocessing/process.py\", line 258, in _bootstrap\n",
      "    self.run()\n",
      "  File \"/usr/lib/python3.6/multiprocessing/process.py\", line 93, in run\n",
      "    self._target(*self._args, **self._kwargs)\n",
      "  File \"/usr/lib/python3.6/multiprocessing/pool.py\", line 108, in worker\n",
      "    task = get()\n",
      "  File \"/usr/lib/python3.6/multiprocessing/process.py\", line 93, in run\n",
      "    self._target(*self._args, **self._kwargs)\n",
      "  File \"/usr/lib/python3.6/multiprocessing/process.py\", line 93, in run\n",
      "    self._target(*self._args, **self._kwargs)\n",
      "  File \"/usr/lib/python3.6/multiprocessing/process.py\", line 258, in _bootstrap\n",
      "    self.run()\n",
      "  File \"/usr/lib/python3.6/multiprocessing/process.py\", line 93, in run\n",
      "    self._target(*self._args, **self._kwargs)\n",
      "  File \"/usr/lib/python3.6/multiprocessing/pool.py\", line 108, in worker\n",
      "    task = get()\n",
      "  File \"/usr/lib/python3.6/multiprocessing/pool.py\", line 108, in worker\n",
      "    task = get()\n",
      "  File \"/usr/lib/python3.6/multiprocessing/queues.py\", line 334, in get\n",
      "    with self._rlock:\n",
      "  File \"/usr/lib/python3.6/multiprocessing/pool.py\", line 108, in worker\n",
      "    task = get()\n",
      "  File \"/usr/lib/python3.6/multiprocessing/queues.py\", line 334, in get\n",
      "    with self._rlock:\n",
      "  File \"/usr/lib/python3.6/multiprocessing/process.py\", line 258, in _bootstrap\n",
      "    self.run()\n",
      "  File \"/usr/lib/python3.6/multiprocessing/pool.py\", line 108, in worker\n",
      "    task = get()\n",
      "  File \"/usr/lib/python3.6/multiprocessing/queues.py\", line 334, in get\n",
      "    with self._rlock:\n",
      "  File \"/usr/lib/python3.6/multiprocessing/synchronize.py\", line 96, in __enter__\n",
      "    return self._semlock.__enter__()\n",
      "  File \"/usr/lib/python3.6/multiprocessing/synchronize.py\", line 96, in __enter__\n",
      "    return self._semlock.__enter__()\n",
      "  File \"/usr/lib/python3.6/multiprocessing/synchronize.py\", line 96, in __enter__\n",
      "    return self._semlock.__enter__()\n",
      "  File \"/usr/lib/python3.6/multiprocessing/queues.py\", line 334, in get\n",
      "    with self._rlock:\n",
      "  File \"/usr/lib/python3.6/multiprocessing/queues.py\", line 334, in get\n",
      "    with self._rlock:\n",
      "KeyboardInterrupt\n",
      "KeyboardInterrupt\n",
      "KeyboardInterrupt\n",
      "  File \"/usr/lib/python3.6/multiprocessing/process.py\", line 93, in run\n",
      "    self._target(*self._args, **self._kwargs)\n",
      "  File \"/usr/lib/python3.6/multiprocessing/queues.py\", line 334, in get\n",
      "    with self._rlock:\n",
      "Traceback (most recent call last):\n",
      "  File \"/usr/lib/python3.6/multiprocessing/pool.py\", line 108, in worker\n",
      "    task = get()\n",
      "Traceback (most recent call last):\n",
      "  File \"/usr/lib/python3.6/multiprocessing/pool.py\", line 108, in worker\n",
      "    task = get()\n"
     ]
    },
    {
     "name": "stdout",
     "output_type": "stream",
     "text": [
      "s_01651 9002\n",
      "s_00189 9002\n",
      "s_00832 9002\n",
      "s_00058 9002\n",
      "s_00779 9002\n",
      "s_01386 9002\n",
      "s_01124 9002\n",
      "s_00398 9002\n",
      "s_01077 9002\n",
      "s_01604 9002\n",
      "s_01536 9002\n",
      "s_01613 9002\n"
     ]
    },
    {
     "name": "stderr",
     "output_type": "stream",
     "text": [
      "  File \"/usr/lib/python3.6/multiprocessing/synchronize.py\", line 96, in __enter__\n",
      "    return self._semlock.__enter__()\n",
      "  File \"/usr/lib/python3.6/multiprocessing/synchronize.py\", line 96, in __enter__\n",
      "    return self._semlock.__enter__()\n"
     ]
    },
    {
     "ename": "KeyboardInterrupt",
     "evalue": "",
     "output_type": "error",
     "traceback": [
      "\u001b[0;31m-------------------------------------------------------\u001b[0m",
      "\u001b[0;31mKeyboardInterrupt\u001b[0m     Traceback (most recent call last)",
      "\u001b[0;32m<ipython-input-255-b3f2e8f096ec>\u001b[0m in \u001b[0;36m<module>\u001b[0;34m()\u001b[0m\n\u001b[1;32m      5\u001b[0m \u001b[0;32mfor\u001b[0m \u001b[0ms\u001b[0m \u001b[0;32min\u001b[0m \u001b[0mseed_folders\u001b[0m\u001b[0;34m:\u001b[0m\u001b[0;34m\u001b[0m\u001b[0m\n\u001b[1;32m      6\u001b[0m     \u001b[0mfile\u001b[0m\u001b[0;34m=\u001b[0m\u001b[0mdata_loc\u001b[0m\u001b[0;34m+\u001b[0m\u001b[0;34m'/'\u001b[0m\u001b[0;34m+\u001b[0m\u001b[0ms\u001b[0m\u001b[0;34m+\u001b[0m\u001b[0;34m'/'\u001b[0m\u001b[0;34m+\u001b[0m\u001b[0;34m'dat/ca.dat'\u001b[0m\u001b[0;34m\u001b[0m\u001b[0m\n\u001b[0;32m----> 7\u001b[0;31m     \u001b[0mprint\u001b[0m\u001b[0;34m(\u001b[0m\u001b[0ms\u001b[0m\u001b[0;34m,\u001b[0m\u001b[0mfile_len\u001b[0m\u001b[0;34m(\u001b[0m\u001b[0mfile\u001b[0m\u001b[0;34m)\u001b[0m\u001b[0;34m)\u001b[0m\u001b[0;34m\u001b[0m\u001b[0m\n\u001b[0m\u001b[1;32m      8\u001b[0m \u001b[0;34m\u001b[0m\u001b[0m\n",
      "\u001b[0;32m<ipython-input-237-6bd5da584b1e>\u001b[0m in \u001b[0;36mfile_len\u001b[0;34m(fname)\u001b[0m\n\u001b[1;32m      2\u001b[0m     \u001b[0mi\u001b[0m\u001b[0;34m=\u001b[0m\u001b[0;34m-\u001b[0m\u001b[0;36m1\u001b[0m\u001b[0;34m\u001b[0m\u001b[0m\n\u001b[1;32m      3\u001b[0m     \u001b[0;32mwith\u001b[0m \u001b[0mopen\u001b[0m\u001b[0;34m(\u001b[0m\u001b[0mfname\u001b[0m\u001b[0;34m)\u001b[0m \u001b[0;32mas\u001b[0m \u001b[0mf\u001b[0m\u001b[0;34m:\u001b[0m\u001b[0;34m\u001b[0m\u001b[0m\n\u001b[0;32m----> 4\u001b[0;31m         \u001b[0;32mfor\u001b[0m \u001b[0mi\u001b[0m\u001b[0;34m,\u001b[0m \u001b[0ml\u001b[0m \u001b[0;32min\u001b[0m \u001b[0menumerate\u001b[0m\u001b[0;34m(\u001b[0m\u001b[0mf\u001b[0m\u001b[0;34m)\u001b[0m\u001b[0;34m:\u001b[0m\u001b[0;34m\u001b[0m\u001b[0m\n\u001b[0m\u001b[1;32m      5\u001b[0m             \u001b[0;32mpass\u001b[0m\u001b[0;34m\u001b[0m\u001b[0m\n\u001b[1;32m      6\u001b[0m     \u001b[0;32mreturn\u001b[0m \u001b[0mi\u001b[0m \u001b[0;34m+\u001b[0m \u001b[0;36m1\u001b[0m\u001b[0;34m\u001b[0m\u001b[0m\n",
      "\u001b[0;32m/usr/lib/python3.6/codecs.py\u001b[0m in \u001b[0;36mdecode\u001b[0;34m(self, input, final)\u001b[0m\n\u001b[1;32m    316\u001b[0m         \u001b[0;32mraise\u001b[0m \u001b[0mNotImplementedError\u001b[0m\u001b[0;34m\u001b[0m\u001b[0m\n\u001b[1;32m    317\u001b[0m \u001b[0;34m\u001b[0m\u001b[0m\n\u001b[0;32m--> 318\u001b[0;31m     \u001b[0;32mdef\u001b[0m \u001b[0mdecode\u001b[0m\u001b[0;34m(\u001b[0m\u001b[0mself\u001b[0m\u001b[0;34m,\u001b[0m \u001b[0minput\u001b[0m\u001b[0;34m,\u001b[0m \u001b[0mfinal\u001b[0m\u001b[0;34m=\u001b[0m\u001b[0;32mFalse\u001b[0m\u001b[0;34m)\u001b[0m\u001b[0;34m:\u001b[0m\u001b[0;34m\u001b[0m\u001b[0m\n\u001b[0m\u001b[1;32m    319\u001b[0m         \u001b[0;31m# decode input (taking the buffer into account)\u001b[0m\u001b[0;34m\u001b[0m\u001b[0;34m\u001b[0m\u001b[0m\n\u001b[1;32m    320\u001b[0m         \u001b[0mdata\u001b[0m \u001b[0;34m=\u001b[0m \u001b[0mself\u001b[0m\u001b[0;34m.\u001b[0m\u001b[0mbuffer\u001b[0m \u001b[0;34m+\u001b[0m \u001b[0minput\u001b[0m\u001b[0;34m\u001b[0m\u001b[0m\n",
      "\u001b[0;31mKeyboardInterrupt\u001b[0m: "
     ]
    },
    {
     "name": "stderr",
     "output_type": "stream",
     "text": [
      "  File \"/usr/lib/python3.6/multiprocessing/queues.py\", line 334, in get\n",
      "    with self._rlock:\n",
      "  File \"/usr/lib/python3.6/multiprocessing/queues.py\", line 334, in get\n",
      "    with self._rlock:\n",
      "KeyboardInterrupt\n",
      "  File \"/usr/lib/python3.6/multiprocessing/synchronize.py\", line 96, in __enter__\n",
      "    return self._semlock.__enter__()\n",
      "  File \"/usr/lib/python3.6/multiprocessing/queues.py\", line 334, in get\n",
      "    with self._rlock:\n",
      "  File \"/usr/lib/python3.6/multiprocessing/process.py\", line 258, in _bootstrap\n",
      "    self.run()\n",
      "  File \"/usr/lib/python3.6/multiprocessing/process.py\", line 258, in _bootstrap\n",
      "    self.run()\n",
      "  File \"/usr/lib/python3.6/multiprocessing/synchronize.py\", line 96, in __enter__\n",
      "    return self._semlock.__enter__()\n",
      "KeyboardInterrupt\n",
      "KeyboardInterrupt\n",
      "  File \"/usr/lib/python3.6/multiprocessing/process.py\", line 93, in run\n",
      "    self._target(*self._args, **self._kwargs)\n",
      "  File \"/usr/lib/python3.6/multiprocessing/process.py\", line 93, in run\n",
      "    self._target(*self._args, **self._kwargs)\n",
      "KeyboardInterrupt\n",
      "  File \"/usr/lib/python3.6/multiprocessing/pool.py\", line 108, in worker\n",
      "    task = get()\n",
      "  File \"/usr/lib/python3.6/multiprocessing/pool.py\", line 108, in worker\n",
      "    task = get()\n",
      "  File \"/usr/lib/python3.6/multiprocessing/synchronize.py\", line 96, in __enter__\n",
      "    return self._semlock.__enter__()\n",
      "  File \"/usr/lib/python3.6/multiprocessing/synchronize.py\", line 96, in __enter__\n",
      "    return self._semlock.__enter__()\n",
      "KeyboardInterrupt\n",
      "KeyboardInterrupt\n",
      "  File \"/usr/lib/python3.6/multiprocessing/process.py\", line 93, in run\n",
      "    self._target(*self._args, **self._kwargs)\n",
      "Process ForkPoolWorker-276:\n",
      "Process ForkPoolWorker-277:\n",
      "Process ForkPoolWorker-275:\n",
      "Process ForkPoolWorker-274:\n",
      "Traceback (most recent call last):\n",
      "Traceback (most recent call last):\n",
      "Traceback (most recent call last):\n",
      "  File \"/usr/lib/python3.6/multiprocessing/process.py\", line 258, in _bootstrap\n",
      "    self.run()\n",
      "  File \"/usr/lib/python3.6/multiprocessing/process.py\", line 258, in _bootstrap\n",
      "    self.run()\n",
      "Traceback (most recent call last):\n",
      "  File \"/usr/lib/python3.6/multiprocessing/process.py\", line 258, in _bootstrap\n",
      "    self.run()\n",
      "  File \"/usr/lib/python3.6/multiprocessing/process.py\", line 93, in run\n",
      "    self._target(*self._args, **self._kwargs)\n",
      "  File \"/usr/lib/python3.6/multiprocessing/process.py\", line 258, in _bootstrap\n",
      "    self.run()\n",
      "  File \"/usr/lib/python3.6/multiprocessing/pool.py\", line 108, in worker\n",
      "    task = get()\n",
      "  File \"/usr/lib/python3.6/multiprocessing/process.py\", line 93, in run\n",
      "    self._target(*self._args, **self._kwargs)\n",
      "  File \"/usr/lib/python3.6/multiprocessing/pool.py\", line 108, in worker\n",
      "    task = get()\n",
      "  File \"/usr/lib/python3.6/multiprocessing/queues.py\", line 334, in get\n",
      "    with self._rlock:\n",
      "  File \"/usr/lib/python3.6/multiprocessing/process.py\", line 93, in run\n",
      "    self._target(*self._args, **self._kwargs)\n",
      "  File \"/usr/lib/python3.6/multiprocessing/queues.py\", line 334, in get\n",
      "    with self._rlock:\n",
      "  File \"/usr/lib/python3.6/multiprocessing/pool.py\", line 108, in worker\n",
      "    task = get()\n",
      "  File \"/usr/lib/python3.6/multiprocessing/pool.py\", line 108, in worker\n",
      "    task = get()\n",
      "  File \"/usr/lib/python3.6/multiprocessing/queues.py\", line 334, in get\n",
      "    with self._rlock:\n",
      "  File \"/usr/lib/python3.6/multiprocessing/synchronize.py\", line 96, in __enter__\n",
      "    return self._semlock.__enter__()\n",
      "  File \"/usr/lib/python3.6/multiprocessing/queues.py\", line 334, in get\n",
      "    with self._rlock:\n",
      "  File \"/usr/lib/python3.6/multiprocessing/synchronize.py\", line 96, in __enter__\n",
      "    return self._semlock.__enter__()\n",
      "  File \"/usr/lib/python3.6/multiprocessing/synchronize.py\", line 96, in __enter__\n",
      "    return self._semlock.__enter__()\n",
      "  File \"/usr/lib/python3.6/multiprocessing/synchronize.py\", line 96, in __enter__\n",
      "    return self._semlock.__enter__()\n",
      "KeyboardInterrupt\n",
      "KeyboardInterrupt\n",
      "KeyboardInterrupt\n",
      "KeyboardInterrupt\n"
     ]
    }
   ],
   "source": [
    "name=\"RSI60V90\"\n",
    "outfolder=\"R150ER2x\"\n",
    "data_loc=\"/data/kabir/output/ppf/\"+outfolder+'/'+name\n",
    "seed_folders=os.listdir(data_loc)\n",
    "for s in seed_folders:\n",
    "    file=data_loc+'/'+s+'/'+'dat/ca.dat'\n",
    "    print(s,file_len(file))\n",
    "    "
   ]
  },
  {
   "cell_type": "code",
   "execution_count": 237,
   "metadata": {},
   "outputs": [],
   "source": [
    "def file_len(fname):\n",
    "    i=-1\n",
    "    with open(fname) as f:\n",
    "        for i, l in enumerate(f):\n",
    "            pass\n",
    "    return i + 1"
   ]
  },
  {
   "cell_type": "code",
   "execution_count": 246,
   "metadata": {},
   "outputs": [
    {
     "data": {
      "text/plain": [
       "'hi'"
      ]
     },
     "execution_count": 246,
     "metadata": {},
     "output_type": "execute_result"
    }
   ],
   "source": [
    "\"hi.bye\".split('.')[0]"
   ]
  },
  {
   "cell_type": "code",
   "execution_count": 281,
   "metadata": {},
   "outputs": [
    {
     "data": {
      "text/plain": [
       "0.67"
      ]
     },
     "execution_count": 281,
     "metadata": {},
     "output_type": "execute_result"
    }
   ],
   "source": [
    "#combine glutamate release data for each seed\n",
    "data_loc=\"/data/kabir/output/ppf/\"+outfolder+'/'\n",
    "#get seed folders\n",
    "seed_folders=os.listdir(data_loc)\n",
    "\n",
    "count=0\n",
    "if \"Average\" in seed_folders:\n",
    "    seed_folders.remove(\"Average\")\n",
    "for s in seed_folders:\n",
    "    s=data_loc+s+\"/dat/\"\n",
    "    file_names=os.listdir(s)\n",
    "    output=[]\n",
    "    for f_name in file_names:\n",
    "        if 'vdcc.' in f_name:\n",
    "            with open(s+f_name,'r') as f:\n",
    "                output=output+f.readlines()\n",
    "    with open(s+'rel.dat','w') as f:\n",
    "        f.writelines(output)\n",
    "    count+=len(output)\n",
    "\n",
    "count/500"
   ]
  },
  {
   "cell_type": "code",
   "execution_count": 4,
   "metadata": {},
   "outputs": [
    {
     "name": "stdout",
     "output_type": "stream",
     "text": [
      "dataPath :  /data/kabir/output/ppf/norm/RSI20V90\n",
      "resultPath :  /home/kabir/Project/tripartiteSynapse/results/ppf/norm/RSI20V90\n",
      "isi:  20 vdcc:  90\n",
      "seeds:  500\n",
      "[0.0382, 0.008072174428244226, 0.34719999999999995, 0.02584879107424562, 9.611293613731359, 2.5516180832777358, 20.0, 90.0]\n",
      "dataPath :  /data/kabir/output/ppf/AD/RSI20V90\n",
      "resultPath :  /home/kabir/Project/tripartiteSynapse/results/ppf/AD/RSI20V90\n",
      "isi:  20 vdcc:  90\n",
      "seeds:  500\n",
      "[0.09159999999999999, 0.016044936896105262, 0.49840000000000007, 0.020293841430345325, 5.623162580693527, 1.070975085559397, 20.0, 90.0]\n",
      "normal PPR =  9.611293613731359\n",
      "AD PPR     =  5.623162580693527\n"
     ]
    }
   ],
   "source": [
    "%run testLocal.py norm/RSI20V90\n",
    "norm_ppf=ppf(resample=10)\n",
    "%run testLocal.py AD/RSI20V90\n",
    "AD_ppf=ppf(resample=10)\n",
    "print(\"normal PPR = \",norm_ppf[4])\n",
    "print(\"AD PPR     = \",AD_ppf[4])"
   ]
  },
  {
   "cell_type": "code",
   "execution_count": 9,
   "metadata": {},
   "outputs": [
    {
     "name": "stdout",
     "output_type": "stream",
     "text": [
      "dataPath :  /data/kabir/output/ppf/AD/RSI40V90\n",
      "resultPath :  /home/kabir/Project/tripartiteSynapse/results/ppf/AD/RSI40V90\n"
     ]
    }
   ],
   "source": [
    "%run testLocal.py AD/RSI40V90"
   ]
  },
  {
   "cell_type": "code",
   "execution_count": 10,
   "metadata": {},
   "outputs": [
    {
     "name": "stdout",
     "output_type": "stream",
     "text": [
      "isi:  40 vdcc:  90\n",
      "seeds:  500\n",
      "[0.0922, 0.014462364951832738, 0.403, 0.01782694589659148, 4.509857438817555, 0.8958789564708997, 40.0, 90.0]\n"
     ]
    }
   ],
   "source": [
    "AD_ppf=ppf(resample=10)"
   ]
  },
  {
   "cell_type": "code",
   "execution_count": 261,
   "metadata": {},
   "outputs": [],
   "source": [
    "%run averaging1.ipynb\n",
    "\n",
    "averager(\"/data/kabir/output/ppf/norm/RSI40V90\",\"ca.dat\",[2,3])"
   ]
  },
  {
   "cell_type": "code",
   "execution_count": 208,
   "metadata": {},
   "outputs": [],
   "source": [
    "outfolder='norm/RSI20V40'\n",
    "data_file=\"/data/kabir/output/ppf/norm/RSI20V40/Average/ca.dat\"\n",
    "data1=np.loadtxt(data_file)\n",
    "\n",
    "outfolder='AD/RSI40V90/'\n",
    "data_file=\"/data/kabir/output/ppf/AD/RSI40V90/Average/ca.dat\"\n",
    "data2=np.loadtxt(data_file)"
   ]
  },
  {
   "cell_type": "code",
   "execution_count": 3,
   "metadata": {
    "collapsed": true
   },
   "outputs": [
    {
     "ename": "NameError",
     "evalue": "name 'plt' is not defined",
     "output_type": "error",
     "traceback": [
      "\u001b[0;31m-------------------------------------------------------\u001b[0m",
      "\u001b[0;31mNameError\u001b[0m             Traceback (most recent call last)",
      "\u001b[0;32m<ipython-input-3-d765f1bd29f5>\u001b[0m in \u001b[0;36m<module>\u001b[0;34m()\u001b[0m\n\u001b[1;32m      1\u001b[0m \u001b[0;31m#plt.plot(data1.T[0,:],data1.T[1,:],label='normal')#*1e15/N_avo/vol_er*1e6)\u001b[0m\u001b[0;34m\u001b[0m\u001b[0;34m\u001b[0m\u001b[0m\n\u001b[0;32m----> 2\u001b[0;31m \u001b[0mplt\u001b[0m\u001b[0;34m.\u001b[0m\u001b[0mplot\u001b[0m\u001b[0;34m(\u001b[0m\u001b[0mdata2\u001b[0m\u001b[0;34m.\u001b[0m\u001b[0mT\u001b[0m\u001b[0;34m[\u001b[0m\u001b[0;36m0\u001b[0m\u001b[0;34m,\u001b[0m\u001b[0;34m:\u001b[0m\u001b[0;34m]\u001b[0m\u001b[0;34m,\u001b[0m\u001b[0mdata2\u001b[0m\u001b[0;34m.\u001b[0m\u001b[0mT\u001b[0m\u001b[0;34m[\u001b[0m\u001b[0;36m1\u001b[0m\u001b[0;34m,\u001b[0m\u001b[0;34m:\u001b[0m\u001b[0;34m]\u001b[0m\u001b[0;34m,\u001b[0m\u001b[0mlabel\u001b[0m\u001b[0;34m=\u001b[0m\u001b[0;34m'AD'\u001b[0m\u001b[0;34m)\u001b[0m\u001b[0;31m#*1e15/N_avo/vol_er*1e6)\u001b[0m\u001b[0;34m\u001b[0m\u001b[0m\n\u001b[0m\u001b[1;32m      3\u001b[0m \u001b[0mplt\u001b[0m\u001b[0;34m.\u001b[0m\u001b[0mlegend\u001b[0m\u001b[0;34m(\u001b[0m\u001b[0;34m)\u001b[0m\u001b[0;34m\u001b[0m\u001b[0m\n",
      "\u001b[0;31mNameError\u001b[0m: name 'plt' is not defined"
     ]
    }
   ],
   "source": [
    "#plt.plot(data1.T[0,:],data1.T[1,:],label='normal')#*1e15/N_avo/vol_er*1e6)\n",
    "plt.plot(data2.T[0,:],data2.T[1,:],label='AD')#*1e15/N_avo/vol_er*1e6)\n",
    "plt.legend()"
   ]
  },
  {
   "cell_type": "code",
   "execution_count": 11,
   "metadata": {},
   "outputs": [
    {
     "data": {
      "text/plain": [
       "array([   0.,    0.,   57., 5872.])"
      ]
     },
     "execution_count": 11,
     "metadata": {},
     "output_type": "execute_result"
    }
   ],
   "source": [
    "data1.T[:,0]"
   ]
  }
 ],
 "metadata": {
  "kernelspec": {
   "display_name": "Python 3",
   "language": "python",
   "name": "python3"
  },
  "language_info": {
   "codemirror_mode": {
    "name": "ipython",
    "version": 3
   },
   "file_extension": ".py",
   "mimetype": "text/x-python",
   "name": "python",
   "nbconvert_exporter": "python",
   "pygments_lexer": "ipython3",
   "version": "3.6.5"
  }
 },
 "nbformat": 4,
 "nbformat_minor": 2
}
