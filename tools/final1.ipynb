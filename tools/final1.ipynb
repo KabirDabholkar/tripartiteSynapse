{
 "cells": [
  {
   "cell_type": "code",
   "execution_count": 2,
   "metadata": {},
   "outputs": [],
   "source": [
    "import subprocess\n",
    "from multiprocessing import Pool,cpu_count\n",
    "import os\n",
    "from itertools import product,repeat\n",
    "import numpy as np\n",
    "import matplotlib.pyplot as plt\n",
    "from scipy.optimize import curve_fit\n",
    "from scipy.interpolate import spline\n",
    "from scipy.ndimage.filters import gaussian_filter1d\n",
    "from scipy import stats\n",
    "import fileinput as fi\n",
    "\n",
    "%run averaging.ipynb\n",
    "%run optimize_slope.ipynb\n",
    "\n",
    "ncores=cpu_count()"
   ]
  },
  {
   "cell_type": "code",
   "execution_count": 3,
   "metadata": {},
   "outputs": [],
   "source": [
    "area_er = 2*(3.9+0.1+0.1*0.1+3.9*0.1)\n",
    "vol_er = (3.9*0.1*0.1)\n",
    "vol_cyt = (4.0*0.5*0.5-vol_er)\n",
    "vol_tot = vol_cyt + vol_er\n",
    "N_avo=6.0221409e23"
   ]
  },
  {
   "cell_type": "code",
   "execution_count": 216,
   "metadata": {},
   "outputs": [],
   "source": [
    "script_folder=\"/home/kabir/Project/tripartiteSynapse/ryr_2x_norm\"\n",
    "fnames=[\"RSI20V90.mdl\",\"RSI30V90.mdl\",\"RSI40V90.mdl\"]\n",
    "seed_num=500"
   ]
  },
  {
   "cell_type": "code",
   "execution_count": 213,
   "metadata": {},
   "outputs": [],
   "source": [
    "script_folder=\"/home/kabir/Project/tripartiteSynapse/ryr_2x_AD\"\n",
    "fnames=[\"RSI20V90.mdl\",\"RSI30V90.mdl\",\"RSI40V90.mdl\"]\n",
    "seed_num=500"
   ]
  },
  {
   "cell_type": "code",
   "execution_count": 217,
   "metadata": {},
   "outputs": [],
   "source": [
    "#write run.sh\n",
    "with open(script_folder+'/run.sh','w') as f:\n",
    "    for name in fnames:\n",
    "            loc=script_folder+'/'+name\n",
    "            f.write(\"sed --i 's/^#PBS -J.*/#PBS -J 1-\"+str(seed_num)+\"/' pbs.py\\n\")\n",
    "            f.write(\"qsub -N \"+name.replace(\".mdl\",'norm')+\" -v I='\"+loc.replace('/kabir/Project/','/subhadra/kabir/')+\"' pbs.py\\n\")\n",
    "            f.write(\"\\n\")"
   ]
  },
  {
   "cell_type": "code",
   "execution_count": 218,
   "metadata": {},
   "outputs": [],
   "source": [
    "#sync script files to cluster\n",
    "p=subprocess.call([\"rsync\",\"-arhP\",script_folder,\"subhadra@192.168.1.244:/home/subhadra/kabir/tripartiteSynapse/\"])"
   ]
  },
  {
   "cell_type": "code",
   "execution_count": 280,
   "metadata": {},
   "outputs": [],
   "source": [
    "outfolder='AD/RSI40V90'"
   ]
  },
  {
   "cell_type": "code",
   "execution_count": 257,
   "metadata": {},
   "outputs": [],
   "source": [
    "outfolder='AD'#RSI40V90'"
   ]
  },
  {
   "cell_type": "code",
   "execution_count": 258,
   "metadata": {},
   "outputs": [],
   "source": [
    "#sync data back to this system\n",
    "p=subprocess.call([\"rsync\",\"-arhP\",\"subhadra@192.168.1.244:/storage/subhadra/kabir/output/ppf/\"+outfolder,\"/data/kabir/output/ppf/\"])"
   ]
  },
  {
   "cell_type": "code",
   "execution_count": 281,
   "metadata": {},
   "outputs": [
    {
     "data": {
      "text/plain": [
       "0.67"
      ]
     },
     "execution_count": 281,
     "metadata": {},
     "output_type": "execute_result"
    }
   ],
   "source": [
    "#combine glutamate release data for each seed\n",
    "data_loc=\"/data/kabir/output/ppf/\"+outfolder+'/'\n",
    "#get seed folders\n",
    "seed_folders=os.listdir(data_loc)\n",
    "\n",
    "count=0\n",
    "if \"Average\" in seed_folders:\n",
    "    seed_folders.remove(\"Average\")\n",
    "for s in seed_folders:\n",
    "    s=data_loc+s+\"/dat/\"\n",
    "    file_names=os.listdir(s)\n",
    "    output=[]\n",
    "    for f_name in file_names:\n",
    "        if 'vdcc.' in f_name:\n",
    "            with open(s+f_name,'r') as f:\n",
    "                output=output+f.readlines()\n",
    "    with open(s+'rel.dat','w') as f:\n",
    "        f.writelines(output)\n",
    "    count+=len(output)\n",
    "\n",
    "count/500"
   ]
  },
  {
   "cell_type": "code",
   "execution_count": 1,
   "metadata": {},
   "outputs": [
    {
     "name": "stdout",
     "output_type": "stream",
     "text": [
      "dataPath :  /data/kabir/output/ppf/norm/RSI20V90\n",
      "resultPath :  /home/kabir/Project/tripartiteSynapse/results/ppf/norm/RSI20V90\n"
     ]
    }
   ],
   "source": [
    "%run testLocal.py norm/RSI20V90"
   ]
  },
  {
   "cell_type": "code",
   "execution_count": 2,
   "metadata": {},
   "outputs": [
    {
     "name": "stdout",
     "output_type": "stream",
     "text": [
      "isi:  20 vdcc:  90\n",
      "seeds:  500\n",
      "[0.04359999999999999, 0.006248199740725324, 0.3368, 0.017780888616714285, 7.883160953844021, 1.200554632498525, 20.0, 90.0]\n"
     ]
    }
   ],
   "source": [
    "ppf(resample=10)"
   ]
  },
  {
   "cell_type": "code",
   "execution_count": 261,
   "metadata": {},
   "outputs": [],
   "source": [
    "%run averaging1.ipynb\n",
    "\n",
    "averager(\"/data/kabir/output/ppf/norm/RSI40V90\",\"ca.dat\",[2,3])"
   ]
  },
  {
   "cell_type": "code",
   "execution_count": 208,
   "metadata": {},
   "outputs": [],
   "source": [
    "outfolder='norm/RSI20V40'\n",
    "data_file=\"/data/kabir/output/ppf/norm/RSI20V40/Average/ca.dat\"\n",
    "data1=np.loadtxt(data_file)\n",
    "\n",
    "outfolder='AD/RSI40V90/'\n",
    "data_file=\"/data/kabir/output/ppf/AD/RSI40V90/Average/ca.dat\"\n",
    "data2=np.loadtxt(data_file)"
   ]
  },
  {
   "cell_type": "code",
   "execution_count": 210,
   "metadata": {},
   "outputs": [
    {
     "data": {
      "text/plain": [
       "<matplotlib.legend.Legend at 0x7f2174f84748>"
      ]
     },
     "execution_count": 210,
     "metadata": {},
     "output_type": "execute_result"
    },
    {
     "data": {
      "image/png": "[encoded data removed]",
      "text/plain": [
       "<matplotlib.figure.Figure at 0x7f2174f84780>"
      ]
     },
     "metadata": {},
     "output_type": "display_data"
    }
   ],
   "source": [
    "#plt.plot(data1.T[0,:],data1.T[1,:],label='normal')#*1e15/N_avo/vol_er*1e6)\n",
    "plt.plot(data2.T[0,:],data2.T[2,:],label='AD')#*1e15/N_avo/vol_er*1e6)\n",
    "plt.legend()"
   ]
  },
  {
   "cell_type": "code",
   "execution_count": 11,
   "metadata": {},
   "outputs": [
    {
     "data": {
      "text/plain": [
       "array([   0.,    0.,   57., 5872.])"
      ]
     },
     "execution_count": 11,
     "metadata": {},
     "output_type": "execute_result"
    }
   ],
   "source": [
    "data1.T[:,0]"
   ]
  },
  {
   "cell_type": "markdown",
   "metadata": {},
   "source": [
    "# Search and Replace in files"
   ]
  },
  {
   "cell_type": "code",
   "execution_count": 150,
   "metadata": {},
   "outputs": [],
   "source": [
    "dataloc=\"/home/kabir/Project/tripartiteSynapse/ryr_2x_AD/\"\n",
    "files=os.listdir(dataloc)\n",
    "new_files=[]\n",
    "for f in files:\n",
    "    if \"RSI\" in f:\n",
    "        new_files.append(f)\n",
    "#new_files"
   ]
  },
  {
   "cell_type": "code",
   "execution_count": 151,
   "metadata": {},
   "outputs": [],
   "source": [
    "for fn in new_files:\n",
    "    with fi.FileInput(dataloc+fn,inplace=True, backup='.bak') as f:\n",
    "        for line in f:\n",
    "            print(line.replace('\"ppf/\"','\"ppf/AD/\"'), end='')"
   ]
  },
  {
   "cell_type": "code",
   "execution_count": null,
   "metadata": {},
   "outputs": [],
   "source": []
  }
 ],
 "metadata": {
  "kernelspec": {
   "display_name": "Python 3",
   "language": "python",
   "name": "python3"
  },
  "language_info": {
   "codemirror_mode": {
    "name": "ipython",
    "version": 3
   },
   "file_extension": ".py",
   "mimetype": "text/x-python",
   "name": "python",
   "nbconvert_exporter": "python",
   "pygments_lexer": "ipython3",
   "version": "3.6.5"
  }
 },
 "nbformat": 4,
 "nbformat_minor": 2
}
