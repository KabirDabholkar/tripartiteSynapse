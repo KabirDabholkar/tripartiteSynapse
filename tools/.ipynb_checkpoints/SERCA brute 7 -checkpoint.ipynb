{
 "cells": [
  {
   "cell_type": "code",
   "execution_count": 93,
   "metadata": {},
   "outputs": [],
   "source": [
    "import subprocess\n",
    "from multiprocessing import Pool\n",
    "import os\n",
    "from itertools import product\n",
    "import numpy as np\n",
    "import matplotlib.pyplot as plt\n",
    "from scipy.optimize import curve_fit\n",
    "from scipy.interpolate import spline\n",
    "from scipy.ndimage.filters import gaussian_filter1d\n",
    "from scipy import stats\n",
    "#import statsmodels.api as smdl\n",
    "%run averaging.ipynb\n",
    "%run optimize_slope.ipynb"
   ]
  },
  {
   "cell_type": "code",
   "execution_count": 27,
   "metadata": {},
   "outputs": [],
   "source": [
    "area_er = 2*(3.9+0.1+0.1*0.1+3.9*0.1)\n",
    "vol_er = (3.9*0.1*0.1)\n",
    "vol_cyt = (4.0*0.5*0.5-vol_er)\n",
    "vol_tot = vol_cyt + vol_er\n",
    "N_avo=6.0221409e23"
   ]
  },
  {
   "cell_type": "code",
   "execution_count": 286,
   "metadata": {},
   "outputs": [],
   "source": [
    "def write_mdl(file_name,outfolder,iterations,ic,sf,sm,kleak,serca_frac,write=True):\n",
    "    ftext = \"\"\"sprintf(my_seed,\"%05g\",SEED)\n",
    "\n",
    "    iterations = e3\n",
    "\n",
    "    INCLUDE_FILE = \"../outputLoc.mdl\"\n",
    "    INCLUDE_FILE = \"../initialization.mdl\"\n",
    "    INCLUDE_FILE = \"parameters.mdl\"\n",
    "    /* Modifications in Parameters */\n",
    "        VDCC_number_presynaptic = 40\n",
    "\n",
    "        n_Glu_neuron =  1 //2000\n",
    "        GluT_density_astrocyte = 0.1 //1000\n",
    "\n",
    "        ca_conc_presynaptic_er = e-6     //initial ER conc specified here!!!!!\n",
    "        //ryr_number_presynaptic = 0 //no RYR\n",
    "\n",
    "    f =                                 //SERCA parameter adjustments here!!!!!!!!!!\n",
    "\n",
    "    sm = //multiply all serca parameters\n",
    "\n",
    "    /*Initial SERCA fractions*/\n",
    "    serca_x1_feq = \n",
    "    serca_x1a_feq = \n",
    "    serca_x2_feq = \n",
    "    serca_y1_feq = \n",
    "    serca_y1a_feq = \n",
    "    serca_y2_feq = \n",
    "\n",
    "    INCLUDE_FILE = \"rxn_rate_constants.mdl\"\n",
    "    /* Modifications in Reaction Rate Constants */\n",
    "\n",
    "    k_ER_leak = \n",
    "\n",
    "\n",
    "    /* Output Folder */\n",
    "            //isi = \"40\"\n",
    "        sprintf(VDCC, \"%g\", VDCC_number_presynaptic)\n",
    "        sprintf(f_mult, \"%g\", f) \n",
    "        sprintf(s_mult, \"%g\", sm)\n",
    "        sprintf(kleak, \"%g\", k_ER_leak)\n",
    "        sprintf(init_er_conc, \"%g\", ca_conc_presynaptic_er*1e6)   \t\n",
    "        fname = \n",
    "\n",
    "        output_folder = outputLoc & \"ppf/\" & fname & \"/sm\" & s_mult & \"/\" & f_mult & \"/\" & init_er_conc & \"/kleak\" & kleak & \"/s_\" & my_seed\n",
    "\n",
    "    /* Rates for P/Q-type Voltage Dependent Calcium Channels */\n",
    "    /* From Bischoffberger et al., 2005, , Biophys. J.*/\n",
    "\n",
    "        k_VDCC_PQ_C01 = 0\n",
    "        k_VDCC_PQ_C12 = 0\n",
    "        k_VDCC_PQ_C23 = 0\n",
    "        k_VDCC_PQ_C34 = 0\n",
    "        k_VDCC_PQ_C43 = 0\n",
    "        k_VDCC_PQ_C32 = 0\n",
    "        k_VDCC_PQ_C21= 0\n",
    "        k_VDCC_PQ_C10 = 0\n",
    "        k_VDCC_PQ_Ca = 0\n",
    "\n",
    "    INCLUDE_FILE = \"triggered_release.inc.mdl\"\n",
    "\n",
    "    INCLUDE_FILE = \"rxn_outputRS.mdl\"\n",
    "    //INCLUDE_FILE = \"viz_output.mdl\"\n",
    "    \"\"\"\n",
    "    ftext=ftext.replace('k_ER_leak = ', 'k_ER_leak = '+str(kleak))\n",
    "    ftext=ftext.replace('iterations = ', 'iterations = '+str(iterations))\n",
    "    ftext=ftext.replace('sm = ', 'sm = '+str(sm))\n",
    "    ftext=ftext.replace('ca_conc_presynaptic_er = ', 'ca_conc_presynaptic_er = '+str(ic))\n",
    "    ftext=ftext.replace('f = ','f = '+str(sf))\n",
    "    ftext=ftext.replace('fname = ','fname = '+'\"'+str(outfolder)+'\"')\n",
    "    for i,p in enumerate(['x1','x1a','x2','y2','y1a','y1']):\n",
    "        old=\"serca_\"+p+\"_feq = \"\n",
    "        new=\"serca_\"+p+\"_feq = \"+str(serca_frac[i])\n",
    "        ftext=ftext.replace(old,new)\n",
    "    if write:\n",
    "        with open(file_name,'w') as wfile:\n",
    "            wfile.write(ftext)\n",
    "\n",
    "      "
   ]
  },
  {
   "cell_type": "code",
   "execution_count": 231,
   "metadata": {},
   "outputs": [
    {
     "name": "stderr",
     "output_type": "stream",
     "text": [
      "/usr/lib/python3/dist-packages/ipykernel_launcher.py:18: DeprecationWarning: object of type <class 'float'> cannot be safely interpreted as an integer.\n"
     ]
    }
   ],
   "source": [
    "#Generate mdls for checking relation of sm and slope at 250uM      \n",
    "\n",
    "%run get_SERCA_equilibrium.ipynb\n",
    "#checking slope for sf=2, various sm, at 250uM\n",
    "final_conc=500\n",
    "sf=2\n",
    "initial_conc=[225]\n",
    "serca_mult=[30,80,110,140,200,300]#[50,100,125,150]\n",
    "seed_num=20\n",
    "\n",
    "folder=\"/home/kabir/Project/tripartiteSynapse/brute750_9/\"\n",
    "outfolder=\"brute10\"\n",
    "\n",
    "leak_mult=[0]\n",
    "iterations=1500\n",
    "fnames=[]\n",
    "\n",
    "for (sm,lm,ic) in product(serca_mult,leak_mult,initial_conc):\n",
    "    serca_frac=get_SERCA_equilibrium(ic)\n",
    "    file_name=folder+\"RSnostim_sm\"+str(sm)+\"_ic\"+str(ic)+\"_fc\"+str(final_conc)+\".mdl\"\n",
    "    fnames.append(file_name)\n",
    "    write_mdl(file_name,outfolder,iterations,ic,sf,sm,lm,serca_frac,write=True)\n",
    "        "
   ]
  },
  {
   "cell_type": "code",
   "execution_count": 287,
   "metadata": {},
   "outputs": [
    {
     "name": "stderr",
     "output_type": "stream",
     "text": [
      "/usr/lib/python3/dist-packages/ipykernel_launcher.py:18: DeprecationWarning: object of type <class 'float'> cannot be safely interpreted as an integer.\n"
     ]
    }
   ],
   "source": [
    "#Generate mdls for checking relation of leak parameter and slope at 250uM\n",
    "\n",
    "%run get_SERCA_equilibrium.ipynb\n",
    "\n",
    "final_conc=500\n",
    "sf=2\n",
    "initial_conc=[275]\n",
    "serca_mult=[0]\n",
    "seed_num=20\n",
    "#leak_mult=[1,5,10,50,100]\n",
    "leak_rates=list(np.arange(60000,71000,1000))\n",
    "\n",
    "\n",
    "folder=\"/home/kabir/Project/tripartiteSynapse/brute750_9/\"\n",
    "outfolder=\"brute10\"\n",
    "\n",
    "\n",
    "iterations=1500\n",
    "fnames=[]\n",
    "\n",
    "for (sm,kleak,ic) in product(serca_mult,leak_rates,initial_conc):\n",
    "    serca_frac=get_SERCA_equilibrium(ic)\n",
    "    file_name=folder+\"RSnostim_sm\"+str(sm)+\"_ic\"+str(ic)+\"_sf\"+str(sf)+\"_kleak\"+str(kleak)+\".mdl\"\n",
    "    fnames.append(file_name)\n",
    "    write_mdl(file_name,outfolder,iterations,ic,sf,sm,lm,serca_frac,write=True)\n",
    "        "
   ]
  },
  {
   "cell_type": "code",
   "execution_count": 288,
   "metadata": {},
   "outputs": [],
   "source": [
    "#write run.sh\n",
    "with open(folder+'run.sh','w') as f:\n",
    "    for name in fnames:\n",
    "            f.write(\"sed --i 's/^#PBS -J.*/#PBS -J 1-\"+str(seed_num)+\"/' pbs.py\\n\")\n",
    "            f.write(\"qsub -N \"+name.replace('.mdl','').replace(folder+'RSnostim_','')+\" -v I='\"+name.replace('/kabir/Project/','/subhadra/kabir/')+\"' pbs.py\\n\")\n",
    "            f.write(\"\\n\")"
   ]
  },
  {
   "cell_type": "code",
   "execution_count": 289,
   "metadata": {},
   "outputs": [],
   "source": [
    "#sync script files to cluster\n",
    "p=subprocess.call([\"rsync\",\"-arhP\",folder[:-1],\"subhadra@192.168.1.244:/home/subhadra/kabir/tripartiteSynapse/\"])"
   ]
  },
  {
   "cell_type": "code",
   "execution_count": 290,
   "metadata": {},
   "outputs": [],
   "source": [
    "#sync data back to this system\n",
    "p=subprocess.call([\"rsync\",\"-arhP\",\"subhadra@192.168.1.244:/storage/subhadra/kabir/output/ppf/brute10\",\"/data/kabir/output/ppf/\"])"
   ]
  },
  {
   "cell_type": "markdown",
   "metadata": {},
   "source": [
    "# This is for leak parameter slope at 250uM"
   ]
  },
  {
   "cell_type": "code",
   "execution_count": 300,
   "metadata": {},
   "outputs": [],
   "source": [
    "%run averaging.ipynb\n",
    "#checking refilling times for 500 sf=2\n",
    "final_conc=500\n",
    "sf=2\n",
    "\n",
    "data_locs=[]\n",
    "\n",
    "initial_conc=[275]\n",
    "serca_mult=[0]\n",
    "seed_num=20\n",
    "leak_mult=[1,5,10,50,100]\n",
    "\n",
    "for (sm,ic,lm) in product(serca_mult,initial_conc,leak_mult):\n",
    "    #print(sm,ic,lm)\n",
    "    loc=\"/data/kabir/output/ppf/brute10/sm\"+str(sm)+\"/\"+str(sf)+\"/\"+str(ic)+\"/\"+str(lm)+\"/\"\n",
    "    data_locs.append(loc)\n",
    "    #print(loc)\n",
    "p=Pool(7)\n",
    "data_list=p.map(averager,data_locs)\n",
    "sm_len=len(serca_mult)\n",
    "ic_len=len(initial_conc)"
   ]
  },
  {
   "cell_type": "code",
   "execution_count": 301,
   "metadata": {},
   "outputs": [],
   "source": [
    "\"\"\"data={}\n",
    "for i,sm in enumerate(serca_mult):\n",
    "    data[sm]={}\n",
    "    for j,ic in enumerate(initial_conc):\n",
    "        #print('i=',i,'j=',j)\n",
    "        #print(i*sm_len+j)\n",
    "        data[sm][ic]=data_list[i*sm_len+j]\n",
    "        #data[sm][ic].T[1]*=1e15/N_avo/vol_er*1e6\"\"\"\n",
    "#load data 500\n",
    "data1={}\n",
    "sm=0\n",
    "sf=2\n",
    "ic=275\n",
    "for lm in leak_mult:\n",
    "    data_file='/data/kabir/output/ppf/brute10/sm'+str(sm)+\"/\"+str(sf)+'/'+str(ic)+'/'+str(lm)+'/Average/ca.dat'\n",
    "    #print data_file\n",
    "    data1[lm]=np.loadtxt(data_file)\n",
    "    data1[lm].T[1]*=1e15/N_avo/vol_er*1e6 #micromolar"
   ]
  },
  {
   "cell_type": "code",
   "execution_count": 308,
   "metadata": {},
   "outputs": [
    {
     "name": "stdout",
     "output_type": "stream",
     "text": [
      "153 370\n",
      "t= 0.026107414168464224\n",
      "Slope =  -915.4494738597402  lm =  1\n",
      "30 73\n",
      "t= 0.005128721219461279\n",
      "Slope =  -4683.456560038039  lm =  5\n",
      "15 37\n",
      "t= 0.0026109951929024137\n",
      "Slope =  -9150.142481282688  lm =  10\n",
      "3 7\n",
      "t= 0.0005166499770883936\n",
      "Slope =  -46458.90156473304  lm =  50\n",
      "1 4\n",
      "t= 0.0002525000536105012\n",
      "Slope =  -97290.55590470135  lm =  100\n",
      "lm for slope = 80: 0.6228018307815403\n",
      "lm for slope = 35: 0.6588616888055497\n"
     ]
    },
    {
     "data": {
      "image/png": "[encoded data removed]",
      "text/plain": [
       "<matplotlib.figure.Figure at 0x7f4be4713940>"
      ]
     },
     "metadata": {},
     "output_type": "display_data"
    },
    {
     "data": {
      "image/png": "[encoded data removed]",
      "text/plain": [
       "<matplotlib.figure.Figure at 0x7f4be42abf98>"
      ]
     },
     "metadata": {},
     "output_type": "display_data"
    }
   ],
   "source": [
    "#plot sf=2, sm= for different ic\n",
    "\n",
    "color=[\"#0074D9\", \"#FF851B\", \"#EE2255\", \"#001f3f\", \"#85144b\", \"#39CCCC\", \"#FFDC00\",\n",
    "       \"#2ECC40\", \"#7FDBFF\", \"#B10DC9\", \"#3D9970\", \"#AAAAAA\", \"#000000\"]\n",
    "sf=2\n",
    "ic=275\n",
    "#sm=70\n",
    "#ic=300\n",
    "slope_lm={'slope':[],'lm':[]}\n",
    "plt.figure(figsize=(10,6))\n",
    "for i,lm in enumerate(leak_mult):\n",
    "    ydata=data1[lm].T[1]\n",
    "    xdata=data1[lm].T[0]\n",
    "    \n",
    "    plt.plot(xdata,ydata,color=color[i],label='lm='+str(lm))\n",
    "        \n",
    "        \n",
    "    ydelta=10\n",
    "    conc=250\n",
    "    argmin,argmax=np.argmin(abs(ydata-(conc+ydelta))),np.argmin(abs(ydata-(conc-ydelta)))\n",
    "    print(argmin,argmax)\n",
    "    #print(ydata[argmin:argmax])\n",
    "    #print(xdata[argmin:argmax])\n",
    "    \n",
    "    p=np.polyfit(xdata[argmin:argmax],ydata[argmin:argmax],1)\n",
    "    x=np.linspace(0,0.04,100)\n",
    "    #plt.plot(x,np.polyval(p,x),color=color[i])\n",
    "    dp=np.polyder(p)\n",
    "    p[-1]=p[-1]-conc\n",
    "    t=np.roots(p)\n",
    "    t=[time for time in t if xdata[argmin] <= time <= xdata[argmax]][0]\n",
    "    print(\"t=\",t)\n",
    "    slope=np.polyval(dp,t)\n",
    "    print(\"Slope = \",slope,\" lm = \",lm)\n",
    "    slope_lm['slope'].append(slope)\n",
    "    slope_lm['lm'].append(lm)\n",
    "\n",
    "#for key in more_slope_conc.keys():\n",
    "    #more_slope_conc[key]=np.array(more_slope_conc[key])\n",
    "plt.xlabel(\"time(sec)\")\n",
    "plt.ylabel(\"Ca2+ ER conc (uM)\")\n",
    "plt.legend()\n",
    "#plt.ylim((0,275))    \n",
    "#plt.xlim((0,0.04))\n",
    "plt.savefig('/home/kabir/Project/plots/brute6/leak_rate.eps')#\"\"\"\n",
    "#plt.savefig('/home/kabir/Project/midsemreport_spring2019/new_sm.eps')\n",
    "plt.figure(figsize=(10,6))\n",
    "plt.plot(slope_lm['lm'],slope_lm['slope'],'ro')\n",
    "plt.ylabel(\"dC/dt at 250uM\")\n",
    "plt.xlabel(\"lm\")\n",
    "plt.title(\"lm*1e5 and slope at 250uM\")\n",
    "p=np.polyfit(slope_lm['lm'],slope_lm['slope'],1)\n",
    "x=np.linspace(0,150,100)\n",
    "plt.plot(x,np.polyval(p,x))\n",
    "plt.savefig('/home/kabir/Project/plots/brute6/lm_slope.eps')\n",
    "p1=p\n",
    "p1[-1]=p1[-1]+80\n",
    "print(\"lm for slope = 80:\",np.roots(p1)[0])\n",
    "p2=p\n",
    "p2[-1]=p2[-1]+35\n",
    "print(\"lm for slope = 35:\",np.roots(p2)[0])"
   ]
  },
  {
   "cell_type": "markdown",
   "metadata": {},
   "source": [
    "# Below is for sm parameter and slope at 250uM"
   ]
  },
  {
   "cell_type": "code",
   "execution_count": 292,
   "metadata": {},
   "outputs": [],
   "source": [
    "%run averaging.ipynb\n",
    "#checking refilling times for 500 sf=2\n",
    "final_conc=500\n",
    "sf=2\n",
    "initial_conc=[225]\n",
    "serca_mult=[50,100,125,150]\n",
    "seed_num=20\n",
    "data_locs=[]\n",
    "\n",
    "for (sm,ic) in product(serca_mult,initial_conc):\n",
    "    loc=\"/data/kabir/output/ppf/brute10/sm\"+str(sm)+\"/\"+str(sf)+\"/\"+str(ic)+\"/\"\n",
    "    data_locs.append(loc)\n",
    "    \n",
    "p=Pool(7)\n",
    "data_list=p.map(averager,data_locs)\n",
    "sm_len=len(serca_mult)\n",
    "ic_len=len(initial_conc)"
   ]
  },
  {
   "cell_type": "code",
   "execution_count": 293,
   "metadata": {},
   "outputs": [],
   "source": [
    "\"\"\"data={}\n",
    "for i,sm in enumerate(serca_mult):\n",
    "    data[sm]={}\n",
    "    for j,ic in enumerate(initial_conc):\n",
    "        #print('i=',i,'j=',j)\n",
    "        #print(i*sm_len+j)\n",
    "        data[sm][ic]=data_list[i*sm_len+j]\n",
    "        #data[sm][ic].T[1]*=1e15/N_avo/vol_er*1e6\"\"\"\n",
    "#load data 500\n",
    "ic=225\n",
    "data2={}\n",
    "serca_mult=[50,100,125,150]\n",
    "initial_conc=[225]\n",
    "for sm in serca_mult:\n",
    "    data2[sm]={}\n",
    "    for ic in initial_conc:\n",
    "        data_file='/data/kabir/output/ppf/brute10/sm'+str(sm)+\"/\"+str(sf)+'/'+str(ic)+'/Average/ca.dat'\n",
    "        #print data_file\n",
    "        data2[sm][ic]=np.loadtxt(data_file)\n",
    "        data2[sm][ic].T[1]*=1e15/N_avo/vol_er*1e6 #micromolar"
   ]
  },
  {
   "cell_type": "code",
   "execution_count": 294,
   "metadata": {},
   "outputs": [
    {
     "name": "stdout",
     "output_type": "stream",
     "text": [
      "Slope =  34.63057724048143  Conc =  250\n",
      "Slope =  45.86966173861497  Conc =  250\n",
      "Slope =  47.68552747442532  Conc =  250\n",
      "Slope =  51.8175489264663  Conc =  250\n"
     ]
    },
    {
     "data": {
      "text/plain": [
       "78.25249743834235"
      ]
     },
     "execution_count": 294,
     "metadata": {},
     "output_type": "execute_result"
    },
    {
     "data": {
      "image/png": "[encoded data removed]",
      "text/plain": [
       "<matplotlib.figure.Figure at 0x7f4bfc184940>"
      ]
     },
     "metadata": {},
     "output_type": "display_data"
    },
    {
     "data": {
      "image/png": "[encoded data removed]",
      "text/plain": [
       "<matplotlib.figure.Figure at 0x7f4bfc1840b8>"
      ]
     },
     "metadata": {},
     "output_type": "display_data"
    }
   ],
   "source": [
    "#plot sf=2, sm= for different ic\n",
    "\n",
    "color=[\"#0074D9\", \"#FF851B\", \"#EE2255\", \"#001f3f\", \"#85144b\", \"#39CCCC\", \"#FFDC00\",\n",
    "       \"#2ECC40\", \"#7FDBFF\", \"#B10DC9\", \"#3D9970\", \"#AAAAAA\", \"#000000\"]\n",
    "sf=2\n",
    "ic=225\n",
    "#sm=70\n",
    "#ic=300\n",
    "slope_sm={'slope':[],'sm':[]}\n",
    "plt.figure(figsize=(10,6))\n",
    "for i,sm in enumerate(serca_mult):\n",
    "    ydata=data2[sm][ic].T[1]\n",
    "    xdata=data2[sm][ic].T[0]\n",
    "    #ydata = gaussian_filter1d(ydata, sigma=300)\n",
    "    plt.plot(xdata,ydata,color=color[i],label='sm='+str(sm))\n",
    "    #slope,conc=eval_slope_conc(0.75,xdata,ydata,0.70)\n",
    "    p=np.polyfit(xdata,ydata,3)\n",
    "    x=np.linspace(0,1.5,100)\n",
    "    plt.plot(x,np.polyval(p,x),color=color[i])\n",
    "    dp=np.polyder(p)\n",
    "    conc=250\n",
    "    p[-1]=p[-1]-conc\n",
    "    t=np.roots(p)\n",
    "    slope=np.polyval(dp,t[2])\n",
    "    print(\"Slope = \",slope,\" Conc = \",conc)\n",
    "    slope_sm['slope'].append(slope)\n",
    "    slope_sm['sm'].append(sm)\n",
    "    \n",
    "\n",
    "#for key in more_slope_conc.keys():\n",
    "    #more_slope_conc[key]=np.array(more_slope_conc[key])\n",
    "    \n",
    "plt.legend()\n",
    "#plt.ylim((150,250))    \n",
    "#plt.xlim((0,1.5))\n",
    "#plt.savefig('/home/kabir/Project/plots/brute6/new_sf_750.eps')#\"\"\"\n",
    "#plt.savefig('/home/kabir/Project/midsemreport_spring2019/new_sm.eps')\n",
    "\n",
    "plt.figure(figsize=(10,6))\n",
    "plt.xlabel(\"sm\")\n",
    "plt.ylabel(\"dC/dt at 250uM\")\n",
    "slope_sm['sm'].append(70)\n",
    "slope_sm['slope'].append(38.242551901)\n",
    "plt.plot(slope_sm['sm'],slope_sm['slope'],'ro')\n",
    "p=np.polyfit(slope_sm['sm'],slope_sm['slope'],1)\n",
    "x=np.linspace(50,150,100)\n",
    "plt.plot(x,np.polyval(p,x))\n",
    "\n",
    "np.polyval(p,300)"
   ]
  },
  {
   "cell_type": "code",
   "execution_count": 295,
   "metadata": {},
   "outputs": [],
   "source": [
    "#average,full refilling\n",
    "initial_conc=[0]\n",
    "\n",
    "serca_mult=[70,100,150]\n",
    "serca_f=[2]\n",
    "sf=serca_f[0]\n",
    "\n",
    "#serca_mult=[1]#[3,6,9,12,15]#[1]\n",
    "#serca_f=[2,2.2,2.4,2.6,2.8,2.9,3,3.1,3.2,3.4,3.6,3.8,4]\n",
    "\n",
    "data_locs=[]\n",
    "for sm in serca_mult:\n",
    "    for ic in initial_conc:\n",
    "        #averager(\"/data/kabir/output/ppf/brute9/sm\"+str(sm)+\"/\"+str(sf)+\"/\"+str(ic)+\"/\")\n",
    "        data_locs.append(\"/data/kabir/output/ppf/brute9/sm\"+str(sm)+\"/\"+str(sf)+\"/\"+str(ic)+\"/\")\n",
    "p=Pool(7)\n",
    "data_list=p.map(averager,data_locs)\n",
    "sm_len=len(serca_mult)\n",
    "ic_len=len(initial_conc)"
   ]
  },
  {
   "cell_type": "code",
   "execution_count": 296,
   "metadata": {},
   "outputs": [],
   "source": [
    "#load data, full refilling\n",
    "data={}\n",
    "initial_conc=[0]\n",
    "\n",
    "serca_mult=[70,100,150]\n",
    "serca_f=[2]\n",
    "sf=serca_f[0]\n",
    "seed={70:8,100:4,150:2}\n",
    "for sm in serca_mult:\n",
    "    data[sm]={}\n",
    "    for ic in initial_conc:\n",
    "        data_file='/data/kabir/output/ppf/brute9/sm'+str(sm)+\"/\"+str(sf)+'/'+str(ic)+'/s_0000'+str(seed[sm])+'/dat/ca.dat'\n",
    "        #print data_file\n",
    "        data[sm][ic]=np.loadtxt(data_file)\n",
    "        data[sm][ic].T[3]*=1e15/N_avo/vol_er*1e6 #micromolar"
   ]
  },
  {
   "cell_type": "code",
   "execution_count": 297,
   "metadata": {},
   "outputs": [],
   "source": [
    "def exp_fit(x,c,tau):\n",
    "    A=500\n",
    "    return A*(1-np.exp(-(x-c)/tau))"
   ]
  },
  {
   "cell_type": "code",
   "execution_count": 298,
   "metadata": {},
   "outputs": [],
   "source": [
    "def eval_slope_conc(t,xdata,ydata,range):\n",
    "    tstep=xdata[1]-xdata[0]\n",
    "    delta_t=range\n",
    "    lower,upper=int(max(0,(t-delta_t)/tstep)),int(min(len(xdata),(t+delta_t)/tstep))\n",
    "    a, b, r_value, p_value, std_err= stats.linregress(xdata[lower:upper],ydata[lower:upper])\n",
    "    conc=a*t+b\n",
    "\n",
    "    #print('conc=',conc,'tau=',tau,'error=',std_err)\n",
    "    return a,conc"
   ]
  },
  {
   "cell_type": "code",
   "execution_count": 299,
   "metadata": {},
   "outputs": [
    {
     "name": "stdout",
     "output_type": "stream",
     "text": [
      "a= 0.3842133105762622 \n",
      "b= -65.432415126828\n"
     ]
    },
    {
     "ename": "NameError",
     "evalue": "name 'more_slope_conc' is not defined",
     "output_type": "error",
     "traceback": [
      "\u001b[0;31m------------------------------------------------------------------------\u001b[0m",
      "\u001b[0;31mNameError\u001b[0m                              Traceback (most recent call last)",
      "\u001b[0;32m<ipython-input-299-81801ee2717f>\u001b[0m in \u001b[0;36m<module>\u001b[0;34m()\u001b[0m\n\u001b[1;32m     28\u001b[0m     \u001b[0ma\u001b[0m\u001b[0;34m,\u001b[0m \u001b[0mb\u001b[0m\u001b[0;34m,\u001b[0m \u001b[0mr_value\u001b[0m\u001b[0;34m,\u001b[0m \u001b[0mp_value\u001b[0m\u001b[0;34m,\u001b[0m \u001b[0mstd_err\u001b[0m\u001b[0;34m=\u001b[0m \u001b[0mstats\u001b[0m\u001b[0;34m.\u001b[0m\u001b[0mlinregress\u001b[0m\u001b[0;34m(\u001b[0m\u001b[0mxdata\u001b[0m\u001b[0;34m,\u001b[0m\u001b[0mydata\u001b[0m\u001b[0;34m)\u001b[0m\u001b[0;34m\u001b[0m\u001b[0m\n\u001b[1;32m     29\u001b[0m     \u001b[0mprint\u001b[0m\u001b[0;34m(\u001b[0m\u001b[0;34m'a='\u001b[0m\u001b[0;34m,\u001b[0m\u001b[0ma\u001b[0m\u001b[0;34m,\u001b[0m\u001b[0;34m'\\nb='\u001b[0m\u001b[0;34m,\u001b[0m\u001b[0mb\u001b[0m\u001b[0;34m)\u001b[0m\u001b[0;34m\u001b[0m\u001b[0m\n\u001b[0;32m---> 30\u001b[0;31m \u001b[0mxdata\u001b[0m\u001b[0;34m=\u001b[0m\u001b[0;36m500\u001b[0m\u001b[0;34m-\u001b[0m\u001b[0mnp\u001b[0m\u001b[0;34m.\u001b[0m\u001b[0mconcatenate\u001b[0m\u001b[0;34m(\u001b[0m\u001b[0;34m(\u001b[0m\u001b[0mslope_conc_data\u001b[0m\u001b[0;34m[\u001b[0m\u001b[0;34m'conc'\u001b[0m\u001b[0;34m]\u001b[0m\u001b[0;34m,\u001b[0m\u001b[0mmore_slope_conc\u001b[0m\u001b[0;34m[\u001b[0m\u001b[0;34m'conc'\u001b[0m\u001b[0;34m]\u001b[0m\u001b[0;34m)\u001b[0m\u001b[0;34m)\u001b[0m\u001b[0;34m\u001b[0m\u001b[0m\n\u001b[0m\u001b[1;32m     31\u001b[0m \u001b[0mydata\u001b[0m\u001b[0;34m=\u001b[0m\u001b[0mnp\u001b[0m\u001b[0;34m.\u001b[0m\u001b[0mconcatenate\u001b[0m\u001b[0;34m(\u001b[0m\u001b[0;34m(\u001b[0m\u001b[0mslope_conc_data\u001b[0m\u001b[0;34m[\u001b[0m\u001b[0;34m'slope'\u001b[0m\u001b[0;34m]\u001b[0m\u001b[0;34m,\u001b[0m\u001b[0mmore_slope_conc\u001b[0m\u001b[0;34m[\u001b[0m\u001b[0;34m'slope'\u001b[0m\u001b[0;34m]\u001b[0m\u001b[0;34m)\u001b[0m\u001b[0;34m)\u001b[0m\u001b[0;34m\u001b[0m\u001b[0m\n\u001b[1;32m     32\u001b[0m \u001b[0mplt\u001b[0m\u001b[0;34m.\u001b[0m\u001b[0mplot\u001b[0m\u001b[0;34m(\u001b[0m\u001b[0mxdata\u001b[0m\u001b[0;34m,\u001b[0m\u001b[0mydata\u001b[0m\u001b[0;34m,\u001b[0m\u001b[0;34m'ro'\u001b[0m\u001b[0;34m,\u001b[0m\u001b[0mlabel\u001b[0m\u001b[0;34m=\u001b[0m\u001b[0;34m\"Data for sm=70\"\u001b[0m\u001b[0;34m)\u001b[0m\u001b[0;34m\u001b[0m\u001b[0m\n",
      "\u001b[0;31mNameError\u001b[0m: name 'more_slope_conc' is not defined"
     ]
    },
    {
     "data": {
      "image/png": "[encoded data removed]",
      "text/plain": [
       "<matplotlib.figure.Figure at 0x7f4be461d668>"
      ]
     },
     "metadata": {},
     "output_type": "display_data"
    },
    {
     "data": {
      "text/plain": [
       "<matplotlib.figure.Figure at 0x7f4c240916d8>"
      ]
     },
     "metadata": {},
     "output_type": "display_data"
    }
   ],
   "source": [
    "color=[\"#0074D9\", \"#FF851B\", \"#EE2255\", \"#001f3f\", \"#85144b\", \"#39CCCC\", \"#FFDC00\",\n",
    "       \"#2ECC40\", \"#7FDBFF\", \"#B10DC9\", \"#3D9970\", \"#AAAAAA\", \"#000000\"]\n",
    "\n",
    "ic=0\n",
    "plt.figure(figsize=(10,6))\n",
    "for i,sm in enumerate([70]):\n",
    "    ydata=data[sm][ic].T[3]\n",
    "    xdata=data[sm][ic].T[0]\n",
    "    popt,pcov=curve_fit(exp_fit,xdata,ydata,p0=[0,5])\n",
    "    plt.plot(xdata,exp_fit(xdata,*popt))\n",
    "    plt.plot(xdata,ydata,color=color[i%12],label='sm = '+str(sm), alpha=0.7)\n",
    "plt.legend()\n",
    "\n",
    "plt.figure(figsize=(10,6))\n",
    "for sm in [70]:\n",
    "    slope_conc_data={'slope':[],'conc':[]}\n",
    "    ydata=data[sm][ic].T[3]\n",
    "    xdata=data[sm][ic].T[0]\n",
    "    times=[1,1.5,2,2.5]\n",
    "    for t in times: \n",
    "        slope,conc=eval_slope_conc(t,xdata,ydata,1)\n",
    "        slope_conc_data['slope'].append(slope)\n",
    "        slope_conc_data['conc'].append(conc)\n",
    "    for key in slope_conc_data.keys():\n",
    "        slope_conc_data[key]=np.array(slope_conc_data[key])\n",
    "    xdata,ydata=500-slope_conc_data['conc'],slope_conc_data['slope']\n",
    "    #plt.plot(xdata,ydata,'ro')\n",
    "    a, b, r_value, p_value, std_err= stats.linregress(xdata,ydata)\n",
    "    print('a=',a,'\\nb=',b)\n",
    "xdata=500-np.concatenate((slope_conc_data['conc'],more_slope_conc['conc']))\n",
    "ydata=np.concatenate((slope_conc_data['slope'],more_slope_conc['slope']))\n",
    "plt.plot(xdata,ydata,'ro',label=\"Data for sm=70\")\n",
    "\n",
    "def poly(x,A,B,C,D):\n",
    "    return A*x**3+B*x**2+C*x+D\n",
    "    #return x**A+B\n",
    "\n",
    "popt,pcov=curve_fit(poly,xdata,ydata)\n",
    "x=np.linspace(0,500,100)\n",
    "y=spline(xdata, ydata, x, order=3, kind='smoothest')\n",
    "plt.plot(x,poly(x,*popt),label=\"Cubic polynomial: [A B C D]=\"+str(popt))\n",
    "print(popt)\n",
    "#plt.xlim(())\n",
    "plt.title(\"Slope vs 500-C for sm=70, sf=2\")\n",
    "plt.legend()\n",
    "plt.xlabel(\"A-conc\")\n",
    "plt.ylabel(\"dC/dt\")\n",
    "plt.savefig('/home/kabir/Project/plots/brute6/slope_conc_sm70.eps')\n",
    "\n",
    "\n"
   ]
  },
  {
   "cell_type": "code",
   "execution_count": 104,
   "metadata": {},
   "outputs": [],
   "source": [
    "def max_file_len(data_loc):\n",
    "    seed_folders=os.listdir(data_loc)\n",
    "    if \"Average\" in seed_folders:\n",
    "        seed_folders.remove(\"Average\")\n",
    "    print(seed_folders)\n",
    "    for s in seed_folders:\n",
    "        file_name=os.path.join(data_loc,os.path.join(s+'/dat/ca.dat'))\n",
    "        print(s,file_len(file_name))"
   ]
  },
  {
   "cell_type": "code",
   "execution_count": 105,
   "metadata": {},
   "outputs": [],
   "source": [
    "def file_len(fname):\n",
    "    i=-1\n",
    "    with open(fname) as f:\n",
    "        for i, l in enumerate(f):\n",
    "            pass\n",
    "    return i + 1"
   ]
  },
  {
   "cell_type": "code",
   "execution_count": null,
   "metadata": {},
   "outputs": [],
   "source": [
    "max_file_len(\"/data/kabir/output/ppf/brute9/sm70/2/0/\")"
   ]
  },
  {
   "cell_type": "code",
   "execution_count": 35,
   "metadata": {},
   "outputs": [
    {
     "name": "stdout",
     "output_type": "stream",
     "text": [
      "SERCA influx = 702.3658899155432 Ca2+ ions per sec\n",
      "Leak number = 868.0785075\n",
      "k_leak = 3236.4164478086363\n"
     ]
    }
   ],
   "source": [
    "a= 0.3901029977136642 \n",
    "b= -67.62046808120242\n",
    "\n",
    "serca_conc_tot = 15e-6\n",
    "serca_number_presynaptic=serca_conc_tot*vol_cyt/(1e15/6.02205e23)\n",
    "leak_number=serca_number_presynaptic/10\n",
    "\n",
    "ER_conc_rate=a*250+b #in micromolar per sec\n",
    "serca_flux=ER_conc_rate*1e-6*vol_er*1e-18*1e3*N_avo#moles per sec *N_avo\n",
    "k_leak=serca_flux/leak_number/250e-6\n",
    "print(\"SERCA influx =\",serca_flux,\"Ca2+ ions per sec\")\n",
    "print(\"Leak number =\",leak_number)\n",
    "print(\"k_leak =\",k_leak)"
   ]
  },
  {
   "cell_type": "code",
   "execution_count": 33,
   "metadata": {},
   "outputs": [
    {
     "name": "stdout",
     "output_type": "stream",
     "text": [
      "868.0785075\n"
     ]
    }
   ],
   "source": [
    "serca_conc_tot = 15e-6\n",
    "presynaptic_vol=(4*0.5*0.5-vol_er)\n",
    "serca_number_presynaptic=serca_conc_tot*presynaptic_vol/(1e15/6.02205e23)\n",
    "leak_number=serca_number_presynaptic/10\n",
    "presynaptic_ER_leak_conc=leak_number/(vol_er*1e-15)/6.02205e23 #molarity\n",
    "ER_leak_density_presynaptic = leak_number/area_er\n",
    "\n"
   ]
  },
  {
   "cell_type": "code",
   "execution_count": 112,
   "metadata": {},
   "outputs": [
    {
     "name": "stdout",
     "output_type": "stream",
     "text": [
      "['s_00012', 's_00014', 's_00010', 's_00008', 's_00015', 's_00017', 's_00011', 's_00009', 's_00003', 's_00001', 's_00020', 's_00018', 's_00013', 's_00019', 's_00006', 's_00002', 's_00007', 's_00016', 's_00004', 's_00005']\n",
      "s_00012 15002\n",
      "s_00014 15002\n",
      "s_00010 15002\n",
      "s_00008 15002\n",
      "s_00015 15002\n",
      "s_00017 15002\n",
      "s_00011 15002\n",
      "s_00009 15002\n",
      "s_00003 15002\n",
      "s_00001 15002\n",
      "s_00020 15002\n",
      "s_00018 15002\n",
      "s_00013 15002\n",
      "s_00019 15002\n",
      "s_00006 15002\n",
      "s_00002 15002\n",
      "s_00007 15002\n",
      "s_00016 15002\n",
      "s_00004 15002\n",
      "s_00005 15002\n"
     ]
    }
   ],
   "source": [
    "max_file_len(\"/data/kabir/output/ppf/brute10/sm0/2/275/100\")"
   ]
  },
  {
   "cell_type": "code",
   "execution_count": null,
   "metadata": {},
   "outputs": [],
   "source": [
    "def slope_from_conc(conc,xdata,ydata,polorder):\n",
    "    p=np.polyfit(xdata,ydata,polorder)\n",
    "    #x=np.linspace(0,1.5,100)\n",
    "    #plt.plot(x,np.polyval(p,x),color=color[i])\n",
    "    dp=np.polyder(p)\n",
    "    p[-1]=p[-1]-conc\n",
    "    t=np.roots(p)\n",
    "    slope=np.polyval(dp,t[2])\n",
    "    #print(\"Slope = \",slope,\" Conc = \",conc)\n",
    "    slope_sm['slope'].append(slope)\n",
    "    slope_sm['sm'].append(sm)\n",
    "    return "
   ]
  },
  {
   "cell_type": "code",
   "execution_count": 176,
   "metadata": {},
   "outputs": [
    {
     "data": {
      "text/plain": [
       "38.242551901"
      ]
     },
     "execution_count": 176,
     "metadata": {},
     "output_type": "execute_result"
    }
   ],
   "source": [
    "p=[ 8.56400156e-07, -1.07825697e-04, 1.28255652e-01, -4.63507474e-01]\n",
    "np.polyval(p,250)"
   ]
  },
  {
   "cell_type": "code",
   "execution_count": 195,
   "metadata": {},
   "outputs": [
    {
     "name": "stdout",
     "output_type": "stream",
     "text": [
      "1\n"
     ]
    }
   ],
   "source": [
    "x=np.array([1,2,3,4])\n",
    "conc=2.2\n",
    "arg=np.argmin(abs(x-conc)\n",
    "print(arg)"
   ]
  },
  {
   "cell_type": "code",
   "execution_count": 262,
   "metadata": {},
   "outputs": [
    {
     "data": {
      "text/plain": [
       "62000.0"
      ]
     },
     "execution_count": 262,
     "metadata": {},
     "output_type": "execute_result"
    }
   ],
   "source": [
    "0.62*1e5"
   ]
  },
  {
   "cell_type": "code",
   "execution_count": 263,
   "metadata": {},
   "outputs": [
    {
     "data": {
      "text/plain": [
       "array([60000, 61000, 62000, 63000, 64000, 65000, 66000, 67000, 68000,\n",
       "       69000])"
      ]
     },
     "execution_count": 263,
     "metadata": {},
     "output_type": "execute_result"
    }
   ],
   "source": [
    "np.arange(60000,70000,1000)"
   ]
  },
  {
   "cell_type": "code",
   "execution_count": null,
   "metadata": {},
   "outputs": [],
   "source": []
  }
 ],
 "metadata": {
  "kernelspec": {
   "display_name": "Python 3",
   "language": "python",
   "name": "python3"
  },
  "language_info": {
   "codemirror_mode": {
    "name": "ipython",
    "version": 3
   },
   "file_extension": ".py",
   "mimetype": "text/x-python",
   "name": "python",
   "nbconvert_exporter": "python",
   "pygments_lexer": "ipython3",
   "version": "3.6.5"
  }
 },
 "nbformat": 4,
 "nbformat_minor": 2
}
