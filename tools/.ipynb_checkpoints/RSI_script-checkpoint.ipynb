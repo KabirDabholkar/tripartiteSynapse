{
 "cells": [
  {
   "cell_type": "code",
   "execution_count": 19,
   "metadata": {},
   "outputs": [],
   "source": [
    "import subprocess\n",
    "from multiprocessing import Pool,cpu_count\n",
    "import os\n",
    "from itertools import product,repeat\n",
    "import numpy as np\n",
    "import matplotlib.pyplot as plt\n",
    "from scipy.optimize import curve_fit\n",
    "from scipy.interpolate import spline\n",
    "from scipy.ndimage.filters import gaussian_filter1d\n",
    "from scipy import stats\n",
    "import fileinput as fi\n",
    "\n",
    "%run averaging.ipynb\n",
    "%run optimize_slope.ipynb\n",
    "\n",
    "ncores=cpu_count()"
   ]
  },
  {
   "cell_type": "code",
   "execution_count": 3,
   "metadata": {},
   "outputs": [],
   "source": [
    "area_er = 2*(3.9+0.1+0.1*0.1+3.9*0.1)\n",
    "vol_er = (3.9*0.1*0.1)\n",
    "vol_cyt = (4.0*0.5*0.5-vol_er)\n",
    "vol_tot = vol_cyt + vol_er\n",
    "N_avo=6.0221409e23"
   ]
  },
  {
   "cell_type": "markdown",
   "metadata": {},
   "source": [
    "# Initial RSnostim equilibrium check"
   ]
  },
  {
   "cell_type": "code",
   "execution_count": 82,
   "metadata": {},
   "outputs": [
    {
     "data": {
      "text/plain": [
       "(740, 760)"
      ]
     },
     "execution_count": 82,
     "metadata": {},
     "output_type": "execute_result"
    },
    {
     "data": {
      "image/png": "[encoded data removed]",
      "text/plain": [
       "<matplotlib.figure.Figure at 0x7f2c28e51fd0>"
      ]
     },
     "metadata": {},
     "output_type": "display_data"
    }
   ],
   "source": [
    "sims=[\"R150control\",\"R150ER2x\",\"R150ER3x\",\"R300ER2x\",\"R300ER3x\"]\n",
    "data_loc=\"/data/kabir/output/ppf/\"\n",
    "sim_type=\"RSnostim\"\n",
    "plt.figure(figsize=(10,6))\n",
    "for s in sims:\n",
    "    data_folder=data_loc+s+'/'+sim_type\n",
    "    data_file=data_folder+\"/s_00001/dat/ca.dat\"\n",
    "    ca_dat=np.loadtxt(data_file)\n",
    "    #print(ca_dat)\n",
    "    ydata=ca_dat.T[3]*1e15/N_avo/vol_er*1e6\n",
    "    xdata=ca_dat.T[0]\n",
    "    plt.plot(xdata,ydata)\n",
    "\n",
    "plt.ylim((740,760))"
   ]
  },
  {
   "cell_type": "markdown",
   "metadata": {},
   "source": [
    "# Search and Replace in files"
   ]
  },
  {
   "cell_type": "code",
   "execution_count": 67,
   "metadata": {},
   "outputs": [],
   "source": [
    "dataloc=\"/home/kabir/Project/tripartiteSynapse/mcell/R300ER2x/\"\n",
    "files=os.listdir(dataloc)\n",
    "RSI_files=[]\n",
    "for f in files:\n",
    "    if \"RSI\" in f:\n",
    "        RSI_files.append(f)\n",
    "#RSI_files"
   ]
  },
  {
   "cell_type": "code",
   "execution_count": 68,
   "metadata": {},
   "outputs": [],
   "source": [
    "for fn in RSI_files:\n",
    "    with fi.FileInput(dataloc+fn,inplace=True, backup='.bak') as f:\n",
    "        for line in f:\n",
    "            print(line.replace('\"ppf/\"','\"ppf/R300ER2x/\"'), end='')"
   ]
  },
  {
   "cell_type": "markdown",
   "metadata": {},
   "source": [
    "# kleak conversion to mcell"
   ]
  },
  {
   "cell_type": "code",
   "execution_count": 69,
   "metadata": {},
   "outputs": [
    {
     "name": "stdout",
     "output_type": "stream",
     "text": [
      "Ca Flux in ions/sec =  411.01111642500007\n",
      "Predicted kleak =  186.74888573427603\n"
     ]
    }
   ],
   "source": [
    "#from S Bandara et al 2013\n",
    "J=0.07*250 #uM/s\n",
    "J/=1e15/N_avo/vol_er*1e6\n",
    "print(\"Ca Flux in ions/sec = \",J)\n",
    "\n",
    "p=[2.1675959461586873, 6.214988757731395]\n",
    "kleak=(J-p[1])/p[0]\n",
    "print(\"Predicted kleak = \",kleak)"
   ]
  },
  {
   "cell_type": "code",
   "execution_count": 86,
   "metadata": {},
   "outputs": [
    {
     "name": "stdout",
     "output_type": "stream",
     "text": [
      "/home/kabir/Project/tripartiteSynapse/mcell/R150control\n",
      "isi = [20] \n",
      "vdcc = [40, 50, 60, 70, 80, 90, 100, 110, 120, 130, 140, 150, 160]\n",
      "['RSI20V40.mdl', 'RSI20V50.mdl', 'RSI20V60.mdl', 'RSI20V70.mdl', 'RSI20V80.mdl', 'RSI20V90.mdl', 'RSI20V100.mdl', 'RSI20V110.mdl', 'RSI20V120.mdl', 'RSI20V130.mdl', 'RSI20V140.mdl', 'RSI20V150.mdl', 'RSI20V160.mdl']\n"
     ]
    }
   ],
   "source": [
    "sims=[\"R150control\",\"R150ER2x\",\"R150ER3x\",\"R300ER2x\",\"R300ER3x\"]\n",
    "sim_type=sims[0]\n",
    "script_folder=\"/home/kabir/Project/tripartiteSynapse/mcell\"+'/'+sim_type\n",
    "print(script_folder)\n",
    "isi=[20]\n",
    "VDCC=list(range(40,170,10))\n",
    "print('isi = '+str(isi),'\\nvdcc = '+str(list(VDCC)))\n",
    "fnames=[]\n",
    "for (i,v) in product(isi,VDCC):\n",
    "    fnames.append(\"RSI\"+str(i)+\"V\"+str(v)+\".mdl\")\n",
    "#fnames=[\"RSI20V90.mdl\",\"RSI30V90.mdl\",\"RSI40V90.mdl\"]\n",
    "print(fnames)\n",
    "seed_num=1000"
   ]
  },
  {
   "cell_type": "code",
   "execution_count": null,
   "metadata": {},
   "outputs": [],
   "source": []
  },
  {
   "cell_type": "code",
   "execution_count": 85,
   "metadata": {},
   "outputs": [],
   "source": [
    "#write run.sh\n",
    "with open(script_folder+'/run.sh','w') as f:\n",
    "    for name in fnames:\n",
    "            loc=script_folder+'/'+name\n",
    "            f.write(\"sed --i 's/^#PBS -J.*/#PBS -J 1-\"+str(seed_num)+\"/' pbs.py\\n\")\n",
    "            f.write(\"qsub -N \"+name.replace(\".mdl\",sim_type)+\" -v I='\"+loc.replace('/kabir/Project/','/subhadra/kabir/')+\"' pbs.py\\n\")\n",
    "            f.write(\"\\n\")"
   ]
  },
  {
   "cell_type": "code",
   "execution_count": 38,
   "metadata": {},
   "outputs": [],
   "source": [
    "#sync script files to cluster\n",
    "p=subprocess.call([\"rsync\",\"-arhP\",script_folder,\"subhadra@192.168.1.244:/home/subhadra/kabir/tripartiteSynapse/\"])"
   ]
  },
  {
   "cell_type": "code",
   "execution_count": 280,
   "metadata": {},
   "outputs": [],
   "source": [
    "outfolder='AD/RSI40V90'"
   ]
  },
  {
   "cell_type": "code",
   "execution_count": 41,
   "metadata": {},
   "outputs": [],
   "source": [
    "outfolder='AD'#RSI40V90'"
   ]
  },
  {
   "cell_type": "code",
   "execution_count": 42,
   "metadata": {},
   "outputs": [],
   "source": [
    "#sync data back to this system\n",
    "p=subprocess.call([\"rsync\",\"-arhP\",\"subhadra@192.168.1.244:/storage/subhadra/kabir/output/ppf/\"+outfolder,\"/data/kabir/output/ppf/\"])"
   ]
  },
  {
   "cell_type": "code",
   "execution_count": 43,
   "metadata": {},
   "outputs": [],
   "source": [
    "outfolder='norm'#RSI40V90'"
   ]
  },
  {
   "cell_type": "code",
   "execution_count": 44,
   "metadata": {},
   "outputs": [],
   "source": [
    "#sync data back to this system\n",
    "p=subprocess.call([\"rsync\",\"-arhP\",\"subhadra@192.168.1.244:/storage/subhadra/kabir/output/ppf/\"+outfolder,\"/data/kabir/output/ppf/\"])"
   ]
  },
  {
   "cell_type": "code",
   "execution_count": 51,
   "metadata": {},
   "outputs": [
    {
     "name": "stdout",
     "output_type": "stream",
     "text": [
      "\n",
      "Calculating Average of /dat/ca.dat\n",
      "seeds:  500\n",
      "Writing average to: /home/kabir/Project/tripartiteSynapse/results/ppf/AD/RSI20V60/ca.dat\n",
      "Calculating Calcium Concentration...\n",
      "Writing Ca Conc. to file:/CaConc\n",
      "isi:  20 \n",
      "vdcc:  60\n",
      "seeds:  500\n"
     ]
    },
    {
     "ename": "ZeroDivisionError",
     "evalue": "float division by zero",
     "output_type": "error",
     "traceback": [
      "\u001b[0;31m-------------------------------------------------------\u001b[0m",
      "\u001b[0;31mZeroDivisionError\u001b[0m     Traceback (most recent call last)",
      "\u001b[0;32m<ipython-input-51-723884ef5a37>\u001b[0m in \u001b[0;36m<module>\u001b[0;34m()\u001b[0m\n\u001b[1;32m     17\u001b[0m     \u001b[0mprint\u001b[0m\u001b[0;34m(\u001b[0m\u001b[0;34m'isi: '\u001b[0m\u001b[0;34m,\u001b[0m \u001b[0misi\u001b[0m\u001b[0;34m,\u001b[0m \u001b[0;34m'\\nvdcc: '\u001b[0m\u001b[0;34m,\u001b[0m \u001b[0mvdcc\u001b[0m\u001b[0;34m)\u001b[0m\u001b[0;34m\u001b[0m\u001b[0m\n\u001b[1;32m     18\u001b[0m \u001b[0;34m\u001b[0m\u001b[0m\n\u001b[0;32m---> 19\u001b[0;31m     \u001b[0mM\u001b[0m\u001b[0;34m.\u001b[0m\u001b[0mrelppf\u001b[0m\u001b[0;34m(\u001b[0m\u001b[0misi\u001b[0m\u001b[0;34m,\u001b[0m \u001b[0mvdcc\u001b[0m\u001b[0;34m,\u001b[0m \u001b[0mresample\u001b[0m\u001b[0;34m=\u001b[0m\u001b[0;36m1000\u001b[0m\u001b[0;34m)\u001b[0m\u001b[0;34m\u001b[0m\u001b[0m\n\u001b[0m\u001b[1;32m     20\u001b[0m \u001b[0;34m\u001b[0m\u001b[0m\n\u001b[1;32m     21\u001b[0m     \u001b[0mM\u001b[0m\u001b[0;34m.\u001b[0m\u001b[0mcaStat\u001b[0m\u001b[0;34m(\u001b[0m\u001b[0mshowFig\u001b[0m\u001b[0;34m=\u001b[0m\u001b[0;32mTrue\u001b[0m\u001b[0;34m)\u001b[0m\u001b[0;34m\u001b[0m\u001b[0m\n",
      "\u001b[0;32m<ipython-input-51-495c5b5a852c>\u001b[0m in \u001b[0;36mrelppf\u001b[0;34m(self, isi, vdcc, resample, tc)\u001b[0m\n\u001b[1;32m    118\u001b[0m             \u001b[0mcp\u001b[0m \u001b[0;34m=\u001b[0m \u001b[0;34m[\u001b[0m\u001b[0mfloat\u001b[0m\u001b[0;34m(\u001b[0m\u001b[0mi\u001b[0m\u001b[0;34m)\u001b[0m\u001b[0;34m/\u001b[0m\u001b[0mndirs\u001b[0m \u001b[0;32mfor\u001b[0m \u001b[0mi\u001b[0m \u001b[0;32min\u001b[0m \u001b[0mcp\u001b[0m\u001b[0;34m]\u001b[0m\u001b[0;34m\u001b[0m\u001b[0m\n\u001b[1;32m    119\u001b[0m             \u001b[0;31m#print('fraction of rel', cp)\u001b[0m\u001b[0;34m\u001b[0m\u001b[0;34m\u001b[0m\u001b[0m\n\u001b[0;32m--> 120\u001b[0;31m             \u001b[0mpp\u001b[0m \u001b[0;34m=\u001b[0m \u001b[0;34m[\u001b[0m\u001b[0mcp\u001b[0m\u001b[0;34m[\u001b[0m\u001b[0;36m0\u001b[0m\u001b[0;34m]\u001b[0m\u001b[0;34m/\u001b[0m\u001b[0;34m(\u001b[0m\u001b[0mcp\u001b[0m\u001b[0;34m[\u001b[0m\u001b[0;36m0\u001b[0m\u001b[0;34m]\u001b[0m\u001b[0;34m+\u001b[0m\u001b[0mcp\u001b[0m\u001b[0;34m[\u001b[0m\u001b[0;36m1\u001b[0m\u001b[0;34m]\u001b[0m\u001b[0;34m)\u001b[0m\u001b[0;34m,\u001b[0m \u001b[0mcp\u001b[0m\u001b[0;34m[\u001b[0m\u001b[0;36m1\u001b[0m\u001b[0;34m]\u001b[0m\u001b[0;34m/\u001b[0m\u001b[0;34m(\u001b[0m\u001b[0mcp\u001b[0m\u001b[0;34m[\u001b[0m\u001b[0;36m0\u001b[0m\u001b[0;34m]\u001b[0m\u001b[0;34m+\u001b[0m\u001b[0mcp\u001b[0m\u001b[0;34m[\u001b[0m\u001b[0;36m1\u001b[0m\u001b[0;34m]\u001b[0m\u001b[0;34m)\u001b[0m\u001b[0;34m,\u001b[0m \u001b[0mcp\u001b[0m\u001b[0;34m[\u001b[0m\u001b[0;36m2\u001b[0m\u001b[0;34m]\u001b[0m\u001b[0;34m/\u001b[0m\u001b[0;34m(\u001b[0m\u001b[0mcp\u001b[0m\u001b[0;34m[\u001b[0m\u001b[0;36m2\u001b[0m\u001b[0;34m]\u001b[0m\u001b[0;34m+\u001b[0m\u001b[0mcp\u001b[0m\u001b[0;34m[\u001b[0m\u001b[0;36m3\u001b[0m\u001b[0;34m]\u001b[0m\u001b[0;34m)\u001b[0m\u001b[0;34m,\u001b[0m \u001b[0mcp\u001b[0m\u001b[0;34m[\u001b[0m\u001b[0;36m3\u001b[0m\u001b[0;34m]\u001b[0m\u001b[0;34m/\u001b[0m\u001b[0;34m(\u001b[0m\u001b[0mcp\u001b[0m\u001b[0;34m[\u001b[0m\u001b[0;36m2\u001b[0m\u001b[0;34m]\u001b[0m\u001b[0;34m+\u001b[0m\u001b[0mcp\u001b[0m\u001b[0;34m[\u001b[0m\u001b[0;36m3\u001b[0m\u001b[0;34m]\u001b[0m\u001b[0;34m)\u001b[0m\u001b[0;34m]\u001b[0m\u001b[0;34m\u001b[0m\u001b[0m\n\u001b[0m\u001b[1;32m    121\u001b[0m             \u001b[0;31m#print('pp: ', pp)\u001b[0m\u001b[0;34m\u001b[0m\u001b[0;34m\u001b[0m\u001b[0m\n\u001b[1;32m    122\u001b[0m \u001b[0;34m\u001b[0m\u001b[0m\n",
      "\u001b[0;31mZeroDivisionError\u001b[0m: float division by zero"
     ]
    }
   ],
   "source": [
    "%run analysis.ipynb\n",
    "for name in fnames:\n",
    "    \n",
    "    dataDirName = name.replace(\".mdl\",\"\")\n",
    "    dataType = \"ppf/AD/\"\n",
    "    \n",
    "    M=analysis(dataDirName,dataType)\n",
    "    \n",
    "    M.dataPath = \"/data/kabir/output/\" + dataType + dataDirName\n",
    "    M.resultPath = \"/home/kabir/Project/tripartiteSynapse/results/\" + dataType + dataDirName\n",
    "\n",
    "    M.avg_dat(inFile=\"/dat/ca.dat\", outFile=\"/ca.dat\")\n",
    "    M.conc_calc(inFile=\"/ca.dat\", outFile=\"/CaConc\")\n",
    "\n",
    "    isi = int(M.dataDirName.split(\"I\")[1].split(\"V\")[0])\n",
    "    vdcc = int(M.dataDirName.split(\"V\")[1])\n",
    "    print('isi: ', isi, '\\nvdcc: ', vdcc)\n",
    "\n",
    "    M.relppf(isi, vdcc, resample=1000)\n",
    "\n",
    "    M.caStat(showFig=True)"
   ]
  },
  {
   "cell_type": "code",
   "execution_count": 281,
   "metadata": {},
   "outputs": [
    {
     "data": {
      "text/plain": [
       "0.67"
      ]
     },
     "execution_count": 281,
     "metadata": {},
     "output_type": "execute_result"
    }
   ],
   "source": [
    "#combine glutamate release data for each seed\n",
    "data_loc=\"/data/kabir/output/ppf/\"+outfolder+'/'\n",
    "#get seed folders\n",
    "seed_folders=os.listdir(data_loc)\n",
    "\n",
    "count=0\n",
    "if \"Average\" in seed_folders:\n",
    "    seed_folders.remove(\"Average\")\n",
    "for s in seed_folders:\n",
    "    s=data_loc+s+\"/dat/\"\n",
    "    file_names=os.listdir(s)\n",
    "    output=[]\n",
    "    for f_name in file_names:\n",
    "        if 'vdcc.' in f_name:\n",
    "            with open(s+f_name,'r') as f:\n",
    "                output=output+f.readlines()\n",
    "    with open(s+'rel.dat','w') as f:\n",
    "        f.writelines(output)\n",
    "    count+=len(output)\n",
    "\n",
    "count/500"
   ]
  },
  {
   "cell_type": "code",
   "execution_count": 4,
   "metadata": {},
   "outputs": [
    {
     "name": "stdout",
     "output_type": "stream",
     "text": [
      "dataPath :  /data/kabir/output/ppf/norm/RSI20V90\n",
      "resultPath :  /home/kabir/Project/tripartiteSynapse/results/ppf/norm/RSI20V90\n",
      "isi:  20 vdcc:  90\n",
      "seeds:  500\n",
      "[0.0382, 0.008072174428244226, 0.34719999999999995, 0.02584879107424562, 9.611293613731359, 2.5516180832777358, 20.0, 90.0]\n",
      "dataPath :  /data/kabir/output/ppf/AD/RSI20V90\n",
      "resultPath :  /home/kabir/Project/tripartiteSynapse/results/ppf/AD/RSI20V90\n",
      "isi:  20 vdcc:  90\n",
      "seeds:  500\n",
      "[0.09159999999999999, 0.016044936896105262, 0.49840000000000007, 0.020293841430345325, 5.623162580693527, 1.070975085559397, 20.0, 90.0]\n",
      "normal PPR =  9.611293613731359\n",
      "AD PPR     =  5.623162580693527\n"
     ]
    }
   ],
   "source": [
    "%run testLocal.py norm/RSI20V90\n",
    "norm_ppf=ppf(resample=10)\n",
    "%run testLocal.py AD/RSI20V90\n",
    "AD_ppf=ppf(resample=10)\n",
    "print(\"normal PPR = \",norm_ppf[4])\n",
    "print(\"AD PPR     = \",AD_ppf[4])"
   ]
  },
  {
   "cell_type": "code",
   "execution_count": 9,
   "metadata": {},
   "outputs": [
    {
     "name": "stdout",
     "output_type": "stream",
     "text": [
      "dataPath :  /data/kabir/output/ppf/AD/RSI40V90\n",
      "resultPath :  /home/kabir/Project/tripartiteSynapse/results/ppf/AD/RSI40V90\n"
     ]
    }
   ],
   "source": [
    "%run testLocal.py AD/RSI40V90"
   ]
  },
  {
   "cell_type": "code",
   "execution_count": 10,
   "metadata": {},
   "outputs": [
    {
     "name": "stdout",
     "output_type": "stream",
     "text": [
      "isi:  40 vdcc:  90\n",
      "seeds:  500\n",
      "[0.0922, 0.014462364951832738, 0.403, 0.01782694589659148, 4.509857438817555, 0.8958789564708997, 40.0, 90.0]\n"
     ]
    }
   ],
   "source": [
    "AD_ppf=ppf(resample=10)"
   ]
  },
  {
   "cell_type": "code",
   "execution_count": 261,
   "metadata": {},
   "outputs": [],
   "source": [
    "%run averaging1.ipynb\n",
    "\n",
    "averager(\"/data/kabir/output/ppf/norm/RSI40V90\",\"ca.dat\",[2,3])"
   ]
  },
  {
   "cell_type": "code",
   "execution_count": 208,
   "metadata": {},
   "outputs": [],
   "source": [
    "outfolder='norm/RSI20V40'\n",
    "data_file=\"/data/kabir/output/ppf/norm/RSI20V40/Average/ca.dat\"\n",
    "data1=np.loadtxt(data_file)\n",
    "\n",
    "outfolder='AD/RSI40V90/'\n",
    "data_file=\"/data/kabir/output/ppf/AD/RSI40V90/Average/ca.dat\"\n",
    "data2=np.loadtxt(data_file)"
   ]
  },
  {
   "cell_type": "code",
   "execution_count": 3,
   "metadata": {
    "collapsed": true
   },
   "outputs": [
    {
     "ename": "NameError",
     "evalue": "name 'plt' is not defined",
     "output_type": "error",
     "traceback": [
      "\u001b[0;31m-------------------------------------------------------\u001b[0m",
      "\u001b[0;31mNameError\u001b[0m             Traceback (most recent call last)",
      "\u001b[0;32m<ipython-input-3-d765f1bd29f5>\u001b[0m in \u001b[0;36m<module>\u001b[0;34m()\u001b[0m\n\u001b[1;32m      1\u001b[0m \u001b[0;31m#plt.plot(data1.T[0,:],data1.T[1,:],label='normal')#*1e15/N_avo/vol_er*1e6)\u001b[0m\u001b[0;34m\u001b[0m\u001b[0;34m\u001b[0m\u001b[0m\n\u001b[0;32m----> 2\u001b[0;31m \u001b[0mplt\u001b[0m\u001b[0;34m.\u001b[0m\u001b[0mplot\u001b[0m\u001b[0;34m(\u001b[0m\u001b[0mdata2\u001b[0m\u001b[0;34m.\u001b[0m\u001b[0mT\u001b[0m\u001b[0;34m[\u001b[0m\u001b[0;36m0\u001b[0m\u001b[0;34m,\u001b[0m\u001b[0;34m:\u001b[0m\u001b[0;34m]\u001b[0m\u001b[0;34m,\u001b[0m\u001b[0mdata2\u001b[0m\u001b[0;34m.\u001b[0m\u001b[0mT\u001b[0m\u001b[0;34m[\u001b[0m\u001b[0;36m1\u001b[0m\u001b[0;34m,\u001b[0m\u001b[0;34m:\u001b[0m\u001b[0;34m]\u001b[0m\u001b[0;34m,\u001b[0m\u001b[0mlabel\u001b[0m\u001b[0;34m=\u001b[0m\u001b[0;34m'AD'\u001b[0m\u001b[0;34m)\u001b[0m\u001b[0;31m#*1e15/N_avo/vol_er*1e6)\u001b[0m\u001b[0;34m\u001b[0m\u001b[0m\n\u001b[0m\u001b[1;32m      3\u001b[0m \u001b[0mplt\u001b[0m\u001b[0;34m.\u001b[0m\u001b[0mlegend\u001b[0m\u001b[0;34m(\u001b[0m\u001b[0;34m)\u001b[0m\u001b[0;34m\u001b[0m\u001b[0m\n",
      "\u001b[0;31mNameError\u001b[0m: name 'plt' is not defined"
     ]
    }
   ],
   "source": [
    "#plt.plot(data1.T[0,:],data1.T[1,:],label='normal')#*1e15/N_avo/vol_er*1e6)\n",
    "plt.plot(data2.T[0,:],data2.T[1,:],label='AD')#*1e15/N_avo/vol_er*1e6)\n",
    "plt.legend()"
   ]
  },
  {
   "cell_type": "code",
   "execution_count": 11,
   "metadata": {},
   "outputs": [
    {
     "data": {
      "text/plain": [
       "array([   0.,    0.,   57., 5872.])"
      ]
     },
     "execution_count": 11,
     "metadata": {},
     "output_type": "execute_result"
    }
   ],
   "source": [
    "data1.T[:,0]"
   ]
  },
  {
   "cell_type": "code",
   "execution_count": null,
   "metadata": {},
   "outputs": [],
   "source": []
  }
 ],
 "metadata": {
  "kernelspec": {
   "display_name": "Python 3",
   "language": "python",
   "name": "python3"
  },
  "language_info": {
   "codemirror_mode": {
    "name": "ipython",
    "version": 3
   },
   "file_extension": ".py",
   "mimetype": "text/x-python",
   "name": "python",
   "nbconvert_exporter": "python",
   "pygments_lexer": "ipython3",
   "version": "3.6.5"
  }
 },
 "nbformat": 4,
 "nbformat_minor": 2
}
