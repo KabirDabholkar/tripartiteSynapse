{
 "cells": [
  {
   "cell_type": "code",
   "execution_count": 3,
   "metadata": {},
   "outputs": [],
   "source": [
    "from itertools import repeat\n",
    "import os\n",
    "#import numpy as np\n",
    "import bohrium as np\n",
    "import matplotlib.pyplot as plt\n",
    "\n",
    "#from scipy.optimize import curve_fit"
   ]
  },
  {
   "cell_type": "code",
   "execution_count": 4,
   "metadata": {},
   "outputs": [],
   "source": [
    "vol_er = (3.9*0.1*0.1)\n",
    "vol_cyt = (4.0*0.5*0.5-vol_er)\n",
    "vol_tot = vol_cyt + vol_er\n",
    "N_avo=6.0221409e23"
   ]
  },
  {
   "cell_type": "code",
   "execution_count": 36,
   "metadata": {},
   "outputs": [],
   "source": [
    "def file_len(fname):\n",
    "    with open(fname) as f:\n",
    "        for i, l in enumerate(f):\n",
    "            pass\n",
    "    return i + 1\n",
    "\n",
    "def averager(data_loc):\n",
    "    #averaged data folder\n",
    "    avg_path=os.path.join(data_loc,\"Average\")\n",
    "    if not os.path.exists(avg_path):\n",
    "        os.makedirs(avg_path)\n",
    "    \n",
    "    #get seed folders\n",
    "    seed_folders=os.listdir(data_loc)\n",
    "    seed_folders.remove(\"Average\")\n",
    "    \n",
    "    #load data\n",
    "    data=[]\n",
    "    file_names=[]\n",
    "    for s in seed_folders:\n",
    "        file_name=os.path.join(data_loc,os.path.join(s+'/dat/ca.dat'))\n",
    "        file_names.append(file_name)\n",
    "    #lagging length and index ie, smallest of the array lengths\n",
    "    lag_len=min([file_len(f) for f in file_names])-1\n",
    "    data = np.concatenate([np.array([np.loadtxt(f).T[3,:lag_len]]).T for f in file_names],axis=1)\n",
    "    times=np.loadtxt(file_names[0]).T[0,:lag_len]\n",
    "    \n",
    "    average=np.sum(data,axis=1)/np.size(data,axis=1)\n",
    "    with open(os.path.join(avg_path,\"ca.dat\"),'w') as f:\n",
    "        for time,avg in zip(times[:lag_len],average):\n",
    "            #print(time,avg)\n",
    "            f.write(str(time)+\" \"+str(avg)+\"\\n\")#+str(avg[1])+\"\\n\")\n",
    "        \n",
    "    "
   ]
  },
  {
   "cell_type": "code",
   "execution_count": 6,
   "metadata": {},
   "outputs": [],
   "source": [
    "#averager(\"/data/kabir/output/ppf/brute6/4.3/350\")"
   ]
  }
 ],
 "metadata": {
  "kernelspec": {
   "display_name": "Python 3",
   "language": "python",
   "name": "python3"
  },
  "language_info": {
   "codemirror_mode": {
    "name": "ipython",
    "version": 3
   },
   "file_extension": ".py",
   "mimetype": "text/x-python",
   "name": "python",
   "nbconvert_exporter": "python",
   "pygments_lexer": "ipython3",
   "version": "3.6.5"
  }
 },
 "nbformat": 4,
 "nbformat_minor": 2
}
