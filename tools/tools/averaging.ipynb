{
 "cells": [
  {
   "cell_type": "code",
   "execution_count": 2,
   "metadata": {},
   "outputs": [],
   "source": [
    "from itertools import repeat\n",
    "import os\n",
    "import numpy as np\n",
    "#import bohrium as np\n",
    "import matplotlib.pyplot as plt\n",
    "from multiprocessing import Pool\n",
    "\n",
    "#from scipy.optimize import curve_fit"
   ]
  },
  {
   "cell_type": "code",
   "execution_count": 3,
   "metadata": {},
   "outputs": [],
   "source": [
    "vol_er = (3.9*0.1*0.1)\n",
    "vol_cyt = (4.0*0.5*0.5-vol_er)\n",
    "vol_tot = vol_cyt + vol_er\n",
    "N_avo=6.0221409e23"
   ]
  },
  {
   "cell_type": "code",
   "execution_count": 14,
   "metadata": {},
   "outputs": [],
   "source": [
    "def file_len(fname):\n",
    "    with open(fname) as f:\n",
    "        for i, l in enumerate(f):\n",
    "            pass\n",
    "    return i + 1\n",
    "\n",
    "def singavg(data):\n",
    "    return np.sum(data,axis=1)/np.size(data,axis=1)\n",
    "\n",
    "def averager(data_loc):\n",
    "    #averaged data folder\n",
    "    avg_path=os.path.join(data_loc,\"Average\")\n",
    "    if not os.path.exists(avg_path):\n",
    "        os.makedirs(avg_path)\n",
    "    \n",
    "    #get seed folders\n",
    "    seed_folders=os.listdir(data_loc)\n",
    "    seed_folders.remove(\"Average\")\n",
    "    \n",
    "    #load data\n",
    "    data=[]\n",
    "    file_names=[]\n",
    "    for s in seed_folders:\n",
    "        file_name=os.path.join(data_loc,os.path.join(s+'/dat/ca.dat'))\n",
    "        file_names.append(file_name)\n",
    "    #lagging length and index ie, smallest of the array lengths\n",
    "    lag_len=min([file_len(f) for f in file_names])-1\n",
    "    data = np.concatenate([np.array([np.loadtxt(f).T[3,:lag_len]]).T for f in file_names],axis=1)\n",
    "    times=np.loadtxt(file_names[0]).T[0,:lag_len]\n",
    "    #print(np.size(data,axis=1))\n",
    "    average=np.sum(data,axis=1)/np.size(data,axis=1)\n",
    "    a=\"\"\"ncores=4\n",
    "    sub_len=int(np.ceil(np.shape(data)[0]/ncores))\n",
    "    rem=np.shape(data)[0]-sub_len*(ncores-1)\n",
    "    ranges=[]\n",
    "    for i in range(ncores-1):\n",
    "        ranges.append((sub_len*i,sub_len*(i+1)))\n",
    "    ranges.append(((ncores-1)*sub_len,(ncores-1)*sub_len+rem))\n",
    "    p=Pool(ncores)\n",
    "    average=np.concatenate(p.map(singavg,[data[r[0]:r[1],:] for r in ranges]))\"\"\"\n",
    "    with open(os.path.join(avg_path,\"ca.dat\"),'w') as f:\n",
    "        for time,avg in zip(times[:lag_len],average):\n",
    "            #print(time,avg)\n",
    "            f.write(str(time)+\" \"+str(avg)+\"\\n\")#+str(avg[1])+\"\\n\")\n",
    "    #print(np.shape(times),np.shape(average))\n",
    "    return np.concatenate([[times],[average]]).T\n",
    "\n",
    "    "
   ]
  },
  {
   "cell_type": "code",
   "execution_count": 15,
   "metadata": {},
   "outputs": [],
   "source": [
    "a=\"\"\"def file_len(fname):\n",
    "    with open(fname) as f:\n",
    "        for i, l in enumerate(f):\n",
    "            pass\n",
    "    return i + 1\n",
    "\n",
    "def singavg(data):\n",
    "    return np.sum(data,axis=1)/np.size(data,axis=1)\n",
    "\n",
    "data_loc=\"/data/kabir/output/ppf/brute8/sm1/1.2/500/\"\n",
    "#averaged data folder\n",
    "avg_path=os.path.join(data_loc,\"Average\")\n",
    "if not os.path.exists(avg_path):\n",
    "    os.makedirs(avg_path)\n",
    "\n",
    "#get seed folders\n",
    "seed_folders=os.listdir(data_loc)\n",
    "seed_folders.remove(\"Average\")\n",
    "\n",
    "#load data\n",
    "data=[]\n",
    "file_names=[]\n",
    "for s in seed_folders:\n",
    "    file_name=os.path.join(data_loc,os.path.join(s+'/dat/ca.dat'))\n",
    "    file_names.append(file_name)\n",
    "#lagging length and index ie, smallest of the array lengths\n",
    "lag_len=min([file_len(f) for f in file_names])-1\n",
    "data = np.concatenate([np.array([np.loadtxt(f).T[3,:lag_len]]).T for f in file_names],axis=1)\n",
    "times=np.loadtxt(file_names[0]).T[0,:lag_len]\n",
    "\n",
    "#average=np.sum(data,axis=1)/np.size(data,axis=1)\n",
    "ncores=2\n",
    "sub_len=int(np.ceil(np.shape(data)[0]/ncores))\n",
    "rem=np.shape(data)[0]-sub_len*(ncores-1)\n",
    "ranges=[]\n",
    "for i in range(ncores-1):\n",
    "    ranges.append((sub_len*i,sub_len*(i+1)))\n",
    "ranges.append(((ncores-1)*sub_len,(ncores-1)*sub_len+rem))\n",
    "p=Pool(ncores)\n",
    "average=np.concatenate(p.map(singavg,[data[r[0]:r[1],:] for r in ranges]))\n",
    "with open(os.path.join(avg_path,\"ca.dat\"),'w') as f:\n",
    "    for time,avg in zip(times[:lag_len],average):\n",
    "        #print(time,avg)\n",
    "        f.write(str(time)+\" \"+str(avg)+\"\\n\")#+str(avg[1])+\"\\n\")\"\"\""
   ]
  },
  {
   "cell_type": "code",
   "execution_count": 16,
   "metadata": {},
   "outputs": [
    {
     "name": "stdout",
     "output_type": "stream",
     "text": [
      "(17310,) (17310,)\n"
     ]
    },
    {
     "data": {
      "text/plain": [
       "array([[0.00000000e+00, 7.04600000e+03],\n",
       "       [1.00000000e-04, 7.04588889e+03],\n",
       "       [2.00000000e-04, 7.04655556e+03],\n",
       "       ...,\n",
       "       [1.73070000e+00, 8.60722222e+03],\n",
       "       [1.73080000e+00, 8.60755556e+03],\n",
       "       [1.73090000e+00, 8.60766667e+03]])"
      ]
     },
     "execution_count": 16,
     "metadata": {},
     "output_type": "execute_result"
    }
   ],
   "source": [
    "#averager(\"/data/kabir/output/ppf/brute9/sm500/2/300/\")"
   ]
  },
  {
   "cell_type": "code",
   "execution_count": null,
   "metadata": {},
   "outputs": [],
   "source": []
  }
 ],
 "metadata": {
  "kernelspec": {
   "display_name": "Python 3",
   "language": "python",
   "name": "python3"
  },
  "language_info": {
   "codemirror_mode": {
    "name": "ipython",
    "version": 3
   },
   "file_extension": ".py",
   "mimetype": "text/x-python",
   "name": "python",
   "nbconvert_exporter": "python",
   "pygments_lexer": "ipython3",
   "version": "3.6.5"
  }
 },
 "nbformat": 4,
 "nbformat_minor": 2
}
