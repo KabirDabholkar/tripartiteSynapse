{
 "cells": [
  {
   "cell_type": "code",
   "execution_count": 154,
   "metadata": {},
   "outputs": [],
   "source": [
    "import subprocess\n",
    "from multiprocessing import Pool\n",
    "import os\n",
    "import numpy as np\n",
    "import matplotlib.pyplot as plt\n",
    "from scipy.optimize import curve_fit\n",
    "from scipy.interpolate import spline\n",
    "from scipy.ndimage.filters import gaussian_filter1d\n",
    "from scipy import stats\n",
    "#import statsmodels.api as smdl\n",
    "%run averaging.ipynb\n",
    "%run optimize_slope.ipynb"
   ]
  },
  {
   "cell_type": "code",
   "execution_count": 2,
   "metadata": {},
   "outputs": [],
   "source": [
    "vol_er = (3.9*0.1*0.1)\n",
    "vol_cyt = (4.0*0.5*0.5-vol_er)\n",
    "vol_tot = vol_cyt + vol_er\n",
    "N_avo=6.0221409e23"
   ]
  },
  {
   "cell_type": "code",
   "execution_count": 3,
   "metadata": {},
   "outputs": [],
   "source": [
    "def write_mdl(file_name,outfolder,iterations,ic,sf,sm,serca_frac,write=True):\n",
    "    ftext = \"\"\"sprintf(my_seed,\"%05g\",SEED)\n",
    "\n",
    "    iterations = e3\n",
    "\n",
    "    INCLUDE_FILE = \"../outputLoc.mdl\"\n",
    "    INCLUDE_FILE = \"../initialization.mdl\"\n",
    "    INCLUDE_FILE = \"parameters.mdl\"\n",
    "    /* Modifications in Parameters */\n",
    "        VDCC_number_presynaptic = 40\n",
    "\n",
    "        n_Glu_neuron =  1 //2000\n",
    "        GluT_density_astrocyte = 0.1 //1000\n",
    "\n",
    "        ca_conc_presynaptic_er = e-6     //initial ER conc specified here!!!!!\n",
    "        //ryr_number_presynaptic = 0 //no RYR\n",
    "\n",
    "    f =                                 //SERCA parameter adjustments here!!!!!!!!!!\n",
    "\n",
    "    sm = //multiply all serca parameters\n",
    "\n",
    "    /*Initial SERCA fractions*/\n",
    "    serca_x1_feq = \n",
    "    serca_x1a_feq = \n",
    "    serca_x2_feq = \n",
    "    serca_y1_feq = \n",
    "    serca_y1a_feq = \n",
    "    serca_y2_feq = \n",
    "\n",
    "    INCLUDE_FILE = \"rxn_rate_constants.mdl\"\n",
    "    /* Modifications in Reaction Rate Constants */\n",
    "    //k_PMCA_0_1 = 0\n",
    "    //k_PMCA_0_leak = 0\n",
    "\n",
    "\n",
    "    /* Output Folder */\n",
    "            //isi = \"40\"\n",
    "        sprintf(VDCC, \"%g\", VDCC_number_presynaptic)\n",
    "        sprintf(f_mult, \"%g\", f) \n",
    "        sprintf(s_mult, \"%g\", sm) \n",
    "        sprintf(init_er_conc, \"%g\", ca_conc_presynaptic_er*1e6)   \t\n",
    "        fname = \n",
    "\n",
    "        output_folder = outputLoc & \"ppf/\" & fname & \"/sm\" & s_mult & \"/\" & f_mult & \"/\" & init_er_conc & \"/s_\" & my_seed\n",
    "\n",
    "    /* Rates for P/Q-type Voltage Dependent Calcium Channels */\n",
    "    /* From Bischoffberger et al., 2005, , Biophys. J.*/\n",
    "\n",
    "        k_VDCC_PQ_C01 = 0\n",
    "        k_VDCC_PQ_C12 = 0\n",
    "        k_VDCC_PQ_C23 = 0\n",
    "        k_VDCC_PQ_C34 = 0\n",
    "        k_VDCC_PQ_C43 = 0\n",
    "        k_VDCC_PQ_C32 = 0\n",
    "        k_VDCC_PQ_C21= 0\n",
    "        k_VDCC_PQ_C10 = 0\n",
    "        k_VDCC_PQ_Ca = 0\n",
    "\n",
    "    INCLUDE_FILE = \"triggered_release.inc.mdl\"\n",
    "\n",
    "    INCLUDE_FILE = \"rxn_outputRS.mdl\"\n",
    "    //INCLUDE_FILE = \"viz_output.mdl\"\n",
    "    \"\"\"\n",
    "    ftext=ftext.replace('iterations = ', 'iterations = '+str(iterations))\n",
    "    ftext=ftext.replace('sm = ', 'sm = '+str(sm))\n",
    "    ftext=ftext.replace('ca_conc_presynaptic_er = ', 'ca_conc_presynaptic_er = '+str(ic))\n",
    "    ftext=ftext.replace('f = ','f = '+str(sf))\n",
    "    ftext=ftext.replace('fname = ','fname = '+'\"'+str(outfolder)+'\"')\n",
    "    for i,p in enumerate(['x1','x1a','x2','y2','y1a','y1']):\n",
    "        old=\"serca_\"+p+\"_feq = \"\n",
    "        new=\"serca_\"+p+\"_feq = \"+str(serca_frac[i])\n",
    "        ftext=ftext.replace(old,new)\n",
    "    if write:\n",
    "        with open(file_name,'w') as wfile:\n",
    "            wfile.write(ftext)\n",
    "\n",
    "            "
   ]
  },
  {
   "cell_type": "code",
   "execution_count": 140,
   "metadata": {},
   "outputs": [],
   "source": [
    "%run get_SERCA_equilibrium.ipynb\n",
    "#checking refilling times for 500 sf=2\n",
    "final_conc=500\n",
    "sf=2\n",
    "initial_conc=[100,300,400,450,477,490,495]\n",
    "serca_mult=[3,6,9,12,15]\n",
    "\n",
    "folder=\"/home/kabir/Project/tripartiteSynapse/brute750_8/\"\n",
    "outfolder=\"brute9\"\n",
    "\n",
    "\n",
    "iterations=5000\n",
    "fnames=[]\n",
    "\n",
    "for sm in serca_mult:\n",
    "    for ic in initial_conc:\n",
    "        serca_frac=get_SERCA_equilibrium(ic)\n",
    "        file_name=folder+\"RSnostim_sm\"+str(sm)+\"_ic\"+str(ic)+\"_fc\"+str(final_conc)+\".mdl\"\n",
    "        fnames.append(file_name)\n",
    "        write_mdl(file_name,outfolder,iterations,ic,sf,sm,serca_frac,write=True)\n",
    "        "
   ]
  },
  {
   "cell_type": "code",
   "execution_count": 145,
   "metadata": {},
   "outputs": [],
   "source": [
    "%run get_SERCA_equilibrium.ipynb\n",
    "#checking refilling times for 500 sf=2\n",
    "final_conc=500\n",
    "sf=2\n",
    "initial_conc=[0]\n",
    "serca_mult=[70,100,150]\n",
    "\n",
    "folder=\"/home/kabir/Project/tripartiteSynapse/brute750_8/\"\n",
    "outfolder=\"brute9\"\n",
    "\n",
    "\n",
    "iterations=20000\n",
    "fnames=[]\n",
    "\n",
    "for sm in serca_mult:\n",
    "    for ic in initial_conc:\n",
    "        serca_frac=[1,0,0,0,0,0]\n",
    "        file_name=folder+\"RSnostim_sm\"+str(sm)+\"_ic\"+str(ic)+\"_fc\"+str(final_conc)+\"long.mdl\"\n",
    "        fnames.append(file_name)\n",
    "        write_mdl(file_name,outfolder,iterations,ic,sf,sm,serca_frac,write=True)"
   ]
  },
  {
   "cell_type": "code",
   "execution_count": 25,
   "metadata": {},
   "outputs": [],
   "source": [
    "%run get_SERCA_equilibrium.ipynb\n",
    "#checking refilling times for 500 sf=2\n",
    "final_conc=500\n",
    "sf=2\n",
    "initial_conc=[100,300,450,475,490,500]\n",
    "serca_mult=[100,300,500,700]\n",
    "\n",
    "folder=\"/home/kabir/Project/tripartiteSynapse/brute750_8/\"\n",
    "outfolder=\"brute9\"\n",
    "\n",
    "\n",
    "iterations=5000\n",
    "fnames=[]\n",
    "\n",
    "for sm in serca_mult:\n",
    "    for ic in initial_conc:\n",
    "        serca_frac=get_SERCA_equilibrium(ic)\n",
    "        file_name=folder+\"RSnostim_sm\"+str(sm)+\"_ic\"+str(ic)+\"_fc\"+str(final_conc)+\".mdl\"\n",
    "        fnames.append(file_name)\n",
    "        write_mdl(file_name,outfolder,iterations,ic,sf,sm,serca_frac,write=True)\n",
    "        "
   ]
  },
  {
   "cell_type": "code",
   "execution_count": 39,
   "metadata": {},
   "outputs": [],
   "source": [
    "%run get_SERCA_equilibrium.ipynb\n",
    "#checking refilling times for 500 sf=2, sm=70\n",
    "final_conc=500\n",
    "sf=2\n",
    "initial_conc=[300,450,475,490]\n",
    "serca_mult=[70]\n",
    "\n",
    "folder=\"/home/kabir/Project/tripartiteSynapse/brute750_8/\"\n",
    "outfolder=\"brute9\"\n",
    "\n",
    "\n",
    "iterations=1500\n",
    "fnames=[]\n",
    "\n",
    "for sm in serca_mult:\n",
    "    for ic in initial_conc:\n",
    "        serca_frac=get_SERCA_equilibrium(ic)\n",
    "        file_name=folder+\"RSnostim_sm\"+str(sm)+\"_ic\"+str(ic)+\"_fc\"+str(final_conc)+\".mdl\"\n",
    "        fnames.append(file_name)\n",
    "        write_mdl(file_name,outfolder,iterations,ic,sf,sm,serca_frac,write=True)\n",
    "        "
   ]
  },
  {
   "cell_type": "code",
   "execution_count": 47,
   "metadata": {},
   "outputs": [],
   "source": [
    "#write run.sh\n",
    "with open(folder+'run.sh','w') as f:\n",
    "    for name in fnames:\n",
    "            #f.write(\"sed --i 's/^#PBS -J.*/#PBS -J 1-\"+str(50)+\"/' pbs.py\")\n",
    "            f.write(\"qsub -N \"+name.replace('.mdl','').replace(folder+'RSnostim_','')+\" -v I='\"+name.replace('/kabir/Project/','/subhadra/kabir/')+\"' pbs.py\\n\")\n",
    "            f.write(\"\\n\")"
   ]
  },
  {
   "cell_type": "code",
   "execution_count": 48,
   "metadata": {},
   "outputs": [],
   "source": [
    "#sync script files to cluster\n",
    "p=subprocess.call([\"rsync\",\"-arhP\",folder[:-1],\"subhadra@192.168.1.244:/home/subhadra/kabir/tripartiteSynapse/\"])"
   ]
  },
  {
   "cell_type": "code",
   "execution_count": 103,
   "metadata": {},
   "outputs": [],
   "source": [
    "#sync data back to this system\n",
    "p=subprocess.call([\"rsync\",\"-arhP\",\"subhadra@192.168.1.244:/storage/subhadra/kabir/output/ppf/brute9\",\"/data/kabir/output/ppf/\"])"
   ]
  },
  {
   "cell_type": "code",
   "execution_count": 4,
   "metadata": {},
   "outputs": [],
   "source": [
    "#average 500 for f\n",
    "ic=500\n",
    "\n",
    "initial_conc=[100,300,400,450,477,490,495]\n",
    "serca_mult=[3,6,9,12,15]\n",
    "sf=2\n",
    "\n",
    "for sm in serca_mult:\n",
    "    for ic in initial_conc:\n",
    "        averager(\"/data/kabir/output/ppf/brute9/sm\"+str(sm)+\"/\"+str(sf)+\"/\"+str(ic)+\"/\")\n",
    "        \n",
    "#load data 500\n",
    "data={}\n",
    "for sm in serca_mult:\n",
    "    data[sm]={}\n",
    "    for ic in initial_conc:\n",
    "        data_file='/data/kabir/output/ppf/brute9/sm'+str(sm)+\"/\"+str(sf)+'/'+str(ic)+'/Average/ca.dat'\n",
    "        #print data_file\n",
    "        data[sm][ic]=np.loadtxt(data_file)\n",
    "        data[sm][ic].T[1]*=1e15/N_avo/vol_er*1e6 #micromolar"
   ]
  },
  {
   "cell_type": "code",
   "execution_count": 125,
   "metadata": {},
   "outputs": [],
   "source": [
    "#average 750 for f\n",
    "ic=750\n",
    "\n",
    "serca_mult=[3,6,9,12,15]\n",
    "serca_f=[3]\n",
    "\n",
    "#serca_mult=[1]#[3,6,9,12,15]#[1]\n",
    "#serca_f=[2,2.2,2.4,2.6,2.8,2.9,3,3.1,3.2,3.4,3.6,3.8,4]\n",
    "\n",
    "for sm in serca_mult:\n",
    "    for sf in serca_f:\n",
    "        averager(\"/data/kabir/output/ppf/brute9/sm\"+str(sm)+\"/\"+str(sf)+\"/\"+str(ic)+\"/\")\n",
    "        \n",
    "#load data 750\n",
    "data={}\n",
    "ic=750\n",
    "for sm in serca_mult:\n",
    "    data[sm]={}\n",
    "    for sf in serca_f:\n",
    "        data_file='/data/kabir/output/ppf/brute8/sm'+str(sm)+\"/\"+str(sf)+'/'+str(ic)+'/Average/ca.dat'\n",
    "        #print data_file\n",
    "        data[sm][sf]=np.loadtxt(data_file)\n",
    "        data[sm][sf].T[1]*=1e15/N_avo/vol_er*1e6 #micromolar \"\"\""
   ]
  },
  {
   "cell_type": "code",
   "execution_count": 122,
   "metadata": {},
   "outputs": [],
   "source": [
    "%run averaging.ipynb\n",
    "#checking refilling times for 500 sf=2\n",
    "final_conc=500\n",
    "sf=2\n",
    "initial_conc=[300,450,475,490]\n",
    "serca_mult=[70]\n",
    "data_locs=[]\n",
    "for sm in serca_mult:\n",
    "    for ic in initial_conc:\n",
    "        #averager(\"/data/kabir/output/ppf/brute9/sm\"+str(sm)+\"/\"+str(sf)+\"/\"+str(ic)+\"/\")\n",
    "        data_locs.append(\"/data/kabir/output/ppf/brute9/sm\"+str(sm)+\"/\"+str(sf)+\"/\"+str(ic)+\"/\")\n",
    "p=Pool(7)\n",
    "data_list=p.map(averager,data_locs)\n",
    "sm_len=len(serca_mult)\n",
    "ic_len=len(initial_conc)"
   ]
  },
  {
   "cell_type": "code",
   "execution_count": 123,
   "metadata": {},
   "outputs": [],
   "source": [
    "\"\"\"data={}\n",
    "for i,sm in enumerate(serca_mult):\n",
    "    data[sm]={}\n",
    "    for j,ic in enumerate(initial_conc):\n",
    "        #print('i=',i,'j=',j)\n",
    "        #print(i*sm_len+j)\n",
    "        data[sm][ic]=data_list[i*sm_len+j]\n",
    "        #data[sm][ic].T[1]*=1e15/N_avo/vol_er*1e6\"\"\"\n",
    "#load data 500\n",
    "data={}\n",
    "for sm in serca_mult:\n",
    "    data[sm]={}\n",
    "    for ic in initial_conc:\n",
    "        data_file='/data/kabir/output/ppf/brute9/sm'+str(sm)+\"/\"+str(sf)+'/'+str(ic)+'/Average/ca.dat'\n",
    "        #print data_file\n",
    "        data[sm][ic]=np.loadtxt(data_file)\n",
    "        data[sm][ic].T[1]*=1e15/N_avo/vol_er*1e6 #micromolar"
   ]
  },
  {
   "cell_type": "code",
   "execution_count": 124,
   "metadata": {},
   "outputs": [
    {
     "name": "stdout",
     "output_type": "stream",
     "text": [
      "Slope =  24.87530499964691  Conc =  319.07145972236697\n",
      "Slope =  4.9279868925182395  Conc =  453.6343486195493\n",
      "Slope =  2.129347548781608  Conc =  476.74096955806186\n",
      "Slope =  1.2058793068668718  Conc =  490.97049973910384\n"
     ]
    },
    {
     "data": {
      "text/plain": [
       "(475, 480)"
      ]
     },
     "execution_count": 124,
     "metadata": {},
     "output_type": "execute_result"
    },
    {
     "data": {
      "image/png": "[encoded data removed]",
      "text/plain": [
       "<matplotlib.figure.Figure at 0x7fd495413748>"
      ]
     },
     "metadata": {},
     "output_type": "display_data"
    }
   ],
   "source": [
    "#plot sf=2, sm= for different ic\n",
    "\n",
    "color=[\"#0074D9\", \"#FF851B\", \"#EE2255\", \"#001f3f\", \"#85144b\", \"#39CCCC\", \"#FFDC00\",\n",
    "       \"#2ECC40\", \"#7FDBFF\", \"#B10DC9\", \"#3D9970\", \"#AAAAAA\", \"#000000\"]\n",
    "sf=2\n",
    "sm=70\n",
    "#ic=300\n",
    "more_slope_conc={'slope':[],'conc':[]}\n",
    "plt.figure(figsize=(10,6))\n",
    "for i,ic in enumerate(initial_conc):\n",
    "    ydata=data[sm][ic].T[1]\n",
    "    xdata=data[sm][ic].T[0]\n",
    "    #ydata = gaussian_filter1d(ydata, sigma=300)\n",
    "    plt.plot(xdata,ydata,color=color[i],label='ic='+str(ic))\n",
    "    slope,conc=eval_slope_conc(0.75,xdata,ydata,0.70)\n",
    "    print(\"Slope = \",slope,\" Conc = \",conc)\n",
    "    more_slope_conc['slope'].append(slope)\n",
    "    more_slope_conc['conc'].append(conc)\n",
    "\n",
    "for key in more_slope_conc.keys():\n",
    "    more_slope_conc[key]=np.array(more_slope_conc[key])\n",
    "    \n",
    "plt.legend()\n",
    "plt.ylim((475,480))    \n",
    "#plt.xlim((0.25,0.75))\n",
    "#plt.savefig('/home/kabir/Project/plots/brute6/new_sf_750.eps')#\"\"\"\n",
    "#plt.savefig('/home/kabir/Project/midsemreport_spring2019/new_sm.eps')\n"
   ]
  },
  {
   "cell_type": "code",
   "execution_count": 56,
   "metadata": {},
   "outputs": [],
   "source": [
    "def eval_tau_at_time(t,xdata,ydata,A,range):\n",
    "    tstep=xdata[1]-xdata[0]\n",
    "    delta_t=range\n",
    "    lower,upper=int(max(0,(t-delta_t)/tstep)),int(min(len(xdata),(t+delta_t)/tstep))\n",
    "    a, b, r_value, p_value, std_err= stats.linregress(xdata[lower:upper],ydata[lower:upper])\n",
    "    conc=a*t+b\n",
    "    tau=(A-conc)/a\n",
    "    #print('conc=',conc,'tau=',tau,'error=',std_err)\n",
    "    return a,b,tau"
   ]
  },
  {
   "cell_type": "code",
   "execution_count": 138,
   "metadata": {},
   "outputs": [
    {
     "name": "stdout",
     "output_type": "stream",
     "text": [
      "sm= 100\n",
      "sm= 300\n",
      "sm= 500\n",
      "sm= 700\n"
     ]
    },
    {
     "data": {
      "text/plain": [
       "[<matplotlib.lines.Line2D at 0x7fed7da4e160>]"
      ]
     },
     "execution_count": 138,
     "metadata": {},
     "output_type": "execute_result"
    },
    {
     "data": {
      "image/png": "[encoded data removed]",
      "text/plain": [
       "<matplotlib.figure.Figure at 0x7fed7db0cba8>"
      ]
     },
     "metadata": {},
     "output_type": "display_data"
    },
    {
     "data": {
      "image/png": "[encoded data removed]",
      "text/plain": [
       "<matplotlib.figure.Figure at 0x7fed7db0ce10>"
      ]
     },
     "metadata": {},
     "output_type": "display_data"
    }
   ],
   "source": [
    "serca_mult=[100,300,500,700]\n",
    "\n",
    "ic = 300\n",
    "taus=[]\n",
    "for sm in serca_mult:\n",
    "    ydata=data[sm][ic].T[1]\n",
    "    xdata=data[sm][ic].T[0]\n",
    "    print('sm=',sm)\n",
    "    tau_i=[]\n",
    "#    eval_tau_at_time(1,xdata,ydata,500)\n",
    "    for t in np.linspace(0.25,1.75,200): \n",
    "        slope,intercept,tau=eval_tau_at_time(t,xdata,ydata,500)\n",
    "        tau_i.append(tau)\n",
    "    plt.plot(np.linspace(0.25,1.75,200),tau_i)\n",
    "    taus.append(np.average(tau))\n",
    "    \n",
    "plt.figure(figsize=(10,6))\n",
    "plt.plot(serca_mult,taus)"
   ]
  },
  {
   "cell_type": "code",
   "execution_count": null,
   "metadata": {},
   "outputs": [],
   "source": []
  },
  {
   "cell_type": "code",
   "execution_count": 14,
   "metadata": {},
   "outputs": [
    {
     "ename": "UnboundLocalError",
     "evalue": "local variable 'i' referenced before assignment",
     "output_type": "error",
     "traceback": [
      "\u001b[0;31m-------------------------------------------------------\u001b[0m",
      "\u001b[0;31mRemoteTraceback\u001b[0m       Traceback (most recent call last)",
      "\u001b[0;31mRemoteTraceback\u001b[0m: \n\"\"\"\nTraceback (most recent call last):\n  File \"/usr/lib/python3.6/multiprocessing/pool.py\", line 119, in worker\n    result = (True, func(*args, **kwds))\n  File \"/usr/lib/python3.6/multiprocessing/pool.py\", line 44, in mapstar\n    return list(map(*args))\n  File \"<ipython-input-5-ad9c734fb35a>\", line 27, in averager\n    lag_len=min([file_len(f) for f in file_names])-1\n  File \"<ipython-input-5-ad9c734fb35a>\", line 27, in <listcomp>\n    lag_len=min([file_len(f) for f in file_names])-1\n  File \"<ipython-input-5-ad9c734fb35a>\", line 5, in file_len\n    return i + 1\nUnboundLocalError: local variable 'i' referenced before assignment\n\"\"\"",
      "\nThe above exception was the direct cause of the following exception:\n",
      "\u001b[0;31mUnboundLocalError\u001b[0m     Traceback (most recent call last)",
      "\u001b[0;32m<ipython-input-14-c8abb4be618e>\u001b[0m in \u001b[0;36m<module>\u001b[0;34m()\u001b[0m\n\u001b[1;32m     15\u001b[0m         \u001b[0mdata_locs\u001b[0m\u001b[0;34m.\u001b[0m\u001b[0mappend\u001b[0m\u001b[0;34m(\u001b[0m\u001b[0;34m\"/data/kabir/output/ppf/brute9/sm\"\u001b[0m\u001b[0;34m+\u001b[0m\u001b[0mstr\u001b[0m\u001b[0;34m(\u001b[0m\u001b[0msm\u001b[0m\u001b[0;34m)\u001b[0m\u001b[0;34m+\u001b[0m\u001b[0;34m\"/\"\u001b[0m\u001b[0;34m+\u001b[0m\u001b[0mstr\u001b[0m\u001b[0;34m(\u001b[0m\u001b[0msf\u001b[0m\u001b[0;34m)\u001b[0m\u001b[0;34m+\u001b[0m\u001b[0;34m\"/\"\u001b[0m\u001b[0;34m+\u001b[0m\u001b[0mstr\u001b[0m\u001b[0;34m(\u001b[0m\u001b[0mic\u001b[0m\u001b[0;34m)\u001b[0m\u001b[0;34m+\u001b[0m\u001b[0;34m\"/\"\u001b[0m\u001b[0;34m)\u001b[0m\u001b[0;34m\u001b[0m\u001b[0m\n\u001b[1;32m     16\u001b[0m \u001b[0mp\u001b[0m\u001b[0;34m=\u001b[0m\u001b[0mPool\u001b[0m\u001b[0;34m(\u001b[0m\u001b[0;36m7\u001b[0m\u001b[0;34m)\u001b[0m\u001b[0;34m\u001b[0m\u001b[0m\n\u001b[0;32m---> 17\u001b[0;31m \u001b[0mdata_list\u001b[0m\u001b[0;34m=\u001b[0m\u001b[0mp\u001b[0m\u001b[0;34m.\u001b[0m\u001b[0mmap\u001b[0m\u001b[0;34m(\u001b[0m\u001b[0maverager\u001b[0m\u001b[0;34m,\u001b[0m\u001b[0mdata_locs\u001b[0m\u001b[0;34m)\u001b[0m\u001b[0;34m\u001b[0m\u001b[0m\n\u001b[0m\u001b[1;32m     18\u001b[0m \u001b[0msm_len\u001b[0m\u001b[0;34m=\u001b[0m\u001b[0mlen\u001b[0m\u001b[0;34m(\u001b[0m\u001b[0mserca_mult\u001b[0m\u001b[0;34m)\u001b[0m\u001b[0;34m\u001b[0m\u001b[0m\n\u001b[1;32m     19\u001b[0m \u001b[0mic_len\u001b[0m\u001b[0;34m=\u001b[0m\u001b[0mlen\u001b[0m\u001b[0;34m(\u001b[0m\u001b[0minitial_conc\u001b[0m\u001b[0;34m)\u001b[0m\u001b[0;34m\u001b[0m\u001b[0m\n",
      "\u001b[0;32m/usr/lib/python3.6/multiprocessing/pool.py\u001b[0m in \u001b[0;36mmap\u001b[0;34m(self, func, iterable, chunksize)\u001b[0m\n\u001b[1;32m    264\u001b[0m         \u001b[0;32min\u001b[0m \u001b[0ma\u001b[0m \u001b[0mlist\u001b[0m \u001b[0mthat\u001b[0m \u001b[0;32mis\u001b[0m \u001b[0mreturned\u001b[0m\u001b[0;34m.\u001b[0m\u001b[0;34m\u001b[0m\u001b[0m\n\u001b[1;32m    265\u001b[0m         '''\n\u001b[0;32m--> 266\u001b[0;31m         \u001b[0;32mreturn\u001b[0m \u001b[0mself\u001b[0m\u001b[0;34m.\u001b[0m\u001b[0m_map_async\u001b[0m\u001b[0;34m(\u001b[0m\u001b[0mfunc\u001b[0m\u001b[0;34m,\u001b[0m \u001b[0miterable\u001b[0m\u001b[0;34m,\u001b[0m \u001b[0mmapstar\u001b[0m\u001b[0;34m,\u001b[0m \u001b[0mchunksize\u001b[0m\u001b[0;34m)\u001b[0m\u001b[0;34m.\u001b[0m\u001b[0mget\u001b[0m\u001b[0;34m(\u001b[0m\u001b[0;34m)\u001b[0m\u001b[0;34m\u001b[0m\u001b[0m\n\u001b[0m\u001b[1;32m    267\u001b[0m \u001b[0;34m\u001b[0m\u001b[0m\n\u001b[1;32m    268\u001b[0m     \u001b[0;32mdef\u001b[0m \u001b[0mstarmap\u001b[0m\u001b[0;34m(\u001b[0m\u001b[0mself\u001b[0m\u001b[0;34m,\u001b[0m \u001b[0mfunc\u001b[0m\u001b[0;34m,\u001b[0m \u001b[0miterable\u001b[0m\u001b[0;34m,\u001b[0m \u001b[0mchunksize\u001b[0m\u001b[0;34m=\u001b[0m\u001b[0;32mNone\u001b[0m\u001b[0;34m)\u001b[0m\u001b[0;34m:\u001b[0m\u001b[0;34m\u001b[0m\u001b[0m\n",
      "\u001b[0;32m/usr/lib/python3.6/multiprocessing/pool.py\u001b[0m in \u001b[0;36mget\u001b[0;34m(self, timeout)\u001b[0m\n\u001b[1;32m    642\u001b[0m             \u001b[0;32mreturn\u001b[0m \u001b[0mself\u001b[0m\u001b[0;34m.\u001b[0m\u001b[0m_value\u001b[0m\u001b[0;34m\u001b[0m\u001b[0m\n\u001b[1;32m    643\u001b[0m         \u001b[0;32melse\u001b[0m\u001b[0;34m:\u001b[0m\u001b[0;34m\u001b[0m\u001b[0m\n\u001b[0;32m--> 644\u001b[0;31m             \u001b[0;32mraise\u001b[0m \u001b[0mself\u001b[0m\u001b[0;34m.\u001b[0m\u001b[0m_value\u001b[0m\u001b[0;34m\u001b[0m\u001b[0m\n\u001b[0m\u001b[1;32m    645\u001b[0m \u001b[0;34m\u001b[0m\u001b[0m\n\u001b[1;32m    646\u001b[0m     \u001b[0;32mdef\u001b[0m \u001b[0m_set\u001b[0m\u001b[0;34m(\u001b[0m\u001b[0mself\u001b[0m\u001b[0;34m,\u001b[0m \u001b[0mi\u001b[0m\u001b[0;34m,\u001b[0m \u001b[0mobj\u001b[0m\u001b[0;34m)\u001b[0m\u001b[0;34m:\u001b[0m\u001b[0;34m\u001b[0m\u001b[0m\n",
      "\u001b[0;31mUnboundLocalError\u001b[0m: local variable 'i' referenced before assignment"
     ]
    }
   ],
   "source": [
    "#average,full refilling\n",
    "initial_conc=[0]\n",
    "\n",
    "serca_mult=[70,100,150]\n",
    "serca_f=[2]\n",
    "sf=serca_f[0]\n",
    "\n",
    "#serca_mult=[1]#[3,6,9,12,15]#[1]\n",
    "#serca_f=[2,2.2,2.4,2.6,2.8,2.9,3,3.1,3.2,3.4,3.6,3.8,4]\n",
    "\n",
    "data_locs=[]\n",
    "for sm in serca_mult:\n",
    "    for ic in initial_conc:\n",
    "        #averager(\"/data/kabir/output/ppf/brute9/sm\"+str(sm)+\"/\"+str(sf)+\"/\"+str(ic)+\"/\")\n",
    "        data_locs.append(\"/data/kabir/output/ppf/brute9/sm\"+str(sm)+\"/\"+str(sf)+\"/\"+str(ic)+\"/\")\n",
    "p=Pool(7)\n",
    "data_list=p.map(averager,data_locs)\n",
    "sm_len=len(serca_mult)\n",
    "ic_len=len(initial_conc)"
   ]
  },
  {
   "cell_type": "code",
   "execution_count": 125,
   "metadata": {},
   "outputs": [],
   "source": [
    "#load data, full refilling\n",
    "data={}\n",
    "initial_conc=[0]\n",
    "\n",
    "serca_mult=[70,100,150]\n",
    "serca_f=[2]\n",
    "sf=serca_f[0]\n",
    "seed={70:8,100:4,150:2}\n",
    "for sm in serca_mult:\n",
    "    data[sm]={}\n",
    "    for ic in initial_conc:\n",
    "        data_file='/data/kabir/output/ppf/brute9/sm'+str(sm)+\"/\"+str(sf)+'/'+str(ic)+'/s_0000'+str(seed[sm])+'/dat/ca.dat'\n",
    "        #print data_file\n",
    "        data[sm][ic]=np.loadtxt(data_file)\n",
    "        data[sm][ic].T[3]*=1e15/N_avo/vol_er*1e6 #micromolar"
   ]
  },
  {
   "cell_type": "code",
   "execution_count": 51,
   "metadata": {},
   "outputs": [],
   "source": [
    "def exp_fit(x,c,tau):\n",
    "    A=500\n",
    "    return A*(1-np.exp(-(x-c)/tau))"
   ]
  },
  {
   "cell_type": "code",
   "execution_count": 88,
   "metadata": {},
   "outputs": [],
   "source": [
    "def eval_slope_conc(t,xdata,ydata,range):\n",
    "    tstep=xdata[1]-xdata[0]\n",
    "    delta_t=range\n",
    "    lower,upper=int(max(0,(t-delta_t)/tstep)),int(min(len(xdata),(t+delta_t)/tstep))\n",
    "    a, b, r_value, p_value, std_err= stats.linregress(xdata[lower:upper],ydata[lower:upper])\n",
    "    conc=a*t+b\n",
    "\n",
    "    #print('conc=',conc,'tau=',tau,'error=',std_err)\n",
    "    return a,conc"
   ]
  },
  {
   "cell_type": "code",
   "execution_count": 173,
   "metadata": {},
   "outputs": [
    {
     "name": "stdout",
     "output_type": "stream",
     "text": [
      "a= 0.3842133105762622 \n",
      "b= -65.432415126828\n",
      "[ 8.56400156e-07 -1.07825697e-04  1.28255652e-01 -4.63507474e-01]\n"
     ]
    },
    {
     "name": "stderr",
     "output_type": "stream",
     "text": [
      "/usr/lib/python3/dist-packages/ipykernel_launcher.py:40: DeprecationWarning: `spline` is deprecated!\n",
      "spline is deprecated in scipy 0.19.0, use Bspline class instead.\n"
     ]
    },
    {
     "data": {
      "image/png": "[encoded data removed]",
      "text/plain": [
       "<matplotlib.figure.Figure at 0x7fd495188e10>"
      ]
     },
     "metadata": {},
     "output_type": "display_data"
    },
    {
     "data": {
      "image/png": "[encoded data removed]",
      "text/plain": [
       "<matplotlib.figure.Figure at 0x7fd48973c8d0>"
      ]
     },
     "metadata": {},
     "output_type": "display_data"
    }
   ],
   "source": [
    "color=[\"#0074D9\", \"#FF851B\", \"#EE2255\", \"#001f3f\", \"#85144b\", \"#39CCCC\", \"#FFDC00\",\n",
    "       \"#2ECC40\", \"#7FDBFF\", \"#B10DC9\", \"#3D9970\", \"#AAAAAA\", \"#000000\"]\n",
    "\n",
    "ic=0\n",
    "plt.figure(figsize=(10,6))\n",
    "for i,sm in enumerate([70]):\n",
    "    ydata=data[sm][ic].T[3]\n",
    "    xdata=data[sm][ic].T[0]\n",
    "    popt,pcov=curve_fit(exp_fit,xdata,ydata,p0=[0,5])\n",
    "    plt.plot(xdata,exp_fit(xdata,*popt))\n",
    "    plt.plot(xdata,ydata,color=color[i%12],label='sm = '+str(sm), alpha=0.7)\n",
    "plt.legend()\n",
    "\n",
    "plt.figure(figsize=(10,6))\n",
    "for sm in [70]:\n",
    "    slope_conc_data={'slope':[],'conc':[]}\n",
    "    ydata=data[sm][ic].T[3]\n",
    "    xdata=data[sm][ic].T[0]\n",
    "    times=[1,1.5,2,2.5]\n",
    "    for t in times: \n",
    "        slope,conc=eval_slope_conc(t,xdata,ydata,1)\n",
    "        slope_conc_data['slope'].append(slope)\n",
    "        slope_conc_data['conc'].append(conc)\n",
    "    for key in slope_conc_data.keys():\n",
    "        slope_conc_data[key]=np.array(slope_conc_data[key])\n",
    "    xdata,ydata=500-slope_conc_data['conc'],slope_conc_data['slope']\n",
    "    #plt.plot(xdata,ydata,'ro')\n",
    "    a, b, r_value, p_value, std_err= stats.linregress(xdata,ydata)\n",
    "    print('a=',a,'\\nb=',b)\n",
    "xdata=500-np.concatenate((slope_conc_data['conc'],more_slope_conc['conc']))\n",
    "ydata=np.concatenate((slope_conc_data['slope'],more_slope_conc['slope']))\n",
    "plt.plot(xdata,ydata,'ro',label=\"Data for sm=70\")\n",
    "\n",
    "def poly(x,A,B,C,D):\n",
    "    return A*x**3+B*x**2+C*x+D\n",
    "    #return x**A+B\n",
    "\n",
    "popt,pcov=curve_fit(poly,xdata,ydata)\n",
    "x=np.linspace(0,500,100)\n",
    "y=spline(xdata, ydata, x, order=3, kind='smoothest')\n",
    "plt.plot(x,poly(x,*popt),label=\"Cubic polynomial: [A B C D]=\"+str(popt))\n",
    "print(popt)\n",
    "#plt.xlim(())\n",
    "plt.title(\"Slope vs 500-C for sm=70, sf=2\")\n",
    "plt.legend()\n",
    "plt.xlabel(\"A-conc\")\n",
    "plt.ylabel(\"dC/dt\")\n",
    "plt.savefig('/home/kabir/Project/plots/brute6/slope_conc_sm70.eps')\n",
    "\n",
    "\n"
   ]
  },
  {
   "cell_type": "code",
   "execution_count": null,
   "metadata": {},
   "outputs": [],
   "source": [
    "def max_file_len(data_loc):\n",
    "    seed_folders=os.listdir(data_loc)\n",
    "    seed_folders.remove(\"Average\")\n",
    "    print(seed_folders)\n",
    "    for s in seed_folders:\n",
    "        file_name=os.path.join(data_loc,os.path.join(s+'/dat/ca.dat'))\n",
    "        print(s,file_len(file_name))"
   ]
  },
  {
   "cell_type": "code",
   "execution_count": null,
   "metadata": {},
   "outputs": [],
   "source": [
    "def file_len(fname):\n",
    "    i=-1\n",
    "    with open(fname) as f:\n",
    "        for i, l in enumerate(f):\n",
    "            pass\n",
    "    return i + 1"
   ]
  },
  {
   "cell_type": "code",
   "execution_count": null,
   "metadata": {},
   "outputs": [],
   "source": [
    "max_file_len(\"/data/kabir/output/ppf/brute9/sm70/2/0/\")"
   ]
  },
  {
   "cell_type": "code",
   "execution_count": 101,
   "metadata": {},
   "outputs": [
    {
     "name": "stdout",
     "output_type": "stream",
     "text": [
      "SERCA influx = 1.166305972541332e-21 Ca2+ ions per sec\n",
      "Leak number = 868.0785075\n",
      "k_leak = 5.3741958242933774e-21\n"
     ]
    }
   ],
   "source": [
    "a= 0.3901029977136642 \n",
    "b= -67.62046808120242\n",
    "\n",
    "serca_conc_tot = 15e-6\n",
    "serca_number_presynaptic=serca_conc_tot*vol_cyt/(1e15/6.02205e23)\n",
    "leak_number=serca_number_presynaptic/10\n",
    "\n",
    "ER_conc_rate=a*250+b #in micromolar per sec\n",
    "serca_flux=ER_conc_rate*1e-6*vol_er*1e-18*1e3#moles per sec *N_avo\n",
    "k_leak=serca_flux/leak_number/250e-6\n",
    "print(\"SERCA influx =\",serca_flux,\"Ca2+ ions per sec\")\n",
    "print(\"Leak number =\",leak_number)\n",
    "print(\"k_leak =\",k_leak)"
   ]
  },
  {
   "cell_type": "code",
   "execution_count": 140,
   "metadata": {},
   "outputs": [
    {
     "data": {
      "text/plain": [
       "array([1, 2, 3, 4, 5, 6])"
      ]
     },
     "execution_count": 140,
     "metadata": {},
     "output_type": "execute_result"
    }
   ],
   "source": [
    "a=np.array([1,2,3])\n",
    "b=np.array([4,5,6])\n",
    "np.concatenate((a,b))"
   ]
  },
  {
   "cell_type": "code",
   "execution_count": 168,
   "metadata": {},
   "outputs": [
    {
     "data": {
      "text/plain": [
       "'[ 8.56400156e-07 -1.07825697e-04  1.28255652e-01 -4.63507474e-01]'"
      ]
     },
     "execution_count": 168,
     "metadata": {},
     "output_type": "execute_result"
    }
   ],
   "source": [
    "str(popt)"
   ]
  },
  {
   "cell_type": "code",
   "execution_count": null,
   "metadata": {},
   "outputs": [],
   "source": []
  }
 ],
 "metadata": {
  "kernelspec": {
   "display_name": "Python 3",
   "language": "python",
   "name": "python3"
  },
  "language_info": {
   "codemirror_mode": {
    "name": "ipython",
    "version": 3
   },
   "file_extension": ".py",
   "mimetype": "text/x-python",
   "name": "python",
   "nbconvert_exporter": "python",
   "pygments_lexer": "ipython3",
   "version": "3.6.7"
  }
 },
 "nbformat": 4,
 "nbformat_minor": 2
}
