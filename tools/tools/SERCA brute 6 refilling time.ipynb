{
 "cells": [
  {
   "cell_type": "code",
   "execution_count": 22,
   "metadata": {},
   "outputs": [],
   "source": [
    "import subprocess\n",
    "#from multiprocessing import Pool\n",
    "import os\n",
    "import numpy as np\n",
    "import matplotlib.pyplot as plt\n",
    "from scipy.optimize import curve_fit\n",
    "%run averaging.ipynb\n",
    "%run optimize_slope.ipynb"
   ]
  },
  {
   "cell_type": "code",
   "execution_count": 23,
   "metadata": {},
   "outputs": [],
   "source": [
    "vol_er = (3.9*0.1*0.1)\n",
    "vol_cyt = (4.0*0.5*0.5-vol_er)\n",
    "vol_tot = vol_cyt + vol_er\n",
    "N_avo=6.0221409e23"
   ]
  },
  {
   "cell_type": "code",
   "execution_count": 24,
   "metadata": {},
   "outputs": [],
   "source": [
    "def write_mdl(file_name,outfolder,iterations,ic,sf,sm,serca_frac,write=True):\n",
    "    ftext = \"\"\"sprintf(my_seed,\"%05g\",SEED)\n",
    "\n",
    "    iterations = e3\n",
    "\n",
    "    INCLUDE_FILE = \"../outputLoc.mdl\"\n",
    "    INCLUDE_FILE = \"../initialization.mdl\"\n",
    "    INCLUDE_FILE = \"parameters.mdl\"\n",
    "    /* Modifications in Parameters */\n",
    "        VDCC_number_presynaptic = 40\n",
    "\n",
    "        n_Glu_neuron =  1 //2000\n",
    "        GluT_density_astrocyte = 0.1 //1000\n",
    "\n",
    "        ca_conc_presynaptic_er = e-6     //initial ER conc specified here!!!!!\n",
    "        //ryr_number_presynaptic = 0 //no RYR\n",
    "\n",
    "    f =                                 //SERCA parameter adjustments here!!!!!!!!!!\n",
    "\n",
    "    sm = //multiply all serca parameters\n",
    "\n",
    "    /*Initial SERCA fractions*/\n",
    "    serca_x1_feq = \n",
    "    serca_x1a_feq = \n",
    "    serca_x2_feq = \n",
    "    serca_y1_feq = \n",
    "    serca_y1a_feq = \n",
    "    serca_y2_feq = \n",
    "\n",
    "    INCLUDE_FILE = \"rxn_rate_constants.mdl\"\n",
    "    /* Modifications in Reaction Rate Constants */\n",
    "    //k_PMCA_0_1 = 0\n",
    "    //k_PMCA_0_leak = 0\n",
    "\n",
    "\n",
    "    /* Output Folder */\n",
    "            //isi = \"40\"\n",
    "        sprintf(VDCC, \"%g\", VDCC_number_presynaptic)\n",
    "        sprintf(f_mult, \"%g\", f) \n",
    "        sprintf(s_mult, \"%g\", sm) \n",
    "        sprintf(init_er_conc, \"%g\", ca_conc_presynaptic_er*1e6)   \t\n",
    "        fname = \n",
    "\n",
    "        output_folder = outputLoc & \"ppf/\" & fname & \"/sm\" & s_mult & \"/\" & f_mult & \"/\" & init_er_conc & \"/s_\" & my_seed\n",
    "\n",
    "    /* Rates for P/Q-type Voltage Dependent Calcium Channels */\n",
    "    /* From Bischoffberger et al., 2005, , Biophys. J.*/\n",
    "\n",
    "        k_VDCC_PQ_C01 = 0\n",
    "        k_VDCC_PQ_C12 = 0\n",
    "        k_VDCC_PQ_C23 = 0\n",
    "        k_VDCC_PQ_C34 = 0\n",
    "        k_VDCC_PQ_C43 = 0\n",
    "        k_VDCC_PQ_C32 = 0\n",
    "        k_VDCC_PQ_C21= 0\n",
    "        k_VDCC_PQ_C10 = 0\n",
    "        k_VDCC_PQ_Ca = 0\n",
    "\n",
    "    INCLUDE_FILE = \"triggered_release.inc.mdl\"\n",
    "\n",
    "    INCLUDE_FILE = \"rxn_outputRS.mdl\"\n",
    "    //INCLUDE_FILE = \"viz_output.mdl\"\n",
    "    \"\"\"\n",
    "    ftext=ftext.replace('iterations = ', 'iterations = '+str(iterations))\n",
    "    ftext=ftext.replace('sm = ', 'sm = '+str(sm))\n",
    "    ftext=ftext.replace('ca_conc_presynaptic_er = ', 'ca_conc_presynaptic_er = '+str(ic))\n",
    "    ftext=ftext.replace('f = ','f = '+str(sf))\n",
    "    ftext=ftext.replace('fname = ','fname = '+'\"'+str(outfolder)+'\"')\n",
    "    for i,p in enumerate(['x1','x1a','x2','y2','y1a','y1']):\n",
    "        old=\"serca_\"+p+\"_feq = \"\n",
    "        new=\"serca_\"+p+\"_feq = \"+str(serca_frac[i])\n",
    "        ftext=ftext.replace(old,new)\n",
    "    if write:\n",
    "        with open(file_name,'w') as wfile:\n",
    "            wfile.write(ftext)\n",
    "\n",
    "            "
   ]
  },
  {
   "cell_type": "code",
   "execution_count": 17,
   "metadata": {},
   "outputs": [],
   "source": [
    "%run get_SERCA_equilibrium.ipynb\n",
    "#checking refilling times for 500 sf=2\n",
    "final_conc=500\n",
    "sf=2\n",
    "initial_conc=[100,300,400,450,477,490,495]\n",
    "serca_mult=[3,6,9,12,15]\n",
    "\n",
    "folder=\"/home/kabir/Project/tripartiteSynapse/brute750_8/\"\n",
    "outfolder=\"brute9\"\n",
    "\n",
    "\n",
    "iterations=5000\n",
    "fnames=[]\n",
    "\n",
    "for sm in serca_mult:\n",
    "    for ic in initial_conc:\n",
    "        serca_frac=get_SERCA_equilibrium(ic)\n",
    "        file_name=folder+\"RSnostim_sm\"+str(sm)+\"_ic\"+str(ic)+\"_fc\"+str(final_conc)+\".mdl\"\n",
    "        fnames.append(file_name)\n",
    "        write_mdl(file_name,outfolder,iterations,ic,sf,sm,serca_frac,write=True)\n",
    "        "
   ]
  },
  {
   "cell_type": "code",
   "execution_count": 18,
   "metadata": {},
   "outputs": [],
   "source": [
    "#write run.sh\n",
    "with open(folder+'run.sh','w') as f:\n",
    "    for name in fnames:\n",
    "            f.write(\"qsub -N \"+name.replace('.mdl','').replace(folder,'')+\" -v I='\"+name.replace('/kabir/Project/','/subhadra/kabir/')+\"' pbs.py\\n\")"
   ]
  },
  {
   "cell_type": "code",
   "execution_count": 19,
   "metadata": {},
   "outputs": [],
   "source": [
    "#sync script files to cluster\n",
    "p=subprocess.call([\"rsync\",\"-arhP\",folder[:-1],\"subhadra@192.168.1.244:/home/subhadra/kabir/tripartiteSynapse/\"])"
   ]
  },
  {
   "cell_type": "code",
   "execution_count": 20,
   "metadata": {},
   "outputs": [],
   "source": [
    "#sync data back to this system\n",
    "p=subprocess.call([\"rsync\",\"-arhP\",\"subhadra@192.168.1.244:/storage/subhadra/kabir/output/ppf/brute9\",\"/data/kabir/output/ppf/\"])"
   ]
  },
  {
   "cell_type": "code",
   "execution_count": 27,
   "metadata": {},
   "outputs": [],
   "source": [
    "#average 500 for f\n",
    "ic=500\n",
    "\n",
    "initial_conc=[100,300,400,450,477,490,495]\n",
    "serca_mult=[3,6,9,12,15]\n",
    "sf=2\n",
    "\n",
    "#serca_mult=[1]\n",
    "#serca_f=[1,1.2,1.4,1.6,1.8,1.9,2,2.1,2.2,2.4,2.6,2.8,3]\n",
    "\n",
    "for sm in serca_mult:\n",
    "    for ic in initial_conc:\n",
    "        averager(\"/data/kabir/output/ppf/brute9/sm\"+str(sm)+\"/\"+str(sf)+\"/\"+str(ic)+\"/\")\n",
    "        \n",
    "#load data 500\n",
    "data={}\n",
    "for sm in serca_mult:\n",
    "    data[sm]={}\n",
    "    for ic in initial_conc:\n",
    "        data_file='/data/kabir/output/ppf/brute9/sm'+str(sm)+\"/\"+str(sf)+'/'+str(ic)+'/Average/ca.dat'\n",
    "        #print data_file\n",
    "        data[sm][ic]=np.loadtxt(data_file)\n",
    "        data[sm][ic].T[1]*=1e15/N_avo/vol_er*1e6 #micromolar"
   ]
  },
  {
   "cell_type": "code",
   "execution_count": 125,
   "metadata": {},
   "outputs": [],
   "source": [
    "#average 750 for f\n",
    "ic=750\n",
    "\n",
    "serca_mult=[3,6,9,12,15]\n",
    "serca_f=[3]\n",
    "\n",
    "#serca_mult=[1]#[3,6,9,12,15]#[1]\n",
    "#serca_f=[2,2.2,2.4,2.6,2.8,2.9,3,3.1,3.2,3.4,3.6,3.8,4]\n",
    "\n",
    "for sm in serca_mult:\n",
    "    for sf in serca_f:\n",
    "        averager(\"/data/kabir/output/ppf/brute9/sm\"+str(sm)+\"/\"+str(sf)+\"/\"+str(ic)+\"/\")\n",
    "        \n",
    "#load data 750\n",
    "data={}\n",
    "ic=750\n",
    "for sm in serca_mult:\n",
    "    data[sm]={}\n",
    "    for sf in serca_f:\n",
    "        data_file='/data/kabir/output/ppf/brute8/sm'+str(sm)+\"/\"+str(sf)+'/'+str(ic)+'/Average/ca.dat'\n",
    "        #print data_file\n",
    "        data[sm][sf]=np.loadtxt(data_file)\n",
    "        data[sm][sf].T[1]*=1e15/N_avo/vol_er*1e6 #micromolar \"\"\""
   ]
  },
  {
   "cell_type": "code",
   "execution_count": 38,
   "metadata": {},
   "outputs": [
    {
     "data": {
      "text/plain": [
       "Text(0,0.5,'ER Ca2+ conc (uM)')"
      ]
     },
     "execution_count": 38,
     "metadata": {},
     "output_type": "execute_result"
    },
    {
     "data": {
      "image/png": "[encoded data removed]",
      "text/plain": [
       "<matplotlib.figure.Figure at 0x7f19d09281d0>"
      ]
     },
     "metadata": {},
     "output_type": "display_data"
    }
   ],
   "source": [
    "#plot sf=2, sm=3 for different ic\n",
    "\n",
    "color=[\"#0074D9\", \"#FF851B\", \"#EE2255\", \"#001f3f\", \"#85144b\", \"#39CCCC\", \"#FFDC00\",\n",
    "       \"#2ECC40\", \"#7FDBFF\", \"#B10DC9\", \"#3D9970\", \"#AAAAAA\", \"#000000\"]\n",
    "sf=2\n",
    "sm=9\n",
    "plt.figure(figsize=(10,6))\n",
    "for i,ic in enumerate(initial_conc):\n",
    "    ydata=data[sm][ic].T[1]\n",
    "    xdata=data[sm][ic].T[0]\n",
    "    #ydata = gaussian_filter1d(ydata, sigma=0)\n",
    "    plt.plot(xdata,ydata,color=color[i%12],label='ic = '+str(ic), alpha=0.7)\n",
    "    #print(\"(Optimum sf, error)=\",optimize_slope(data[sm],250))\n",
    "plt.legend()\n",
    "plt.title(\"Refilling 500, sf=\"+str(sf)+\", sm=\"+str(sm))\n",
    "plt.xlabel('time (sec)')\n",
    "plt.ylabel('ER Ca2+ conc (uM)')\n",
    "#plt.ylim((490,500))\n",
    "#plt.savefig('/home/kabir/Project/plots/brute6/new_sf_750.eps')#\"\"\"\n",
    "#plt.savefig('/home/kabir/Project/midsemreport_spring2019/new_sm.eps')\n",
    "#print(optimize_slope(data[sm],750))"
   ]
  }
 ],
 "metadata": {
  "kernelspec": {
   "display_name": "Python 3",
   "language": "python",
   "name": "python3"
  },
  "language_info": {
   "codemirror_mode": {
    "name": "ipython",
    "version": 3
   },
   "file_extension": ".py",
   "mimetype": "text/x-python",
   "name": "python",
   "nbconvert_exporter": "python",
   "pygments_lexer": "ipython3",
   "version": "3.6.5"
  }
 },
 "nbformat": 4,
 "nbformat_minor": 2
}
