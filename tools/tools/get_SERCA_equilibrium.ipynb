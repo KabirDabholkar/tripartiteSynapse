{
 "cells": [
  {
   "cell_type": "code",
   "execution_count": 2,
   "metadata": {},
   "outputs": [],
   "source": [
    "from scipy.integrate import *\n",
    "import matplotlib.pyplot as plt\n",
    "from math import *\n",
    "import bohrium as np\n",
    "from scipy.optimize import *"
   ]
  },
  {
   "cell_type": "code",
   "execution_count": 3,
   "metadata": {},
   "outputs": [],
   "source": [
    "cai = 100.0e-9\n",
    "cae = 1.0e-6\n",
    "\n",
    "\n",
    "# Volume Normalisations\n",
    "vol_er = (3.9*0.1*0.1)\n",
    "vol_cyt = (4.0*0.5*0.5-vol_er)\n",
    "vol_tot = vol_cyt + vol_er\n",
    "ntot = 1\n",
    "ctot = ntot/vol_tot\n",
    "fvol_cyt = vol_cyt/vol_tot\n",
    "fvol_er = vol_er/vol_tot"
   ]
  },
  {
   "cell_type": "code",
   "execution_count": 4,
   "metadata": {},
   "outputs": [],
   "source": [
    "def f(m):\n",
    "    return m**(2.0/3.0) #multiplier \n",
    "\n",
    "# Reaction Rates\n",
    "k_orig={\n",
    "    'kx1_x1a' : 2*1.0e8,\n",
    "    'kx1a_x2' : 1.0e8,\n",
    "    'kx1a_x1' : 83.666,\n",
    "    'kx2_x1a' : 2*83.666,\n",
    "    'kx2_y2' : 0.6,\n",
    "    'ky2_x2' : 4.118, #corrected\n",
    "    'ky2_y1a' : 2*30.015,\n",
    "    'ky1a_y1' : 30.015,\n",
    "    'ky1a_y2' : 1.0e5,\n",
    "    'ky1_y1a' : 2*1.0e5,\n",
    "    'ky1_x1' : 0.4,\n",
    "    'kx1_y1' : 1.20e-3,\n",
    "    'kca' : 0\n",
    "}\n",
    "k=k_orig.copy()\n",
    "execute_string=[]\n",
    "for key in k.keys():\n",
    "    execute_string.append(key + \" = \"+str(k[key]))\n",
    "exec('; '.join(execute_string))"
   ]
  },
  {
   "cell_type": "code",
   "execution_count": 5,
   "metadata": {},
   "outputs": [],
   "source": [
    "# SERCA ODE model\n",
    "def serca_ode(v ,t):\n",
    "    global k\n",
    "\n",
    "    fx1, fx1a, fx2, fy2, fy1a, fy1, cae = v\n",
    "\n",
    "    execute_string=[]\n",
    "    for key in k.keys():\n",
    "        execute_string.append(\"global \"+key+\"; \"+key + \" = \"+str(k[key]))\n",
    "    exec('; '.join(execute_string))\n",
    "\n",
    "    \n",
    "    dx1 = fx1*(-kx1_x1a*cai-kx1_y1)+fx1a*kx1a_x1+fy1*ky1_x1\n",
    "    dx1a = fx1a*(-kx1a_x2*cai-kx1a_x1)+fx1*cai*kx1_x1a+fx2*kx2_x1a\n",
    "    dx2 = fx2*(-kx2_y2-kx2_x1a)+fx1a*cai*kx1a_x2+fy2*ky2_x2\n",
    "\n",
    "    dy1 = fy1*(-ky1_y1a*cae-ky1_x1)+fy1a*ky1a_y1+fx1*kx1_y1\n",
    "    dy1a = fy1a*(-ky1a_y2*cae-ky1a_y1)+fy1*cae*ky1_y1a+fy2*ky2_y1a\n",
    "    dy2 = fy2*(-ky2_x2-ky2_y1a)+fy1a*cae*ky1a_y2+fx2*kx2_y2\n",
    "\n",
    "    dcae = -cae*(fy1a*ky1a_y2 + fy1*ky1_y1a) + (fy1a*ky1a_y1 + fy2*ky2_y1a) + kca*(cai - cae)\n",
    "    #print dcae\n",
    "\n",
    "    return [dx1, dx1a, dx2, dy2, dy1a, dy1, dcae]"
   ]
  },
  {
   "cell_type": "code",
   "execution_count": 6,
   "metadata": {},
   "outputs": [],
   "source": [
    "def get_SERCA_equilibrium(final_conc):\n",
    "    global k\n",
    "    #params for general final conc\n",
    "    sf=final_conc/250.0\n",
    "    sm=1\n",
    "    \n",
    "    for key in ['kx1_x1a','kx1a_x2']:\n",
    "        k[key]=k_orig[key]*sf\n",
    "\n",
    "    cae=final_conc*1e-6\n",
    "    #arbitrary inital serca\n",
    "    v0=[9.06424261e-01, 8.66707395e-02, 2.07182701e-03, 3.01868945e-04,\n",
    "           1.81203090e-03, 2.71927273e-03, cae]\n",
    "    \n",
    "    #ODE details\n",
    "    tstep = 1e-2\n",
    "    tf = 100\n",
    "    t = np.linspace(0, tf, tf/tstep+1)\n",
    "\n",
    "    # Solve ODE\n",
    "    sol = odeint(serca_ode, v0, t)\n",
    "\n",
    "    return list(np.array(sol[-1,:-1]))"
   ]
  },
  {
   "cell_type": "code",
   "execution_count": 120,
   "metadata": {},
   "outputs": [
    {
     "data": {
      "text/plain": [
       "[0.6424441123011492,\n",
       " 0.3071470429089671,\n",
       " 0.03671109446072891,\n",
       " 0.005348872466555567,\n",
       " 0.006421544779120445,\n",
       " 0.001927333169594788]"
      ]
     },
     "execution_count": 120,
     "metadata": {},
     "output_type": "execute_result"
    }
   ],
   "source": [
    "a=\"get_SERCA_equilibrium(500)\""
   ]
  },
  {
   "cell_type": "code",
   "execution_count": 121,
   "metadata": {},
   "outputs": [],
   "source": [
    "a=\"\"\"def func():\n",
    "    global k\n",
    "    execute_string=[]\n",
    "    for key in k.keys():\n",
    "        execute_string.append(key + \" = \"+str(k[key]))\n",
    "    print ('; '.join(execute_string))\n",
    "    exec('; '.join(execute_string))\n",
    "    print (kx1_x1a,kx1a_x2)\"\"\""
   ]
  },
  {
   "cell_type": "code",
   "execution_count": 7,
   "metadata": {},
   "outputs": [
    {
     "data": {
      "text/plain": [
       "[0.9064242610635374,\n",
       " 0.08667073947013512,\n",
       " 0.0020718270138444204,\n",
       " 0.0003018689189853863,\n",
       " 0.0018120308340165466,\n",
       " 0.002719272784396905]"
      ]
     },
     "execution_count": 7,
     "metadata": {},
     "output_type": "execute_result"
    }
   ],
   "source": [
    "get_SERCA_equilibrium(100)"
   ]
  },
  {
   "cell_type": "code",
   "execution_count": null,
   "metadata": {},
   "outputs": [],
   "source": []
  }
 ],
 "metadata": {
  "kernelspec": {
   "display_name": "Python 3",
   "language": "python",
   "name": "python3"
  },
  "language_info": {
   "codemirror_mode": {
    "name": "ipython",
    "version": 3
   },
   "file_extension": ".py",
   "mimetype": "text/x-python",
   "name": "python",
   "nbconvert_exporter": "python",
   "pygments_lexer": "ipython3",
   "version": "3.6.5"
  }
 },
 "nbformat": 4,
 "nbformat_minor": 2
}
