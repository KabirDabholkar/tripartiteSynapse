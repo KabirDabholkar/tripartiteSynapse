{
 "cells": [
  {
   "cell_type": "code",
   "execution_count": 35,
   "metadata": {},
   "outputs": [],
   "source": [
    "import subprocess\n",
    "from multiprocessing import Pool\n",
    "from itertools import repeat\n",
    "import os\n",
    "import numpy as np\n",
    "import matplotlib.pyplot as plt\n",
    "#from scipy.optimize import curve_fit"
   ]
  },
  {
   "cell_type": "code",
   "execution_count": 2,
   "metadata": {},
   "outputs": [],
   "source": [
    "vol_er = (3.9*0.1*0.1)\n",
    "vol_cyt = (4.0*0.5*0.5-vol_er)\n",
    "vol_tot = vol_cyt + vol_er\n",
    "N_avo=6.0221409e23"
   ]
  },
  {
   "cell_type": "code",
   "execution_count": 91,
   "metadata": {},
   "outputs": [],
   "source": [
    "def sing_aver(pos,data):\n",
    "    return np.average([d[pos] for d in data]),np.std([d[pos] for d in data])\n",
    "\n",
    "def averager(data_loc):\n",
    "    #averaged data folder\n",
    "    avg_path=os.path.join(data_loc,\"Average\")\n",
    "    if not os.path.exists(avg_path):\n",
    "        os.makedirs(avg_path)\n",
    "    \n",
    "    #get seed folders\n",
    "    seed_folders=os.listdir(data_loc)\n",
    "    seed_folders.remove(\"Average\")\n",
    "    \n",
    "    #load data\n",
    "    data=[]\n",
    "    file_names=[]\n",
    "    for s in seed_folders:\n",
    "        file_name=os.path.join(data_loc,os.path.join(s+'/dat/ca.dat'))\n",
    "        file_names.append(file_name)\n",
    "        data.append(np.loadtxt(file_name).T[3])\n",
    "        \n",
    "    #lagging length and index ie, smallest of the array lengths\n",
    "    shapes=[d.shape[0] for d in data]\n",
    "    lag_len = min(shapes)\n",
    "    lag_ind = shapes.index(lag_len)\n",
    "    #print(data)\n",
    "    times=np.loadtxt(file_name).T[0]\n",
    "    l=times\n",
    "    #print([l[i] <= l[i+1] for i in range(len(l)-1)])\n",
    "    #p = Pool(processes=7)\n",
    "    #average=p.starmap(sing_aver, [(i, data) for i in range(lag_len)])\n",
    "    data=[d[:lag_len] for d in data]\n",
    "    average=np.average(data,axis=0)\n",
    "    #=np.std(data,axis=0)\n",
    "    #concentration in millimoles\n",
    "    #avg*=1e15/N_avo/vol_cyt*1e6 #micromolar\n",
    "    #std*=1e15/N_avo/vol_cyt*1e6\n",
    "    with open(os.path.join(avg_path,\"ca.dat\"),'w') as f:\n",
    "        for time,avg in zip(times[:lag_len],average):\n",
    "            #print(time,avg)\n",
    "            f.write(str(time)+\" \"+str(avg)+\"\\n\")#+str(avg[1])+\"\\n\")\n",
    "        \n",
    "    "
   ]
  },
  {
   "cell_type": "code",
   "execution_count": 89,
   "metadata": {},
   "outputs": [],
   "source": [
    "#averager(\"/data/kabir/output/ppf/brute6/4.3/350\")"
   ]
  },
  {
   "cell_type": "code",
   "execution_count": null,
   "metadata": {},
   "outputs": [],
   "source": []
  },
  {
   "cell_type": "code",
   "execution_count": null,
   "metadata": {},
   "outputs": [],
   "source": []
  }
 ],
 "metadata": {
  "kernelspec": {
   "display_name": "Python 3",
   "language": "python",
   "name": "python3"
  },
  "language_info": {
   "codemirror_mode": {
    "name": "ipython",
    "version": 3
   },
   "file_extension": ".py",
   "mimetype": "text/x-python",
   "name": "python",
   "nbconvert_exporter": "python",
   "pygments_lexer": "ipython3",
   "version": "3.6.5"
  }
 },
 "nbformat": 4,
 "nbformat_minor": 2
}
