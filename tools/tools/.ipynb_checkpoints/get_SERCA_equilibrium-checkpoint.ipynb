{
 "cells": [
  {
   "cell_type": "code",
   "execution_count": 30,
   "metadata": {},
   "outputs": [],
   "source": [
    "from scipy.integrate import *\n",
    "import matplotlib.pyplot as plt\n",
    "from math import *\n",
    "import numpy as np\n",
    "from scipy.optimize import *"
   ]
  },
  {
   "cell_type": "code",
   "execution_count": 41,
   "metadata": {},
   "outputs": [],
   "source": [
    "class model:\n",
    "    \n",
    "    ## Get initial values for the system\n",
    "    def __init__(self,parameters):\n",
    "        self.__dict__.update(parameters)\n",
    "        #if self.nVar != len(X0):\n",
    "        #    print('ERROR:', self.nVar, 'initial values required')\n",
    "        #else: \n",
    "        #    self.X0 = X0\n",
    "    \n",
    "    # SERCA ODE model\n",
    "    def serca_ode(self,v,t):\n",
    "\n",
    "        cai, fx1, fx1a, fx2, fy2, fy1a, fy1, cae = v\n",
    "\n",
    "        dx1 = fx1*(-self.kx1_x1a*cai-self.kx1_y1)+fx1a*self.kx1a_x1+fy1*self.ky1_x1\n",
    "        dx1a = fx1a*(-self.kx1a_x2*cai-self.kx1a_x1)+fx1*cai*self.kx1_x1a+fx2*self.kx2_x1a\n",
    "        dx2 = fx2*(-self.kx2_y2-self.kx2_x1a)+fx1a*cai*self.kx1a_x2+fy2*self.ky2_x2\n",
    "\n",
    "        dy1 = fy1*(-self.ky1_y1a*cae-self.ky1_x1)+fy1a*self.ky1a_y1+fx1*self.kx1_y1\n",
    "        dy1a = fy1a*(-self.ky1a_y2*cae-self.ky1a_y1)+fy1*cae*self.ky1_y1a+fy2*self.ky2_y1a\n",
    "        dy2 = fy2*(-self.ky2_x2-self.ky2_y1a)+fy1a*cae*self.ky1a_y2+fx2*self.kx2_y2\n",
    "\n",
    "        dcae = -cae*(fy1a*self.ky1a_y2 + fy1*self.ky1_y1a) + (fy1a*self.ky1a_y1 + fy2*self.ky2_y1a) + self.kca*(cai - cae)\n",
    "        \n",
    "        dcai=0\n",
    "\n",
    "        return [dcai, dx1, dx1a, dx2, dy2, dy1a, dy1, dcae]\n",
    "    \n",
    "    "
   ]
  },
  {
   "cell_type": "code",
   "execution_count": 42,
   "metadata": {},
   "outputs": [],
   "source": [
    "\n",
    "k_original={\n",
    "        'kx1_x1a' : 2*1.0e8,\n",
    "        'kx1a_x2' : 1.0e8,\n",
    "        'kx1a_x1' : 83.666,\n",
    "        'kx2_x1a' : 2*83.666,\n",
    "        'kx2_y2' : 0.6,\n",
    "        'ky2_x2' : 4.118, #corrected\n",
    "        'ky2_y1a' : 2*30.015,\n",
    "        'ky1a_y1' : 30.015,\n",
    "        'ky1a_y2' : 1.0e5,\n",
    "        'ky1_y1a' : 2*1.0e5,\n",
    "        'ky1_x1' : 0.4,\n",
    "        'kx1_y1' : 1.20e-3,\n",
    "        'kca' : 0\n",
    "    }\n",
    "k=k_original.copy()"
   ]
  },
  {
   "cell_type": "code",
   "execution_count": 43,
   "metadata": {},
   "outputs": [],
   "source": [
    "def get_SERCA_equilibrium(final_conc):\n",
    "    cai = 100.0e-9\n",
    "    my_k=k_original.copy()\n",
    "    #params for general final conc\n",
    "    sf=final_conc/250.0\n",
    "    sm=1\n",
    "    \n",
    "    for key in ['kx1_x1a','kx1a_x2']:\n",
    "        my_k[key]=k_original[key]*sf\n",
    "\n",
    "    cae=final_conc*1e-6\n",
    "    #arbitrary inital serca\n",
    "    v0=[cai]+[9.06424261e-01, 8.66707395e-02, 2.07182701e-03, 3.01868945e-04,\n",
    "           1.81203090e-03, 2.71927273e-03, cae]\n",
    "    \n",
    "    #ODE details\n",
    "    tstep = 1e-2\n",
    "    tf = 100\n",
    "    t = np.linspace(0, tf, tf/tstep+1)\n",
    "\n",
    "    D=model(my_k)\n",
    "    # Solve ODE\n",
    "    sol = odeint(D.serca_ode, v0, t)\n",
    "\n",
    "    return list(np.array(sol[-1,1:-1]))"
   ]
  },
  {
   "cell_type": "code",
   "execution_count": 44,
   "metadata": {},
   "outputs": [
    {
     "name": "stderr",
     "output_type": "stream",
     "text": [
      "/usr/lib/python3/dist-packages/ipykernel_launcher.py:19: DeprecationWarning: object of type <class 'float'> cannot be safely interpreted as an integer.\n"
     ]
    },
    {
     "data": {
      "text/plain": [
       "[1e-07,\n",
       " 0.6424441123004321,\n",
       " 0.3071470429086243,\n",
       " 0.03671109446068794,\n",
       " 0.005348872466550021,\n",
       " 0.006421544779175244,\n",
       " 0.0019273331696295956]"
      ]
     },
     "execution_count": 44,
     "metadata": {},
     "output_type": "execute_result"
    }
   ],
   "source": [
    "#get_SERCA_equilibrium(500)"
   ]
  },
  {
   "cell_type": "code",
   "execution_count": 121,
   "metadata": {},
   "outputs": [],
   "source": [
    "a=\"\"\"def func():\n",
    "    global k\n",
    "    execute_string=[]\n",
    "    for key in k.keys():\n",
    "        execute_string.append(key + \" = \"+str(k[key]))\n",
    "    print ('; '.join(execute_string))\n",
    "    exec('; '.join(execute_string))\n",
    "    print (kx1_x1a,kx1a_x2)\"\"\""
   ]
  },
  {
   "cell_type": "code",
   "execution_count": 7,
   "metadata": {},
   "outputs": [
    {
     "data": {
      "text/plain": [
       "[0.9064242610635374,\n",
       " 0.08667073947013512,\n",
       " 0.0020718270138444204,\n",
       " 0.0003018689189853863,\n",
       " 0.0018120308340165466,\n",
       " 0.002719272784396905]"
      ]
     },
     "execution_count": 7,
     "metadata": {},
     "output_type": "execute_result"
    }
   ],
   "source": [
    "#get_SERCA_equilibrium(100)"
   ]
  },
  {
   "cell_type": "code",
   "execution_count": null,
   "metadata": {},
   "outputs": [],
   "source": []
  }
 ],
 "metadata": {
  "kernelspec": {
   "display_name": "Python 3",
   "language": "python",
   "name": "python3"
  },
  "language_info": {
   "codemirror_mode": {
    "name": "ipython",
    "version": 3
   },
   "file_extension": ".py",
   "mimetype": "text/x-python",
   "name": "python",
   "nbconvert_exporter": "python",
   "pygments_lexer": "ipython3",
   "version": "3.6.5"
  }
 },
 "nbformat": 4,
 "nbformat_minor": 2
}
