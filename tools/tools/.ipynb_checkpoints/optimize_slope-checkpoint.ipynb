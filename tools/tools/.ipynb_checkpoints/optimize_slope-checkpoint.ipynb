{
 "cells": [
  {
   "cell_type": "code",
   "execution_count": 4,
   "metadata": {},
   "outputs": [],
   "source": [
    "import numpy as np\n",
    "import matplotlib.pyplot as plt\n",
    "from scipy.optimize import curve_fit"
   ]
  },
  {
   "cell_type": "code",
   "execution_count": 5,
   "metadata": {},
   "outputs": [],
   "source": [
    "vol_er = (3.9*0.1*0.1)\n",
    "vol_cyt = (4.0*0.5*0.5-vol_er)\n",
    "vol_tot = vol_cyt + vol_er\n",
    "N_avo=6.0221409e23"
   ]
  },
  {
   "cell_type": "code",
   "execution_count": 6,
   "metadata": {},
   "outputs": [],
   "source": [
    "def line_fit(x,m,c):\n",
    "    return m*x+c"
   ]
  },
  {
   "cell_type": "code",
   "execution_count": 13,
   "metadata": {},
   "outputs": [],
   "source": [
    "#data is a dict() contains concentration series for different parameters\n",
    "def optimize_slope(data,ic):\n",
    "    keys=data.keys()\n",
    "    fit={}\n",
    "    for k in keys:\n",
    "        ydata=data[k].T[1]\n",
    "        xdata=data[k].T[0]\n",
    "        #plt.plot(xdata,ydata,color=color[i%12],label=str(k), alpha=0.7)\n",
    "        popt,pcov=curve_fit(lambda x,m: line_fit(x,m,ic),xdata,ydata)\n",
    "        fit[k]=popt\n",
    "        #print(popt)\n",
    "    #plt.figure()\n",
    "    #plt.plot(keys,[fit[k] for k in keys])\n",
    "    popt,pcov=curve_fit(line_fit,list(keys),[fit[k][0] for k in keys])\n",
    "    #print(popt)\n",
    "    return -popt[1]/popt[0],np.sqrt(pcov[1][1])+np.sqrt(pcov[0][0])\n",
    "        "
   ]
  },
  {
   "cell_type": "code",
   "execution_count": null,
   "metadata": {},
   "outputs": [],
   "source": []
  }
 ],
 "metadata": {
  "kernelspec": {
   "display_name": "Python 3",
   "language": "python",
   "name": "python3"
  },
  "language_info": {
   "codemirror_mode": {
    "name": "ipython",
    "version": 3
   },
   "file_extension": ".py",
   "mimetype": "text/x-python",
   "name": "python",
   "nbconvert_exporter": "python",
   "pygments_lexer": "ipython3",
   "version": "3.6.5"
  }
 },
 "nbformat": 4,
 "nbformat_minor": 2
}
