{
 "cells": [
  {
   "cell_type": "code",
   "execution_count": 134,
   "metadata": {},
   "outputs": [],
   "source": [
    "import subprocess\n",
    "from multiprocessing import Pool\n",
    "import os\n",
    "import numpy as np\n",
    "import matplotlib.pyplot as plt\n",
    "from scipy.optimize import curve_fit"
   ]
  },
  {
   "cell_type": "code",
   "execution_count": 1,
   "metadata": {},
   "outputs": [],
   "source": [
    "vol_er = (3.9*0.1*0.1)\n",
    "vol_cyt = (4.0*0.5*0.5-vol_er)\n",
    "vol_tot = vol_cyt + vol_er\n",
    "N_avo=6.0221409e23"
   ]
  },
  {
   "cell_type": "code",
   "execution_count": 16,
   "metadata": {},
   "outputs": [],
   "source": [
    "def write_mdl(file_name,outfolder,iterations,ic,sf,sm,serca_frac,write=True):\n",
    "    ftext = \"\"\"sprintf(my_seed,\"%05g\",SEED)\n",
    "\n",
    "    iterations = e3\n",
    "\n",
    "    INCLUDE_FILE = \"../outputLoc.mdl\"\n",
    "    INCLUDE_FILE = \"../initialization.mdl\"\n",
    "    INCLUDE_FILE = \"parameters.mdl\"\n",
    "    /* Modifications in Parameters */\n",
    "        VDCC_number_presynaptic = 40\n",
    "\n",
    "        n_Glu_neuron =  1 //2000\n",
    "        GluT_density_astrocyte = 0.1 //1000\n",
    "\n",
    "        ca_conc_presynaptic_er = e-6     //initial ER conc specified here!!!!!\n",
    "        //ryr_number_presynaptic = 0 //no RYR\n",
    "\n",
    "    f =                                 //SERCA parameter adjustments here!!!!!!!!!!\n",
    "\n",
    "    sm = //multiply all serca parameters\n",
    "\n",
    "    /*Initial SERCA fractions*/\n",
    "    serca_x1_feq = \n",
    "    serca_x1a_feq = \n",
    "    serca_x2_feq = \n",
    "    serca_y1_feq = \n",
    "    serca_y1a_feq = \n",
    "    serca_y2_feq = \n",
    "\n",
    "    INCLUDE_FILE = \"rxn_rate_constants.mdl\"\n",
    "    /* Modifications in Reaction Rate Constants */\n",
    "    //k_PMCA_0_1 = 0\n",
    "    //k_PMCA_0_leak = 0\n",
    "\n",
    "\n",
    "    /* Output Folder */\n",
    "            //isi = \"40\"\n",
    "        sprintf(VDCC, \"%g\", VDCC_number_presynaptic)\n",
    "        sprintf(f_mult, \"%g\", f)   \t\n",
    "        sprintf(init_er_conc, \"%g\", ca_conc_presynaptic_er*1e6)   \t\n",
    "        fname = \n",
    "\n",
    "        output_folder = outputLoc & \"ppf/\" & fname & \"/\" & f_mult & \"/\" & init_er_conc & \"/s_\" & my_seed\n",
    "\n",
    "    /* Rates for P/Q-type Voltage Dependent Calcium Channels */\n",
    "    /* From Bischoffberger et al., 2005, , Biophys. J.*/\n",
    "\n",
    "        k_VDCC_PQ_C01 = 0\n",
    "        k_VDCC_PQ_C12 = 0\n",
    "        k_VDCC_PQ_C23 = 0\n",
    "        k_VDCC_PQ_C34 = 0\n",
    "        k_VDCC_PQ_C43 = 0\n",
    "        k_VDCC_PQ_C32 = 0\n",
    "        k_VDCC_PQ_C21= 0\n",
    "        k_VDCC_PQ_C10 = 0\n",
    "        k_VDCC_PQ_Ca = 0\n",
    "\n",
    "    INCLUDE_FILE = \"triggered_release.inc.mdl\"\n",
    "\n",
    "    INCLUDE_FILE = \"rxn_outputRS.mdl\"\n",
    "    //INCLUDE_FILE = \"viz_output.mdl\"\n",
    "    \"\"\"\n",
    "    ftext=ftext.replace('iterations = ', 'iterations = '+str(iterations))\n",
    "    ftext=ftext.replace('sm = ', 'sm = '+str(sm))\n",
    "    ftext=ftext.replace('ca_conc_presynaptic_er = ', 'ca_conc_presynaptic_er = '+str(ic))\n",
    "    ftext=ftext.replace('f = ','f = '+str(sf))\n",
    "    ftext=ftext.replace('fname = ','fname = '+'\"'+str(outfolder)+'\"')\n",
    "    for i,p in enumerate(['x1','x1a','x2','y2','y1a','y1']):\n",
    "        old=\"serca_\"+p+\"_feq = \"\n",
    "        new=\"serca_\"+p+\"_feq = \"+str(serca_frac[i])\n",
    "        ftext=ftext.replace(old,new)\n",
    "    if write:\n",
    "        with open(file_name,'w') as wfile:\n",
    "            wfile.write(ftext)\n"
   ]
  },
  {
   "cell_type": "code",
   "execution_count": 36,
   "metadata": {},
   "outputs": [],
   "source": [
    "#write .mdls for sf=4.3 equilibrium at 750uM\n",
    "sf=4.3\n",
    "folder=\"/home/kabir/Project/tripartiteSynapse/brute750_6/\"\n",
    "outfolder=\"brute6\"\n",
    "initial_conc=[350,450,550,650,700]\n",
    "serca_frac=[0.5709841 , 0.27425674, 0.06441576, 0.04471076, 0.03791196, 0.00749021]\n",
    "serca_mult=[3,4,5,6,7,8,9,10]\n",
    "\n",
    "fnames=[]\n",
    "#ic=750\n",
    "iterations=20000\n",
    "for ic in initial_conc:\n",
    "    for sm in serca_mult:#[3.5,3.75,4,4.25,4.5,4.75]:\n",
    "        file_name=folder+\"RSnostim_sm\"+str(sm)+\"_\"+str(sf)+\"_\"+str(ic)+\".mdl\"\n",
    "        fnames.append(file_name)\n",
    "        write_mdl(file_name,outfolder,iterations,ic,sf,sm,serca_frac,write=True)"
   ]
  },
  {
   "cell_type": "code",
   "execution_count": 41,
   "metadata": {},
   "outputs": [],
   "source": [
    "with open(folder+'run.sh','w') as f:\n",
    "    for name in fnames:\n",
    "            f.write(\"qsub -N \"+name.replace('.mdl','').replace(folder,'')+\" -v I='\"+name.replace(folder,'/home/subhadra/kabir/tripartiteSynapse/brute750_6/')+\"' pbs.py\\n\")"
   ]
  },
  {
   "cell_type": "code",
   "execution_count": 42,
   "metadata": {},
   "outputs": [],
   "source": [
    "#sync script files to cluster\n",
    "p=subprocess.call([\"rsync\",\"-arhP\",folder[:-1],\"subhadra@192.168.1.244:/home/subhadra/kabir/tripartiteSynapse/\"])"
   ]
  },
  {
   "cell_type": "code",
   "execution_count": 47,
   "metadata": {},
   "outputs": [],
   "source": [
    "#sync data back to this system\n",
    "p=subprocess.call([\"rsync\",\"-arhP\",\"subhadra@192.168.1.244:/storage/subhadra/kabir/output/ppf/brute6\",\"/data/kabir/output/ppf/\"])"
   ]
  },
  {
   "cell_type": "code",
   "execution_count": null,
   "metadata": {},
   "outputs": [],
   "source": []
  }
 ],
 "metadata": {
  "kernelspec": {
   "display_name": "Python 2",
   "language": "python",
   "name": "python2"
  },
  "language_info": {
   "codemirror_mode": {
    "name": "ipython",
    "version": 2
   },
   "file_extension": ".py",
   "mimetype": "text/x-python",
   "name": "python",
   "nbconvert_exporter": "python",
   "pygments_lexer": "ipython2",
   "version": "2.7.15rc1"
  }
 },
 "nbformat": 4,
 "nbformat_minor": 2
}
