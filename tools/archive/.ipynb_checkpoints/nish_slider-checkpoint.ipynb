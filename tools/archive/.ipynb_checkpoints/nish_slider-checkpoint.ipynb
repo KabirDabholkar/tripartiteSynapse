{
 "cells": [
  {
   "cell_type": "code",
   "execution_count": 38,
   "metadata": {},
   "outputs": [],
   "source": [
    "from numpy import *\n",
    "import bqplot as bq\n",
    "from ipywidgets import interact, interactive, Layout, Box, HBox, VBox, Label\n",
    "import ipywidgets as widgets\n",
    "from IPython.display import display\n",
    "\n",
    "from scipy import optimize\n",
    "from scipy.integrate import odeint"
   ]
  },
  {
   "cell_type": "code",
   "execution_count": 56,
   "metadata": {},
   "outputs": [
    {
     "name": "stdout",
     "output_type": "stream",
     "text": [
      "[[1.5e-05 0.0e+00 0.0e+00 0.0e+00 0.0e+00]]\n"
     ]
    },
    {
     "ename": "IndexError",
     "evalue": "index 4 is out of bounds for axis 0 with size 1",
     "output_type": "error",
     "traceback": [
      "\u001b[0;31m---------------------------------------------------------------------------\u001b[0m",
      "\u001b[0;31mIndexError\u001b[0m                                Traceback (most recent call last)",
      "\u001b[0;32m<ipython-input-56-35bd14426930>\u001b[0m in \u001b[0;36m<module>\u001b[0;34m()\u001b[0m\n\u001b[1;32m     69\u001b[0m         \u001b[0;31m#    saveBtn.style.button_color = '#ffa07a'\u001b[0m\u001b[0;34m\u001b[0m\u001b[0;34m\u001b[0m\u001b[0m\n\u001b[1;32m     70\u001b[0m \u001b[0;34m\u001b[0m\u001b[0m\n\u001b[0;32m---> 71\u001b[0;31m \u001b[0mc\u001b[0m \u001b[0;34m=\u001b[0m \u001b[0mcurve\u001b[0m\u001b[0;34m(\u001b[0m\u001b[0;34m)\u001b[0m\u001b[0;34m\u001b[0m\u001b[0m\n\u001b[0m",
      "\u001b[0;32m<ipython-input-56-35bd14426930>\u001b[0m in \u001b[0;36m__init__\u001b[0;34m(self)\u001b[0m\n\u001b[1;32m     27\u001b[0m         \u001b[0my\u001b[0m \u001b[0;34m=\u001b[0m \u001b[0modeint\u001b[0m\u001b[0;34m(\u001b[0m\u001b[0mode\u001b[0m\u001b[0;34m,\u001b[0m\u001b[0mself\u001b[0m\u001b[0;34m.\u001b[0m\u001b[0mt0_cond\u001b[0m\u001b[0;34m,\u001b[0m\u001b[0mself\u001b[0m\u001b[0;34m.\u001b[0m\u001b[0mt\u001b[0m\u001b[0;34m,\u001b[0m\u001b[0margs\u001b[0m\u001b[0;34m=\u001b[0m\u001b[0mtuple\u001b[0m\u001b[0;34m(\u001b[0m\u001b[0mself\u001b[0m\u001b[0;34m.\u001b[0m\u001b[0minitials\u001b[0m\u001b[0;34m)\u001b[0m\u001b[0;34m)\u001b[0m\u001b[0;34m\u001b[0m\u001b[0m\n\u001b[1;32m     28\u001b[0m         \u001b[0;32mprint\u001b[0m \u001b[0my\u001b[0m\u001b[0;34m\u001b[0m\u001b[0m\n\u001b[0;32m---> 29\u001b[0;31m         \u001b[0mself\u001b[0m\u001b[0;34m.\u001b[0m\u001b[0my\u001b[0m\u001b[0;34m=\u001b[0m\u001b[0my\u001b[0m\u001b[0;34m[\u001b[0m\u001b[0;36m4\u001b[0m\u001b[0;34m]\u001b[0m\u001b[0;34m\u001b[0m\u001b[0m\n\u001b[0m\u001b[1;32m     30\u001b[0m         \u001b[0;31m# Generate a line (but does not plot it)\u001b[0m\u001b[0;34m\u001b[0m\u001b[0;34m\u001b[0m\u001b[0m\n\u001b[1;32m     31\u001b[0m         \u001b[0mself\u001b[0m\u001b[0;34m.\u001b[0m\u001b[0ml\u001b[0m \u001b[0;34m=\u001b[0m \u001b[0mbq\u001b[0m\u001b[0;34m.\u001b[0m\u001b[0mLines\u001b[0m\u001b[0;34m(\u001b[0m\u001b[0mx\u001b[0m\u001b[0;34m=\u001b[0m\u001b[0mself\u001b[0m\u001b[0;34m.\u001b[0m\u001b[0mx\u001b[0m\u001b[0;34m,\u001b[0m \u001b[0my\u001b[0m\u001b[0;34m=\u001b[0m\u001b[0mself\u001b[0m\u001b[0;34m.\u001b[0m\u001b[0my\u001b[0m\u001b[0;34m,\u001b[0m \u001b[0mcolors\u001b[0m\u001b[0;34m=\u001b[0m\u001b[0;34m[\u001b[0m\u001b[0;34m'red'\u001b[0m\u001b[0;34m]\u001b[0m\u001b[0;34m,\u001b[0m \u001b[0mopacities\u001b[0m\u001b[0;34m=\u001b[0m\u001b[0;34m[\u001b[0m\u001b[0;36m1\u001b[0m\u001b[0;34m]\u001b[0m\u001b[0;34m,\u001b[0m \u001b[0mfill\u001b[0m\u001b[0;34m=\u001b[0m\u001b[0;34m'bottom'\u001b[0m\u001b[0;34m,\u001b[0m \u001b[0mfill_colors\u001b[0m\u001b[0;34m=\u001b[0m\u001b[0;34m[\u001b[0m\u001b[0;34m'red'\u001b[0m\u001b[0;34m]\u001b[0m\u001b[0;34m,\u001b[0m \u001b[0mfill_opacities\u001b[0m\u001b[0;34m=\u001b[0m\u001b[0;34m[\u001b[0m\u001b[0;36m1\u001b[0m\u001b[0;34m]\u001b[0m\u001b[0;34m,\u001b[0m                           \u001b[0mscales\u001b[0m\u001b[0;34m=\u001b[0m\u001b[0;34m{\u001b[0m\u001b[0;34m'x'\u001b[0m\u001b[0;34m:\u001b[0m \u001b[0mbq\u001b[0m\u001b[0;34m.\u001b[0m\u001b[0mLinearScale\u001b[0m\u001b[0;34m(\u001b[0m\u001b[0;34m)\u001b[0m\u001b[0;34m,\u001b[0m \u001b[0;34m'y'\u001b[0m\u001b[0;34m:\u001b[0m \u001b[0mbq\u001b[0m\u001b[0;34m.\u001b[0m\u001b[0mLinearScale\u001b[0m\u001b[0;34m(\u001b[0m\u001b[0;34m)\u001b[0m\u001b[0;34m}\u001b[0m\u001b[0;34m)\u001b[0m\u001b[0;34m\u001b[0m\u001b[0m\n",
      "\u001b[0;31mIndexError\u001b[0m: index 4 is out of bounds for axis 0 with size 1"
     ]
    }
   ],
   "source": [
    "def ode(x,t,k1,k_1,k2,k_2,k3,k_3,k4,k_4):\n",
    "    x1,x2,y1,y2,ce=x\n",
    "    dx1 = k4*y1/gamma-k_4*x1-k1*c**2*x1+k_1*x2\n",
    "    dx2 = k1*c**2*x1-k_1*x2+k_2*y2/gamma-k2*x2\n",
    "    dy1 = k2*y2-k_3*ce**2*y1-k4\n",
    "    dy2 = k2*x2/gamma-k_2*y2-k3*y2+k_3*ce**2*y1\n",
    "    dce = 2*k3*y2-2*k_3*ce**2*y1\n",
    "    return [dx1,dx2,dy1,dy2,dce]\n",
    "\n",
    "\n",
    "class curve:\n",
    "    \n",
    "    t=arange(0,0.1,100) # Time points\n",
    "    # Volume Normalisations\n",
    "    vol_er = (3.9*0.1*0.1) # all units in um\n",
    "    vol_cyt = (4.0*0.5*0.5-vol_er)\n",
    "    vol_tot = vol_cyt + vol_er\n",
    "    Pt=15e-6\n",
    "    gamma=vol_er/vol_cyt\n",
    "    c=100e-9\n",
    "    t0_cond=[Pt,0,0,0,0]\n",
    "    initials=[1.0,1.0,1.0,1.0,1.0,1.0,1.0,1.0]\n",
    "    eq_value=[Pt/4,Pt/4,gamma*Pt/4,gamma*Pt/4,250e-6]\n",
    "    \n",
    "    # Initial setup\n",
    "    def __init__(self):\n",
    "        y = odeint(ode,self.t0_cond,self.t,args=tuple(self.initials))\n",
    "        print y\n",
    "        self.y=y[4]\n",
    "        # Generate a line (but does not plot it)\n",
    "        self.l = bq.Lines(x=self.x, y=self.y, colors=['red'], opacities=[1], fill='bottom', fill_colors=['red'], fill_opacities=[1], \\\n",
    "                          scales={'x': bq.LinearScale(), 'y': bq.LinearScale()})\n",
    "\n",
    "        # Draw the above defined line in figure\n",
    "        self.fig = bq.Figure(marks=[self.l])\n",
    "    \n",
    "\n",
    "\n",
    "    \n",
    "    # Draw the equation\n",
    "    def pattern(self,log_k1=1,log_k_1=1,log_k2=1,log_k_2=1,log_k3=1,log_k_3=1,log_k4=1,log_k_4=1):\n",
    "        k=np.array([log_k1,log_k_1,log_k2,log_k_2,log_k3,log_k_3,log_k4,log_k_4])\n",
    "        k=10**k\n",
    "        # Equation for the pattern\n",
    "        y=odeint(ode,self.t0_cond,self.t,args=tuple(k))[4]\n",
    "\n",
    "        #self.l.x = x # Set x values of line\n",
    "        self.l.y = y # Set y values of line\n",
    "        self.l.colors = self.l.fill_colors = ['red'] # set colour\n",
    "        self.l.fill_opacities=[0] # set opacity of the plotted area\n",
    "\n",
    "    # Save figure ***Not yet written***\n",
    "    def saveFig(self):\n",
    "        pass\n",
    "    \n",
    "    # Save parameters in 'params.txt'\n",
    "    def saveParams(self, b):\n",
    "        param = [self.w]\n",
    "        f = open('params.txt', 'a+')\n",
    "        s = ''\n",
    "        for p in param:\n",
    "            s += str(p) + '\\t'\n",
    "        s += '\\n'\n",
    "        f.write(s)\n",
    "        \n",
    "        \n",
    "        #if saveBtn.style.button_color == '#ffa07a':\n",
    "        #    saveBtn.style.button_color = '#32cd32'\n",
    "        #else:\n",
    "        #    saveBtn.style.button_color = '#ffa07a'\n",
    "\n",
    "c = curve()"
   ]
  },
  {
   "cell_type": "code",
   "execution_count": 40,
   "metadata": {},
   "outputs": [
    {
     "data": {
      "application/vnd.jupyter.widget-view+json": {
       "model_id": "978b5c7889ab48578fa27678ada2bc7a",
       "version_major": 2,
       "version_minor": 0
      },
      "text/plain": [
       "SEJveChjaGlsZHJlbj0oRmlndXJlKGZpZ19tYXJnaW49eyd0b3AnOiA2MCwgJ3JpZ2h0JzogNjAsICdib3R0b20nOiA2MCwgJ2xlZnQnOiA2MH0sIGxheW91dD1MYXlvdXQobWluX3dpZHRoPXXigKY=\n"
      ]
     },
     "metadata": {},
     "output_type": "display_data"
    }
   ],
   "source": [
    "# Slider GUI \n",
    "slider = interactive(c.pattern,\n",
    "        log_k1=widgets.FloatSlider(min=-10, max=10, step=0.1,value=1),\n",
    "        log_k_1=widgets.FloatSlider(min=-10, max=10, step=0.1,value=1),\n",
    "        log_k2=widgets.FloatSlider(min=-10, max=10, step=0.1,value=1),\n",
    "        log_k_2=widgets.FloatSlider(min=-10, max=10, step=0.1,value=1),\n",
    "        log_k3=widgets.FloatSlider(min=-10, max=10, step=0.1,value=1),\n",
    "        log_k_3=widgets.FloatSlider(min=-10, max=10, step=0.1,value=1),\n",
    "        log_k4=widgets.FloatSlider(min=-10, max=10, step=0.1,value=1),\n",
    "        log_k_4=widgets.FloatSlider(min=-10, max=10, step=0.1,value=1),\n",
    "         #b=widgets.IntSlider(min=-20, max=20, value=14),\n",
    "         #c=widgets.FloatSlider(min=-10, max=10, step=0.1, value=2),\n",
    "         #d=widgets.FloatSlider(min=-10, max=10, step=0.1, value=3),\n",
    "         #alpha=widgets.FloatSlider(min=0, max=1, step=0.01, value=1.0),\n",
    "         #color=['red', 'green', 'blue', 'purple', '#ff3333', '#a369af', '#073642', '#983101', '#007aff', '#ff9500']\n",
    "        )\n",
    "\n",
    "# Button to save the parameters\n",
    "#saveBtn = widgets.Button(description=\"Save Parameters\")\n",
    "#saveBtn.style.button_color = '#ffa07a'\n",
    "#saveBtn.on_click(c.saveParams)\n",
    "\n",
    "# Display all the GUI widgets\n",
    "display(HBox([c.fig, VBox([slider, saveBtn])], layout=Layout(align_items = 'center')))"
   ]
  },
  {
   "cell_type": "code",
   "execution_count": 55,
   "metadata": {},
   "outputs": [
    {
     "ename": "NameError",
     "evalue": "name 'y' is not defined",
     "output_type": "error",
     "traceback": [
      "\u001b[0;31m---------------------------------------------------------------------------\u001b[0m",
      "\u001b[0;31mNameError\u001b[0m                                 Traceback (most recent call last)",
      "\u001b[0;32m<ipython-input-55-9063a9f0e032>\u001b[0m in \u001b[0;36m<module>\u001b[0;34m()\u001b[0m\n\u001b[0;32m----> 1\u001b[0;31m \u001b[0my\u001b[0m\u001b[0;34m\u001b[0m\u001b[0m\n\u001b[0m",
      "\u001b[0;31mNameError\u001b[0m: name 'y' is not defined"
     ]
    }
   ],
   "source": [
    "y"
   ]
  },
  {
   "cell_type": "code",
   "execution_count": null,
   "metadata": {},
   "outputs": [],
   "source": []
  }
 ],
 "metadata": {
  "kernelspec": {
   "display_name": "Python 2",
   "language": "python",
   "name": "python2"
  },
  "language_info": {
   "codemirror_mode": {
    "name": "ipython",
    "version": 3
   },
   "file_extension": ".py",
   "mimetype": "text/x-python",
   "name": "python",
   "nbconvert_exporter": "python",
   "pygments_lexer": "ipython3",
   "version": "3.7.3"
  }
 },
 "nbformat": 4,
 "nbformat_minor": 2
}
