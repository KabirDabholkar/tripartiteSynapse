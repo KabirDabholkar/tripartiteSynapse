{
 "cells": [
  {
   "cell_type": "code",
   "execution_count": null,
   "metadata": {},
   "outputs": [],
   "source": [
    "import numpy as np\n",
    "from scipy.integrate import *"
   ]
  },
  {
   "cell_type": "code",
   "execution_count": null,
   "metadata": {},
   "outputs": [],
   "source": [
    "cai = 100.0e-9\n",
    "cae = 1.0e-6\n",
    "\n",
    "\n",
    "# Volume Normalisations\n",
    "vol_er = (3.9*0.1*0.1)\n",
    "vol_cyt = (4.0*0.5*0.5-vol_er)\n",
    "vol_tot = vol_cyt + vol_er\n",
    "ntot = 1\n",
    "ctot = ntot/vol_tot\n",
    "fvol_cyt = vol_cyt/vol_tot\n",
    "fvol_er = vol_er/vol_tot"
   ]
  },
  {
   "cell_type": "code",
   "execution_count": 1,
   "metadata": {},
   "outputs": [],
   "source": [
    "def get_SERCA_equilibrium(final_conc, k_orig):\n",
    "    global k\n",
    "    #params for general final conc\n",
    "    sf=final_conc/250.0\n",
    "    sm=1\n",
    "    \n",
    "    for key in ['kx1_x1a','kx1a_x2']:\n",
    "        k[key]=k_orig[key]*sf\n",
    "\n",
    "    cae=final_conc*1e-6\n",
    "    #arbitrary inital serca\n",
    "    v0=[9.06424261e-01, 8.66707395e-02, 2.07182701e-03, 3.01868945e-04,\n",
    "           1.81203090e-03, 2.71927273e-03, cae]\n",
    "    \n",
    "    #ODE details\n",
    "    tstep = 1e-2\n",
    "    tf = 100\n",
    "    t = np.linspace(0, tf, tf/tstep+1)\n",
    "\n",
    "    # Solve ODE\n",
    "    sol = odeint(serca_ode, v0, t)\n",
    "\n",
    "    return list(np.array(sol[-1,:-1]))"
   ]
  },
  {
   "cell_type": "code",
   "execution_count": null,
   "metadata": {},
   "outputs": [],
   "source": []
  }
 ],
 "metadata": {
  "kernelspec": {
   "display_name": "Python 3",
   "language": "python",
   "name": "python3"
  },
  "language_info": {
   "codemirror_mode": {
    "name": "ipython",
    "version": 3
   },
   "file_extension": ".py",
   "mimetype": "text/x-python",
   "name": "python",
   "nbconvert_exporter": "python",
   "pygments_lexer": "ipython3",
   "version": "3.6.5"
  }
 },
 "nbformat": 4,
 "nbformat_minor": 2
}
