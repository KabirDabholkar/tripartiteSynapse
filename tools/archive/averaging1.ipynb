{
 "cells": [
  {
   "cell_type": "code",
   "execution_count": 7,
   "metadata": {},
   "outputs": [],
   "source": [
    "from itertools import repeat\n",
    "import os\n",
    "import numpy as np\n",
    "#import bohrium as np\n",
    "import matplotlib.pyplot as plt\n",
    "from multiprocessing import Pool\n",
    "\n",
    "#from scipy.optimize import curve_fit"
   ]
  },
  {
   "cell_type": "code",
   "execution_count": 8,
   "metadata": {},
   "outputs": [],
   "source": [
    "vol_er = (3.9*0.1*0.1)\n",
    "vol_cyt = (4.0*0.5*0.5-vol_er)\n",
    "vol_tot = vol_cyt + vol_er\n",
    "N_avo=6.0221409e23"
   ]
  },
  {
   "cell_type": "code",
   "execution_count": 9,
   "metadata": {},
   "outputs": [],
   "source": [
    "def file_len(fname):\n",
    "    with open(fname) as f:\n",
    "        for i, l in enumerate(f):\n",
    "            pass\n",
    "    return i + 1\n",
    "\n",
    "def singavg(data):\n",
    "    return np.sum(data,axis=1)/np.size(data,axis=1)\n",
    "\n",
    "def averager(data_loc,data_type,cols):\n",
    "    #print(data_loc)\n",
    "    #averaged data folder\n",
    "    avg_path=os.path.join(data_loc,\"Average\")\n",
    "    if not os.path.exists(avg_path):\n",
    "        os.makedirs(avg_path)\n",
    "    \n",
    "    #get seed folders\n",
    "    seed_folders=os.listdir(data_loc)\n",
    "    seed_folders.remove(\"Average\")\n",
    "    \n",
    "    #load data\n",
    "    data=[]\n",
    "    file_names=[]\n",
    "    for s in seed_folders:\n",
    "        file_name=os.path.join(data_loc,os.path.join(s+'/dat/'+data_type))\n",
    "        file_names.append(file_name)\n",
    "        \n",
    "    #lagging length and index ie, smallest of the array lengths\n",
    "    lag_len=min([file_len(f) for f in file_names])-1\n",
    "    average=[]\n",
    "    for col in cols:\n",
    "        data=np.concatenate([np.array([np.loadtxt(f).T[col,:lag_len]]).T for f in file_names],axis=1)\n",
    "        average.append(np.sum(data,axis=1)/np.size(data,axis=1))\n",
    "    #print('len avg=',len(average))\n",
    "    times=np.loadtxt(file_names[0]).T[0,:lag_len]\n",
    "    #print(np.size(data,axis=1))\n",
    "    to_be_written=[list(times)]+[list(c) for c in average]\n",
    "    to_be_written=[list(map(str,arr)) for arr in to_be_written]\n",
    "    #print('len tot=',len(to_be_written))\n",
    "    with open(os.path.join(avg_path,data_type),'w') as f:\n",
    "        for i in range(lag_len):\n",
    "            #print(time,avg)\n",
    "            f.write(' '.join([c[i] for c in to_be_written])+\"\\n\")\n",
    "    #print(np.shape(times),np.shape(average))\n",
    "    #return np.concatenate([[times],[average]]).T\n",
    "\n",
    "    "
   ]
  },
  {
   "cell_type": "code",
   "execution_count": 34,
   "metadata": {},
   "outputs": [],
   "source": [
    "a=\"\"\"a=np.array([1,2,3])\n",
    "thing=[a*3,a*4]\n",
    "[[list(a)]+[list(t) for t in thing]]#\"\"\""
   ]
  },
  {
   "cell_type": "code",
   "execution_count": null,
   "metadata": {},
   "outputs": [],
   "source": []
  }
 ],
 "metadata": {
  "kernelspec": {
   "display_name": "Python 3",
   "language": "python",
   "name": "python3"
  },
  "language_info": {
   "codemirror_mode": {
    "name": "ipython",
    "version": 3
   },
   "file_extension": ".py",
   "mimetype": "text/x-python",
   "name": "python",
   "nbconvert_exporter": "python",
   "pygments_lexer": "ipython3",
   "version": "3.6.5"
  }
 },
 "nbformat": 4,
 "nbformat_minor": 2
}
